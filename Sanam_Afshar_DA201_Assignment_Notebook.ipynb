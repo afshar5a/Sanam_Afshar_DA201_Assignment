
import pandas as pd

actual_duration = pd.read_csv('actual_duration.csv')
actual_duration.head()
