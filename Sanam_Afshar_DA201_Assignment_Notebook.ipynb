{
 "cells": [
  {
   "cell_type": "markdown",
   "id": "1ae7c219",
   "metadata": {},
   "source": [
    "### LSE Data Analytics Online Career Accelerator\n",
    "\n",
    "# DA201: Final Assignment - Diagnostic Analysis using Python"
   ]
  },
  {
   "cell_type": "markdown",
   "id": "ac8ed617",
   "metadata": {},
   "source": [
    "### **Use case Scenario**\n",
    "\n",
    "You are part of a team of data analysts that was contracted by the National Health Services (NHS), a publicly funded healthcare system in England. The NHS incurs significant, potentially avoidable, costs when patients miss general practitioner (GP) appointments. The reasons for missed appointments need to be better understood as explained by The British Medical Association (BMA) chair Professor Philip Banfield:\n",
    "\n",
    "\"While it is frustrating when patients do not attend, the reasons why this happens should be investigated rather than simply resorting to punishing them. Financially penalising patients inevitably impact the poorest and most vulnerable in the community (GP Practice News 2022).\"\n",
    "\n",
    "Therefore, reducing or eliminating missed appointments would be beneficial financially as well as socially. The government needs a data-informed approach to deciding how best to handle this problem. At this stage of the project the two main questions posed by the NHS are:\n",
    "\n",
    "Has there been adequate staff and capacity in the networks?\n",
    "What was the actual utilisation of resources?\n",
    "\n",
    "This analysis uses the `actual_duration.csv` - Details of appointments made by patients, `appointments_regional.csv`- Details on the type of appointments made by patients, `national_categories.xlsx`- Details of the national categories of appointments made by patients, `tweets.csv`- Data related to healthcare in the UK scraped from Twitter data sets and `metadata_nhs.txt`- Data related to healthcare in the UK scraped from Twitter.\n",
    "\n",
    "The insights gained from the analysis will inform the NHS, Government & BMA for their decision-making so they can derive the next course of action(s)"
   ]
  },
  {
   "cell_type": "markdown",
   "id": "597c4ad9",
   "metadata": {},
   "source": [
    "## Prepare your workstation"
   ]
  },
  {
   "cell_type": "code",
   "execution_count": 421,
   "id": "17d0309e",
   "metadata": {},
   "outputs": [],
   "source": [
    "# Import Matplotlib, Seaborn, NumPy, and Pandas.\n",
    "import matplotlib.pyplot as plt\n",
    "import seaborn as sns\n",
    "import numpy as np\n",
    "import pandas as pd\n",
    "import datetime\n",
    "sns.set()\n",
    "\n",
    "import warnings\n",
    "warnings.filterwarnings('ignore')\n",
    "\n",
    "%matplotlib inline\n",
    "\n",
    "## Get multiple outputs in the same cell.\n",
    "from IPython.core.interactiveshell import InteractiveShell\n",
    "InteractiveShell.ast_node_interactivity = 'all'"
   ]
  },
  {
   "cell_type": "code",
   "execution_count": 422,
   "id": "8ee53645",
   "metadata": {},
   "outputs": [],
   "source": [
    "# Simple hacks to make plots look better: \n",
    "\n",
    "# Colour palette to make charts look better.\n",
    "blue, = sns.color_palette(\"muted\", 1) \n",
    "\n",
    "# Dark grid, white grid, dark, white, and ticks.\n",
    "sns.set_style('whitegrid') \n",
    "\n",
    "# Font size of the axes titles.\n",
    "plt.rc('axes', titlesize=18) \n",
    "\n",
    "# Font size of the x and y labels.\n",
    "plt.rc('axes', labelsize=14)    \n",
    "\n",
    "# Font size of the tick labels.\n",
    "plt.rc('xtick', labelsize=13,color='#4f4e4e') \n",
    "\n",
    "# Font size of the tick labels.\n",
    "plt.rc('ytick', labelsize=13,color='#4f4e4e')  \n",
    "\n",
    "# Font size of the legend.\n",
    "plt.rc('legend', fontsize=13)\n",
    "\n",
    "# Default text size.\n",
    "plt.rc('font', size=13)          "
   ]
  },
  {
   "cell_type": "code",
   "execution_count": 423,
   "id": "d945ce40",
   "metadata": {},
   "outputs": [
    {
     "name": "stdout",
     "output_type": "stream",
     "text": [
      "(137793, 8)\n",
      "sub_icb_location_code        object\n",
      "sub_icb_location_ons_code    object\n",
      "sub_icb_location_name        object\n",
      "icb_ons_code                 object\n",
      "region_ons_code              object\n",
      "appointment_date             object\n",
      "actual_duration              object\n",
      "count_of_appointments         int64\n",
      "dtype: object\n",
      "Index(['sub_icb_location_code', 'sub_icb_location_ons_code',\n",
      "       'sub_icb_location_name', 'icb_ons_code', 'region_ons_code',\n",
      "       'appointment_date', 'actual_duration', 'count_of_appointments'],\n",
      "      dtype='object')\n"
     ]
    },
    {
     "data": {
      "text/html": [
       "<div>\n",
       "<style scoped>\n",
       "    .dataframe tbody tr th:only-of-type {\n",
       "        vertical-align: middle;\n",
       "    }\n",
       "\n",
       "    .dataframe tbody tr th {\n",
       "        vertical-align: top;\n",
       "    }\n",
       "\n",
       "    .dataframe thead th {\n",
       "        text-align: right;\n",
       "    }\n",
       "</style>\n",
       "<table border=\"1\" class=\"dataframe\">\n",
       "  <thead>\n",
       "    <tr style=\"text-align: right;\">\n",
       "      <th></th>\n",
       "      <th>sub_icb_location_code</th>\n",
       "      <th>sub_icb_location_ons_code</th>\n",
       "      <th>sub_icb_location_name</th>\n",
       "      <th>icb_ons_code</th>\n",
       "      <th>region_ons_code</th>\n",
       "      <th>appointment_date</th>\n",
       "      <th>actual_duration</th>\n",
       "      <th>count_of_appointments</th>\n",
       "    </tr>\n",
       "  </thead>\n",
       "  <tbody>\n",
       "    <tr>\n",
       "      <th>0</th>\n",
       "      <td>00L</td>\n",
       "      <td>E38000130</td>\n",
       "      <td>NHS North East and North Cumbria ICB - 00L</td>\n",
       "      <td>E54000050</td>\n",
       "      <td>E40000012</td>\n",
       "      <td>01-Dec-21</td>\n",
       "      <td>31-60 Minutes</td>\n",
       "      <td>364</td>\n",
       "    </tr>\n",
       "    <tr>\n",
       "      <th>1</th>\n",
       "      <td>00L</td>\n",
       "      <td>E38000130</td>\n",
       "      <td>NHS North East and North Cumbria ICB - 00L</td>\n",
       "      <td>E54000050</td>\n",
       "      <td>E40000012</td>\n",
       "      <td>01-Dec-21</td>\n",
       "      <td>21-30 Minutes</td>\n",
       "      <td>619</td>\n",
       "    </tr>\n",
       "    <tr>\n",
       "      <th>2</th>\n",
       "      <td>00L</td>\n",
       "      <td>E38000130</td>\n",
       "      <td>NHS North East and North Cumbria ICB - 00L</td>\n",
       "      <td>E54000050</td>\n",
       "      <td>E40000012</td>\n",
       "      <td>01-Dec-21</td>\n",
       "      <td>6-10 Minutes</td>\n",
       "      <td>1698</td>\n",
       "    </tr>\n",
       "    <tr>\n",
       "      <th>3</th>\n",
       "      <td>00L</td>\n",
       "      <td>E38000130</td>\n",
       "      <td>NHS North East and North Cumbria ICB - 00L</td>\n",
       "      <td>E54000050</td>\n",
       "      <td>E40000012</td>\n",
       "      <td>01-Dec-21</td>\n",
       "      <td>Unknown / Data Quality</td>\n",
       "      <td>1277</td>\n",
       "    </tr>\n",
       "    <tr>\n",
       "      <th>4</th>\n",
       "      <td>00L</td>\n",
       "      <td>E38000130</td>\n",
       "      <td>NHS North East and North Cumbria ICB - 00L</td>\n",
       "      <td>E54000050</td>\n",
       "      <td>E40000012</td>\n",
       "      <td>01-Dec-21</td>\n",
       "      <td>16-20 Minutes</td>\n",
       "      <td>730</td>\n",
       "    </tr>\n",
       "  </tbody>\n",
       "</table>\n",
       "</div>"
      ],
      "text/plain": [
       "  sub_icb_location_code sub_icb_location_ons_code  \\\n",
       "0                   00L                 E38000130   \n",
       "1                   00L                 E38000130   \n",
       "2                   00L                 E38000130   \n",
       "3                   00L                 E38000130   \n",
       "4                   00L                 E38000130   \n",
       "\n",
       "                        sub_icb_location_name icb_ons_code region_ons_code  \\\n",
       "0  NHS North East and North Cumbria ICB - 00L    E54000050       E40000012   \n",
       "1  NHS North East and North Cumbria ICB - 00L    E54000050       E40000012   \n",
       "2  NHS North East and North Cumbria ICB - 00L    E54000050       E40000012   \n",
       "3  NHS North East and North Cumbria ICB - 00L    E54000050       E40000012   \n",
       "4  NHS North East and North Cumbria ICB - 00L    E54000050       E40000012   \n",
       "\n",
       "  appointment_date         actual_duration  count_of_appointments  \n",
       "0        01-Dec-21           31-60 Minutes                    364  \n",
       "1        01-Dec-21           21-30 Minutes                    619  \n",
       "2        01-Dec-21            6-10 Minutes                   1698  \n",
       "3        01-Dec-21  Unknown / Data Quality                   1277  \n",
       "4        01-Dec-21           16-20 Minutes                    730  "
      ]
     },
     "execution_count": 423,
     "metadata": {},
     "output_type": "execute_result"
    },
    {
     "name": "stdout",
     "output_type": "stream",
     "text": [
      "(596821, 7)\n",
      "icb_ons_code                         object\n",
      "appointment_month                    object\n",
      "appointment_status                   object\n",
      "hcp_type                             object\n",
      "appointment_mode                     object\n",
      "time_between_book_and_appointment    object\n",
      "count_of_appointments                 int64\n",
      "dtype: object\n",
      "Index(['icb_ons_code', 'appointment_month', 'appointment_status', 'hcp_type',\n",
      "       'appointment_mode', 'time_between_book_and_appointment',\n",
      "       'count_of_appointments'],\n",
      "      dtype='object')\n"
     ]
    },
    {
     "data": {
      "text/html": [
       "<div>\n",
       "<style scoped>\n",
       "    .dataframe tbody tr th:only-of-type {\n",
       "        vertical-align: middle;\n",
       "    }\n",
       "\n",
       "    .dataframe tbody tr th {\n",
       "        vertical-align: top;\n",
       "    }\n",
       "\n",
       "    .dataframe thead th {\n",
       "        text-align: right;\n",
       "    }\n",
       "</style>\n",
       "<table border=\"1\" class=\"dataframe\">\n",
       "  <thead>\n",
       "    <tr style=\"text-align: right;\">\n",
       "      <th></th>\n",
       "      <th>icb_ons_code</th>\n",
       "      <th>appointment_month</th>\n",
       "      <th>appointment_status</th>\n",
       "      <th>hcp_type</th>\n",
       "      <th>appointment_mode</th>\n",
       "      <th>time_between_book_and_appointment</th>\n",
       "      <th>count_of_appointments</th>\n",
       "    </tr>\n",
       "  </thead>\n",
       "  <tbody>\n",
       "    <tr>\n",
       "      <th>0</th>\n",
       "      <td>E54000034</td>\n",
       "      <td>2020-01</td>\n",
       "      <td>Attended</td>\n",
       "      <td>GP</td>\n",
       "      <td>Face-to-Face</td>\n",
       "      <td>1 Day</td>\n",
       "      <td>8107</td>\n",
       "    </tr>\n",
       "    <tr>\n",
       "      <th>1</th>\n",
       "      <td>E54000034</td>\n",
       "      <td>2020-01</td>\n",
       "      <td>Attended</td>\n",
       "      <td>GP</td>\n",
       "      <td>Face-to-Face</td>\n",
       "      <td>15  to 21 Days</td>\n",
       "      <td>6791</td>\n",
       "    </tr>\n",
       "    <tr>\n",
       "      <th>2</th>\n",
       "      <td>E54000034</td>\n",
       "      <td>2020-01</td>\n",
       "      <td>Attended</td>\n",
       "      <td>GP</td>\n",
       "      <td>Face-to-Face</td>\n",
       "      <td>2 to 7 Days</td>\n",
       "      <td>20686</td>\n",
       "    </tr>\n",
       "    <tr>\n",
       "      <th>3</th>\n",
       "      <td>E54000034</td>\n",
       "      <td>2020-01</td>\n",
       "      <td>Attended</td>\n",
       "      <td>GP</td>\n",
       "      <td>Face-to-Face</td>\n",
       "      <td>22  to 28 Days</td>\n",
       "      <td>4268</td>\n",
       "    </tr>\n",
       "    <tr>\n",
       "      <th>4</th>\n",
       "      <td>E54000034</td>\n",
       "      <td>2020-01</td>\n",
       "      <td>Attended</td>\n",
       "      <td>GP</td>\n",
       "      <td>Face-to-Face</td>\n",
       "      <td>8  to 14 Days</td>\n",
       "      <td>11971</td>\n",
       "    </tr>\n",
       "  </tbody>\n",
       "</table>\n",
       "</div>"
      ],
      "text/plain": [
       "  icb_ons_code appointment_month appointment_status hcp_type appointment_mode  \\\n",
       "0    E54000034           2020-01           Attended       GP     Face-to-Face   \n",
       "1    E54000034           2020-01           Attended       GP     Face-to-Face   \n",
       "2    E54000034           2020-01           Attended       GP     Face-to-Face   \n",
       "3    E54000034           2020-01           Attended       GP     Face-to-Face   \n",
       "4    E54000034           2020-01           Attended       GP     Face-to-Face   \n",
       "\n",
       "  time_between_book_and_appointment  count_of_appointments  \n",
       "0                             1 Day                   8107  \n",
       "1                    15  to 21 Days                   6791  \n",
       "2                       2 to 7 Days                  20686  \n",
       "3                    22  to 28 Days                   4268  \n",
       "4                     8  to 14 Days                  11971  "
      ]
     },
     "execution_count": 423,
     "metadata": {},
     "output_type": "execute_result"
    },
    {
     "name": "stdout",
     "output_type": "stream",
     "text": [
      "(817394, 8)\n",
      "appointment_date         datetime64[ns]\n",
      "icb_ons_code                     object\n",
      "sub_icb_location_name            object\n",
      "service_setting                  object\n",
      "context_type                     object\n",
      "national_category                object\n",
      "count_of_appointments             int64\n",
      "appointment_month                object\n",
      "dtype: object\n",
      "Index(['appointment_date', 'icb_ons_code', 'sub_icb_location_name',\n",
      "       'service_setting', 'context_type', 'national_category',\n",
      "       'count_of_appointments', 'appointment_month'],\n",
      "      dtype='object')\n"
     ]
    },
    {
     "data": {
      "text/html": [
       "<div>\n",
       "<style scoped>\n",
       "    .dataframe tbody tr th:only-of-type {\n",
       "        vertical-align: middle;\n",
       "    }\n",
       "\n",
       "    .dataframe tbody tr th {\n",
       "        vertical-align: top;\n",
       "    }\n",
       "\n",
       "    .dataframe thead th {\n",
       "        text-align: right;\n",
       "    }\n",
       "</style>\n",
       "<table border=\"1\" class=\"dataframe\">\n",
       "  <thead>\n",
       "    <tr style=\"text-align: right;\">\n",
       "      <th></th>\n",
       "      <th>appointment_date</th>\n",
       "      <th>icb_ons_code</th>\n",
       "      <th>sub_icb_location_name</th>\n",
       "      <th>service_setting</th>\n",
       "      <th>context_type</th>\n",
       "      <th>national_category</th>\n",
       "      <th>count_of_appointments</th>\n",
       "      <th>appointment_month</th>\n",
       "    </tr>\n",
       "  </thead>\n",
       "  <tbody>\n",
       "    <tr>\n",
       "      <th>0</th>\n",
       "      <td>2021-08-02</td>\n",
       "      <td>E54000050</td>\n",
       "      <td>NHS North East and North Cumbria ICB - 00L</td>\n",
       "      <td>Primary Care Network</td>\n",
       "      <td>Care Related Encounter</td>\n",
       "      <td>Patient contact during Care Home Round</td>\n",
       "      <td>3</td>\n",
       "      <td>2021-08</td>\n",
       "    </tr>\n",
       "    <tr>\n",
       "      <th>1</th>\n",
       "      <td>2021-08-02</td>\n",
       "      <td>E54000050</td>\n",
       "      <td>NHS North East and North Cumbria ICB - 00L</td>\n",
       "      <td>Other</td>\n",
       "      <td>Care Related Encounter</td>\n",
       "      <td>Planned Clinics</td>\n",
       "      <td>7</td>\n",
       "      <td>2021-08</td>\n",
       "    </tr>\n",
       "    <tr>\n",
       "      <th>2</th>\n",
       "      <td>2021-08-02</td>\n",
       "      <td>E54000050</td>\n",
       "      <td>NHS North East and North Cumbria ICB - 00L</td>\n",
       "      <td>General Practice</td>\n",
       "      <td>Care Related Encounter</td>\n",
       "      <td>Home Visit</td>\n",
       "      <td>79</td>\n",
       "      <td>2021-08</td>\n",
       "    </tr>\n",
       "    <tr>\n",
       "      <th>3</th>\n",
       "      <td>2021-08-02</td>\n",
       "      <td>E54000050</td>\n",
       "      <td>NHS North East and North Cumbria ICB - 00L</td>\n",
       "      <td>General Practice</td>\n",
       "      <td>Care Related Encounter</td>\n",
       "      <td>General Consultation Acute</td>\n",
       "      <td>725</td>\n",
       "      <td>2021-08</td>\n",
       "    </tr>\n",
       "    <tr>\n",
       "      <th>4</th>\n",
       "      <td>2021-08-02</td>\n",
       "      <td>E54000050</td>\n",
       "      <td>NHS North East and North Cumbria ICB - 00L</td>\n",
       "      <td>General Practice</td>\n",
       "      <td>Care Related Encounter</td>\n",
       "      <td>Structured Medication Review</td>\n",
       "      <td>2</td>\n",
       "      <td>2021-08</td>\n",
       "    </tr>\n",
       "  </tbody>\n",
       "</table>\n",
       "</div>"
      ],
      "text/plain": [
       "  appointment_date icb_ons_code                       sub_icb_location_name  \\\n",
       "0       2021-08-02    E54000050  NHS North East and North Cumbria ICB - 00L   \n",
       "1       2021-08-02    E54000050  NHS North East and North Cumbria ICB - 00L   \n",
       "2       2021-08-02    E54000050  NHS North East and North Cumbria ICB - 00L   \n",
       "3       2021-08-02    E54000050  NHS North East and North Cumbria ICB - 00L   \n",
       "4       2021-08-02    E54000050  NHS North East and North Cumbria ICB - 00L   \n",
       "\n",
       "        service_setting            context_type  \\\n",
       "0  Primary Care Network  Care Related Encounter   \n",
       "1                 Other  Care Related Encounter   \n",
       "2      General Practice  Care Related Encounter   \n",
       "3      General Practice  Care Related Encounter   \n",
       "4      General Practice  Care Related Encounter   \n",
       "\n",
       "                        national_category  count_of_appointments  \\\n",
       "0  Patient contact during Care Home Round                      3   \n",
       "1                         Planned Clinics                      7   \n",
       "2                              Home Visit                     79   \n",
       "3              General Consultation Acute                    725   \n",
       "4            Structured Medication Review                      2   \n",
       "\n",
       "  appointment_month  \n",
       "0           2021-08  \n",
       "1           2021-08  \n",
       "2           2021-08  \n",
       "3           2021-08  \n",
       "4           2021-08  "
      ]
     },
     "execution_count": 423,
     "metadata": {},
     "output_type": "execute_result"
    }
   ],
   "source": [
    "# Load the csv data using pd.read_csv for actual_duration and appointments_regional.\n",
    "duration = pd.read_csv('actual_duration.csv')\n",
    "appointments = pd.read_csv('appointments_regional.csv')\n",
    "\n",
    "# Load the Excel using pd.read_excel for national_categories\n",
    "categories = pd.read_excel('national_categories.xlsx')\n",
    "\n",
    "# View the DataFrame of Duration.\n",
    "# View the no. of rows and columns.\n",
    "print(duration.shape)\n",
    "\n",
    "# View the data types.\n",
    "print(duration.dtypes)\n",
    "\n",
    "# View the list of columns.\n",
    "print(duration.columns)\n",
    "\n",
    "# View the top 5 records.\n",
    "duration.head()\n",
    "\n",
    "# View the DataFrame for Appointments.\n",
    "# View the no. of rows and columns.\n",
    "print(appointments.shape)\n",
    "\n",
    "# View the data types.\n",
    "print(appointments.dtypes)\n",
    "\n",
    "# View the list of columns.\n",
    "print(appointments.columns)\n",
    "\n",
    "# View the top 5 records.\n",
    "appointments.head()\n",
    "\n",
    "# View the DataFrame for Categories\n",
    "# View the no. of rows and columns.\n",
    "print(categories.shape)\n",
    "\n",
    "# View the data types.\n",
    "print(categories.dtypes)\n",
    "\n",
    "# View the list of columns.\n",
    "print(categories.columns)\n",
    "\n",
    "# View the top 5 records.\n",
    "categories.head()"
   ]
  },
  {
   "cell_type": "code",
   "execution_count": 424,
   "id": "d019936c",
   "metadata": {},
   "outputs": [
    {
     "name": "stdout",
     "output_type": "stream",
     "text": [
      "(1552008, 16)\n",
      "icb_ons_code                         object\n",
      "appointment_month                    object\n",
      "appointment_status                   object\n",
      "hcp_type                             object\n",
      "appointment_mode                     object\n",
      "time_between_book_and_appointment    object\n",
      "count_of_appointments                 int64\n",
      "appointment_date                     object\n",
      "sub_icb_location_name                object\n",
      "service_setting                      object\n",
      "context_type                         object\n",
      "national_category                    object\n",
      "sub_icb_location_code                object\n",
      "sub_icb_location_ons_code            object\n",
      "region_ons_code                      object\n",
      "actual_duration                      object\n",
      "dtype: object\n",
      "Index(['icb_ons_code', 'appointment_month', 'appointment_status', 'hcp_type',\n",
      "       'appointment_mode', 'time_between_book_and_appointment',\n",
      "       'count_of_appointments', 'appointment_date', 'sub_icb_location_name',\n",
      "       'service_setting', 'context_type', 'national_category',\n",
      "       'sub_icb_location_code', 'sub_icb_location_ons_code', 'region_ons_code',\n",
      "       'actual_duration'],\n",
      "      dtype='object')\n"
     ]
    },
    {
     "data": {
      "text/html": [
       "<div>\n",
       "<style scoped>\n",
       "    .dataframe tbody tr th:only-of-type {\n",
       "        vertical-align: middle;\n",
       "    }\n",
       "\n",
       "    .dataframe tbody tr th {\n",
       "        vertical-align: top;\n",
       "    }\n",
       "\n",
       "    .dataframe thead th {\n",
       "        text-align: right;\n",
       "    }\n",
       "</style>\n",
       "<table border=\"1\" class=\"dataframe\">\n",
       "  <thead>\n",
       "    <tr style=\"text-align: right;\">\n",
       "      <th></th>\n",
       "      <th>icb_ons_code</th>\n",
       "      <th>appointment_month</th>\n",
       "      <th>appointment_status</th>\n",
       "      <th>hcp_type</th>\n",
       "      <th>appointment_mode</th>\n",
       "      <th>time_between_book_and_appointment</th>\n",
       "      <th>count_of_appointments</th>\n",
       "      <th>appointment_date</th>\n",
       "      <th>sub_icb_location_name</th>\n",
       "      <th>service_setting</th>\n",
       "      <th>context_type</th>\n",
       "      <th>national_category</th>\n",
       "      <th>sub_icb_location_code</th>\n",
       "      <th>sub_icb_location_ons_code</th>\n",
       "      <th>region_ons_code</th>\n",
       "      <th>actual_duration</th>\n",
       "    </tr>\n",
       "  </thead>\n",
       "  <tbody>\n",
       "    <tr>\n",
       "      <th>0</th>\n",
       "      <td>E54000034</td>\n",
       "      <td>2020-01</td>\n",
       "      <td>Attended</td>\n",
       "      <td>GP</td>\n",
       "      <td>Face-to-Face</td>\n",
       "      <td>1 Day</td>\n",
       "      <td>8107</td>\n",
       "      <td>NaN</td>\n",
       "      <td>NaN</td>\n",
       "      <td>NaN</td>\n",
       "      <td>NaN</td>\n",
       "      <td>NaN</td>\n",
       "      <td>NaN</td>\n",
       "      <td>NaN</td>\n",
       "      <td>NaN</td>\n",
       "      <td>NaN</td>\n",
       "    </tr>\n",
       "    <tr>\n",
       "      <th>1</th>\n",
       "      <td>E54000034</td>\n",
       "      <td>2020-01</td>\n",
       "      <td>Attended</td>\n",
       "      <td>GP</td>\n",
       "      <td>Face-to-Face</td>\n",
       "      <td>15  to 21 Days</td>\n",
       "      <td>6791</td>\n",
       "      <td>NaN</td>\n",
       "      <td>NaN</td>\n",
       "      <td>NaN</td>\n",
       "      <td>NaN</td>\n",
       "      <td>NaN</td>\n",
       "      <td>NaN</td>\n",
       "      <td>NaN</td>\n",
       "      <td>NaN</td>\n",
       "      <td>NaN</td>\n",
       "    </tr>\n",
       "    <tr>\n",
       "      <th>2</th>\n",
       "      <td>E54000034</td>\n",
       "      <td>2020-01</td>\n",
       "      <td>Attended</td>\n",
       "      <td>GP</td>\n",
       "      <td>Face-to-Face</td>\n",
       "      <td>2 to 7 Days</td>\n",
       "      <td>20686</td>\n",
       "      <td>NaN</td>\n",
       "      <td>NaN</td>\n",
       "      <td>NaN</td>\n",
       "      <td>NaN</td>\n",
       "      <td>NaN</td>\n",
       "      <td>NaN</td>\n",
       "      <td>NaN</td>\n",
       "      <td>NaN</td>\n",
       "      <td>NaN</td>\n",
       "    </tr>\n",
       "    <tr>\n",
       "      <th>3</th>\n",
       "      <td>E54000034</td>\n",
       "      <td>2020-01</td>\n",
       "      <td>Attended</td>\n",
       "      <td>GP</td>\n",
       "      <td>Face-to-Face</td>\n",
       "      <td>22  to 28 Days</td>\n",
       "      <td>4268</td>\n",
       "      <td>NaN</td>\n",
       "      <td>NaN</td>\n",
       "      <td>NaN</td>\n",
       "      <td>NaN</td>\n",
       "      <td>NaN</td>\n",
       "      <td>NaN</td>\n",
       "      <td>NaN</td>\n",
       "      <td>NaN</td>\n",
       "      <td>NaN</td>\n",
       "    </tr>\n",
       "    <tr>\n",
       "      <th>4</th>\n",
       "      <td>E54000034</td>\n",
       "      <td>2020-01</td>\n",
       "      <td>Attended</td>\n",
       "      <td>GP</td>\n",
       "      <td>Face-to-Face</td>\n",
       "      <td>8  to 14 Days</td>\n",
       "      <td>11971</td>\n",
       "      <td>NaN</td>\n",
       "      <td>NaN</td>\n",
       "      <td>NaN</td>\n",
       "      <td>NaN</td>\n",
       "      <td>NaN</td>\n",
       "      <td>NaN</td>\n",
       "      <td>NaN</td>\n",
       "      <td>NaN</td>\n",
       "      <td>NaN</td>\n",
       "    </tr>\n",
       "  </tbody>\n",
       "</table>\n",
       "</div>"
      ],
      "text/plain": [
       "  icb_ons_code appointment_month appointment_status hcp_type appointment_mode  \\\n",
       "0    E54000034           2020-01           Attended       GP     Face-to-Face   \n",
       "1    E54000034           2020-01           Attended       GP     Face-to-Face   \n",
       "2    E54000034           2020-01           Attended       GP     Face-to-Face   \n",
       "3    E54000034           2020-01           Attended       GP     Face-to-Face   \n",
       "4    E54000034           2020-01           Attended       GP     Face-to-Face   \n",
       "\n",
       "  time_between_book_and_appointment  count_of_appointments appointment_date  \\\n",
       "0                             1 Day                   8107              NaN   \n",
       "1                    15  to 21 Days                   6791              NaN   \n",
       "2                       2 to 7 Days                  20686              NaN   \n",
       "3                    22  to 28 Days                   4268              NaN   \n",
       "4                     8  to 14 Days                  11971              NaN   \n",
       "\n",
       "  sub_icb_location_name service_setting context_type national_category  \\\n",
       "0                   NaN             NaN          NaN               NaN   \n",
       "1                   NaN             NaN          NaN               NaN   \n",
       "2                   NaN             NaN          NaN               NaN   \n",
       "3                   NaN             NaN          NaN               NaN   \n",
       "4                   NaN             NaN          NaN               NaN   \n",
       "\n",
       "  sub_icb_location_code sub_icb_location_ons_code region_ons_code  \\\n",
       "0                   NaN                       NaN             NaN   \n",
       "1                   NaN                       NaN             NaN   \n",
       "2                   NaN                       NaN             NaN   \n",
       "3                   NaN                       NaN             NaN   \n",
       "4                   NaN                       NaN             NaN   \n",
       "\n",
       "  actual_duration  \n",
       "0             NaN  \n",
       "1             NaN  \n",
       "2             NaN  \n",
       "3             NaN  \n",
       "4             NaN  "
      ]
     },
     "execution_count": 424,
     "metadata": {},
     "output_type": "execute_result"
    }
   ],
   "source": [
    "# Concat appointments, categories and duration DataFrames.\n",
    "appointments_categories_duration = pd.concat([appointments, categories, duration])\n",
    "\n",
    "# View the DataFrames\n",
    "# # View the no. of rows and columns.\n",
    "print(appointments_categories_duration.shape)\n",
    "\n",
    "# View the data types.\n",
    "print(appointments_categories_duration.dtypes)\n",
    "\n",
    "# View the list of columns.\n",
    "print(appointments_categories_duration.columns)\n",
    "\n",
    "# View the top 5 records.\n",
    "appointments_categories_duration.head()"
   ]
  },
  {
   "cell_type": "markdown",
   "id": "dc40fc17",
   "metadata": {},
   "source": [
    "## Question 1: What is the number of locations, service settings, context types, national categories, and appointment statuses in the data sets?"
   ]
  },
  {
   "cell_type": "code",
   "execution_count": 425,
   "id": "b88931c4",
   "metadata": {},
   "outputs": [
    {
     "data": {
      "text/plain": [
       "<AxesSubplot:>"
      ]
     },
     "execution_count": 425,
     "metadata": {},
     "output_type": "execute_result"
    },
    {
     "data": {
      "text/plain": [
       "<matplotlib.legend.Legend at 0x2d4b9e01cd0>"
      ]
     },
     "execution_count": 425,
     "metadata": {},
     "output_type": "execute_result"
    },
    {
     "data": {
      "text/plain": [
       "Text(0.5, 1.0, 'Number of Appointments')"
      ]
     },
     "execution_count": 425,
     "metadata": {},
     "output_type": "execute_result"
    },
    {
     "data": {
      "image/png": "[encoded data removed]",
      "text/plain": [
       "<Figure size 864x288 with 1 Axes>"
      ]
     },
     "metadata": {},
     "output_type": "display_data"
    },
    {
     "data": {
      "text/plain": [
       "icb_ons_code                               0\n",
       "appointment_month                     137793\n",
       "appointment_status                    955187\n",
       "hcp_type                              955187\n",
       "appointment_mode                      955187\n",
       "time_between_book_and_appointment     955187\n",
       "count_of_appointments                      0\n",
       "appointment_date                      596821\n",
       "sub_icb_location_name                 596821\n",
       "service_setting                       734614\n",
       "context_type                          734614\n",
       "national_category                     734614\n",
       "sub_icb_location_code                1414215\n",
       "sub_icb_location_ons_code            1414215\n",
       "region_ons_code                      1414215\n",
       "actual_duration                      1414215\n",
       "dtype: int64"
      ]
     },
     "execution_count": 425,
     "metadata": {},
     "output_type": "execute_result"
    }
   ],
   "source": [
    "# Print the count or length of the number of locations, service settings,\n",
    "# context types, national categories and appointment statuses\n",
    "\n",
    "# Plot Number of Appointments as time series.\n",
    "appointments_categories_duration.plot(figsize=(12, 4))\n",
    "plt.legend(loc='best')\n",
    "plt.title(\"Number of Appointments\")\n",
    "plt.show(block=False);\n",
    "\n",
    "# Check for missing values.\n",
    "appointments_categories_duration.isna().sum()"
   ]
  },
  {
   "cell_type": "code",
   "execution_count": 426,
   "id": "b727b630",
   "metadata": {},
   "outputs": [
    {
     "name": "stdout",
     "output_type": "stream",
     "text": [
      "NHS North West London ICB - W2U3Z              14491\n",
      "NHS Kent and Medway ICB - 91Q                  14121\n",
      "NHS Devon ICB - 15N                            14009\n",
      "NHS Hampshire and Isle Of Wight ICB - D9Y0V    13499\n",
      "NHS North East London ICB - A3A8R              13321\n",
      "                                               ...  \n",
      "NHS Cheshire and Merseyside ICB - 01F           5313\n",
      "NHS Lancashire and South Cumbria ICB - 02G      5278\n",
      "NHS Cheshire and Merseyside ICB - 01V           4729\n",
      "NHS Cheshire and Merseyside ICB - 01T           4301\n",
      "NHS Greater Manchester ICB - 00V                3364\n",
      "Name: sub_icb_location_name, Length: 106, dtype: int64\n"
     ]
    },
    {
     "data": {
      "text/plain": [
       "Text(0.5, 1.0, 'Count of number of locations')"
      ]
     },
     "execution_count": 426,
     "metadata": {},
     "output_type": "execute_result"
    },
    {
     "data": {
      "text/plain": [
       "<AxesSubplot:title={'center':'Count of number of locations'}, xlabel='sub_icb_location_name', ylabel='count'>"
      ]
     },
     "execution_count": 426,
     "metadata": {},
     "output_type": "execute_result"
    },
    {
     "data": {
      "image/png": "[encoded data removed]",
      "text/plain": [
       "<Figure size 432x288 with 1 Axes>"
      ]
     },
     "metadata": {},
     "output_type": "display_data"
    }
   ],
   "source": [
    "# Count the number of locations\n",
    "\n",
    "print(appointments_categories_duration['sub_icb_location_name'].value_counts())\n",
    "\n",
    "# Create a plot.\n",
    "plt.title(\"Count of number of locations\")\n",
    "\n",
    "sns.despine(left=True);\n",
    "sns.countplot(x='sub_icb_location_name', data=appointments_categories_duration)\n"
   ]
  },
  {
   "cell_type": "markdown",
   "id": "ea6416e2",
   "metadata": {},
   "source": [
    "#### Service Settings\n",
    "The service setting describes the provision of care in which the appointment was delivered. \n",
    "There are four service settings. Where category data is not received, an appointment is \n",
    "assigned to an ‘Unmapped’ setting.\n",
    "\n",
    "* Service Setting – Description\n",
    "* General Practice – Appointments delivered by practice staff activity under the GMS/PMS/APMS contract.\n",
    "* Primary Care Network\n",
    "        - Appointments delivered by staff employed or engaged under the Additional Roles Reimbursement Scheme (ARRS). Appointments delivered in fulfilment of the service requirements of the Network Contract Directed Enhanced Service (DES) \n",
    "        – e.g. Structured Medication Reviews, weekly care home rounds \n",
    "        – with the exception of Extended Access services, for which the Extended Access Provision service setting should be used.\n",
    "* Extended Access Provision – Appointments commissioned as part of extended access contractual arrangements.\n",
    "* Other – Appointments delivered in the practice by another provider.\n",
    "* Unmapped – No recorded category against an appointment slot type. This could be due to an error receiving the data, or an appointment type has not been mapped."
   ]
  },
  {
   "cell_type": "code",
   "execution_count": 427,
   "id": "3fb03443",
   "metadata": {},
   "outputs": [
    {
     "name": "stdout",
     "output_type": "stream",
     "text": [
      "General Practice             359274\n",
      "Primary Care Network         183790\n",
      "Other                        138789\n",
      "Extended Access Provision    108122\n",
      "Unmapped                      27419\n",
      "Name: service_setting, dtype: int64\n"
     ]
    },
    {
     "data": {
      "text/plain": [
       "Text(0.5, 1.0, 'Count of number of service settings')"
      ]
     },
     "execution_count": 427,
     "metadata": {},
     "output_type": "execute_result"
    },
    {
     "data": {
      "text/plain": [
       "<AxesSubplot:title={'center':'Count of number of service settings'}, xlabel='count', ylabel='service_setting'>"
      ]
     },
     "execution_count": 427,
     "metadata": {},
     "output_type": "execute_result"
    },
    {
     "data": {
      "image/png": "[encoded data removed]",
      "text/plain": [
       "<Figure size 432x288 with 1 Axes>"
      ]
     },
     "metadata": {},
     "output_type": "display_data"
    }
   ],
   "source": [
    "# Count the number of service settings\n",
    "\n",
    "print(appointments_categories_duration['service_setting'].value_counts())\n",
    "\n",
    "# Create a plot.\n",
    "plt.title(\"Count of number of service settings\")\n",
    "\n",
    "sns.despine(left=True);\n",
    "sns.countplot(y='service_setting', data=appointments_categories_duration)"
   ]
  },
  {
   "cell_type": "markdown",
   "id": "b47af630",
   "metadata": {},
   "source": [
    "#### Context Type\n",
    "The National Categories are subdivided into three ‘Context Types’. The context describes \n",
    "whether an appointment is an encounter relating to direct patient care, or an activity \n",
    "undertaken as part of patient care where the patient is not involved. Where category data \n",
    "is not received, an appointment is assigned to an ‘Unmapped’ context type.\n",
    "\n",
    "* Context Type – Description\n",
    "* Care Related Encounter – Categories within this context type involve the patient and can be any modality, e.g. face-to-face appointments, telephone consultations, video and online consultations, home visits etc.\n",
    "* Inconsistent Mapping – Appointment types that have been mapped but not to a Care Related Encounter are classed as Inconsistent Mapping. Appointments under this context type conflict with the description of an appointment. Work is ongoing to improve the consistency of mapping.\n",
    "* Unmapped – No record of a category against an appointment slot type. This could be due to an error receiving the data, or an appointment type has not been mapped."
   ]
  },
  {
   "cell_type": "code",
   "execution_count": 428,
   "id": "7affcffd",
   "metadata": {},
   "outputs": [
    {
     "name": "stdout",
     "output_type": "stream",
     "text": [
      "Care Related Encounter    700481\n",
      "Inconsistent Mapping       89494\n",
      "Unmapped                   27419\n",
      "Name: context_type, dtype: int64\n"
     ]
    },
    {
     "data": {
      "text/plain": [
       "Text(0.5, 1.0, 'Count of number of context types')"
      ]
     },
     "execution_count": 428,
     "metadata": {},
     "output_type": "execute_result"
    },
    {
     "data": {
      "text/plain": [
       "<AxesSubplot:title={'center':'Count of number of context types'}, xlabel='context_type', ylabel='count'>"
      ]
     },
     "execution_count": 428,
     "metadata": {},
     "output_type": "execute_result"
    },
    {
     "data": {
      "image/png": "[encoded data removed]",
      "text/plain": [
       "<Figure size 432x288 with 1 Axes>"
      ]
     },
     "metadata": {},
     "output_type": "display_data"
    }
   ],
   "source": [
    "# Count the number of context types\n",
    "\n",
    "print(appointments_categories_duration['context_type'].value_counts())\n",
    "\n",
    "# Create a plot.\n",
    "plt.title(\"Count of number of context types\")\n",
    "\n",
    "sns.despine(left=True);\n",
    "sns.countplot(x='context_type', data=appointments_categories_duration)"
   ]
  },
  {
   "cell_type": "markdown",
   "id": "c840ecfa",
   "metadata": {},
   "source": [
    "#### National Categories\n",
    "Within each context type, there is an option for practices to choose a ‘Does Not Fit’ category. \n",
    "This is used only when a practice is unable to place an appointment type within one of the \n",
    "predefined categories. These appointments are assigned to the ‘Inconsistent Mapping’ context \n",
    "type with further analysis planned to establish whether new categories in future releases are \n",
    "needed, or additional assistance and guidance is required for mapping.\n",
    "\n",
    "* Context Type \n",
    "        – National Category\n",
    "* Care Related Encounter \n",
    "        – General Consultation Acute\n",
    "        – General Consultation Routine\n",
    "        – Planned Clinics\n",
    "        – Planned Clinical Procedure\n",
    "        – Unplanned Clinical Activity\n",
    "        – Walk-in, Clinical Triage, Home Visit, \tCare Home Visit\n",
    "        – Group Consultation and Group Education\n",
    "        – Structured Medication Review\n",
    "        – Patient contact during Care Home Round\n",
    "        – Care Home Needs Assessment & Personalised Care and Support Planning\n",
    "        – Social Prescribing Service\n",
    "        – Service provided by organisation external to the practice\n",
    "        – Non-contractual chargeable work\n",
    "* Inconsistent Mapping \n",
    "        – Care Related Encounter but does not fit into any other category\n",
    "        – Appointment types not mapped to a Care Related Encounter"
   ]
  },
  {
   "cell_type": "code",
   "execution_count": 429,
   "id": "cdc30620",
   "metadata": {},
   "outputs": [
    {
     "name": "stdout",
     "output_type": "stream",
     "text": [
      "Inconsistent Mapping                                                   89494\n",
      "General Consultation Routine                                           89329\n",
      "General Consultation Acute                                             84874\n",
      "Planned Clinics                                                        76429\n",
      "Clinical Triage                                                        74539\n",
      "Planned Clinical Procedure                                             59631\n",
      "Structured Medication Review                                           44467\n",
      "Service provided by organisation external to the practice              43095\n",
      "Home Visit                                                             41850\n",
      "Unplanned Clinical Activity                                            40415\n",
      "Patient contact during Care Home Round                                 28795\n",
      "Unmapped                                                               27419\n",
      "Care Home Visit                                                        26644\n",
      "Social Prescribing Service                                             26492\n",
      "Care Home Needs Assessment & Personalised Care and Support Planning    23505\n",
      "Non-contractual chargeable work                                        20896\n",
      "Walk-in                                                                14179\n",
      "Group Consultation and Group Education                                  5341\n",
      "Name: national_category, dtype: int64\n"
     ]
    },
    {
     "data": {
      "text/plain": [
       "Text(0.5, 1.0, 'Count of number of national categories')"
      ]
     },
     "execution_count": 429,
     "metadata": {},
     "output_type": "execute_result"
    },
    {
     "data": {
      "text/plain": [
       "<AxesSubplot:title={'center':'Count of number of national categories'}, xlabel='count', ylabel='national_category'>"
      ]
     },
     "execution_count": 429,
     "metadata": {},
     "output_type": "execute_result"
    },
    {
     "data": {
      "image/png": "[encoded data removed]",
      "text/plain": [
       "<Figure size 432x288 with 1 Axes>"
      ]
     },
     "metadata": {},
     "output_type": "display_data"
    }
   ],
   "source": [
    "# Count the number of national categories\n",
    "\n",
    "print(appointments_categories_duration['national_category'].value_counts())\n",
    "\n",
    "# Create a plot.\n",
    "plt.title(\"Count of number of national categories\")\n",
    "\n",
    "sns.despine(left=True);\n",
    "sns.countplot(y='national_category', data=appointments_categories_duration)"
   ]
  },
  {
   "cell_type": "markdown",
   "id": "c810d1ee",
   "metadata": {},
   "source": [
    "#### Appointment Status\n",
    "The appointment status shows whether the appointment is available, booked, has been \n",
    "attended by the patient (or not), or has been cancelled. This status changes over \n",
    "time, for example when a patient makes a booking, the appointment status changes \n",
    "from ‘Available’ to ‘Booked’. This release reports the final status of each \n",
    "appointment. \n",
    "\n",
    "In most cases, at the time of the appointment a ‘Booked’ status will be changed to \n",
    "either ‘Attended’ or ‘DNA’ (Did Not Attend). In some cases (3%–6% of monthly appointments), \n",
    "the final status of an appointment remains as ‘Booked’. It is not known from the data \n",
    "whether or not these appointments actually attended. For this reason, the status of these \n",
    "appointments is reported as 'Unknown'.\n",
    "\n",
    "Due to an issue with the data collection, DNA appointments were not captured correctly \n",
    "after June 2018 and are under-reported until and including November 2018 for all \n",
    "practices using the TPP SystmOne system."
   ]
  },
  {
   "cell_type": "code",
   "execution_count": 430,
   "id": "44c0c54f",
   "metadata": {},
   "outputs": [
    {
     "name": "stdout",
     "output_type": "stream",
     "text": [
      "Attended    232137\n",
      "Unknown     201324\n",
      "DNA         163360\n",
      "Name: appointment_status, dtype: int64\n"
     ]
    },
    {
     "data": {
      "text/plain": [
       "Text(0.5, 1.0, 'Count of number of appointment status')"
      ]
     },
     "execution_count": 430,
     "metadata": {},
     "output_type": "execute_result"
    },
    {
     "data": {
      "text/plain": [
       "<AxesSubplot:title={'center':'Count of number of appointment status'}, xlabel='appointment_status', ylabel='count'>"
      ]
     },
     "execution_count": 430,
     "metadata": {},
     "output_type": "execute_result"
    },
    {
     "data": {
      "image/png": "[encoded data removed]",
      "text/plain": [
       "<Figure size 432x288 with 1 Axes>"
      ]
     },
     "metadata": {},
     "output_type": "display_data"
    }
   ],
   "source": [
    "# Count the number of appointment statuses\n",
    "\n",
    "print(appointments_categories_duration['appointment_status'].value_counts())\n",
    "\n",
    "# Create a plot.\n",
    "plt.title(\"Count of number of appointment status\")\n",
    "\n",
    "sns.despine(left=True);\n",
    "sns.countplot(x='appointment_status', data=appointments_categories_duration)"
   ]
  },
  {
   "cell_type": "markdown",
   "id": "f54be2b7",
   "metadata": {},
   "source": [
    "## Question 2: What is the date range of the provided data sets, and which service settings reported the most appointments for a specific period?"
   ]
  },
  {
   "cell_type": "code",
   "execution_count": 431,
   "id": "9b53e431",
   "metadata": {},
   "outputs": [
    {
     "data": {
      "text/html": [
       "<div>\n",
       "<style scoped>\n",
       "    .dataframe tbody tr th:only-of-type {\n",
       "        vertical-align: middle;\n",
       "    }\n",
       "\n",
       "    .dataframe tbody tr th {\n",
       "        vertical-align: top;\n",
       "    }\n",
       "\n",
       "    .dataframe thead th {\n",
       "        text-align: right;\n",
       "    }\n",
       "</style>\n",
       "<table border=\"1\" class=\"dataframe\">\n",
       "  <thead>\n",
       "    <tr style=\"text-align: right;\">\n",
       "      <th></th>\n",
       "      <th>Appointment_Date</th>\n",
       "      <th>Service_Setting</th>\n",
       "    </tr>\n",
       "  </thead>\n",
       "  <tbody>\n",
       "    <tr>\n",
       "      <th>7</th>\n",
       "      <td>2022-03</td>\n",
       "      <td>104058</td>\n",
       "    </tr>\n",
       "    <tr>\n",
       "      <th>9</th>\n",
       "      <td>2022-05</td>\n",
       "      <td>97553</td>\n",
       "    </tr>\n",
       "    <tr>\n",
       "      <th>10</th>\n",
       "      <td>2022-06</td>\n",
       "      <td>93395</td>\n",
       "    </tr>\n",
       "    <tr>\n",
       "      <th>4</th>\n",
       "      <td>2021-12</td>\n",
       "      <td>92158</td>\n",
       "    </tr>\n",
       "    <tr>\n",
       "      <th>5</th>\n",
       "      <td>2022-01</td>\n",
       "      <td>91539</td>\n",
       "    </tr>\n",
       "    <tr>\n",
       "      <th>6</th>\n",
       "      <td>2022-02</td>\n",
       "      <td>90743</td>\n",
       "    </tr>\n",
       "    <tr>\n",
       "      <th>8</th>\n",
       "      <td>2022-04</td>\n",
       "      <td>89090</td>\n",
       "    </tr>\n",
       "    <tr>\n",
       "      <th>3</th>\n",
       "      <td>2021-11</td>\n",
       "      <td>77652</td>\n",
       "    </tr>\n",
       "    <tr>\n",
       "      <th>1</th>\n",
       "      <td>2021-09</td>\n",
       "      <td>74922</td>\n",
       "    </tr>\n",
       "    <tr>\n",
       "      <th>2</th>\n",
       "      <td>2021-10</td>\n",
       "      <td>74078</td>\n",
       "    </tr>\n",
       "    <tr>\n",
       "      <th>0</th>\n",
       "      <td>2021-08</td>\n",
       "      <td>69999</td>\n",
       "    </tr>\n",
       "  </tbody>\n",
       "</table>\n",
       "</div>"
      ],
      "text/plain": [
       "   Appointment_Date  Service_Setting\n",
       "7           2022-03           104058\n",
       "9           2022-05            97553\n",
       "10          2022-06            93395\n",
       "4           2021-12            92158\n",
       "5           2022-01            91539\n",
       "6           2022-02            90743\n",
       "8           2022-04            89090\n",
       "3           2021-11            77652\n",
       "1           2021-09            74922\n",
       "2           2021-10            74078\n",
       "0           2021-08            69999"
      ]
     },
     "execution_count": 431,
     "metadata": {},
     "output_type": "execute_result"
    }
   ],
   "source": [
    "# create a DataFrame of appointments_dates\n",
    "\n",
    "appointment_dates = {\"Appointments\": [appointments_categories_duration['count_of_appointments'].value_counts()],\n",
    "                         \"Appointment_Date\": [appointments_categories_duration['appointment_date'].value_counts()],\n",
    "                         \"Service_Setting\": [appointments_categories_duration['service_setting'].value_counts()]}\n",
    "\n",
    "appointment_dates['monthyear'] = pd.to_datetime(appointments_categories_duration['appointment_date']).dt.to_period('M')\n",
    "\n",
    "by_month = appointment_dates['monthyear'].value_counts().sort_index()\n",
    "df_month = by_month.rename_axis('Appointment_Date').reset_index(name='Service_Setting')\n",
    "\n",
    "# Service settings reported the most appointments\n",
    "df_month.sort_values('Service_Setting', ascending=False)\n"
   ]
  },
  {
   "cell_type": "code",
   "execution_count": 432,
   "id": "a12d9a16",
   "metadata": {},
   "outputs": [
    {
     "data": {
      "application/vnd.plotly.v1+json": {
       "config": {
        "plotlyServerURL": "https://plot.ly"
       },
       "data": [
        {
         "marker": {
          "color": "darkgreen"
         },
         "text": "",
         "type": "scatter",
         "x": [
          "2021-08",
          "2021-09",
          "2021-10",
          "2021-11",
          "2021-12",
          "2022-01",
          "2022-02",
          "2022-03",
          "2022-04",
          "2022-05",
          "2022-06"
         ],
         "y": [
          69999,
          74922,
          74078,
          77652,
          92158,
          91539,
          90743,
          104058,
          89090,
          97553,
          93395
         ]
        }
       ],
       "layout": {
        "showlegend": false,
        "template": {
         "data": {
          "bar": [
           {
            "error_x": {
             "color": "#2a3f5f"
            },
            "error_y": {
             "color": "#2a3f5f"
            },
            "marker": {
             "line": {
              "color": "#E5ECF6",
              "width": 0.5
             },
             "pattern": {
              "fillmode": "overlay",
              "size": 10,
              "solidity": 0.2
             }
            },
            "type": "bar"
           }
          ],
          "barpolar": [
           {
            "marker": {
             "line": {
              "color": "#E5ECF6",
              "width": 0.5
             },
             "pattern": {
              "fillmode": "overlay",
              "size": 10,
              "solidity": 0.2
             }
            },
            "type": "barpolar"
           }
          ],
          "carpet": [
           {
            "aaxis": {
             "endlinecolor": "#2a3f5f",
             "gridcolor": "white",
             "linecolor": "white",
             "minorgridcolor": "white",
             "startlinecolor": "#2a3f5f"
            },
            "baxis": {
             "endlinecolor": "#2a3f5f",
             "gridcolor": "white",
             "linecolor": "white",
             "minorgridcolor": "white",
             "startlinecolor": "#2a3f5f"
            },
            "type": "carpet"
           }
          ],
          "choropleth": [
           {
            "colorbar": {
             "outlinewidth": 0,
             "ticks": ""
            },
            "type": "choropleth"
           }
          ],
          "contour": [
           {
            "colorbar": {
             "outlinewidth": 0,
             "ticks": ""
            },
            "colorscale": [
             [
              0,
              "#0d0887"
             ],
             [
              0.1111111111111111,
              "#46039f"
             ],
             [
              0.2222222222222222,
              "#7201a8"
             ],
             [
              0.3333333333333333,
              "#9c179e"
             ],
             [
              0.4444444444444444,
              "#bd3786"
             ],
             [
              0.5555555555555556,
              "#d8576b"
             ],
             [
              0.6666666666666666,
              "#ed7953"
             ],
             [
              0.7777777777777778,
              "#fb9f3a"
             ],
             [
              0.8888888888888888,
              "#fdca26"
             ],
             [
              1,
              "#f0f921"
             ]
            ],
            "type": "contour"
           }
          ],
          "contourcarpet": [
           {
            "colorbar": {
             "outlinewidth": 0,
             "ticks": ""
            },
            "type": "contourcarpet"
           }
          ],
          "heatmap": [
           {
            "colorbar": {
             "outlinewidth": 0,
             "ticks": ""
            },
            "colorscale": [
             [
              0,
              "#0d0887"
             ],
             [
              0.1111111111111111,
              "#46039f"
             ],
             [
              0.2222222222222222,
              "#7201a8"
             ],
             [
              0.3333333333333333,
              "#9c179e"
             ],
             [
              0.4444444444444444,
              "#bd3786"
             ],
             [
              0.5555555555555556,
              "#d8576b"
             ],
             [
              0.6666666666666666,
              "#ed7953"
             ],
             [
              0.7777777777777778,
              "#fb9f3a"
             ],
             [
              0.8888888888888888,
              "#fdca26"
             ],
             [
              1,
              "#f0f921"
             ]
            ],
            "type": "heatmap"
           }
          ],
          "heatmapgl": [
           {
            "colorbar": {
             "outlinewidth": 0,
             "ticks": ""
            },
            "colorscale": [
             [
              0,
              "#0d0887"
             ],
             [
              0.1111111111111111,
              "#46039f"
             ],
             [
              0.2222222222222222,
              "#7201a8"
             ],
             [
              0.3333333333333333,
              "#9c179e"
             ],
             [
              0.4444444444444444,
              "#bd3786"
             ],
             [
              0.5555555555555556,
              "#d8576b"
             ],
             [
              0.6666666666666666,
              "#ed7953"
             ],
             [
              0.7777777777777778,
              "#fb9f3a"
             ],
             [
              0.8888888888888888,
              "#fdca26"
             ],
             [
              1,
              "#f0f921"
             ]
            ],
            "type": "heatmapgl"
           }
          ],
          "histogram": [
           {
            "marker": {
             "pattern": {
              "fillmode": "overlay",
              "size": 10,
              "solidity": 0.2
             }
            },
            "type": "histogram"
           }
          ],
          "histogram2d": [
           {
            "colorbar": {
             "outlinewidth": 0,
             "ticks": ""
            },
            "colorscale": [
             [
              0,
              "#0d0887"
             ],
             [
              0.1111111111111111,
              "#46039f"
             ],
             [
              0.2222222222222222,
              "#7201a8"
             ],
             [
              0.3333333333333333,
              "#9c179e"
             ],
             [
              0.4444444444444444,
              "#bd3786"
             ],
             [
              0.5555555555555556,
              "#d8576b"
             ],
             [
              0.6666666666666666,
              "#ed7953"
             ],
             [
              0.7777777777777778,
              "#fb9f3a"
             ],
             [
              0.8888888888888888,
              "#fdca26"
             ],
             [
              1,
              "#f0f921"
             ]
            ],
            "type": "histogram2d"
           }
          ],
          "histogram2dcontour": [
           {
            "colorbar": {
             "outlinewidth": 0,
             "ticks": ""
            },
            "colorscale": [
             [
              0,
              "#0d0887"
             ],
             [
              0.1111111111111111,
              "#46039f"
             ],
             [
              0.2222222222222222,
              "#7201a8"
             ],
             [
              0.3333333333333333,
              "#9c179e"
             ],
             [
              0.4444444444444444,
              "#bd3786"
             ],
             [
              0.5555555555555556,
              "#d8576b"
             ],
             [
              0.6666666666666666,
              "#ed7953"
             ],
             [
              0.7777777777777778,
              "#fb9f3a"
             ],
             [
              0.8888888888888888,
              "#fdca26"
             ],
             [
              1,
              "#f0f921"
             ]
            ],
            "type": "histogram2dcontour"
           }
          ],
          "mesh3d": [
           {
            "colorbar": {
             "outlinewidth": 0,
             "ticks": ""
            },
            "type": "mesh3d"
           }
          ],
          "parcoords": [
           {
            "line": {
             "colorbar": {
              "outlinewidth": 0,
              "ticks": ""
             }
            },
            "type": "parcoords"
           }
          ],
          "pie": [
           {
            "automargin": true,
            "type": "pie"
           }
          ],
          "scatter": [
           {
            "marker": {
             "colorbar": {
              "outlinewidth": 0,
              "ticks": ""
             }
            },
            "type": "scatter"
           }
          ],
          "scatter3d": [
           {
            "line": {
             "colorbar": {
              "outlinewidth": 0,
              "ticks": ""
             }
            },
            "marker": {
             "colorbar": {
              "outlinewidth": 0,
              "ticks": ""
             }
            },
            "type": "scatter3d"
           }
          ],
          "scattercarpet": [
           {
            "marker": {
             "colorbar": {
              "outlinewidth": 0,
              "ticks": ""
             }
            },
            "type": "scattercarpet"
           }
          ],
          "scattergeo": [
           {
            "marker": {
             "colorbar": {
              "outlinewidth": 0,
              "ticks": ""
             }
            },
            "type": "scattergeo"
           }
          ],
          "scattergl": [
           {
            "marker": {
             "colorbar": {
              "outlinewidth": 0,
              "ticks": ""
             }
            },
            "type": "scattergl"
           }
          ],
          "scattermapbox": [
           {
            "marker": {
             "colorbar": {
              "outlinewidth": 0,
              "ticks": ""
             }
            },
            "type": "scattermapbox"
           }
          ],
          "scatterpolar": [
           {
            "marker": {
             "colorbar": {
              "outlinewidth": 0,
              "ticks": ""
             }
            },
            "type": "scatterpolar"
           }
          ],
          "scatterpolargl": [
           {
            "marker": {
             "colorbar": {
              "outlinewidth": 0,
              "ticks": ""
             }
            },
            "type": "scatterpolargl"
           }
          ],
          "scatterternary": [
           {
            "marker": {
             "colorbar": {
              "outlinewidth": 0,
              "ticks": ""
             }
            },
            "type": "scatterternary"
           }
          ],
          "surface": [
           {
            "colorbar": {
             "outlinewidth": 0,
             "ticks": ""
            },
            "colorscale": [
             [
              0,
              "#0d0887"
             ],
             [
              0.1111111111111111,
              "#46039f"
             ],
             [
              0.2222222222222222,
              "#7201a8"
             ],
             [
              0.3333333333333333,
              "#9c179e"
             ],
             [
              0.4444444444444444,
              "#bd3786"
             ],
             [
              0.5555555555555556,
              "#d8576b"
             ],
             [
              0.6666666666666666,
              "#ed7953"
             ],
             [
              0.7777777777777778,
              "#fb9f3a"
             ],
             [
              0.8888888888888888,
              "#fdca26"
             ],
             [
              1,
              "#f0f921"
             ]
            ],
            "type": "surface"
           }
          ],
          "table": [
           {
            "cells": {
             "fill": {
              "color": "#EBF0F8"
             },
             "line": {
              "color": "white"
             }
            },
            "header": {
             "fill": {
              "color": "#C8D4E3"
             },
             "line": {
              "color": "white"
             }
            },
            "type": "table"
           }
          ]
         },
         "layout": {
          "annotationdefaults": {
           "arrowcolor": "#2a3f5f",
           "arrowhead": 0,
           "arrowwidth": 1
          },
          "autotypenumbers": "strict",
          "coloraxis": {
           "colorbar": {
            "outlinewidth": 0,
            "ticks": ""
           }
          },
          "colorscale": {
           "diverging": [
            [
             0,
             "#8e0152"
            ],
            [
             0.1,
             "#c51b7d"
            ],
            [
             0.2,
             "#de77ae"
            ],
            [
             0.3,
             "#f1b6da"
            ],
            [
             0.4,
             "#fde0ef"
            ],
            [
             0.5,
             "#f7f7f7"
            ],
            [
             0.6,
             "#e6f5d0"
            ],
            [
             0.7,
             "#b8e186"
            ],
            [
             0.8,
             "#7fbc41"
            ],
            [
             0.9,
             "#4d9221"
            ],
            [
             1,
             "#276419"
            ]
           ],
           "sequential": [
            [
             0,
             "#0d0887"
            ],
            [
             0.1111111111111111,
             "#46039f"
            ],
            [
             0.2222222222222222,
             "#7201a8"
            ],
            [
             0.3333333333333333,
             "#9c179e"
            ],
            [
             0.4444444444444444,
             "#bd3786"
            ],
            [
             0.5555555555555556,
             "#d8576b"
            ],
            [
             0.6666666666666666,
             "#ed7953"
            ],
            [
             0.7777777777777778,
             "#fb9f3a"
            ],
            [
             0.8888888888888888,
             "#fdca26"
            ],
            [
             1,
             "#f0f921"
            ]
           ],
           "sequentialminus": [
            [
             0,
             "#0d0887"
            ],
            [
             0.1111111111111111,
             "#46039f"
            ],
            [
             0.2222222222222222,
             "#7201a8"
            ],
            [
             0.3333333333333333,
             "#9c179e"
            ],
            [
             0.4444444444444444,
             "#bd3786"
            ],
            [
             0.5555555555555556,
             "#d8576b"
            ],
            [
             0.6666666666666666,
             "#ed7953"
            ],
            [
             0.7777777777777778,
             "#fb9f3a"
            ],
            [
             0.8888888888888888,
             "#fdca26"
            ],
            [
             1,
             "#f0f921"
            ]
           ]
          },
          "colorway": [
           "#636efa",
           "#EF553B",
           "#00cc96",
           "#ab63fa",
           "#FFA15A",
           "#19d3f3",
           "#FF6692",
           "#B6E880",
           "#FF97FF",
           "#FECB52"
          ],
          "font": {
           "color": "#2a3f5f"
          },
          "geo": {
           "bgcolor": "white",
           "lakecolor": "white",
           "landcolor": "#E5ECF6",
           "showlakes": true,
           "showland": true,
           "subunitcolor": "white"
          },
          "hoverlabel": {
           "align": "left"
          },
          "hovermode": "closest",
          "mapbox": {
           "style": "light"
          },
          "paper_bgcolor": "white",
          "plot_bgcolor": "#E5ECF6",
          "polar": {
           "angularaxis": {
            "gridcolor": "white",
            "linecolor": "white",
            "ticks": ""
           },
           "bgcolor": "#E5ECF6",
           "radialaxis": {
            "gridcolor": "white",
            "linecolor": "white",
            "ticks": ""
           }
          },
          "scene": {
           "xaxis": {
            "backgroundcolor": "#E5ECF6",
            "gridcolor": "white",
            "gridwidth": 2,
            "linecolor": "white",
            "showbackground": true,
            "ticks": "",
            "zerolinecolor": "white"
           },
           "yaxis": {
            "backgroundcolor": "#E5ECF6",
            "gridcolor": "white",
            "gridwidth": 2,
            "linecolor": "white",
            "showbackground": true,
            "ticks": "",
            "zerolinecolor": "white"
           },
           "zaxis": {
            "backgroundcolor": "#E5ECF6",
            "gridcolor": "white",
            "gridwidth": 2,
            "linecolor": "white",
            "showbackground": true,
            "ticks": "",
            "zerolinecolor": "white"
           }
          },
          "shapedefaults": {
           "line": {
            "color": "#2a3f5f"
           }
          },
          "ternary": {
           "aaxis": {
            "gridcolor": "white",
            "linecolor": "white",
            "ticks": ""
           },
           "baxis": {
            "gridcolor": "white",
            "linecolor": "white",
            "ticks": ""
           },
           "bgcolor": "#E5ECF6",
           "caxis": {
            "gridcolor": "white",
            "linecolor": "white",
            "ticks": ""
           }
          },
          "title": {
           "x": 0.05
          },
          "xaxis": {
           "automargin": true,
           "gridcolor": "white",
           "linecolor": "white",
           "ticks": "",
           "title": {
            "standoff": 15
           },
           "zerolinecolor": "white",
           "zerolinewidth": 2
          },
          "yaxis": {
           "automargin": true,
           "gridcolor": "white",
           "linecolor": "white",
           "ticks": "",
           "title": {
            "standoff": 15
           },
           "zerolinecolor": "white",
           "zerolinewidth": 2
          }
         }
        },
        "title": {
         "text": "Max service settings per date range"
        },
        "xaxis": {
         "title": {
          "text": "Date Range"
         }
        },
        "yaxis": {
         "title": {
          "text": "Service Settings"
         }
        }
       }
      },
      "text/html": [
       "<div>                            <div id=\"47d989a6-1ee0-4417-9668-4147701ddae5\" class=\"plotly-graph-div\" style=\"height:525px; width:100%;\"></div>            <script type=\"text/javascript\">                require([\"plotly\"], function(Plotly) {                    window.PLOTLYENV=window.PLOTLYENV || {};                                    if (document.getElementById(\"47d989a6-1ee0-4417-9668-4147701ddae5\")) {                    Plotly.newPlot(                        \"47d989a6-1ee0-4417-9668-4147701ddae5\",                        [{\"marker\":{\"color\":\"darkgreen\"},\"text\":\"\",\"x\":[\"2021-08\",\"2021-09\",\"2021-10\",\"2021-11\",\"2021-12\",\"2022-01\",\"2022-02\",\"2022-03\",\"2022-04\",\"2022-05\",\"2022-06\"],\"y\":[69999,74922,74078,77652,92158,91539,90743,104058,89090,97553,93395],\"type\":\"scatter\"}],                        {\"template\":{\"data\":{\"bar\":[{\"error_x\":{\"color\":\"#2a3f5f\"},\"error_y\":{\"color\":\"#2a3f5f\"},\"marker\":{\"line\":{\"color\":\"#E5ECF6\",\"width\":0.5},\"pattern\":{\"fillmode\":\"overlay\",\"size\":10,\"solidity\":0.2}},\"type\":\"bar\"}],\"barpolar\":[{\"marker\":{\"line\":{\"color\":\"#E5ECF6\",\"width\":0.5},\"pattern\":{\"fillmode\":\"overlay\",\"size\":10,\"solidity\":0.2}},\"type\":\"barpolar\"}],\"carpet\":[{\"aaxis\":{\"endlinecolor\":\"#2a3f5f\",\"gridcolor\":\"white\",\"linecolor\":\"white\",\"minorgridcolor\":\"white\",\"startlinecolor\":\"#2a3f5f\"},\"baxis\":{\"endlinecolor\":\"#2a3f5f\",\"gridcolor\":\"white\",\"linecolor\":\"white\",\"minorgridcolor\":\"white\",\"startlinecolor\":\"#2a3f5f\"},\"type\":\"carpet\"}],\"choropleth\":[{\"colorbar\":{\"outlinewidth\":0,\"ticks\":\"\"},\"type\":\"choropleth\"}],\"contour\":[{\"colorbar\":{\"outlinewidth\":0,\"ticks\":\"\"},\"colorscale\":[[0.0,\"#0d0887\"],[0.1111111111111111,\"#46039f\"],[0.2222222222222222,\"#7201a8\"],[0.3333333333333333,\"#9c179e\"],[0.4444444444444444,\"#bd3786\"],[0.5555555555555556,\"#d8576b\"],[0.6666666666666666,\"#ed7953\"],[0.7777777777777778,\"#fb9f3a\"],[0.8888888888888888,\"#fdca26\"],[1.0,\"#f0f921\"]],\"type\":\"contour\"}],\"contourcarpet\":[{\"colorbar\":{\"outlinewidth\":0,\"ticks\":\"\"},\"type\":\"contourcarpet\"}],\"heatmap\":[{\"colorbar\":{\"outlinewidth\":0,\"ticks\":\"\"},\"colorscale\":[[0.0,\"#0d0887\"],[0.1111111111111111,\"#46039f\"],[0.2222222222222222,\"#7201a8\"],[0.3333333333333333,\"#9c179e\"],[0.4444444444444444,\"#bd3786\"],[0.5555555555555556,\"#d8576b\"],[0.6666666666666666,\"#ed7953\"],[0.7777777777777778,\"#fb9f3a\"],[0.8888888888888888,\"#fdca26\"],[1.0,\"#f0f921\"]],\"type\":\"heatmap\"}],\"heatmapgl\":[{\"colorbar\":{\"outlinewidth\":0,\"ticks\":\"\"},\"colorscale\":[[0.0,\"#0d0887\"],[0.1111111111111111,\"#46039f\"],[0.2222222222222222,\"#7201a8\"],[0.3333333333333333,\"#9c179e\"],[0.4444444444444444,\"#bd3786\"],[0.5555555555555556,\"#d8576b\"],[0.6666666666666666,\"#ed7953\"],[0.7777777777777778,\"#fb9f3a\"],[0.8888888888888888,\"#fdca26\"],[1.0,\"#f0f921\"]],\"type\":\"heatmapgl\"}],\"histogram\":[{\"marker\":{\"pattern\":{\"fillmode\":\"overlay\",\"size\":10,\"solidity\":0.2}},\"type\":\"histogram\"}],\"histogram2d\":[{\"colorbar\":{\"outlinewidth\":0,\"ticks\":\"\"},\"colorscale\":[[0.0,\"#0d0887\"],[0.1111111111111111,\"#46039f\"],[0.2222222222222222,\"#7201a8\"],[0.3333333333333333,\"#9c179e\"],[0.4444444444444444,\"#bd3786\"],[0.5555555555555556,\"#d8576b\"],[0.6666666666666666,\"#ed7953\"],[0.7777777777777778,\"#fb9f3a\"],[0.8888888888888888,\"#fdca26\"],[1.0,\"#f0f921\"]],\"type\":\"histogram2d\"}],\"histogram2dcontour\":[{\"colorbar\":{\"outlinewidth\":0,\"ticks\":\"\"},\"colorscale\":[[0.0,\"#0d0887\"],[0.1111111111111111,\"#46039f\"],[0.2222222222222222,\"#7201a8\"],[0.3333333333333333,\"#9c179e\"],[0.4444444444444444,\"#bd3786\"],[0.5555555555555556,\"#d8576b\"],[0.6666666666666666,\"#ed7953\"],[0.7777777777777778,\"#fb9f3a\"],[0.8888888888888888,\"#fdca26\"],[1.0,\"#f0f921\"]],\"type\":\"histogram2dcontour\"}],\"mesh3d\":[{\"colorbar\":{\"outlinewidth\":0,\"ticks\":\"\"},\"type\":\"mesh3d\"}],\"parcoords\":[{\"line\":{\"colorbar\":{\"outlinewidth\":0,\"ticks\":\"\"}},\"type\":\"parcoords\"}],\"pie\":[{\"automargin\":true,\"type\":\"pie\"}],\"scatter\":[{\"marker\":{\"colorbar\":{\"outlinewidth\":0,\"ticks\":\"\"}},\"type\":\"scatter\"}],\"scatter3d\":[{\"line\":{\"colorbar\":{\"outlinewidth\":0,\"ticks\":\"\"}},\"marker\":{\"colorbar\":{\"outlinewidth\":0,\"ticks\":\"\"}},\"type\":\"scatter3d\"}],\"scattercarpet\":[{\"marker\":{\"colorbar\":{\"outlinewidth\":0,\"ticks\":\"\"}},\"type\":\"scattercarpet\"}],\"scattergeo\":[{\"marker\":{\"colorbar\":{\"outlinewidth\":0,\"ticks\":\"\"}},\"type\":\"scattergeo\"}],\"scattergl\":[{\"marker\":{\"colorbar\":{\"outlinewidth\":0,\"ticks\":\"\"}},\"type\":\"scattergl\"}],\"scattermapbox\":[{\"marker\":{\"colorbar\":{\"outlinewidth\":0,\"ticks\":\"\"}},\"type\":\"scattermapbox\"}],\"scatterpolar\":[{\"marker\":{\"colorbar\":{\"outlinewidth\":0,\"ticks\":\"\"}},\"type\":\"scatterpolar\"}],\"scatterpolargl\":[{\"marker\":{\"colorbar\":{\"outlinewidth\":0,\"ticks\":\"\"}},\"type\":\"scatterpolargl\"}],\"scatterternary\":[{\"marker\":{\"colorbar\":{\"outlinewidth\":0,\"ticks\":\"\"}},\"type\":\"scatterternary\"}],\"surface\":[{\"colorbar\":{\"outlinewidth\":0,\"ticks\":\"\"},\"colorscale\":[[0.0,\"#0d0887\"],[0.1111111111111111,\"#46039f\"],[0.2222222222222222,\"#7201a8\"],[0.3333333333333333,\"#9c179e\"],[0.4444444444444444,\"#bd3786\"],[0.5555555555555556,\"#d8576b\"],[0.6666666666666666,\"#ed7953\"],[0.7777777777777778,\"#fb9f3a\"],[0.8888888888888888,\"#fdca26\"],[1.0,\"#f0f921\"]],\"type\":\"surface\"}],\"table\":[{\"cells\":{\"fill\":{\"color\":\"#EBF0F8\"},\"line\":{\"color\":\"white\"}},\"header\":{\"fill\":{\"color\":\"#C8D4E3\"},\"line\":{\"color\":\"white\"}},\"type\":\"table\"}]},\"layout\":{\"annotationdefaults\":{\"arrowcolor\":\"#2a3f5f\",\"arrowhead\":0,\"arrowwidth\":1},\"autotypenumbers\":\"strict\",\"coloraxis\":{\"colorbar\":{\"outlinewidth\":0,\"ticks\":\"\"}},\"colorscale\":{\"diverging\":[[0,\"#8e0152\"],[0.1,\"#c51b7d\"],[0.2,\"#de77ae\"],[0.3,\"#f1b6da\"],[0.4,\"#fde0ef\"],[0.5,\"#f7f7f7\"],[0.6,\"#e6f5d0\"],[0.7,\"#b8e186\"],[0.8,\"#7fbc41\"],[0.9,\"#4d9221\"],[1,\"#276419\"]],\"sequential\":[[0.0,\"#0d0887\"],[0.1111111111111111,\"#46039f\"],[0.2222222222222222,\"#7201a8\"],[0.3333333333333333,\"#9c179e\"],[0.4444444444444444,\"#bd3786\"],[0.5555555555555556,\"#d8576b\"],[0.6666666666666666,\"#ed7953\"],[0.7777777777777778,\"#fb9f3a\"],[0.8888888888888888,\"#fdca26\"],[1.0,\"#f0f921\"]],\"sequentialminus\":[[0.0,\"#0d0887\"],[0.1111111111111111,\"#46039f\"],[0.2222222222222222,\"#7201a8\"],[0.3333333333333333,\"#9c179e\"],[0.4444444444444444,\"#bd3786\"],[0.5555555555555556,\"#d8576b\"],[0.6666666666666666,\"#ed7953\"],[0.7777777777777778,\"#fb9f3a\"],[0.8888888888888888,\"#fdca26\"],[1.0,\"#f0f921\"]]},\"colorway\":[\"#636efa\",\"#EF553B\",\"#00cc96\",\"#ab63fa\",\"#FFA15A\",\"#19d3f3\",\"#FF6692\",\"#B6E880\",\"#FF97FF\",\"#FECB52\"],\"font\":{\"color\":\"#2a3f5f\"},\"geo\":{\"bgcolor\":\"white\",\"lakecolor\":\"white\",\"landcolor\":\"#E5ECF6\",\"showlakes\":true,\"showland\":true,\"subunitcolor\":\"white\"},\"hoverlabel\":{\"align\":\"left\"},\"hovermode\":\"closest\",\"mapbox\":{\"style\":\"light\"},\"paper_bgcolor\":\"white\",\"plot_bgcolor\":\"#E5ECF6\",\"polar\":{\"angularaxis\":{\"gridcolor\":\"white\",\"linecolor\":\"white\",\"ticks\":\"\"},\"bgcolor\":\"#E5ECF6\",\"radialaxis\":{\"gridcolor\":\"white\",\"linecolor\":\"white\",\"ticks\":\"\"}},\"scene\":{\"xaxis\":{\"backgroundcolor\":\"#E5ECF6\",\"gridcolor\":\"white\",\"gridwidth\":2,\"linecolor\":\"white\",\"showbackground\":true,\"ticks\":\"\",\"zerolinecolor\":\"white\"},\"yaxis\":{\"backgroundcolor\":\"#E5ECF6\",\"gridcolor\":\"white\",\"gridwidth\":2,\"linecolor\":\"white\",\"showbackground\":true,\"ticks\":\"\",\"zerolinecolor\":\"white\"},\"zaxis\":{\"backgroundcolor\":\"#E5ECF6\",\"gridcolor\":\"white\",\"gridwidth\":2,\"linecolor\":\"white\",\"showbackground\":true,\"ticks\":\"\",\"zerolinecolor\":\"white\"}},\"shapedefaults\":{\"line\":{\"color\":\"#2a3f5f\"}},\"ternary\":{\"aaxis\":{\"gridcolor\":\"white\",\"linecolor\":\"white\",\"ticks\":\"\"},\"baxis\":{\"gridcolor\":\"white\",\"linecolor\":\"white\",\"ticks\":\"\"},\"bgcolor\":\"#E5ECF6\",\"caxis\":{\"gridcolor\":\"white\",\"linecolor\":\"white\",\"ticks\":\"\"}},\"title\":{\"x\":0.05},\"xaxis\":{\"automargin\":true,\"gridcolor\":\"white\",\"linecolor\":\"white\",\"ticks\":\"\",\"title\":{\"standoff\":15},\"zerolinecolor\":\"white\",\"zerolinewidth\":2},\"yaxis\":{\"automargin\":true,\"gridcolor\":\"white\",\"linecolor\":\"white\",\"ticks\":\"\",\"title\":{\"standoff\":15},\"zerolinecolor\":\"white\",\"zerolinewidth\":2}}},\"title\":{\"text\":\"Max service settings per date range\"},\"xaxis\":{\"title\":{\"text\":\"Date Range\"}},\"yaxis\":{\"title\":{\"text\":\"Service Settings\"}},\"showlegend\":false},                        {\"responsive\": true}                    ).then(function(){\n",
       "                            \n",
       "var gd = document.getElementById('47d989a6-1ee0-4417-9668-4147701ddae5');\n",
       "var x = new MutationObserver(function (mutations, observer) {{\n",
       "        var display = window.getComputedStyle(gd).display;\n",
       "        if (!display || display === 'none') {{\n",
       "            console.log([gd, 'removed!']);\n",
       "            Plotly.purge(gd);\n",
       "            observer.disconnect();\n",
       "        }}\n",
       "}});\n",
       "\n",
       "// Listen for the removal of the full notebook cells\n",
       "var notebookContainer = gd.closest('#notebook-container');\n",
       "if (notebookContainer) {{\n",
       "    x.observe(notebookContainer, {childList: true});\n",
       "}}\n",
       "\n",
       "// Listen for the clearing of the current output cell\n",
       "var outputEl = gd.closest('.output');\n",
       "if (outputEl) {{\n",
       "    x.observe(outputEl, {childList: true});\n",
       "}}\n",
       "\n",
       "                        })                };                });            </script>        </div>"
      ]
     },
     "metadata": {},
     "output_type": "display_data"
    }
   ],
   "source": [
    "# Create a plot.\n",
    "\n",
    "import plotly.express as px\n",
    "import plotly.graph_objs as go\n",
    "\n",
    "fig = go.Figure(data=go.Scatter(x=df_month['Appointment_Date'].astype(dtype=str), \n",
    "                        y=df_month['Service_Setting'],\n",
    "                        marker_color='darkgreen', text=\"\"))\n",
    "fig.update_layout({\"title\": 'Max service settings per date range',\n",
    "                   \"xaxis\": {\"title\":\"Date Range\"},\n",
    "                   \"yaxis\": {\"title\":\"Service Settings\"},\n",
    "                   \"showlegend\": False})\n"
   ]
  },
  {
   "cell_type": "markdown",
   "id": "47e62cc6",
   "metadata": {},
   "source": [
    "## Question 3: What is the number of appointments and records per month?"
   ]
  },
  {
   "cell_type": "code",
   "execution_count": 433,
   "id": "f422c9bb",
   "metadata": {},
   "outputs": [
    {
     "data": {
      "text/html": [
       "<div>\n",
       "<style scoped>\n",
       "    .dataframe tbody tr th:only-of-type {\n",
       "        vertical-align: middle;\n",
       "    }\n",
       "\n",
       "    .dataframe tbody tr th {\n",
       "        vertical-align: top;\n",
       "    }\n",
       "\n",
       "    .dataframe thead th {\n",
       "        text-align: right;\n",
       "    }\n",
       "</style>\n",
       "<table border=\"1\" class=\"dataframe\">\n",
       "  <thead>\n",
       "    <tr style=\"text-align: right;\">\n",
       "      <th></th>\n",
       "      <th>Month</th>\n",
       "      <th>Appointments</th>\n",
       "    </tr>\n",
       "  </thead>\n",
       "  <tbody>\n",
       "    <tr>\n",
       "      <th>0</th>\n",
       "      <td>2020-01</td>\n",
       "      <td>20889</td>\n",
       "    </tr>\n",
       "    <tr>\n",
       "      <th>1</th>\n",
       "      <td>2020-02</td>\n",
       "      <td>20689</td>\n",
       "    </tr>\n",
       "    <tr>\n",
       "      <th>2</th>\n",
       "      <td>2020-03</td>\n",
       "      <td>21350</td>\n",
       "    </tr>\n",
       "    <tr>\n",
       "      <th>3</th>\n",
       "      <td>2020-04</td>\n",
       "      <td>19124</td>\n",
       "    </tr>\n",
       "    <tr>\n",
       "      <th>4</th>\n",
       "      <td>2020-05</td>\n",
       "      <td>18338</td>\n",
       "    </tr>\n",
       "    <tr>\n",
       "      <th>5</th>\n",
       "      <td>2020-06</td>\n",
       "      <td>18844</td>\n",
       "    </tr>\n",
       "    <tr>\n",
       "      <th>6</th>\n",
       "      <td>2020-07</td>\n",
       "      <td>19502</td>\n",
       "    </tr>\n",
       "    <tr>\n",
       "      <th>7</th>\n",
       "      <td>2020-08</td>\n",
       "      <td>19247</td>\n",
       "    </tr>\n",
       "    <tr>\n",
       "      <th>8</th>\n",
       "      <td>2020-09</td>\n",
       "      <td>20043</td>\n",
       "    </tr>\n",
       "    <tr>\n",
       "      <th>9</th>\n",
       "      <td>2020-10</td>\n",
       "      <td>20122</td>\n",
       "    </tr>\n",
       "    <tr>\n",
       "      <th>10</th>\n",
       "      <td>2020-11</td>\n",
       "      <td>19675</td>\n",
       "    </tr>\n",
       "    <tr>\n",
       "      <th>11</th>\n",
       "      <td>2020-12</td>\n",
       "      <td>19394</td>\n",
       "    </tr>\n",
       "    <tr>\n",
       "      <th>12</th>\n",
       "      <td>2021-01</td>\n",
       "      <td>19319</td>\n",
       "    </tr>\n",
       "    <tr>\n",
       "      <th>13</th>\n",
       "      <td>2021-02</td>\n",
       "      <td>18949</td>\n",
       "    </tr>\n",
       "    <tr>\n",
       "      <th>14</th>\n",
       "      <td>2021-03</td>\n",
       "      <td>19369</td>\n",
       "    </tr>\n",
       "    <tr>\n",
       "      <th>15</th>\n",
       "      <td>2021-04</td>\n",
       "      <td>19452</td>\n",
       "    </tr>\n",
       "    <tr>\n",
       "      <th>16</th>\n",
       "      <td>2021-05</td>\n",
       "      <td>19384</td>\n",
       "    </tr>\n",
       "    <tr>\n",
       "      <th>17</th>\n",
       "      <td>2021-06</td>\n",
       "      <td>19814</td>\n",
       "    </tr>\n",
       "    <tr>\n",
       "      <th>18</th>\n",
       "      <td>2021-07</td>\n",
       "      <td>19899</td>\n",
       "    </tr>\n",
       "    <tr>\n",
       "      <th>19</th>\n",
       "      <td>2021-08</td>\n",
       "      <td>89785</td>\n",
       "    </tr>\n",
       "    <tr>\n",
       "      <th>20</th>\n",
       "      <td>2021-09</td>\n",
       "      <td>95363</td>\n",
       "    </tr>\n",
       "    <tr>\n",
       "      <th>21</th>\n",
       "      <td>2021-10</td>\n",
       "      <td>94640</td>\n",
       "    </tr>\n",
       "    <tr>\n",
       "      <th>22</th>\n",
       "      <td>2021-11</td>\n",
       "      <td>98418</td>\n",
       "    </tr>\n",
       "    <tr>\n",
       "      <th>23</th>\n",
       "      <td>2021-12</td>\n",
       "      <td>93044</td>\n",
       "    </tr>\n",
       "    <tr>\n",
       "      <th>24</th>\n",
       "      <td>2022-01</td>\n",
       "      <td>92121</td>\n",
       "    </tr>\n",
       "    <tr>\n",
       "      <th>25</th>\n",
       "      <td>2022-02</td>\n",
       "      <td>91902</td>\n",
       "    </tr>\n",
       "    <tr>\n",
       "      <th>26</th>\n",
       "      <td>2022-03</td>\n",
       "      <td>103354</td>\n",
       "    </tr>\n",
       "    <tr>\n",
       "      <th>27</th>\n",
       "      <td>2022-04</td>\n",
       "      <td>90085</td>\n",
       "    </tr>\n",
       "    <tr>\n",
       "      <th>28</th>\n",
       "      <td>2022-05</td>\n",
       "      <td>97701</td>\n",
       "    </tr>\n",
       "    <tr>\n",
       "      <th>29</th>\n",
       "      <td>2022-06</td>\n",
       "      <td>94399</td>\n",
       "    </tr>\n",
       "  </tbody>\n",
       "</table>\n",
       "</div>"
      ],
      "text/plain": [
       "      Month  Appointments\n",
       "0   2020-01         20889\n",
       "1   2020-02         20689\n",
       "2   2020-03         21350\n",
       "3   2020-04         19124\n",
       "4   2020-05         18338\n",
       "5   2020-06         18844\n",
       "6   2020-07         19502\n",
       "7   2020-08         19247\n",
       "8   2020-09         20043\n",
       "9   2020-10         20122\n",
       "10  2020-11         19675\n",
       "11  2020-12         19394\n",
       "12  2021-01         19319\n",
       "13  2021-02         18949\n",
       "14  2021-03         19369\n",
       "15  2021-04         19452\n",
       "16  2021-05         19384\n",
       "17  2021-06         19814\n",
       "18  2021-07         19899\n",
       "19  2021-08         89785\n",
       "20  2021-09         95363\n",
       "21  2021-10         94640\n",
       "22  2021-11         98418\n",
       "23  2021-12         93044\n",
       "24  2022-01         92121\n",
       "25  2022-02         91902\n",
       "26  2022-03        103354\n",
       "27  2022-04         90085\n",
       "28  2022-05         97701\n",
       "29  2022-06         94399"
      ]
     },
     "execution_count": 433,
     "metadata": {},
     "output_type": "execute_result"
    }
   ],
   "source": [
    "# Find the number of appointments and records per month\n",
    "# Create a subset of DataFrame\n",
    "\n",
    "appointments_per_month = {\"Appointments\": [appointments_categories_duration['count_of_appointments'].value_counts()],\n",
    "                         \"Month_Period\": [appointments_categories_duration['appointment_month'].value_counts()]}\n",
    "\n",
    "appointments_per_month['monthyear'] = pd.to_datetime(appointments_categories_duration['appointment_month']).dt.to_period('M')\n",
    "\n",
    "by_month = appointments_per_month['monthyear'].value_counts().sort_index()\n",
    "df_month = by_month.rename_axis('Month').reset_index(name='Appointments')\n",
    "df_month\n"
   ]
  },
  {
   "cell_type": "code",
   "execution_count": 434,
   "id": "e22789b0",
   "metadata": {},
   "outputs": [
    {
     "data": {
      "application/vnd.plotly.v1+json": {
       "config": {
        "plotlyServerURL": "https://plot.ly"
       },
       "data": [
        {
         "marker": {
          "color": "indianred"
         },
         "text": "",
         "type": "bar",
         "x": [
          "2020-01",
          "2020-02",
          "2020-03",
          "2020-04",
          "2020-05",
          "2020-06",
          "2020-07",
          "2020-08",
          "2020-09",
          "2020-10",
          "2020-11",
          "2020-12",
          "2021-01",
          "2021-02",
          "2021-03",
          "2021-04",
          "2021-05",
          "2021-06",
          "2021-07",
          "2021-08",
          "2021-09",
          "2021-10",
          "2021-11",
          "2021-12",
          "2022-01",
          "2022-02",
          "2022-03",
          "2022-04",
          "2022-05",
          "2022-06"
         ],
         "y": [
          20889,
          20689,
          21350,
          19124,
          18338,
          18844,
          19502,
          19247,
          20043,
          20122,
          19675,
          19394,
          19319,
          18949,
          19369,
          19452,
          19384,
          19814,
          19899,
          89785,
          95363,
          94640,
          98418,
          93044,
          92121,
          91902,
          103354,
          90085,
          97701,
          94399
         ]
        }
       ],
       "layout": {
        "showlegend": false,
        "template": {
         "data": {
          "bar": [
           {
            "error_x": {
             "color": "#2a3f5f"
            },
            "error_y": {
             "color": "#2a3f5f"
            },
            "marker": {
             "line": {
              "color": "#E5ECF6",
              "width": 0.5
             },
             "pattern": {
              "fillmode": "overlay",
              "size": 10,
              "solidity": 0.2
             }
            },
            "type": "bar"
           }
          ],
          "barpolar": [
           {
            "marker": {
             "line": {
              "color": "#E5ECF6",
              "width": 0.5
             },
             "pattern": {
              "fillmode": "overlay",
              "size": 10,
              "solidity": 0.2
             }
            },
            "type": "barpolar"
           }
          ],
          "carpet": [
           {
            "aaxis": {
             "endlinecolor": "#2a3f5f",
             "gridcolor": "white",
             "linecolor": "white",
             "minorgridcolor": "white",
             "startlinecolor": "#2a3f5f"
            },
            "baxis": {
             "endlinecolor": "#2a3f5f",
             "gridcolor": "white",
             "linecolor": "white",
             "minorgridcolor": "white",
             "startlinecolor": "#2a3f5f"
            },
            "type": "carpet"
           }
          ],
          "choropleth": [
           {
            "colorbar": {
             "outlinewidth": 0,
             "ticks": ""
            },
            "type": "choropleth"
           }
          ],
          "contour": [
           {
            "colorbar": {
             "outlinewidth": 0,
             "ticks": ""
            },
            "colorscale": [
             [
              0,
              "#0d0887"
             ],
             [
              0.1111111111111111,
              "#46039f"
             ],
             [
              0.2222222222222222,
              "#7201a8"
             ],
             [
              0.3333333333333333,
              "#9c179e"
             ],
             [
              0.4444444444444444,
              "#bd3786"
             ],
             [
              0.5555555555555556,
              "#d8576b"
             ],
             [
              0.6666666666666666,
              "#ed7953"
             ],
             [
              0.7777777777777778,
              "#fb9f3a"
             ],
             [
              0.8888888888888888,
              "#fdca26"
             ],
             [
              1,
              "#f0f921"
             ]
            ],
            "type": "contour"
           }
          ],
          "contourcarpet": [
           {
            "colorbar": {
             "outlinewidth": 0,
             "ticks": ""
            },
            "type": "contourcarpet"
           }
          ],
          "heatmap": [
           {
            "colorbar": {
             "outlinewidth": 0,
             "ticks": ""
            },
            "colorscale": [
             [
              0,
              "#0d0887"
             ],
             [
              0.1111111111111111,
              "#46039f"
             ],
             [
              0.2222222222222222,
              "#7201a8"
             ],
             [
              0.3333333333333333,
              "#9c179e"
             ],
             [
              0.4444444444444444,
              "#bd3786"
             ],
             [
              0.5555555555555556,
              "#d8576b"
             ],
             [
              0.6666666666666666,
              "#ed7953"
             ],
             [
              0.7777777777777778,
              "#fb9f3a"
             ],
             [
              0.8888888888888888,
              "#fdca26"
             ],
             [
              1,
              "#f0f921"
             ]
            ],
            "type": "heatmap"
           }
          ],
          "heatmapgl": [
           {
            "colorbar": {
             "outlinewidth": 0,
             "ticks": ""
            },
            "colorscale": [
             [
              0,
              "#0d0887"
             ],
             [
              0.1111111111111111,
              "#46039f"
             ],
             [
              0.2222222222222222,
              "#7201a8"
             ],
             [
              0.3333333333333333,
              "#9c179e"
             ],
             [
              0.4444444444444444,
              "#bd3786"
             ],
             [
              0.5555555555555556,
              "#d8576b"
             ],
             [
              0.6666666666666666,
              "#ed7953"
             ],
             [
              0.7777777777777778,
              "#fb9f3a"
             ],
             [
              0.8888888888888888,
              "#fdca26"
             ],
             [
              1,
              "#f0f921"
             ]
            ],
            "type": "heatmapgl"
           }
          ],
          "histogram": [
           {
            "marker": {
             "pattern": {
              "fillmode": "overlay",
              "size": 10,
              "solidity": 0.2
             }
            },
            "type": "histogram"
           }
          ],
          "histogram2d": [
           {
            "colorbar": {
             "outlinewidth": 0,
             "ticks": ""
            },
            "colorscale": [
             [
              0,
              "#0d0887"
             ],
             [
              0.1111111111111111,
              "#46039f"
             ],
             [
              0.2222222222222222,
              "#7201a8"
             ],
             [
              0.3333333333333333,
              "#9c179e"
             ],
             [
              0.4444444444444444,
              "#bd3786"
             ],
             [
              0.5555555555555556,
              "#d8576b"
             ],
             [
              0.6666666666666666,
              "#ed7953"
             ],
             [
              0.7777777777777778,
              "#fb9f3a"
             ],
             [
              0.8888888888888888,
              "#fdca26"
             ],
             [
              1,
              "#f0f921"
             ]
            ],
            "type": "histogram2d"
           }
          ],
          "histogram2dcontour": [
           {
            "colorbar": {
             "outlinewidth": 0,
             "ticks": ""
            },
            "colorscale": [
             [
              0,
              "#0d0887"
             ],
             [
              0.1111111111111111,
              "#46039f"
             ],
             [
              0.2222222222222222,
              "#7201a8"
             ],
             [
              0.3333333333333333,
              "#9c179e"
             ],
             [
              0.4444444444444444,
              "#bd3786"
             ],
             [
              0.5555555555555556,
              "#d8576b"
             ],
             [
              0.6666666666666666,
              "#ed7953"
             ],
             [
              0.7777777777777778,
              "#fb9f3a"
             ],
             [
              0.8888888888888888,
              "#fdca26"
             ],
             [
              1,
              "#f0f921"
             ]
            ],
            "type": "histogram2dcontour"
           }
          ],
          "mesh3d": [
           {
            "colorbar": {
             "outlinewidth": 0,
             "ticks": ""
            },
            "type": "mesh3d"
           }
          ],
          "parcoords": [
           {
            "line": {
             "colorbar": {
              "outlinewidth": 0,
              "ticks": ""
             }
            },
            "type": "parcoords"
           }
          ],
          "pie": [
           {
            "automargin": true,
            "type": "pie"
           }
          ],
          "scatter": [
           {
            "marker": {
             "colorbar": {
              "outlinewidth": 0,
              "ticks": ""
             }
            },
            "type": "scatter"
           }
          ],
          "scatter3d": [
           {
            "line": {
             "colorbar": {
              "outlinewidth": 0,
              "ticks": ""
             }
            },
            "marker": {
             "colorbar": {
              "outlinewidth": 0,
              "ticks": ""
             }
            },
            "type": "scatter3d"
           }
          ],
          "scattercarpet": [
           {
            "marker": {
             "colorbar": {
              "outlinewidth": 0,
              "ticks": ""
             }
            },
            "type": "scattercarpet"
           }
          ],
          "scattergeo": [
           {
            "marker": {
             "colorbar": {
              "outlinewidth": 0,
              "ticks": ""
             }
            },
            "type": "scattergeo"
           }
          ],
          "scattergl": [
           {
            "marker": {
             "colorbar": {
              "outlinewidth": 0,
              "ticks": ""
             }
            },
            "type": "scattergl"
           }
          ],
          "scattermapbox": [
           {
            "marker": {
             "colorbar": {
              "outlinewidth": 0,
              "ticks": ""
             }
            },
            "type": "scattermapbox"
           }
          ],
          "scatterpolar": [
           {
            "marker": {
             "colorbar": {
              "outlinewidth": 0,
              "ticks": ""
             }
            },
            "type": "scatterpolar"
           }
          ],
          "scatterpolargl": [
           {
            "marker": {
             "colorbar": {
              "outlinewidth": 0,
              "ticks": ""
             }
            },
            "type": "scatterpolargl"
           }
          ],
          "scatterternary": [
           {
            "marker": {
             "colorbar": {
              "outlinewidth": 0,
              "ticks": ""
             }
            },
            "type": "scatterternary"
           }
          ],
          "surface": [
           {
            "colorbar": {
             "outlinewidth": 0,
             "ticks": ""
            },
            "colorscale": [
             [
              0,
              "#0d0887"
             ],
             [
              0.1111111111111111,
              "#46039f"
             ],
             [
              0.2222222222222222,
              "#7201a8"
             ],
             [
              0.3333333333333333,
              "#9c179e"
             ],
             [
              0.4444444444444444,
              "#bd3786"
             ],
             [
              0.5555555555555556,
              "#d8576b"
             ],
             [
              0.6666666666666666,
              "#ed7953"
             ],
             [
              0.7777777777777778,
              "#fb9f3a"
             ],
             [
              0.8888888888888888,
              "#fdca26"
             ],
             [
              1,
              "#f0f921"
             ]
            ],
            "type": "surface"
           }
          ],
          "table": [
           {
            "cells": {
             "fill": {
              "color": "#EBF0F8"
             },
             "line": {
              "color": "white"
             }
            },
            "header": {
             "fill": {
              "color": "#C8D4E3"
             },
             "line": {
              "color": "white"
             }
            },
            "type": "table"
           }
          ]
         },
         "layout": {
          "annotationdefaults": {
           "arrowcolor": "#2a3f5f",
           "arrowhead": 0,
           "arrowwidth": 1
          },
          "autotypenumbers": "strict",
          "coloraxis": {
           "colorbar": {
            "outlinewidth": 0,
            "ticks": ""
           }
          },
          "colorscale": {
           "diverging": [
            [
             0,
             "#8e0152"
            ],
            [
             0.1,
             "#c51b7d"
            ],
            [
             0.2,
             "#de77ae"
            ],
            [
             0.3,
             "#f1b6da"
            ],
            [
             0.4,
             "#fde0ef"
            ],
            [
             0.5,
             "#f7f7f7"
            ],
            [
             0.6,
             "#e6f5d0"
            ],
            [
             0.7,
             "#b8e186"
            ],
            [
             0.8,
             "#7fbc41"
            ],
            [
             0.9,
             "#4d9221"
            ],
            [
             1,
             "#276419"
            ]
           ],
           "sequential": [
            [
             0,
             "#0d0887"
            ],
            [
             0.1111111111111111,
             "#46039f"
            ],
            [
             0.2222222222222222,
             "#7201a8"
            ],
            [
             0.3333333333333333,
             "#9c179e"
            ],
            [
             0.4444444444444444,
             "#bd3786"
            ],
            [
             0.5555555555555556,
             "#d8576b"
            ],
            [
             0.6666666666666666,
             "#ed7953"
            ],
            [
             0.7777777777777778,
             "#fb9f3a"
            ],
            [
             0.8888888888888888,
             "#fdca26"
            ],
            [
             1,
             "#f0f921"
            ]
           ],
           "sequentialminus": [
            [
             0,
             "#0d0887"
            ],
            [
             0.1111111111111111,
             "#46039f"
            ],
            [
             0.2222222222222222,
             "#7201a8"
            ],
            [
             0.3333333333333333,
             "#9c179e"
            ],
            [
             0.4444444444444444,
             "#bd3786"
            ],
            [
             0.5555555555555556,
             "#d8576b"
            ],
            [
             0.6666666666666666,
             "#ed7953"
            ],
            [
             0.7777777777777778,
             "#fb9f3a"
            ],
            [
             0.8888888888888888,
             "#fdca26"
            ],
            [
             1,
             "#f0f921"
            ]
           ]
          },
          "colorway": [
           "#636efa",
           "#EF553B",
           "#00cc96",
           "#ab63fa",
           "#FFA15A",
           "#19d3f3",
           "#FF6692",
           "#B6E880",
           "#FF97FF",
           "#FECB52"
          ],
          "font": {
           "color": "#2a3f5f"
          },
          "geo": {
           "bgcolor": "white",
           "lakecolor": "white",
           "landcolor": "#E5ECF6",
           "showlakes": true,
           "showland": true,
           "subunitcolor": "white"
          },
          "hoverlabel": {
           "align": "left"
          },
          "hovermode": "closest",
          "mapbox": {
           "style": "light"
          },
          "paper_bgcolor": "white",
          "plot_bgcolor": "#E5ECF6",
          "polar": {
           "angularaxis": {
            "gridcolor": "white",
            "linecolor": "white",
            "ticks": ""
           },
           "bgcolor": "#E5ECF6",
           "radialaxis": {
            "gridcolor": "white",
            "linecolor": "white",
            "ticks": ""
           }
          },
          "scene": {
           "xaxis": {
            "backgroundcolor": "#E5ECF6",
            "gridcolor": "white",
            "gridwidth": 2,
            "linecolor": "white",
            "showbackground": true,
            "ticks": "",
            "zerolinecolor": "white"
           },
           "yaxis": {
            "backgroundcolor": "#E5ECF6",
            "gridcolor": "white",
            "gridwidth": 2,
            "linecolor": "white",
            "showbackground": true,
            "ticks": "",
            "zerolinecolor": "white"
           },
           "zaxis": {
            "backgroundcolor": "#E5ECF6",
            "gridcolor": "white",
            "gridwidth": 2,
            "linecolor": "white",
            "showbackground": true,
            "ticks": "",
            "zerolinecolor": "white"
           }
          },
          "shapedefaults": {
           "line": {
            "color": "#2a3f5f"
           }
          },
          "ternary": {
           "aaxis": {
            "gridcolor": "white",
            "linecolor": "white",
            "ticks": ""
           },
           "baxis": {
            "gridcolor": "white",
            "linecolor": "white",
            "ticks": ""
           },
           "bgcolor": "#E5ECF6",
           "caxis": {
            "gridcolor": "white",
            "linecolor": "white",
            "ticks": ""
           }
          },
          "title": {
           "x": 0.05
          },
          "xaxis": {
           "automargin": true,
           "gridcolor": "white",
           "linecolor": "white",
           "ticks": "",
           "title": {
            "standoff": 15
           },
           "zerolinecolor": "white",
           "zerolinewidth": 2
          },
          "yaxis": {
           "automargin": true,
           "gridcolor": "white",
           "linecolor": "white",
           "ticks": "",
           "title": {
            "standoff": 15
           },
           "zerolinecolor": "white",
           "zerolinewidth": 2
          }
         }
        },
        "title": {
         "text": "Number of appointments and records per month"
        },
        "xaxis": {
         "title": {
          "text": "Months"
         }
        },
        "yaxis": {
         "title": {
          "text": "Total Appointments"
         }
        }
       }
      },
      "text/html": [
       "<div>                            <div id=\"d5dc74a5-177c-482e-8010-38656ec610c5\" class=\"plotly-graph-div\" style=\"height:525px; width:100%;\"></div>            <script type=\"text/javascript\">                require([\"plotly\"], function(Plotly) {                    window.PLOTLYENV=window.PLOTLYENV || {};                                    if (document.getElementById(\"d5dc74a5-177c-482e-8010-38656ec610c5\")) {                    Plotly.newPlot(                        \"d5dc74a5-177c-482e-8010-38656ec610c5\",                        [{\"marker\":{\"color\":\"indianred\"},\"text\":\"\",\"x\":[\"2020-01\",\"2020-02\",\"2020-03\",\"2020-04\",\"2020-05\",\"2020-06\",\"2020-07\",\"2020-08\",\"2020-09\",\"2020-10\",\"2020-11\",\"2020-12\",\"2021-01\",\"2021-02\",\"2021-03\",\"2021-04\",\"2021-05\",\"2021-06\",\"2021-07\",\"2021-08\",\"2021-09\",\"2021-10\",\"2021-11\",\"2021-12\",\"2022-01\",\"2022-02\",\"2022-03\",\"2022-04\",\"2022-05\",\"2022-06\"],\"y\":[20889,20689,21350,19124,18338,18844,19502,19247,20043,20122,19675,19394,19319,18949,19369,19452,19384,19814,19899,89785,95363,94640,98418,93044,92121,91902,103354,90085,97701,94399],\"type\":\"bar\"}],                        {\"template\":{\"data\":{\"bar\":[{\"error_x\":{\"color\":\"#2a3f5f\"},\"error_y\":{\"color\":\"#2a3f5f\"},\"marker\":{\"line\":{\"color\":\"#E5ECF6\",\"width\":0.5},\"pattern\":{\"fillmode\":\"overlay\",\"size\":10,\"solidity\":0.2}},\"type\":\"bar\"}],\"barpolar\":[{\"marker\":{\"line\":{\"color\":\"#E5ECF6\",\"width\":0.5},\"pattern\":{\"fillmode\":\"overlay\",\"size\":10,\"solidity\":0.2}},\"type\":\"barpolar\"}],\"carpet\":[{\"aaxis\":{\"endlinecolor\":\"#2a3f5f\",\"gridcolor\":\"white\",\"linecolor\":\"white\",\"minorgridcolor\":\"white\",\"startlinecolor\":\"#2a3f5f\"},\"baxis\":{\"endlinecolor\":\"#2a3f5f\",\"gridcolor\":\"white\",\"linecolor\":\"white\",\"minorgridcolor\":\"white\",\"startlinecolor\":\"#2a3f5f\"},\"type\":\"carpet\"}],\"choropleth\":[{\"colorbar\":{\"outlinewidth\":0,\"ticks\":\"\"},\"type\":\"choropleth\"}],\"contour\":[{\"colorbar\":{\"outlinewidth\":0,\"ticks\":\"\"},\"colorscale\":[[0.0,\"#0d0887\"],[0.1111111111111111,\"#46039f\"],[0.2222222222222222,\"#7201a8\"],[0.3333333333333333,\"#9c179e\"],[0.4444444444444444,\"#bd3786\"],[0.5555555555555556,\"#d8576b\"],[0.6666666666666666,\"#ed7953\"],[0.7777777777777778,\"#fb9f3a\"],[0.8888888888888888,\"#fdca26\"],[1.0,\"#f0f921\"]],\"type\":\"contour\"}],\"contourcarpet\":[{\"colorbar\":{\"outlinewidth\":0,\"ticks\":\"\"},\"type\":\"contourcarpet\"}],\"heatmap\":[{\"colorbar\":{\"outlinewidth\":0,\"ticks\":\"\"},\"colorscale\":[[0.0,\"#0d0887\"],[0.1111111111111111,\"#46039f\"],[0.2222222222222222,\"#7201a8\"],[0.3333333333333333,\"#9c179e\"],[0.4444444444444444,\"#bd3786\"],[0.5555555555555556,\"#d8576b\"],[0.6666666666666666,\"#ed7953\"],[0.7777777777777778,\"#fb9f3a\"],[0.8888888888888888,\"#fdca26\"],[1.0,\"#f0f921\"]],\"type\":\"heatmap\"}],\"heatmapgl\":[{\"colorbar\":{\"outlinewidth\":0,\"ticks\":\"\"},\"colorscale\":[[0.0,\"#0d0887\"],[0.1111111111111111,\"#46039f\"],[0.2222222222222222,\"#7201a8\"],[0.3333333333333333,\"#9c179e\"],[0.4444444444444444,\"#bd3786\"],[0.5555555555555556,\"#d8576b\"],[0.6666666666666666,\"#ed7953\"],[0.7777777777777778,\"#fb9f3a\"],[0.8888888888888888,\"#fdca26\"],[1.0,\"#f0f921\"]],\"type\":\"heatmapgl\"}],\"histogram\":[{\"marker\":{\"pattern\":{\"fillmode\":\"overlay\",\"size\":10,\"solidity\":0.2}},\"type\":\"histogram\"}],\"histogram2d\":[{\"colorbar\":{\"outlinewidth\":0,\"ticks\":\"\"},\"colorscale\":[[0.0,\"#0d0887\"],[0.1111111111111111,\"#46039f\"],[0.2222222222222222,\"#7201a8\"],[0.3333333333333333,\"#9c179e\"],[0.4444444444444444,\"#bd3786\"],[0.5555555555555556,\"#d8576b\"],[0.6666666666666666,\"#ed7953\"],[0.7777777777777778,\"#fb9f3a\"],[0.8888888888888888,\"#fdca26\"],[1.0,\"#f0f921\"]],\"type\":\"histogram2d\"}],\"histogram2dcontour\":[{\"colorbar\":{\"outlinewidth\":0,\"ticks\":\"\"},\"colorscale\":[[0.0,\"#0d0887\"],[0.1111111111111111,\"#46039f\"],[0.2222222222222222,\"#7201a8\"],[0.3333333333333333,\"#9c179e\"],[0.4444444444444444,\"#bd3786\"],[0.5555555555555556,\"#d8576b\"],[0.6666666666666666,\"#ed7953\"],[0.7777777777777778,\"#fb9f3a\"],[0.8888888888888888,\"#fdca26\"],[1.0,\"#f0f921\"]],\"type\":\"histogram2dcontour\"}],\"mesh3d\":[{\"colorbar\":{\"outlinewidth\":0,\"ticks\":\"\"},\"type\":\"mesh3d\"}],\"parcoords\":[{\"line\":{\"colorbar\":{\"outlinewidth\":0,\"ticks\":\"\"}},\"type\":\"parcoords\"}],\"pie\":[{\"automargin\":true,\"type\":\"pie\"}],\"scatter\":[{\"marker\":{\"colorbar\":{\"outlinewidth\":0,\"ticks\":\"\"}},\"type\":\"scatter\"}],\"scatter3d\":[{\"line\":{\"colorbar\":{\"outlinewidth\":0,\"ticks\":\"\"}},\"marker\":{\"colorbar\":{\"outlinewidth\":0,\"ticks\":\"\"}},\"type\":\"scatter3d\"}],\"scattercarpet\":[{\"marker\":{\"colorbar\":{\"outlinewidth\":0,\"ticks\":\"\"}},\"type\":\"scattercarpet\"}],\"scattergeo\":[{\"marker\":{\"colorbar\":{\"outlinewidth\":0,\"ticks\":\"\"}},\"type\":\"scattergeo\"}],\"scattergl\":[{\"marker\":{\"colorbar\":{\"outlinewidth\":0,\"ticks\":\"\"}},\"type\":\"scattergl\"}],\"scattermapbox\":[{\"marker\":{\"colorbar\":{\"outlinewidth\":0,\"ticks\":\"\"}},\"type\":\"scattermapbox\"}],\"scatterpolar\":[{\"marker\":{\"colorbar\":{\"outlinewidth\":0,\"ticks\":\"\"}},\"type\":\"scatterpolar\"}],\"scatterpolargl\":[{\"marker\":{\"colorbar\":{\"outlinewidth\":0,\"ticks\":\"\"}},\"type\":\"scatterpolargl\"}],\"scatterternary\":[{\"marker\":{\"colorbar\":{\"outlinewidth\":0,\"ticks\":\"\"}},\"type\":\"scatterternary\"}],\"surface\":[{\"colorbar\":{\"outlinewidth\":0,\"ticks\":\"\"},\"colorscale\":[[0.0,\"#0d0887\"],[0.1111111111111111,\"#46039f\"],[0.2222222222222222,\"#7201a8\"],[0.3333333333333333,\"#9c179e\"],[0.4444444444444444,\"#bd3786\"],[0.5555555555555556,\"#d8576b\"],[0.6666666666666666,\"#ed7953\"],[0.7777777777777778,\"#fb9f3a\"],[0.8888888888888888,\"#fdca26\"],[1.0,\"#f0f921\"]],\"type\":\"surface\"}],\"table\":[{\"cells\":{\"fill\":{\"color\":\"#EBF0F8\"},\"line\":{\"color\":\"white\"}},\"header\":{\"fill\":{\"color\":\"#C8D4E3\"},\"line\":{\"color\":\"white\"}},\"type\":\"table\"}]},\"layout\":{\"annotationdefaults\":{\"arrowcolor\":\"#2a3f5f\",\"arrowhead\":0,\"arrowwidth\":1},\"autotypenumbers\":\"strict\",\"coloraxis\":{\"colorbar\":{\"outlinewidth\":0,\"ticks\":\"\"}},\"colorscale\":{\"diverging\":[[0,\"#8e0152\"],[0.1,\"#c51b7d\"],[0.2,\"#de77ae\"],[0.3,\"#f1b6da\"],[0.4,\"#fde0ef\"],[0.5,\"#f7f7f7\"],[0.6,\"#e6f5d0\"],[0.7,\"#b8e186\"],[0.8,\"#7fbc41\"],[0.9,\"#4d9221\"],[1,\"#276419\"]],\"sequential\":[[0.0,\"#0d0887\"],[0.1111111111111111,\"#46039f\"],[0.2222222222222222,\"#7201a8\"],[0.3333333333333333,\"#9c179e\"],[0.4444444444444444,\"#bd3786\"],[0.5555555555555556,\"#d8576b\"],[0.6666666666666666,\"#ed7953\"],[0.7777777777777778,\"#fb9f3a\"],[0.8888888888888888,\"#fdca26\"],[1.0,\"#f0f921\"]],\"sequentialminus\":[[0.0,\"#0d0887\"],[0.1111111111111111,\"#46039f\"],[0.2222222222222222,\"#7201a8\"],[0.3333333333333333,\"#9c179e\"],[0.4444444444444444,\"#bd3786\"],[0.5555555555555556,\"#d8576b\"],[0.6666666666666666,\"#ed7953\"],[0.7777777777777778,\"#fb9f3a\"],[0.8888888888888888,\"#fdca26\"],[1.0,\"#f0f921\"]]},\"colorway\":[\"#636efa\",\"#EF553B\",\"#00cc96\",\"#ab63fa\",\"#FFA15A\",\"#19d3f3\",\"#FF6692\",\"#B6E880\",\"#FF97FF\",\"#FECB52\"],\"font\":{\"color\":\"#2a3f5f\"},\"geo\":{\"bgcolor\":\"white\",\"lakecolor\":\"white\",\"landcolor\":\"#E5ECF6\",\"showlakes\":true,\"showland\":true,\"subunitcolor\":\"white\"},\"hoverlabel\":{\"align\":\"left\"},\"hovermode\":\"closest\",\"mapbox\":{\"style\":\"light\"},\"paper_bgcolor\":\"white\",\"plot_bgcolor\":\"#E5ECF6\",\"polar\":{\"angularaxis\":{\"gridcolor\":\"white\",\"linecolor\":\"white\",\"ticks\":\"\"},\"bgcolor\":\"#E5ECF6\",\"radialaxis\":{\"gridcolor\":\"white\",\"linecolor\":\"white\",\"ticks\":\"\"}},\"scene\":{\"xaxis\":{\"backgroundcolor\":\"#E5ECF6\",\"gridcolor\":\"white\",\"gridwidth\":2,\"linecolor\":\"white\",\"showbackground\":true,\"ticks\":\"\",\"zerolinecolor\":\"white\"},\"yaxis\":{\"backgroundcolor\":\"#E5ECF6\",\"gridcolor\":\"white\",\"gridwidth\":2,\"linecolor\":\"white\",\"showbackground\":true,\"ticks\":\"\",\"zerolinecolor\":\"white\"},\"zaxis\":{\"backgroundcolor\":\"#E5ECF6\",\"gridcolor\":\"white\",\"gridwidth\":2,\"linecolor\":\"white\",\"showbackground\":true,\"ticks\":\"\",\"zerolinecolor\":\"white\"}},\"shapedefaults\":{\"line\":{\"color\":\"#2a3f5f\"}},\"ternary\":{\"aaxis\":{\"gridcolor\":\"white\",\"linecolor\":\"white\",\"ticks\":\"\"},\"baxis\":{\"gridcolor\":\"white\",\"linecolor\":\"white\",\"ticks\":\"\"},\"bgcolor\":\"#E5ECF6\",\"caxis\":{\"gridcolor\":\"white\",\"linecolor\":\"white\",\"ticks\":\"\"}},\"title\":{\"x\":0.05},\"xaxis\":{\"automargin\":true,\"gridcolor\":\"white\",\"linecolor\":\"white\",\"ticks\":\"\",\"title\":{\"standoff\":15},\"zerolinecolor\":\"white\",\"zerolinewidth\":2},\"yaxis\":{\"automargin\":true,\"gridcolor\":\"white\",\"linecolor\":\"white\",\"ticks\":\"\",\"title\":{\"standoff\":15},\"zerolinecolor\":\"white\",\"zerolinewidth\":2}}},\"title\":{\"text\":\"Number of appointments and records per month\"},\"xaxis\":{\"title\":{\"text\":\"Months\"}},\"yaxis\":{\"title\":{\"text\":\"Total Appointments\"}},\"showlegend\":false},                        {\"responsive\": true}                    ).then(function(){\n",
       "                            \n",
       "var gd = document.getElementById('d5dc74a5-177c-482e-8010-38656ec610c5');\n",
       "var x = new MutationObserver(function (mutations, observer) {{\n",
       "        var display = window.getComputedStyle(gd).display;\n",
       "        if (!display || display === 'none') {{\n",
       "            console.log([gd, 'removed!']);\n",
       "            Plotly.purge(gd);\n",
       "            observer.disconnect();\n",
       "        }}\n",
       "}});\n",
       "\n",
       "// Listen for the removal of the full notebook cells\n",
       "var notebookContainer = gd.closest('#notebook-container');\n",
       "if (notebookContainer) {{\n",
       "    x.observe(notebookContainer, {childList: true});\n",
       "}}\n",
       "\n",
       "// Listen for the clearing of the current output cell\n",
       "var outputEl = gd.closest('.output');\n",
       "if (outputEl) {{\n",
       "    x.observe(outputEl, {childList: true});\n",
       "}}\n",
       "\n",
       "                        })                };                });            </script>        </div>"
      ]
     },
     "metadata": {},
     "output_type": "display_data"
    }
   ],
   "source": [
    "import plotly.express as px\n",
    "import plotly.graph_objs as go\n",
    "fig = go.Figure(data=go.Bar(x=df_month['Month'].astype(dtype=str), \n",
    "                        y=df_month['Appointments'],\n",
    "                        marker_color='indianred', text=\"\"))\n",
    "fig.update_layout({\"title\": 'Number of appointments and records per month',\n",
    "                   \"xaxis\": {\"title\":\"Months\"},\n",
    "                   \"yaxis\": {\"title\":\"Total Appointments\"},\n",
    "                   \"showlegend\": False})\n",
    "\n",
    "#fig.show()"
   ]
  },
  {
   "cell_type": "markdown",
   "id": "aab32ce4",
   "metadata": {},
   "source": [
    "## Question 4: What monthly and seasonal trends are evident, based on the number of appointments for service settings, context types, and national categories?"
   ]
  },
  {
   "cell_type": "code",
   "execution_count": 435,
   "id": "dc5a289d",
   "metadata": {},
   "outputs": [
    {
     "data": {
      "text/html": [
       "<div>\n",
       "<style scoped>\n",
       "    .dataframe tbody tr th:only-of-type {\n",
       "        vertical-align: middle;\n",
       "    }\n",
       "\n",
       "    .dataframe tbody tr th {\n",
       "        vertical-align: top;\n",
       "    }\n",
       "\n",
       "    .dataframe thead th {\n",
       "        text-align: right;\n",
       "    }\n",
       "</style>\n",
       "<table border=\"1\" class=\"dataframe\">\n",
       "  <thead>\n",
       "    <tr style=\"text-align: right;\">\n",
       "      <th></th>\n",
       "      <th>appointment_month</th>\n",
       "      <th>Service_Setting</th>\n",
       "    </tr>\n",
       "  </thead>\n",
       "  <tbody>\n",
       "    <tr>\n",
       "      <th>26</th>\n",
       "      <td>2022-03</td>\n",
       "      <td>103354</td>\n",
       "    </tr>\n",
       "    <tr>\n",
       "      <th>22</th>\n",
       "      <td>2021-11</td>\n",
       "      <td>98418</td>\n",
       "    </tr>\n",
       "    <tr>\n",
       "      <th>28</th>\n",
       "      <td>2022-05</td>\n",
       "      <td>97701</td>\n",
       "    </tr>\n",
       "    <tr>\n",
       "      <th>20</th>\n",
       "      <td>2021-09</td>\n",
       "      <td>95363</td>\n",
       "    </tr>\n",
       "    <tr>\n",
       "      <th>21</th>\n",
       "      <td>2021-10</td>\n",
       "      <td>94640</td>\n",
       "    </tr>\n",
       "    <tr>\n",
       "      <th>29</th>\n",
       "      <td>2022-06</td>\n",
       "      <td>94399</td>\n",
       "    </tr>\n",
       "    <tr>\n",
       "      <th>23</th>\n",
       "      <td>2021-12</td>\n",
       "      <td>93044</td>\n",
       "    </tr>\n",
       "    <tr>\n",
       "      <th>24</th>\n",
       "      <td>2022-01</td>\n",
       "      <td>92121</td>\n",
       "    </tr>\n",
       "    <tr>\n",
       "      <th>25</th>\n",
       "      <td>2022-02</td>\n",
       "      <td>91902</td>\n",
       "    </tr>\n",
       "    <tr>\n",
       "      <th>27</th>\n",
       "      <td>2022-04</td>\n",
       "      <td>90085</td>\n",
       "    </tr>\n",
       "    <tr>\n",
       "      <th>19</th>\n",
       "      <td>2021-08</td>\n",
       "      <td>89785</td>\n",
       "    </tr>\n",
       "    <tr>\n",
       "      <th>2</th>\n",
       "      <td>2020-03</td>\n",
       "      <td>21350</td>\n",
       "    </tr>\n",
       "    <tr>\n",
       "      <th>0</th>\n",
       "      <td>2020-01</td>\n",
       "      <td>20889</td>\n",
       "    </tr>\n",
       "    <tr>\n",
       "      <th>1</th>\n",
       "      <td>2020-02</td>\n",
       "      <td>20689</td>\n",
       "    </tr>\n",
       "    <tr>\n",
       "      <th>9</th>\n",
       "      <td>2020-10</td>\n",
       "      <td>20122</td>\n",
       "    </tr>\n",
       "    <tr>\n",
       "      <th>8</th>\n",
       "      <td>2020-09</td>\n",
       "      <td>20043</td>\n",
       "    </tr>\n",
       "    <tr>\n",
       "      <th>18</th>\n",
       "      <td>2021-07</td>\n",
       "      <td>19899</td>\n",
       "    </tr>\n",
       "    <tr>\n",
       "      <th>17</th>\n",
       "      <td>2021-06</td>\n",
       "      <td>19814</td>\n",
       "    </tr>\n",
       "    <tr>\n",
       "      <th>10</th>\n",
       "      <td>2020-11</td>\n",
       "      <td>19675</td>\n",
       "    </tr>\n",
       "    <tr>\n",
       "      <th>6</th>\n",
       "      <td>2020-07</td>\n",
       "      <td>19502</td>\n",
       "    </tr>\n",
       "    <tr>\n",
       "      <th>15</th>\n",
       "      <td>2021-04</td>\n",
       "      <td>19452</td>\n",
       "    </tr>\n",
       "    <tr>\n",
       "      <th>11</th>\n",
       "      <td>2020-12</td>\n",
       "      <td>19394</td>\n",
       "    </tr>\n",
       "    <tr>\n",
       "      <th>16</th>\n",
       "      <td>2021-05</td>\n",
       "      <td>19384</td>\n",
       "    </tr>\n",
       "    <tr>\n",
       "      <th>14</th>\n",
       "      <td>2021-03</td>\n",
       "      <td>19369</td>\n",
       "    </tr>\n",
       "    <tr>\n",
       "      <th>12</th>\n",
       "      <td>2021-01</td>\n",
       "      <td>19319</td>\n",
       "    </tr>\n",
       "    <tr>\n",
       "      <th>7</th>\n",
       "      <td>2020-08</td>\n",
       "      <td>19247</td>\n",
       "    </tr>\n",
       "    <tr>\n",
       "      <th>3</th>\n",
       "      <td>2020-04</td>\n",
       "      <td>19124</td>\n",
       "    </tr>\n",
       "    <tr>\n",
       "      <th>13</th>\n",
       "      <td>2021-02</td>\n",
       "      <td>18949</td>\n",
       "    </tr>\n",
       "    <tr>\n",
       "      <th>5</th>\n",
       "      <td>2020-06</td>\n",
       "      <td>18844</td>\n",
       "    </tr>\n",
       "    <tr>\n",
       "      <th>4</th>\n",
       "      <td>2020-05</td>\n",
       "      <td>18338</td>\n",
       "    </tr>\n",
       "  </tbody>\n",
       "</table>\n",
       "</div>"
      ],
      "text/plain": [
       "   appointment_month  Service_Setting\n",
       "26           2022-03           103354\n",
       "22           2021-11            98418\n",
       "28           2022-05            97701\n",
       "20           2021-09            95363\n",
       "21           2021-10            94640\n",
       "29           2022-06            94399\n",
       "23           2021-12            93044\n",
       "24           2022-01            92121\n",
       "25           2022-02            91902\n",
       "27           2022-04            90085\n",
       "19           2021-08            89785\n",
       "2            2020-03            21350\n",
       "0            2020-01            20889\n",
       "1            2020-02            20689\n",
       "9            2020-10            20122\n",
       "8            2020-09            20043\n",
       "18           2021-07            19899\n",
       "17           2021-06            19814\n",
       "10           2020-11            19675\n",
       "6            2020-07            19502\n",
       "15           2021-04            19452\n",
       "11           2020-12            19394\n",
       "16           2021-05            19384\n",
       "14           2021-03            19369\n",
       "12           2021-01            19319\n",
       "7            2020-08            19247\n",
       "3            2020-04            19124\n",
       "13           2021-02            18949\n",
       "5            2020-06            18844\n",
       "4            2020-05            18338"
      ]
     },
     "execution_count": 435,
     "metadata": {},
     "output_type": "execute_result"
    }
   ],
   "source": [
    "# Number of appointments for service settings\n",
    "\n",
    "# create a DataFrame of appointments_dates\n",
    "\n",
    "appointment_dates = {\"Appointments\": [appointments_categories_duration['count_of_appointments'].value_counts()],\n",
    "                         \"Appointment_Month\": [appointments_categories_duration['appointment_month'].value_counts()],\n",
    "                         \"Service_Setting\": [appointments_categories_duration['service_setting'].value_counts()],\n",
    "                        \"Context_Type\": [appointments_categories_duration['context_type'].value_counts()],\n",
    "                        \"National_Category\": [appointments_categories_duration['national_category'].value_counts()]}\n",
    "\n",
    "appointment_dates['monthyear'] = pd.to_datetime(appointments_categories_duration['appointment_month']).dt.to_period('M')\n",
    "\n",
    "by_month = appointment_dates['monthyear'].value_counts().sort_index()\n",
    "df_month = by_month.rename_axis('appointment_month').reset_index(name='Service_Setting')\n",
    "\n",
    "# Service settings reported the most appointments\n",
    "df_month.sort_values('Service_Setting', ascending=False)"
   ]
  },
  {
   "cell_type": "code",
   "execution_count": 436,
   "id": "a01f883b",
   "metadata": {},
   "outputs": [
    {
     "data": {
      "application/vnd.plotly.v1+json": {
       "config": {
        "plotlyServerURL": "https://plot.ly"
       },
       "data": [
        {
         "marker": {
          "color": "red"
         },
         "text": "",
         "type": "scatter",
         "x": [
          "2020-01",
          "2020-02",
          "2020-03",
          "2020-04",
          "2020-05",
          "2020-06",
          "2020-07",
          "2020-08",
          "2020-09",
          "2020-10",
          "2020-11",
          "2020-12",
          "2021-01",
          "2021-02",
          "2021-03",
          "2021-04",
          "2021-05",
          "2021-06",
          "2021-07",
          "2021-08",
          "2021-09",
          "2021-10",
          "2021-11",
          "2021-12",
          "2022-01",
          "2022-02",
          "2022-03",
          "2022-04",
          "2022-05",
          "2022-06"
         ],
         "y": [
          20889,
          20689,
          21350,
          19124,
          18338,
          18844,
          19502,
          19247,
          20043,
          20122,
          19675,
          19394,
          19319,
          18949,
          19369,
          19452,
          19384,
          19814,
          19899,
          89785,
          95363,
          94640,
          98418,
          93044,
          92121,
          91902,
          103354,
          90085,
          97701,
          94399
         ]
        }
       ],
       "layout": {
        "showlegend": false,
        "template": {
         "data": {
          "bar": [
           {
            "error_x": {
             "color": "#2a3f5f"
            },
            "error_y": {
             "color": "#2a3f5f"
            },
            "marker": {
             "line": {
              "color": "#E5ECF6",
              "width": 0.5
             },
             "pattern": {
              "fillmode": "overlay",
              "size": 10,
              "solidity": 0.2
             }
            },
            "type": "bar"
           }
          ],
          "barpolar": [
           {
            "marker": {
             "line": {
              "color": "#E5ECF6",
              "width": 0.5
             },
             "pattern": {
              "fillmode": "overlay",
              "size": 10,
              "solidity": 0.2
             }
            },
            "type": "barpolar"
           }
          ],
          "carpet": [
           {
            "aaxis": {
             "endlinecolor": "#2a3f5f",
             "gridcolor": "white",
             "linecolor": "white",
             "minorgridcolor": "white",
             "startlinecolor": "#2a3f5f"
            },
            "baxis": {
             "endlinecolor": "#2a3f5f",
             "gridcolor": "white",
             "linecolor": "white",
             "minorgridcolor": "white",
             "startlinecolor": "#2a3f5f"
            },
            "type": "carpet"
           }
          ],
          "choropleth": [
           {
            "colorbar": {
             "outlinewidth": 0,
             "ticks": ""
            },
            "type": "choropleth"
           }
          ],
          "contour": [
           {
            "colorbar": {
             "outlinewidth": 0,
             "ticks": ""
            },
            "colorscale": [
             [
              0,
              "#0d0887"
             ],
             [
              0.1111111111111111,
              "#46039f"
             ],
             [
              0.2222222222222222,
              "#7201a8"
             ],
             [
              0.3333333333333333,
              "#9c179e"
             ],
             [
              0.4444444444444444,
              "#bd3786"
             ],
             [
              0.5555555555555556,
              "#d8576b"
             ],
             [
              0.6666666666666666,
              "#ed7953"
             ],
             [
              0.7777777777777778,
              "#fb9f3a"
             ],
             [
              0.8888888888888888,
              "#fdca26"
             ],
             [
              1,
              "#f0f921"
             ]
            ],
            "type": "contour"
           }
          ],
          "contourcarpet": [
           {
            "colorbar": {
             "outlinewidth": 0,
             "ticks": ""
            },
            "type": "contourcarpet"
           }
          ],
          "heatmap": [
           {
            "colorbar": {
             "outlinewidth": 0,
             "ticks": ""
            },
            "colorscale": [
             [
              0,
              "#0d0887"
             ],
             [
              0.1111111111111111,
              "#46039f"
             ],
             [
              0.2222222222222222,
              "#7201a8"
             ],
             [
              0.3333333333333333,
              "#9c179e"
             ],
             [
              0.4444444444444444,
              "#bd3786"
             ],
             [
              0.5555555555555556,
              "#d8576b"
             ],
             [
              0.6666666666666666,
              "#ed7953"
             ],
             [
              0.7777777777777778,
              "#fb9f3a"
             ],
             [
              0.8888888888888888,
              "#fdca26"
             ],
             [
              1,
              "#f0f921"
             ]
            ],
            "type": "heatmap"
           }
          ],
          "heatmapgl": [
           {
            "colorbar": {
             "outlinewidth": 0,
             "ticks": ""
            },
            "colorscale": [
             [
              0,
              "#0d0887"
             ],
             [
              0.1111111111111111,
              "#46039f"
             ],
             [
              0.2222222222222222,
              "#7201a8"
             ],
             [
              0.3333333333333333,
              "#9c179e"
             ],
             [
              0.4444444444444444,
              "#bd3786"
             ],
             [
              0.5555555555555556,
              "#d8576b"
             ],
             [
              0.6666666666666666,
              "#ed7953"
             ],
             [
              0.7777777777777778,
              "#fb9f3a"
             ],
             [
              0.8888888888888888,
              "#fdca26"
             ],
             [
              1,
              "#f0f921"
             ]
            ],
            "type": "heatmapgl"
           }
          ],
          "histogram": [
           {
            "marker": {
             "pattern": {
              "fillmode": "overlay",
              "size": 10,
              "solidity": 0.2
             }
            },
            "type": "histogram"
           }
          ],
          "histogram2d": [
           {
            "colorbar": {
             "outlinewidth": 0,
             "ticks": ""
            },
            "colorscale": [
             [
              0,
              "#0d0887"
             ],
             [
              0.1111111111111111,
              "#46039f"
             ],
             [
              0.2222222222222222,
              "#7201a8"
             ],
             [
              0.3333333333333333,
              "#9c179e"
             ],
             [
              0.4444444444444444,
              "#bd3786"
             ],
             [
              0.5555555555555556,
              "#d8576b"
             ],
             [
              0.6666666666666666,
              "#ed7953"
             ],
             [
              0.7777777777777778,
              "#fb9f3a"
             ],
             [
              0.8888888888888888,
              "#fdca26"
             ],
             [
              1,
              "#f0f921"
             ]
            ],
            "type": "histogram2d"
           }
          ],
          "histogram2dcontour": [
           {
            "colorbar": {
             "outlinewidth": 0,
             "ticks": ""
            },
            "colorscale": [
             [
              0,
              "#0d0887"
             ],
             [
              0.1111111111111111,
              "#46039f"
             ],
             [
              0.2222222222222222,
              "#7201a8"
             ],
             [
              0.3333333333333333,
              "#9c179e"
             ],
             [
              0.4444444444444444,
              "#bd3786"
             ],
             [
              0.5555555555555556,
              "#d8576b"
             ],
             [
              0.6666666666666666,
              "#ed7953"
             ],
             [
              0.7777777777777778,
              "#fb9f3a"
             ],
             [
              0.8888888888888888,
              "#fdca26"
             ],
             [
              1,
              "#f0f921"
             ]
            ],
            "type": "histogram2dcontour"
           }
          ],
          "mesh3d": [
           {
            "colorbar": {
             "outlinewidth": 0,
             "ticks": ""
            },
            "type": "mesh3d"
           }
          ],
          "parcoords": [
           {
            "line": {
             "colorbar": {
              "outlinewidth": 0,
              "ticks": ""
             }
            },
            "type": "parcoords"
           }
          ],
          "pie": [
           {
            "automargin": true,
            "type": "pie"
           }
          ],
          "scatter": [
           {
            "marker": {
             "colorbar": {
              "outlinewidth": 0,
              "ticks": ""
             }
            },
            "type": "scatter"
           }
          ],
          "scatter3d": [
           {
            "line": {
             "colorbar": {
              "outlinewidth": 0,
              "ticks": ""
             }
            },
            "marker": {
             "colorbar": {
              "outlinewidth": 0,
              "ticks": ""
             }
            },
            "type": "scatter3d"
           }
          ],
          "scattercarpet": [
           {
            "marker": {
             "colorbar": {
              "outlinewidth": 0,
              "ticks": ""
             }
            },
            "type": "scattercarpet"
           }
          ],
          "scattergeo": [
           {
            "marker": {
             "colorbar": {
              "outlinewidth": 0,
              "ticks": ""
             }
            },
            "type": "scattergeo"
           }
          ],
          "scattergl": [
           {
            "marker": {
             "colorbar": {
              "outlinewidth": 0,
              "ticks": ""
             }
            },
            "type": "scattergl"
           }
          ],
          "scattermapbox": [
           {
            "marker": {
             "colorbar": {
              "outlinewidth": 0,
              "ticks": ""
             }
            },
            "type": "scattermapbox"
           }
          ],
          "scatterpolar": [
           {
            "marker": {
             "colorbar": {
              "outlinewidth": 0,
              "ticks": ""
             }
            },
            "type": "scatterpolar"
           }
          ],
          "scatterpolargl": [
           {
            "marker": {
             "colorbar": {
              "outlinewidth": 0,
              "ticks": ""
             }
            },
            "type": "scatterpolargl"
           }
          ],
          "scatterternary": [
           {
            "marker": {
             "colorbar": {
              "outlinewidth": 0,
              "ticks": ""
             }
            },
            "type": "scatterternary"
           }
          ],
          "surface": [
           {
            "colorbar": {
             "outlinewidth": 0,
             "ticks": ""
            },
            "colorscale": [
             [
              0,
              "#0d0887"
             ],
             [
              0.1111111111111111,
              "#46039f"
             ],
             [
              0.2222222222222222,
              "#7201a8"
             ],
             [
              0.3333333333333333,
              "#9c179e"
             ],
             [
              0.4444444444444444,
              "#bd3786"
             ],
             [
              0.5555555555555556,
              "#d8576b"
             ],
             [
              0.6666666666666666,
              "#ed7953"
             ],
             [
              0.7777777777777778,
              "#fb9f3a"
             ],
             [
              0.8888888888888888,
              "#fdca26"
             ],
             [
              1,
              "#f0f921"
             ]
            ],
            "type": "surface"
           }
          ],
          "table": [
           {
            "cells": {
             "fill": {
              "color": "#EBF0F8"
             },
             "line": {
              "color": "white"
             }
            },
            "header": {
             "fill": {
              "color": "#C8D4E3"
             },
             "line": {
              "color": "white"
             }
            },
            "type": "table"
           }
          ]
         },
         "layout": {
          "annotationdefaults": {
           "arrowcolor": "#2a3f5f",
           "arrowhead": 0,
           "arrowwidth": 1
          },
          "autotypenumbers": "strict",
          "coloraxis": {
           "colorbar": {
            "outlinewidth": 0,
            "ticks": ""
           }
          },
          "colorscale": {
           "diverging": [
            [
             0,
             "#8e0152"
            ],
            [
             0.1,
             "#c51b7d"
            ],
            [
             0.2,
             "#de77ae"
            ],
            [
             0.3,
             "#f1b6da"
            ],
            [
             0.4,
             "#fde0ef"
            ],
            [
             0.5,
             "#f7f7f7"
            ],
            [
             0.6,
             "#e6f5d0"
            ],
            [
             0.7,
             "#b8e186"
            ],
            [
             0.8,
             "#7fbc41"
            ],
            [
             0.9,
             "#4d9221"
            ],
            [
             1,
             "#276419"
            ]
           ],
           "sequential": [
            [
             0,
             "#0d0887"
            ],
            [
             0.1111111111111111,
             "#46039f"
            ],
            [
             0.2222222222222222,
             "#7201a8"
            ],
            [
             0.3333333333333333,
             "#9c179e"
            ],
            [
             0.4444444444444444,
             "#bd3786"
            ],
            [
             0.5555555555555556,
             "#d8576b"
            ],
            [
             0.6666666666666666,
             "#ed7953"
            ],
            [
             0.7777777777777778,
             "#fb9f3a"
            ],
            [
             0.8888888888888888,
             "#fdca26"
            ],
            [
             1,
             "#f0f921"
            ]
           ],
           "sequentialminus": [
            [
             0,
             "#0d0887"
            ],
            [
             0.1111111111111111,
             "#46039f"
            ],
            [
             0.2222222222222222,
             "#7201a8"
            ],
            [
             0.3333333333333333,
             "#9c179e"
            ],
            [
             0.4444444444444444,
             "#bd3786"
            ],
            [
             0.5555555555555556,
             "#d8576b"
            ],
            [
             0.6666666666666666,
             "#ed7953"
            ],
            [
             0.7777777777777778,
             "#fb9f3a"
            ],
            [
             0.8888888888888888,
             "#fdca26"
            ],
            [
             1,
             "#f0f921"
            ]
           ]
          },
          "colorway": [
           "#636efa",
           "#EF553B",
           "#00cc96",
           "#ab63fa",
           "#FFA15A",
           "#19d3f3",
           "#FF6692",
           "#B6E880",
           "#FF97FF",
           "#FECB52"
          ],
          "font": {
           "color": "#2a3f5f"
          },
          "geo": {
           "bgcolor": "white",
           "lakecolor": "white",
           "landcolor": "#E5ECF6",
           "showlakes": true,
           "showland": true,
           "subunitcolor": "white"
          },
          "hoverlabel": {
           "align": "left"
          },
          "hovermode": "closest",
          "mapbox": {
           "style": "light"
          },
          "paper_bgcolor": "white",
          "plot_bgcolor": "#E5ECF6",
          "polar": {
           "angularaxis": {
            "gridcolor": "white",
            "linecolor": "white",
            "ticks": ""
           },
           "bgcolor": "#E5ECF6",
           "radialaxis": {
            "gridcolor": "white",
            "linecolor": "white",
            "ticks": ""
           }
          },
          "scene": {
           "xaxis": {
            "backgroundcolor": "#E5ECF6",
            "gridcolor": "white",
            "gridwidth": 2,
            "linecolor": "white",
            "showbackground": true,
            "ticks": "",
            "zerolinecolor": "white"
           },
           "yaxis": {
            "backgroundcolor": "#E5ECF6",
            "gridcolor": "white",
            "gridwidth": 2,
            "linecolor": "white",
            "showbackground": true,
            "ticks": "",
            "zerolinecolor": "white"
           },
           "zaxis": {
            "backgroundcolor": "#E5ECF6",
            "gridcolor": "white",
            "gridwidth": 2,
            "linecolor": "white",
            "showbackground": true,
            "ticks": "",
            "zerolinecolor": "white"
           }
          },
          "shapedefaults": {
           "line": {
            "color": "#2a3f5f"
           }
          },
          "ternary": {
           "aaxis": {
            "gridcolor": "white",
            "linecolor": "white",
            "ticks": ""
           },
           "baxis": {
            "gridcolor": "white",
            "linecolor": "white",
            "ticks": ""
           },
           "bgcolor": "#E5ECF6",
           "caxis": {
            "gridcolor": "white",
            "linecolor": "white",
            "ticks": ""
           }
          },
          "title": {
           "x": 0.05
          },
          "xaxis": {
           "automargin": true,
           "gridcolor": "white",
           "linecolor": "white",
           "ticks": "",
           "title": {
            "standoff": 15
           },
           "zerolinecolor": "white",
           "zerolinewidth": 2
          },
          "yaxis": {
           "automargin": true,
           "gridcolor": "white",
           "linecolor": "white",
           "ticks": "",
           "title": {
            "standoff": 15
           },
           "zerolinecolor": "white",
           "zerolinewidth": 2
          }
         }
        },
        "title": {
         "text": "Trend for service settings per date range"
        },
        "xaxis": {
         "title": {
          "text": "Date Range"
         }
        },
        "yaxis": {
         "title": {
          "text": "Service Settings"
         }
        }
       }
      },
      "text/html": [
       "<div>                            <div id=\"83c109f1-82e8-4a6a-a381-0f33bc440bb3\" class=\"plotly-graph-div\" style=\"height:525px; width:100%;\"></div>            <script type=\"text/javascript\">                require([\"plotly\"], function(Plotly) {                    window.PLOTLYENV=window.PLOTLYENV || {};                                    if (document.getElementById(\"83c109f1-82e8-4a6a-a381-0f33bc440bb3\")) {                    Plotly.newPlot(                        \"83c109f1-82e8-4a6a-a381-0f33bc440bb3\",                        [{\"marker\":{\"color\":\"red\"},\"text\":\"\",\"x\":[\"2020-01\",\"2020-02\",\"2020-03\",\"2020-04\",\"2020-05\",\"2020-06\",\"2020-07\",\"2020-08\",\"2020-09\",\"2020-10\",\"2020-11\",\"2020-12\",\"2021-01\",\"2021-02\",\"2021-03\",\"2021-04\",\"2021-05\",\"2021-06\",\"2021-07\",\"2021-08\",\"2021-09\",\"2021-10\",\"2021-11\",\"2021-12\",\"2022-01\",\"2022-02\",\"2022-03\",\"2022-04\",\"2022-05\",\"2022-06\"],\"y\":[20889,20689,21350,19124,18338,18844,19502,19247,20043,20122,19675,19394,19319,18949,19369,19452,19384,19814,19899,89785,95363,94640,98418,93044,92121,91902,103354,90085,97701,94399],\"type\":\"scatter\"}],                        {\"template\":{\"data\":{\"bar\":[{\"error_x\":{\"color\":\"#2a3f5f\"},\"error_y\":{\"color\":\"#2a3f5f\"},\"marker\":{\"line\":{\"color\":\"#E5ECF6\",\"width\":0.5},\"pattern\":{\"fillmode\":\"overlay\",\"size\":10,\"solidity\":0.2}},\"type\":\"bar\"}],\"barpolar\":[{\"marker\":{\"line\":{\"color\":\"#E5ECF6\",\"width\":0.5},\"pattern\":{\"fillmode\":\"overlay\",\"size\":10,\"solidity\":0.2}},\"type\":\"barpolar\"}],\"carpet\":[{\"aaxis\":{\"endlinecolor\":\"#2a3f5f\",\"gridcolor\":\"white\",\"linecolor\":\"white\",\"minorgridcolor\":\"white\",\"startlinecolor\":\"#2a3f5f\"},\"baxis\":{\"endlinecolor\":\"#2a3f5f\",\"gridcolor\":\"white\",\"linecolor\":\"white\",\"minorgridcolor\":\"white\",\"startlinecolor\":\"#2a3f5f\"},\"type\":\"carpet\"}],\"choropleth\":[{\"colorbar\":{\"outlinewidth\":0,\"ticks\":\"\"},\"type\":\"choropleth\"}],\"contour\":[{\"colorbar\":{\"outlinewidth\":0,\"ticks\":\"\"},\"colorscale\":[[0.0,\"#0d0887\"],[0.1111111111111111,\"#46039f\"],[0.2222222222222222,\"#7201a8\"],[0.3333333333333333,\"#9c179e\"],[0.4444444444444444,\"#bd3786\"],[0.5555555555555556,\"#d8576b\"],[0.6666666666666666,\"#ed7953\"],[0.7777777777777778,\"#fb9f3a\"],[0.8888888888888888,\"#fdca26\"],[1.0,\"#f0f921\"]],\"type\":\"contour\"}],\"contourcarpet\":[{\"colorbar\":{\"outlinewidth\":0,\"ticks\":\"\"},\"type\":\"contourcarpet\"}],\"heatmap\":[{\"colorbar\":{\"outlinewidth\":0,\"ticks\":\"\"},\"colorscale\":[[0.0,\"#0d0887\"],[0.1111111111111111,\"#46039f\"],[0.2222222222222222,\"#7201a8\"],[0.3333333333333333,\"#9c179e\"],[0.4444444444444444,\"#bd3786\"],[0.5555555555555556,\"#d8576b\"],[0.6666666666666666,\"#ed7953\"],[0.7777777777777778,\"#fb9f3a\"],[0.8888888888888888,\"#fdca26\"],[1.0,\"#f0f921\"]],\"type\":\"heatmap\"}],\"heatmapgl\":[{\"colorbar\":{\"outlinewidth\":0,\"ticks\":\"\"},\"colorscale\":[[0.0,\"#0d0887\"],[0.1111111111111111,\"#46039f\"],[0.2222222222222222,\"#7201a8\"],[0.3333333333333333,\"#9c179e\"],[0.4444444444444444,\"#bd3786\"],[0.5555555555555556,\"#d8576b\"],[0.6666666666666666,\"#ed7953\"],[0.7777777777777778,\"#fb9f3a\"],[0.8888888888888888,\"#fdca26\"],[1.0,\"#f0f921\"]],\"type\":\"heatmapgl\"}],\"histogram\":[{\"marker\":{\"pattern\":{\"fillmode\":\"overlay\",\"size\":10,\"solidity\":0.2}},\"type\":\"histogram\"}],\"histogram2d\":[{\"colorbar\":{\"outlinewidth\":0,\"ticks\":\"\"},\"colorscale\":[[0.0,\"#0d0887\"],[0.1111111111111111,\"#46039f\"],[0.2222222222222222,\"#7201a8\"],[0.3333333333333333,\"#9c179e\"],[0.4444444444444444,\"#bd3786\"],[0.5555555555555556,\"#d8576b\"],[0.6666666666666666,\"#ed7953\"],[0.7777777777777778,\"#fb9f3a\"],[0.8888888888888888,\"#fdca26\"],[1.0,\"#f0f921\"]],\"type\":\"histogram2d\"}],\"histogram2dcontour\":[{\"colorbar\":{\"outlinewidth\":0,\"ticks\":\"\"},\"colorscale\":[[0.0,\"#0d0887\"],[0.1111111111111111,\"#46039f\"],[0.2222222222222222,\"#7201a8\"],[0.3333333333333333,\"#9c179e\"],[0.4444444444444444,\"#bd3786\"],[0.5555555555555556,\"#d8576b\"],[0.6666666666666666,\"#ed7953\"],[0.7777777777777778,\"#fb9f3a\"],[0.8888888888888888,\"#fdca26\"],[1.0,\"#f0f921\"]],\"type\":\"histogram2dcontour\"}],\"mesh3d\":[{\"colorbar\":{\"outlinewidth\":0,\"ticks\":\"\"},\"type\":\"mesh3d\"}],\"parcoords\":[{\"line\":{\"colorbar\":{\"outlinewidth\":0,\"ticks\":\"\"}},\"type\":\"parcoords\"}],\"pie\":[{\"automargin\":true,\"type\":\"pie\"}],\"scatter\":[{\"marker\":{\"colorbar\":{\"outlinewidth\":0,\"ticks\":\"\"}},\"type\":\"scatter\"}],\"scatter3d\":[{\"line\":{\"colorbar\":{\"outlinewidth\":0,\"ticks\":\"\"}},\"marker\":{\"colorbar\":{\"outlinewidth\":0,\"ticks\":\"\"}},\"type\":\"scatter3d\"}],\"scattercarpet\":[{\"marker\":{\"colorbar\":{\"outlinewidth\":0,\"ticks\":\"\"}},\"type\":\"scattercarpet\"}],\"scattergeo\":[{\"marker\":{\"colorbar\":{\"outlinewidth\":0,\"ticks\":\"\"}},\"type\":\"scattergeo\"}],\"scattergl\":[{\"marker\":{\"colorbar\":{\"outlinewidth\":0,\"ticks\":\"\"}},\"type\":\"scattergl\"}],\"scattermapbox\":[{\"marker\":{\"colorbar\":{\"outlinewidth\":0,\"ticks\":\"\"}},\"type\":\"scattermapbox\"}],\"scatterpolar\":[{\"marker\":{\"colorbar\":{\"outlinewidth\":0,\"ticks\":\"\"}},\"type\":\"scatterpolar\"}],\"scatterpolargl\":[{\"marker\":{\"colorbar\":{\"outlinewidth\":0,\"ticks\":\"\"}},\"type\":\"scatterpolargl\"}],\"scatterternary\":[{\"marker\":{\"colorbar\":{\"outlinewidth\":0,\"ticks\":\"\"}},\"type\":\"scatterternary\"}],\"surface\":[{\"colorbar\":{\"outlinewidth\":0,\"ticks\":\"\"},\"colorscale\":[[0.0,\"#0d0887\"],[0.1111111111111111,\"#46039f\"],[0.2222222222222222,\"#7201a8\"],[0.3333333333333333,\"#9c179e\"],[0.4444444444444444,\"#bd3786\"],[0.5555555555555556,\"#d8576b\"],[0.6666666666666666,\"#ed7953\"],[0.7777777777777778,\"#fb9f3a\"],[0.8888888888888888,\"#fdca26\"],[1.0,\"#f0f921\"]],\"type\":\"surface\"}],\"table\":[{\"cells\":{\"fill\":{\"color\":\"#EBF0F8\"},\"line\":{\"color\":\"white\"}},\"header\":{\"fill\":{\"color\":\"#C8D4E3\"},\"line\":{\"color\":\"white\"}},\"type\":\"table\"}]},\"layout\":{\"annotationdefaults\":{\"arrowcolor\":\"#2a3f5f\",\"arrowhead\":0,\"arrowwidth\":1},\"autotypenumbers\":\"strict\",\"coloraxis\":{\"colorbar\":{\"outlinewidth\":0,\"ticks\":\"\"}},\"colorscale\":{\"diverging\":[[0,\"#8e0152\"],[0.1,\"#c51b7d\"],[0.2,\"#de77ae\"],[0.3,\"#f1b6da\"],[0.4,\"#fde0ef\"],[0.5,\"#f7f7f7\"],[0.6,\"#e6f5d0\"],[0.7,\"#b8e186\"],[0.8,\"#7fbc41\"],[0.9,\"#4d9221\"],[1,\"#276419\"]],\"sequential\":[[0.0,\"#0d0887\"],[0.1111111111111111,\"#46039f\"],[0.2222222222222222,\"#7201a8\"],[0.3333333333333333,\"#9c179e\"],[0.4444444444444444,\"#bd3786\"],[0.5555555555555556,\"#d8576b\"],[0.6666666666666666,\"#ed7953\"],[0.7777777777777778,\"#fb9f3a\"],[0.8888888888888888,\"#fdca26\"],[1.0,\"#f0f921\"]],\"sequentialminus\":[[0.0,\"#0d0887\"],[0.1111111111111111,\"#46039f\"],[0.2222222222222222,\"#7201a8\"],[0.3333333333333333,\"#9c179e\"],[0.4444444444444444,\"#bd3786\"],[0.5555555555555556,\"#d8576b\"],[0.6666666666666666,\"#ed7953\"],[0.7777777777777778,\"#fb9f3a\"],[0.8888888888888888,\"#fdca26\"],[1.0,\"#f0f921\"]]},\"colorway\":[\"#636efa\",\"#EF553B\",\"#00cc96\",\"#ab63fa\",\"#FFA15A\",\"#19d3f3\",\"#FF6692\",\"#B6E880\",\"#FF97FF\",\"#FECB52\"],\"font\":{\"color\":\"#2a3f5f\"},\"geo\":{\"bgcolor\":\"white\",\"lakecolor\":\"white\",\"landcolor\":\"#E5ECF6\",\"showlakes\":true,\"showland\":true,\"subunitcolor\":\"white\"},\"hoverlabel\":{\"align\":\"left\"},\"hovermode\":\"closest\",\"mapbox\":{\"style\":\"light\"},\"paper_bgcolor\":\"white\",\"plot_bgcolor\":\"#E5ECF6\",\"polar\":{\"angularaxis\":{\"gridcolor\":\"white\",\"linecolor\":\"white\",\"ticks\":\"\"},\"bgcolor\":\"#E5ECF6\",\"radialaxis\":{\"gridcolor\":\"white\",\"linecolor\":\"white\",\"ticks\":\"\"}},\"scene\":{\"xaxis\":{\"backgroundcolor\":\"#E5ECF6\",\"gridcolor\":\"white\",\"gridwidth\":2,\"linecolor\":\"white\",\"showbackground\":true,\"ticks\":\"\",\"zerolinecolor\":\"white\"},\"yaxis\":{\"backgroundcolor\":\"#E5ECF6\",\"gridcolor\":\"white\",\"gridwidth\":2,\"linecolor\":\"white\",\"showbackground\":true,\"ticks\":\"\",\"zerolinecolor\":\"white\"},\"zaxis\":{\"backgroundcolor\":\"#E5ECF6\",\"gridcolor\":\"white\",\"gridwidth\":2,\"linecolor\":\"white\",\"showbackground\":true,\"ticks\":\"\",\"zerolinecolor\":\"white\"}},\"shapedefaults\":{\"line\":{\"color\":\"#2a3f5f\"}},\"ternary\":{\"aaxis\":{\"gridcolor\":\"white\",\"linecolor\":\"white\",\"ticks\":\"\"},\"baxis\":{\"gridcolor\":\"white\",\"linecolor\":\"white\",\"ticks\":\"\"},\"bgcolor\":\"#E5ECF6\",\"caxis\":{\"gridcolor\":\"white\",\"linecolor\":\"white\",\"ticks\":\"\"}},\"title\":{\"x\":0.05},\"xaxis\":{\"automargin\":true,\"gridcolor\":\"white\",\"linecolor\":\"white\",\"ticks\":\"\",\"title\":{\"standoff\":15},\"zerolinecolor\":\"white\",\"zerolinewidth\":2},\"yaxis\":{\"automargin\":true,\"gridcolor\":\"white\",\"linecolor\":\"white\",\"ticks\":\"\",\"title\":{\"standoff\":15},\"zerolinecolor\":\"white\",\"zerolinewidth\":2}}},\"title\":{\"text\":\"Trend for service settings per date range\"},\"xaxis\":{\"title\":{\"text\":\"Date Range\"}},\"yaxis\":{\"title\":{\"text\":\"Service Settings\"}},\"showlegend\":false},                        {\"responsive\": true}                    ).then(function(){\n",
       "                            \n",
       "var gd = document.getElementById('83c109f1-82e8-4a6a-a381-0f33bc440bb3');\n",
       "var x = new MutationObserver(function (mutations, observer) {{\n",
       "        var display = window.getComputedStyle(gd).display;\n",
       "        if (!display || display === 'none') {{\n",
       "            console.log([gd, 'removed!']);\n",
       "            Plotly.purge(gd);\n",
       "            observer.disconnect();\n",
       "        }}\n",
       "}});\n",
       "\n",
       "// Listen for the removal of the full notebook cells\n",
       "var notebookContainer = gd.closest('#notebook-container');\n",
       "if (notebookContainer) {{\n",
       "    x.observe(notebookContainer, {childList: true});\n",
       "}}\n",
       "\n",
       "// Listen for the clearing of the current output cell\n",
       "var outputEl = gd.closest('.output');\n",
       "if (outputEl) {{\n",
       "    x.observe(outputEl, {childList: true});\n",
       "}}\n",
       "\n",
       "                        })                };                });            </script>        </div>"
      ]
     },
     "metadata": {},
     "output_type": "display_data"
    }
   ],
   "source": [
    "# Create a trend plot\n",
    "fig = go.Figure(data=go.Scatter(x=df_month['appointment_month'].astype(dtype=str), \n",
    "                        y=df_month['Service_Setting'],\n",
    "                        marker_color='red', text=\"\"))\n",
    "fig.update_layout({\"title\": 'Trend for service settings per date range',\n",
    "                   \"xaxis\": {\"title\":\"Date Range\"},\n",
    "                   \"yaxis\": {\"title\":\"Service Settings\"},\n",
    "                   \"showlegend\": False})\n"
   ]
  },
  {
   "cell_type": "code",
   "execution_count": 437,
   "id": "e23f3949",
   "metadata": {},
   "outputs": [
    {
     "data": {
      "text/html": [
       "<div>\n",
       "<style scoped>\n",
       "    .dataframe tbody tr th:only-of-type {\n",
       "        vertical-align: middle;\n",
       "    }\n",
       "\n",
       "    .dataframe tbody tr th {\n",
       "        vertical-align: top;\n",
       "    }\n",
       "\n",
       "    .dataframe thead th {\n",
       "        text-align: right;\n",
       "    }\n",
       "</style>\n",
       "<table border=\"1\" class=\"dataframe\">\n",
       "  <thead>\n",
       "    <tr style=\"text-align: right;\">\n",
       "      <th></th>\n",
       "      <th>appointment_date</th>\n",
       "      <th>Context_Type</th>\n",
       "    </tr>\n",
       "  </thead>\n",
       "  <tbody>\n",
       "    <tr>\n",
       "      <th>7</th>\n",
       "      <td>2022-03</td>\n",
       "      <td>104058</td>\n",
       "    </tr>\n",
       "    <tr>\n",
       "      <th>9</th>\n",
       "      <td>2022-05</td>\n",
       "      <td>97553</td>\n",
       "    </tr>\n",
       "    <tr>\n",
       "      <th>10</th>\n",
       "      <td>2022-06</td>\n",
       "      <td>93395</td>\n",
       "    </tr>\n",
       "    <tr>\n",
       "      <th>4</th>\n",
       "      <td>2021-12</td>\n",
       "      <td>92158</td>\n",
       "    </tr>\n",
       "    <tr>\n",
       "      <th>5</th>\n",
       "      <td>2022-01</td>\n",
       "      <td>91539</td>\n",
       "    </tr>\n",
       "    <tr>\n",
       "      <th>6</th>\n",
       "      <td>2022-02</td>\n",
       "      <td>90743</td>\n",
       "    </tr>\n",
       "    <tr>\n",
       "      <th>8</th>\n",
       "      <td>2022-04</td>\n",
       "      <td>89090</td>\n",
       "    </tr>\n",
       "    <tr>\n",
       "      <th>3</th>\n",
       "      <td>2021-11</td>\n",
       "      <td>77652</td>\n",
       "    </tr>\n",
       "    <tr>\n",
       "      <th>1</th>\n",
       "      <td>2021-09</td>\n",
       "      <td>74922</td>\n",
       "    </tr>\n",
       "    <tr>\n",
       "      <th>2</th>\n",
       "      <td>2021-10</td>\n",
       "      <td>74078</td>\n",
       "    </tr>\n",
       "    <tr>\n",
       "      <th>0</th>\n",
       "      <td>2021-08</td>\n",
       "      <td>69999</td>\n",
       "    </tr>\n",
       "  </tbody>\n",
       "</table>\n",
       "</div>"
      ],
      "text/plain": [
       "   appointment_date  Context_Type\n",
       "7           2022-03        104058\n",
       "9           2022-05         97553\n",
       "10          2022-06         93395\n",
       "4           2021-12         92158\n",
       "5           2022-01         91539\n",
       "6           2022-02         90743\n",
       "8           2022-04         89090\n",
       "3           2021-11         77652\n",
       "1           2021-09         74922\n",
       "2           2021-10         74078\n",
       "0           2021-08         69999"
      ]
     },
     "execution_count": 437,
     "metadata": {},
     "output_type": "execute_result"
    }
   ],
   "source": [
    "# Number of appointments for context types\n",
    "# create a DataFrame of appointments_dates\n",
    "\n",
    "appointment_dates = {\"Appointments\": [appointments_categories_duration['count_of_appointments'].value_counts()],\n",
    "                         \"Appointment_Date\": [appointments_categories_duration['appointment_date'].value_counts()],\n",
    "                         \"Context_Type\": [appointments_categories_duration['context_type'].value_counts()]}\n",
    "\n",
    "appointment_dates['monthyear'] = pd.to_datetime(appointments_categories_duration['appointment_date']).dt.to_period('M')\n",
    "\n",
    "by_month = appointment_dates['monthyear'].value_counts().sort_index()\n",
    "df_month = by_month.rename_axis('appointment_date').reset_index(name='Context_Type')\n",
    "\n",
    "# Context Type reported the most appointments\n",
    "df_month.sort_values('Context_Type', ascending=False)"
   ]
  },
  {
   "cell_type": "code",
   "execution_count": 438,
   "id": "e0c22a34",
   "metadata": {},
   "outputs": [
    {
     "data": {
      "application/vnd.plotly.v1+json": {
       "config": {
        "plotlyServerURL": "https://plot.ly"
       },
       "data": [
        {
         "marker": {
          "color": "blue"
         },
         "text": "",
         "type": "scatter",
         "x": [
          "2021-08",
          "2021-09",
          "2021-10",
          "2021-11",
          "2021-12",
          "2022-01",
          "2022-02",
          "2022-03",
          "2022-04",
          "2022-05",
          "2022-06"
         ],
         "y": [
          69999,
          74922,
          74078,
          77652,
          92158,
          91539,
          90743,
          104058,
          89090,
          97553,
          93395
         ]
        }
       ],
       "layout": {
        "showlegend": false,
        "template": {
         "data": {
          "bar": [
           {
            "error_x": {
             "color": "#2a3f5f"
            },
            "error_y": {
             "color": "#2a3f5f"
            },
            "marker": {
             "line": {
              "color": "#E5ECF6",
              "width": 0.5
             },
             "pattern": {
              "fillmode": "overlay",
              "size": 10,
              "solidity": 0.2
             }
            },
            "type": "bar"
           }
          ],
          "barpolar": [
           {
            "marker": {
             "line": {
              "color": "#E5ECF6",
              "width": 0.5
             },
             "pattern": {
              "fillmode": "overlay",
              "size": 10,
              "solidity": 0.2
             }
            },
            "type": "barpolar"
           }
          ],
          "carpet": [
           {
            "aaxis": {
             "endlinecolor": "#2a3f5f",
             "gridcolor": "white",
             "linecolor": "white",
             "minorgridcolor": "white",
             "startlinecolor": "#2a3f5f"
            },
            "baxis": {
             "endlinecolor": "#2a3f5f",
             "gridcolor": "white",
             "linecolor": "white",
             "minorgridcolor": "white",
             "startlinecolor": "#2a3f5f"
            },
            "type": "carpet"
           }
          ],
          "choropleth": [
           {
            "colorbar": {
             "outlinewidth": 0,
             "ticks": ""
            },
            "type": "choropleth"
           }
          ],
          "contour": [
           {
            "colorbar": {
             "outlinewidth": 0,
             "ticks": ""
            },
            "colorscale": [
             [
              0,
              "#0d0887"
             ],
             [
              0.1111111111111111,
              "#46039f"
             ],
             [
              0.2222222222222222,
              "#7201a8"
             ],
             [
              0.3333333333333333,
              "#9c179e"
             ],
             [
              0.4444444444444444,
              "#bd3786"
             ],
             [
              0.5555555555555556,
              "#d8576b"
             ],
             [
              0.6666666666666666,
              "#ed7953"
             ],
             [
              0.7777777777777778,
              "#fb9f3a"
             ],
             [
              0.8888888888888888,
              "#fdca26"
             ],
             [
              1,
              "#f0f921"
             ]
            ],
            "type": "contour"
           }
          ],
          "contourcarpet": [
           {
            "colorbar": {
             "outlinewidth": 0,
             "ticks": ""
            },
            "type": "contourcarpet"
           }
          ],
          "heatmap": [
           {
            "colorbar": {
             "outlinewidth": 0,
             "ticks": ""
            },
            "colorscale": [
             [
              0,
              "#0d0887"
             ],
             [
              0.1111111111111111,
              "#46039f"
             ],
             [
              0.2222222222222222,
              "#7201a8"
             ],
             [
              0.3333333333333333,
              "#9c179e"
             ],
             [
              0.4444444444444444,
              "#bd3786"
             ],
             [
              0.5555555555555556,
              "#d8576b"
             ],
             [
              0.6666666666666666,
              "#ed7953"
             ],
             [
              0.7777777777777778,
              "#fb9f3a"
             ],
             [
              0.8888888888888888,
              "#fdca26"
             ],
             [
              1,
              "#f0f921"
             ]
            ],
            "type": "heatmap"
           }
          ],
          "heatmapgl": [
           {
            "colorbar": {
             "outlinewidth": 0,
             "ticks": ""
            },
            "colorscale": [
             [
              0,
              "#0d0887"
             ],
             [
              0.1111111111111111,
              "#46039f"
             ],
             [
              0.2222222222222222,
              "#7201a8"
             ],
             [
              0.3333333333333333,
              "#9c179e"
             ],
             [
              0.4444444444444444,
              "#bd3786"
             ],
             [
              0.5555555555555556,
              "#d8576b"
             ],
             [
              0.6666666666666666,
              "#ed7953"
             ],
             [
              0.7777777777777778,
              "#fb9f3a"
             ],
             [
              0.8888888888888888,
              "#fdca26"
             ],
             [
              1,
              "#f0f921"
             ]
            ],
            "type": "heatmapgl"
           }
          ],
          "histogram": [
           {
            "marker": {
             "pattern": {
              "fillmode": "overlay",
              "size": 10,
              "solidity": 0.2
             }
            },
            "type": "histogram"
           }
          ],
          "histogram2d": [
           {
            "colorbar": {
             "outlinewidth": 0,
             "ticks": ""
            },
            "colorscale": [
             [
              0,
              "#0d0887"
             ],
             [
              0.1111111111111111,
              "#46039f"
             ],
             [
              0.2222222222222222,
              "#7201a8"
             ],
             [
              0.3333333333333333,
              "#9c179e"
             ],
             [
              0.4444444444444444,
              "#bd3786"
             ],
             [
              0.5555555555555556,
              "#d8576b"
             ],
             [
              0.6666666666666666,
              "#ed7953"
             ],
             [
              0.7777777777777778,
              "#fb9f3a"
             ],
             [
              0.8888888888888888,
              "#fdca26"
             ],
             [
              1,
              "#f0f921"
             ]
            ],
            "type": "histogram2d"
           }
          ],
          "histogram2dcontour": [
           {
            "colorbar": {
             "outlinewidth": 0,
             "ticks": ""
            },
            "colorscale": [
             [
              0,
              "#0d0887"
             ],
             [
              0.1111111111111111,
              "#46039f"
             ],
             [
              0.2222222222222222,
              "#7201a8"
             ],
             [
              0.3333333333333333,
              "#9c179e"
             ],
             [
              0.4444444444444444,
              "#bd3786"
             ],
             [
              0.5555555555555556,
              "#d8576b"
             ],
             [
              0.6666666666666666,
              "#ed7953"
             ],
             [
              0.7777777777777778,
              "#fb9f3a"
             ],
             [
              0.8888888888888888,
              "#fdca26"
             ],
             [
              1,
              "#f0f921"
             ]
            ],
            "type": "histogram2dcontour"
           }
          ],
          "mesh3d": [
           {
            "colorbar": {
             "outlinewidth": 0,
             "ticks": ""
            },
            "type": "mesh3d"
           }
          ],
          "parcoords": [
           {
            "line": {
             "colorbar": {
              "outlinewidth": 0,
              "ticks": ""
             }
            },
            "type": "parcoords"
           }
          ],
          "pie": [
           {
            "automargin": true,
            "type": "pie"
           }
          ],
          "scatter": [
           {
            "marker": {
             "colorbar": {
              "outlinewidth": 0,
              "ticks": ""
             }
            },
            "type": "scatter"
           }
          ],
          "scatter3d": [
           {
            "line": {
             "colorbar": {
              "outlinewidth": 0,
              "ticks": ""
             }
            },
            "marker": {
             "colorbar": {
              "outlinewidth": 0,
              "ticks": ""
             }
            },
            "type": "scatter3d"
           }
          ],
          "scattercarpet": [
           {
            "marker": {
             "colorbar": {
              "outlinewidth": 0,
              "ticks": ""
             }
            },
            "type": "scattercarpet"
           }
          ],
          "scattergeo": [
           {
            "marker": {
             "colorbar": {
              "outlinewidth": 0,
              "ticks": ""
             }
            },
            "type": "scattergeo"
           }
          ],
          "scattergl": [
           {
            "marker": {
             "colorbar": {
              "outlinewidth": 0,
              "ticks": ""
             }
            },
            "type": "scattergl"
           }
          ],
          "scattermapbox": [
           {
            "marker": {
             "colorbar": {
              "outlinewidth": 0,
              "ticks": ""
             }
            },
            "type": "scattermapbox"
           }
          ],
          "scatterpolar": [
           {
            "marker": {
             "colorbar": {
              "outlinewidth": 0,
              "ticks": ""
             }
            },
            "type": "scatterpolar"
           }
          ],
          "scatterpolargl": [
           {
            "marker": {
             "colorbar": {
              "outlinewidth": 0,
              "ticks": ""
             }
            },
            "type": "scatterpolargl"
           }
          ],
          "scatterternary": [
           {
            "marker": {
             "colorbar": {
              "outlinewidth": 0,
              "ticks": ""
             }
            },
            "type": "scatterternary"
           }
          ],
          "surface": [
           {
            "colorbar": {
             "outlinewidth": 0,
             "ticks": ""
            },
            "colorscale": [
             [
              0,
              "#0d0887"
             ],
             [
              0.1111111111111111,
              "#46039f"
             ],
             [
              0.2222222222222222,
              "#7201a8"
             ],
             [
              0.3333333333333333,
              "#9c179e"
             ],
             [
              0.4444444444444444,
              "#bd3786"
             ],
             [
              0.5555555555555556,
              "#d8576b"
             ],
             [
              0.6666666666666666,
              "#ed7953"
             ],
             [
              0.7777777777777778,
              "#fb9f3a"
             ],
             [
              0.8888888888888888,
              "#fdca26"
             ],
             [
              1,
              "#f0f921"
             ]
            ],
            "type": "surface"
           }
          ],
          "table": [
           {
            "cells": {
             "fill": {
              "color": "#EBF0F8"
             },
             "line": {
              "color": "white"
             }
            },
            "header": {
             "fill": {
              "color": "#C8D4E3"
             },
             "line": {
              "color": "white"
             }
            },
            "type": "table"
           }
          ]
         },
         "layout": {
          "annotationdefaults": {
           "arrowcolor": "#2a3f5f",
           "arrowhead": 0,
           "arrowwidth": 1
          },
          "autotypenumbers": "strict",
          "coloraxis": {
           "colorbar": {
            "outlinewidth": 0,
            "ticks": ""
           }
          },
          "colorscale": {
           "diverging": [
            [
             0,
             "#8e0152"
            ],
            [
             0.1,
             "#c51b7d"
            ],
            [
             0.2,
             "#de77ae"
            ],
            [
             0.3,
             "#f1b6da"
            ],
            [
             0.4,
             "#fde0ef"
            ],
            [
             0.5,
             "#f7f7f7"
            ],
            [
             0.6,
             "#e6f5d0"
            ],
            [
             0.7,
             "#b8e186"
            ],
            [
             0.8,
             "#7fbc41"
            ],
            [
             0.9,
             "#4d9221"
            ],
            [
             1,
             "#276419"
            ]
           ],
           "sequential": [
            [
             0,
             "#0d0887"
            ],
            [
             0.1111111111111111,
             "#46039f"
            ],
            [
             0.2222222222222222,
             "#7201a8"
            ],
            [
             0.3333333333333333,
             "#9c179e"
            ],
            [
             0.4444444444444444,
             "#bd3786"
            ],
            [
             0.5555555555555556,
             "#d8576b"
            ],
            [
             0.6666666666666666,
             "#ed7953"
            ],
            [
             0.7777777777777778,
             "#fb9f3a"
            ],
            [
             0.8888888888888888,
             "#fdca26"
            ],
            [
             1,
             "#f0f921"
            ]
           ],
           "sequentialminus": [
            [
             0,
             "#0d0887"
            ],
            [
             0.1111111111111111,
             "#46039f"
            ],
            [
             0.2222222222222222,
             "#7201a8"
            ],
            [
             0.3333333333333333,
             "#9c179e"
            ],
            [
             0.4444444444444444,
             "#bd3786"
            ],
            [
             0.5555555555555556,
             "#d8576b"
            ],
            [
             0.6666666666666666,
             "#ed7953"
            ],
            [
             0.7777777777777778,
             "#fb9f3a"
            ],
            [
             0.8888888888888888,
             "#fdca26"
            ],
            [
             1,
             "#f0f921"
            ]
           ]
          },
          "colorway": [
           "#636efa",
           "#EF553B",
           "#00cc96",
           "#ab63fa",
           "#FFA15A",
           "#19d3f3",
           "#FF6692",
           "#B6E880",
           "#FF97FF",
           "#FECB52"
          ],
          "font": {
           "color": "#2a3f5f"
          },
          "geo": {
           "bgcolor": "white",
           "lakecolor": "white",
           "landcolor": "#E5ECF6",
           "showlakes": true,
           "showland": true,
           "subunitcolor": "white"
          },
          "hoverlabel": {
           "align": "left"
          },
          "hovermode": "closest",
          "mapbox": {
           "style": "light"
          },
          "paper_bgcolor": "white",
          "plot_bgcolor": "#E5ECF6",
          "polar": {
           "angularaxis": {
            "gridcolor": "white",
            "linecolor": "white",
            "ticks": ""
           },
           "bgcolor": "#E5ECF6",
           "radialaxis": {
            "gridcolor": "white",
            "linecolor": "white",
            "ticks": ""
           }
          },
          "scene": {
           "xaxis": {
            "backgroundcolor": "#E5ECF6",
            "gridcolor": "white",
            "gridwidth": 2,
            "linecolor": "white",
            "showbackground": true,
            "ticks": "",
            "zerolinecolor": "white"
           },
           "yaxis": {
            "backgroundcolor": "#E5ECF6",
            "gridcolor": "white",
            "gridwidth": 2,
            "linecolor": "white",
            "showbackground": true,
            "ticks": "",
            "zerolinecolor": "white"
           },
           "zaxis": {
            "backgroundcolor": "#E5ECF6",
            "gridcolor": "white",
            "gridwidth": 2,
            "linecolor": "white",
            "showbackground": true,
            "ticks": "",
            "zerolinecolor": "white"
           }
          },
          "shapedefaults": {
           "line": {
            "color": "#2a3f5f"
           }
          },
          "ternary": {
           "aaxis": {
            "gridcolor": "white",
            "linecolor": "white",
            "ticks": ""
           },
           "baxis": {
            "gridcolor": "white",
            "linecolor": "white",
            "ticks": ""
           },
           "bgcolor": "#E5ECF6",
           "caxis": {
            "gridcolor": "white",
            "linecolor": "white",
            "ticks": ""
           }
          },
          "title": {
           "x": 0.05
          },
          "xaxis": {
           "automargin": true,
           "gridcolor": "white",
           "linecolor": "white",
           "ticks": "",
           "title": {
            "standoff": 15
           },
           "zerolinecolor": "white",
           "zerolinewidth": 2
          },
          "yaxis": {
           "automargin": true,
           "gridcolor": "white",
           "linecolor": "white",
           "ticks": "",
           "title": {
            "standoff": 15
           },
           "zerolinecolor": "white",
           "zerolinewidth": 2
          }
         }
        },
        "title": {
         "text": "Trend for Context Type per date range"
        },
        "xaxis": {
         "title": {
          "text": "Date Range"
         }
        },
        "yaxis": {
         "title": {
          "text": "Context Type"
         }
        }
       }
      },
      "text/html": [
       "<div>                            <div id=\"4ec7587d-8073-45d8-afd2-e495ffc7c150\" class=\"plotly-graph-div\" style=\"height:525px; width:100%;\"></div>            <script type=\"text/javascript\">                require([\"plotly\"], function(Plotly) {                    window.PLOTLYENV=window.PLOTLYENV || {};                                    if (document.getElementById(\"4ec7587d-8073-45d8-afd2-e495ffc7c150\")) {                    Plotly.newPlot(                        \"4ec7587d-8073-45d8-afd2-e495ffc7c150\",                        [{\"marker\":{\"color\":\"blue\"},\"text\":\"\",\"x\":[\"2021-08\",\"2021-09\",\"2021-10\",\"2021-11\",\"2021-12\",\"2022-01\",\"2022-02\",\"2022-03\",\"2022-04\",\"2022-05\",\"2022-06\"],\"y\":[69999,74922,74078,77652,92158,91539,90743,104058,89090,97553,93395],\"type\":\"scatter\"}],                        {\"template\":{\"data\":{\"bar\":[{\"error_x\":{\"color\":\"#2a3f5f\"},\"error_y\":{\"color\":\"#2a3f5f\"},\"marker\":{\"line\":{\"color\":\"#E5ECF6\",\"width\":0.5},\"pattern\":{\"fillmode\":\"overlay\",\"size\":10,\"solidity\":0.2}},\"type\":\"bar\"}],\"barpolar\":[{\"marker\":{\"line\":{\"color\":\"#E5ECF6\",\"width\":0.5},\"pattern\":{\"fillmode\":\"overlay\",\"size\":10,\"solidity\":0.2}},\"type\":\"barpolar\"}],\"carpet\":[{\"aaxis\":{\"endlinecolor\":\"#2a3f5f\",\"gridcolor\":\"white\",\"linecolor\":\"white\",\"minorgridcolor\":\"white\",\"startlinecolor\":\"#2a3f5f\"},\"baxis\":{\"endlinecolor\":\"#2a3f5f\",\"gridcolor\":\"white\",\"linecolor\":\"white\",\"minorgridcolor\":\"white\",\"startlinecolor\":\"#2a3f5f\"},\"type\":\"carpet\"}],\"choropleth\":[{\"colorbar\":{\"outlinewidth\":0,\"ticks\":\"\"},\"type\":\"choropleth\"}],\"contour\":[{\"colorbar\":{\"outlinewidth\":0,\"ticks\":\"\"},\"colorscale\":[[0.0,\"#0d0887\"],[0.1111111111111111,\"#46039f\"],[0.2222222222222222,\"#7201a8\"],[0.3333333333333333,\"#9c179e\"],[0.4444444444444444,\"#bd3786\"],[0.5555555555555556,\"#d8576b\"],[0.6666666666666666,\"#ed7953\"],[0.7777777777777778,\"#fb9f3a\"],[0.8888888888888888,\"#fdca26\"],[1.0,\"#f0f921\"]],\"type\":\"contour\"}],\"contourcarpet\":[{\"colorbar\":{\"outlinewidth\":0,\"ticks\":\"\"},\"type\":\"contourcarpet\"}],\"heatmap\":[{\"colorbar\":{\"outlinewidth\":0,\"ticks\":\"\"},\"colorscale\":[[0.0,\"#0d0887\"],[0.1111111111111111,\"#46039f\"],[0.2222222222222222,\"#7201a8\"],[0.3333333333333333,\"#9c179e\"],[0.4444444444444444,\"#bd3786\"],[0.5555555555555556,\"#d8576b\"],[0.6666666666666666,\"#ed7953\"],[0.7777777777777778,\"#fb9f3a\"],[0.8888888888888888,\"#fdca26\"],[1.0,\"#f0f921\"]],\"type\":\"heatmap\"}],\"heatmapgl\":[{\"colorbar\":{\"outlinewidth\":0,\"ticks\":\"\"},\"colorscale\":[[0.0,\"#0d0887\"],[0.1111111111111111,\"#46039f\"],[0.2222222222222222,\"#7201a8\"],[0.3333333333333333,\"#9c179e\"],[0.4444444444444444,\"#bd3786\"],[0.5555555555555556,\"#d8576b\"],[0.6666666666666666,\"#ed7953\"],[0.7777777777777778,\"#fb9f3a\"],[0.8888888888888888,\"#fdca26\"],[1.0,\"#f0f921\"]],\"type\":\"heatmapgl\"}],\"histogram\":[{\"marker\":{\"pattern\":{\"fillmode\":\"overlay\",\"size\":10,\"solidity\":0.2}},\"type\":\"histogram\"}],\"histogram2d\":[{\"colorbar\":{\"outlinewidth\":0,\"ticks\":\"\"},\"colorscale\":[[0.0,\"#0d0887\"],[0.1111111111111111,\"#46039f\"],[0.2222222222222222,\"#7201a8\"],[0.3333333333333333,\"#9c179e\"],[0.4444444444444444,\"#bd3786\"],[0.5555555555555556,\"#d8576b\"],[0.6666666666666666,\"#ed7953\"],[0.7777777777777778,\"#fb9f3a\"],[0.8888888888888888,\"#fdca26\"],[1.0,\"#f0f921\"]],\"type\":\"histogram2d\"}],\"histogram2dcontour\":[{\"colorbar\":{\"outlinewidth\":0,\"ticks\":\"\"},\"colorscale\":[[0.0,\"#0d0887\"],[0.1111111111111111,\"#46039f\"],[0.2222222222222222,\"#7201a8\"],[0.3333333333333333,\"#9c179e\"],[0.4444444444444444,\"#bd3786\"],[0.5555555555555556,\"#d8576b\"],[0.6666666666666666,\"#ed7953\"],[0.7777777777777778,\"#fb9f3a\"],[0.8888888888888888,\"#fdca26\"],[1.0,\"#f0f921\"]],\"type\":\"histogram2dcontour\"}],\"mesh3d\":[{\"colorbar\":{\"outlinewidth\":0,\"ticks\":\"\"},\"type\":\"mesh3d\"}],\"parcoords\":[{\"line\":{\"colorbar\":{\"outlinewidth\":0,\"ticks\":\"\"}},\"type\":\"parcoords\"}],\"pie\":[{\"automargin\":true,\"type\":\"pie\"}],\"scatter\":[{\"marker\":{\"colorbar\":{\"outlinewidth\":0,\"ticks\":\"\"}},\"type\":\"scatter\"}],\"scatter3d\":[{\"line\":{\"colorbar\":{\"outlinewidth\":0,\"ticks\":\"\"}},\"marker\":{\"colorbar\":{\"outlinewidth\":0,\"ticks\":\"\"}},\"type\":\"scatter3d\"}],\"scattercarpet\":[{\"marker\":{\"colorbar\":{\"outlinewidth\":0,\"ticks\":\"\"}},\"type\":\"scattercarpet\"}],\"scattergeo\":[{\"marker\":{\"colorbar\":{\"outlinewidth\":0,\"ticks\":\"\"}},\"type\":\"scattergeo\"}],\"scattergl\":[{\"marker\":{\"colorbar\":{\"outlinewidth\":0,\"ticks\":\"\"}},\"type\":\"scattergl\"}],\"scattermapbox\":[{\"marker\":{\"colorbar\":{\"outlinewidth\":0,\"ticks\":\"\"}},\"type\":\"scattermapbox\"}],\"scatterpolar\":[{\"marker\":{\"colorbar\":{\"outlinewidth\":0,\"ticks\":\"\"}},\"type\":\"scatterpolar\"}],\"scatterpolargl\":[{\"marker\":{\"colorbar\":{\"outlinewidth\":0,\"ticks\":\"\"}},\"type\":\"scatterpolargl\"}],\"scatterternary\":[{\"marker\":{\"colorbar\":{\"outlinewidth\":0,\"ticks\":\"\"}},\"type\":\"scatterternary\"}],\"surface\":[{\"colorbar\":{\"outlinewidth\":0,\"ticks\":\"\"},\"colorscale\":[[0.0,\"#0d0887\"],[0.1111111111111111,\"#46039f\"],[0.2222222222222222,\"#7201a8\"],[0.3333333333333333,\"#9c179e\"],[0.4444444444444444,\"#bd3786\"],[0.5555555555555556,\"#d8576b\"],[0.6666666666666666,\"#ed7953\"],[0.7777777777777778,\"#fb9f3a\"],[0.8888888888888888,\"#fdca26\"],[1.0,\"#f0f921\"]],\"type\":\"surface\"}],\"table\":[{\"cells\":{\"fill\":{\"color\":\"#EBF0F8\"},\"line\":{\"color\":\"white\"}},\"header\":{\"fill\":{\"color\":\"#C8D4E3\"},\"line\":{\"color\":\"white\"}},\"type\":\"table\"}]},\"layout\":{\"annotationdefaults\":{\"arrowcolor\":\"#2a3f5f\",\"arrowhead\":0,\"arrowwidth\":1},\"autotypenumbers\":\"strict\",\"coloraxis\":{\"colorbar\":{\"outlinewidth\":0,\"ticks\":\"\"}},\"colorscale\":{\"diverging\":[[0,\"#8e0152\"],[0.1,\"#c51b7d\"],[0.2,\"#de77ae\"],[0.3,\"#f1b6da\"],[0.4,\"#fde0ef\"],[0.5,\"#f7f7f7\"],[0.6,\"#e6f5d0\"],[0.7,\"#b8e186\"],[0.8,\"#7fbc41\"],[0.9,\"#4d9221\"],[1,\"#276419\"]],\"sequential\":[[0.0,\"#0d0887\"],[0.1111111111111111,\"#46039f\"],[0.2222222222222222,\"#7201a8\"],[0.3333333333333333,\"#9c179e\"],[0.4444444444444444,\"#bd3786\"],[0.5555555555555556,\"#d8576b\"],[0.6666666666666666,\"#ed7953\"],[0.7777777777777778,\"#fb9f3a\"],[0.8888888888888888,\"#fdca26\"],[1.0,\"#f0f921\"]],\"sequentialminus\":[[0.0,\"#0d0887\"],[0.1111111111111111,\"#46039f\"],[0.2222222222222222,\"#7201a8\"],[0.3333333333333333,\"#9c179e\"],[0.4444444444444444,\"#bd3786\"],[0.5555555555555556,\"#d8576b\"],[0.6666666666666666,\"#ed7953\"],[0.7777777777777778,\"#fb9f3a\"],[0.8888888888888888,\"#fdca26\"],[1.0,\"#f0f921\"]]},\"colorway\":[\"#636efa\",\"#EF553B\",\"#00cc96\",\"#ab63fa\",\"#FFA15A\",\"#19d3f3\",\"#FF6692\",\"#B6E880\",\"#FF97FF\",\"#FECB52\"],\"font\":{\"color\":\"#2a3f5f\"},\"geo\":{\"bgcolor\":\"white\",\"lakecolor\":\"white\",\"landcolor\":\"#E5ECF6\",\"showlakes\":true,\"showland\":true,\"subunitcolor\":\"white\"},\"hoverlabel\":{\"align\":\"left\"},\"hovermode\":\"closest\",\"mapbox\":{\"style\":\"light\"},\"paper_bgcolor\":\"white\",\"plot_bgcolor\":\"#E5ECF6\",\"polar\":{\"angularaxis\":{\"gridcolor\":\"white\",\"linecolor\":\"white\",\"ticks\":\"\"},\"bgcolor\":\"#E5ECF6\",\"radialaxis\":{\"gridcolor\":\"white\",\"linecolor\":\"white\",\"ticks\":\"\"}},\"scene\":{\"xaxis\":{\"backgroundcolor\":\"#E5ECF6\",\"gridcolor\":\"white\",\"gridwidth\":2,\"linecolor\":\"white\",\"showbackground\":true,\"ticks\":\"\",\"zerolinecolor\":\"white\"},\"yaxis\":{\"backgroundcolor\":\"#E5ECF6\",\"gridcolor\":\"white\",\"gridwidth\":2,\"linecolor\":\"white\",\"showbackground\":true,\"ticks\":\"\",\"zerolinecolor\":\"white\"},\"zaxis\":{\"backgroundcolor\":\"#E5ECF6\",\"gridcolor\":\"white\",\"gridwidth\":2,\"linecolor\":\"white\",\"showbackground\":true,\"ticks\":\"\",\"zerolinecolor\":\"white\"}},\"shapedefaults\":{\"line\":{\"color\":\"#2a3f5f\"}},\"ternary\":{\"aaxis\":{\"gridcolor\":\"white\",\"linecolor\":\"white\",\"ticks\":\"\"},\"baxis\":{\"gridcolor\":\"white\",\"linecolor\":\"white\",\"ticks\":\"\"},\"bgcolor\":\"#E5ECF6\",\"caxis\":{\"gridcolor\":\"white\",\"linecolor\":\"white\",\"ticks\":\"\"}},\"title\":{\"x\":0.05},\"xaxis\":{\"automargin\":true,\"gridcolor\":\"white\",\"linecolor\":\"white\",\"ticks\":\"\",\"title\":{\"standoff\":15},\"zerolinecolor\":\"white\",\"zerolinewidth\":2},\"yaxis\":{\"automargin\":true,\"gridcolor\":\"white\",\"linecolor\":\"white\",\"ticks\":\"\",\"title\":{\"standoff\":15},\"zerolinecolor\":\"white\",\"zerolinewidth\":2}}},\"title\":{\"text\":\"Trend for Context Type per date range\"},\"xaxis\":{\"title\":{\"text\":\"Date Range\"}},\"yaxis\":{\"title\":{\"text\":\"Context Type\"}},\"showlegend\":false},                        {\"responsive\": true}                    ).then(function(){\n",
       "                            \n",
       "var gd = document.getElementById('4ec7587d-8073-45d8-afd2-e495ffc7c150');\n",
       "var x = new MutationObserver(function (mutations, observer) {{\n",
       "        var display = window.getComputedStyle(gd).display;\n",
       "        if (!display || display === 'none') {{\n",
       "            console.log([gd, 'removed!']);\n",
       "            Plotly.purge(gd);\n",
       "            observer.disconnect();\n",
       "        }}\n",
       "}});\n",
       "\n",
       "// Listen for the removal of the full notebook cells\n",
       "var notebookContainer = gd.closest('#notebook-container');\n",
       "if (notebookContainer) {{\n",
       "    x.observe(notebookContainer, {childList: true});\n",
       "}}\n",
       "\n",
       "// Listen for the clearing of the current output cell\n",
       "var outputEl = gd.closest('.output');\n",
       "if (outputEl) {{\n",
       "    x.observe(outputEl, {childList: true});\n",
       "}}\n",
       "\n",
       "                        })                };                });            </script>        </div>"
      ]
     },
     "metadata": {},
     "output_type": "display_data"
    }
   ],
   "source": [
    "# Create a trend plot\n",
    "fig = go.Figure(data=go.Scatter(x=df_month['appointment_date'].astype(dtype=str), \n",
    "                        y=df_month['Context_Type'],\n",
    "                        marker_color='blue', text=\"\"))\n",
    "fig.update_layout({\"title\": 'Trend for Context Type per date range',\n",
    "                   \"xaxis\": {\"title\":\"Date Range\"},\n",
    "                   \"yaxis\": {\"title\":\"Context Type\"},\n",
    "                   \"showlegend\": False})"
   ]
  },
  {
   "cell_type": "code",
   "execution_count": 439,
   "id": "3dfaf288",
   "metadata": {},
   "outputs": [
    {
     "data": {
      "text/html": [
       "<div>\n",
       "<style scoped>\n",
       "    .dataframe tbody tr th:only-of-type {\n",
       "        vertical-align: middle;\n",
       "    }\n",
       "\n",
       "    .dataframe tbody tr th {\n",
       "        vertical-align: top;\n",
       "    }\n",
       "\n",
       "    .dataframe thead th {\n",
       "        text-align: right;\n",
       "    }\n",
       "</style>\n",
       "<table border=\"1\" class=\"dataframe\">\n",
       "  <thead>\n",
       "    <tr style=\"text-align: right;\">\n",
       "      <th></th>\n",
       "      <th>Appointment_Month</th>\n",
       "      <th>National_Category</th>\n",
       "    </tr>\n",
       "  </thead>\n",
       "  <tbody>\n",
       "    <tr>\n",
       "      <th>7</th>\n",
       "      <td>2022-03</td>\n",
       "      <td>82822</td>\n",
       "    </tr>\n",
       "    <tr>\n",
       "      <th>3</th>\n",
       "      <td>2021-11</td>\n",
       "      <td>77652</td>\n",
       "    </tr>\n",
       "    <tr>\n",
       "      <th>9</th>\n",
       "      <td>2022-05</td>\n",
       "      <td>77425</td>\n",
       "    </tr>\n",
       "    <tr>\n",
       "      <th>1</th>\n",
       "      <td>2021-09</td>\n",
       "      <td>74922</td>\n",
       "    </tr>\n",
       "    <tr>\n",
       "      <th>10</th>\n",
       "      <td>2022-06</td>\n",
       "      <td>74168</td>\n",
       "    </tr>\n",
       "    <tr>\n",
       "      <th>2</th>\n",
       "      <td>2021-10</td>\n",
       "      <td>74078</td>\n",
       "    </tr>\n",
       "    <tr>\n",
       "      <th>4</th>\n",
       "      <td>2021-12</td>\n",
       "      <td>72651</td>\n",
       "    </tr>\n",
       "    <tr>\n",
       "      <th>5</th>\n",
       "      <td>2022-01</td>\n",
       "      <td>71896</td>\n",
       "    </tr>\n",
       "    <tr>\n",
       "      <th>6</th>\n",
       "      <td>2022-02</td>\n",
       "      <td>71769</td>\n",
       "    </tr>\n",
       "    <tr>\n",
       "      <th>8</th>\n",
       "      <td>2022-04</td>\n",
       "      <td>70012</td>\n",
       "    </tr>\n",
       "    <tr>\n",
       "      <th>0</th>\n",
       "      <td>2021-08</td>\n",
       "      <td>69999</td>\n",
       "    </tr>\n",
       "  </tbody>\n",
       "</table>\n",
       "</div>"
      ],
      "text/plain": [
       "   Appointment_Month  National_Category\n",
       "7            2022-03              82822\n",
       "3            2021-11              77652\n",
       "9            2022-05              77425\n",
       "1            2021-09              74922\n",
       "10           2022-06              74168\n",
       "2            2021-10              74078\n",
       "4            2021-12              72651\n",
       "5            2022-01              71896\n",
       "6            2022-02              71769\n",
       "8            2022-04              70012\n",
       "0            2021-08              69999"
      ]
     },
     "execution_count": 439,
     "metadata": {},
     "output_type": "execute_result"
    }
   ],
   "source": [
    "# Number of appointments for national categories\n",
    "#national_categories = pd.read_excel('national_categories.xlsx')\n",
    "\n",
    "df = pd.DataFrame({\"Service_Setting\": [categories['service_setting'].value_counts()],\n",
    "                  \"Context_Type\": [categories['context_type'].value_counts()],\n",
    "                  \"National_Category\": [categories['national_category'].value_counts()],\n",
    "                  \"Appointment_Month\": [categories['appointment_month'].value_counts()],\n",
    "                  \"Count_Of_Appointments\": [categories['count_of_appointments']]})\n",
    "\n",
    "appointment_dates['monthyear'] = pd.to_datetime(categories['appointment_month']).dt.to_period('M')\n",
    "\n",
    "by_month = appointment_dates['monthyear'].value_counts().sort_index()\n",
    "df_month = by_month.rename_axis('Appointment_Month').reset_index(name='National_Category')\n",
    "\n",
    "# Context Type reported the most appointments\n",
    "df_month.sort_values('National_Category', ascending=False)"
   ]
  },
  {
   "cell_type": "code",
   "execution_count": 440,
   "id": "058e279a",
   "metadata": {},
   "outputs": [
    {
     "data": {
      "application/vnd.plotly.v1+json": {
       "config": {
        "plotlyServerURL": "https://plot.ly"
       },
       "data": [
        {
         "marker": {
          "color": "green"
         },
         "text": "",
         "type": "scatter",
         "x": [
          "2021-08",
          "2021-09",
          "2021-10",
          "2021-11",
          "2021-12",
          "2022-01",
          "2022-02",
          "2022-03",
          "2022-04",
          "2022-05",
          "2022-06"
         ],
         "y": [
          69999,
          74922,
          74078,
          77652,
          72651,
          71896,
          71769,
          82822,
          70012,
          77425,
          74168
         ]
        }
       ],
       "layout": {
        "showlegend": false,
        "template": {
         "data": {
          "bar": [
           {
            "error_x": {
             "color": "#2a3f5f"
            },
            "error_y": {
             "color": "#2a3f5f"
            },
            "marker": {
             "line": {
              "color": "#E5ECF6",
              "width": 0.5
             },
             "pattern": {
              "fillmode": "overlay",
              "size": 10,
              "solidity": 0.2
             }
            },
            "type": "bar"
           }
          ],
          "barpolar": [
           {
            "marker": {
             "line": {
              "color": "#E5ECF6",
              "width": 0.5
             },
             "pattern": {
              "fillmode": "overlay",
              "size": 10,
              "solidity": 0.2
             }
            },
            "type": "barpolar"
           }
          ],
          "carpet": [
           {
            "aaxis": {
             "endlinecolor": "#2a3f5f",
             "gridcolor": "white",
             "linecolor": "white",
             "minorgridcolor": "white",
             "startlinecolor": "#2a3f5f"
            },
            "baxis": {
             "endlinecolor": "#2a3f5f",
             "gridcolor": "white",
             "linecolor": "white",
             "minorgridcolor": "white",
             "startlinecolor": "#2a3f5f"
            },
            "type": "carpet"
           }
          ],
          "choropleth": [
           {
            "colorbar": {
             "outlinewidth": 0,
             "ticks": ""
            },
            "type": "choropleth"
           }
          ],
          "contour": [
           {
            "colorbar": {
             "outlinewidth": 0,
             "ticks": ""
            },
            "colorscale": [
             [
              0,
              "#0d0887"
             ],
             [
              0.1111111111111111,
              "#46039f"
             ],
             [
              0.2222222222222222,
              "#7201a8"
             ],
             [
              0.3333333333333333,
              "#9c179e"
             ],
             [
              0.4444444444444444,
              "#bd3786"
             ],
             [
              0.5555555555555556,
              "#d8576b"
             ],
             [
              0.6666666666666666,
              "#ed7953"
             ],
             [
              0.7777777777777778,
              "#fb9f3a"
             ],
             [
              0.8888888888888888,
              "#fdca26"
             ],
             [
              1,
              "#f0f921"
             ]
            ],
            "type": "contour"
           }
          ],
          "contourcarpet": [
           {
            "colorbar": {
             "outlinewidth": 0,
             "ticks": ""
            },
            "type": "contourcarpet"
           }
          ],
          "heatmap": [
           {
            "colorbar": {
             "outlinewidth": 0,
             "ticks": ""
            },
            "colorscale": [
             [
              0,
              "#0d0887"
             ],
             [
              0.1111111111111111,
              "#46039f"
             ],
             [
              0.2222222222222222,
              "#7201a8"
             ],
             [
              0.3333333333333333,
              "#9c179e"
             ],
             [
              0.4444444444444444,
              "#bd3786"
             ],
             [
              0.5555555555555556,
              "#d8576b"
             ],
             [
              0.6666666666666666,
              "#ed7953"
             ],
             [
              0.7777777777777778,
              "#fb9f3a"
             ],
             [
              0.8888888888888888,
              "#fdca26"
             ],
             [
              1,
              "#f0f921"
             ]
            ],
            "type": "heatmap"
           }
          ],
          "heatmapgl": [
           {
            "colorbar": {
             "outlinewidth": 0,
             "ticks": ""
            },
            "colorscale": [
             [
              0,
              "#0d0887"
             ],
             [
              0.1111111111111111,
              "#46039f"
             ],
             [
              0.2222222222222222,
              "#7201a8"
             ],
             [
              0.3333333333333333,
              "#9c179e"
             ],
             [
              0.4444444444444444,
              "#bd3786"
             ],
             [
              0.5555555555555556,
              "#d8576b"
             ],
             [
              0.6666666666666666,
              "#ed7953"
             ],
             [
              0.7777777777777778,
              "#fb9f3a"
             ],
             [
              0.8888888888888888,
              "#fdca26"
             ],
             [
              1,
              "#f0f921"
             ]
            ],
            "type": "heatmapgl"
           }
          ],
          "histogram": [
           {
            "marker": {
             "pattern": {
              "fillmode": "overlay",
              "size": 10,
              "solidity": 0.2
             }
            },
            "type": "histogram"
           }
          ],
          "histogram2d": [
           {
            "colorbar": {
             "outlinewidth": 0,
             "ticks": ""
            },
            "colorscale": [
             [
              0,
              "#0d0887"
             ],
             [
              0.1111111111111111,
              "#46039f"
             ],
             [
              0.2222222222222222,
              "#7201a8"
             ],
             [
              0.3333333333333333,
              "#9c179e"
             ],
             [
              0.4444444444444444,
              "#bd3786"
             ],
             [
              0.5555555555555556,
              "#d8576b"
             ],
             [
              0.6666666666666666,
              "#ed7953"
             ],
             [
              0.7777777777777778,
              "#fb9f3a"
             ],
             [
              0.8888888888888888,
              "#fdca26"
             ],
             [
              1,
              "#f0f921"
             ]
            ],
            "type": "histogram2d"
           }
          ],
          "histogram2dcontour": [
           {
            "colorbar": {
             "outlinewidth": 0,
             "ticks": ""
            },
            "colorscale": [
             [
              0,
              "#0d0887"
             ],
             [
              0.1111111111111111,
              "#46039f"
             ],
             [
              0.2222222222222222,
              "#7201a8"
             ],
             [
              0.3333333333333333,
              "#9c179e"
             ],
             [
              0.4444444444444444,
              "#bd3786"
             ],
             [
              0.5555555555555556,
              "#d8576b"
             ],
             [
              0.6666666666666666,
              "#ed7953"
             ],
             [
              0.7777777777777778,
              "#fb9f3a"
             ],
             [
              0.8888888888888888,
              "#fdca26"
             ],
             [
              1,
              "#f0f921"
             ]
            ],
            "type": "histogram2dcontour"
           }
          ],
          "mesh3d": [
           {
            "colorbar": {
             "outlinewidth": 0,
             "ticks": ""
            },
            "type": "mesh3d"
           }
          ],
          "parcoords": [
           {
            "line": {
             "colorbar": {
              "outlinewidth": 0,
              "ticks": ""
             }
            },
            "type": "parcoords"
           }
          ],
          "pie": [
           {
            "automargin": true,
            "type": "pie"
           }
          ],
          "scatter": [
           {
            "marker": {
             "colorbar": {
              "outlinewidth": 0,
              "ticks": ""
             }
            },
            "type": "scatter"
           }
          ],
          "scatter3d": [
           {
            "line": {
             "colorbar": {
              "outlinewidth": 0,
              "ticks": ""
             }
            },
            "marker": {
             "colorbar": {
              "outlinewidth": 0,
              "ticks": ""
             }
            },
            "type": "scatter3d"
           }
          ],
          "scattercarpet": [
           {
            "marker": {
             "colorbar": {
              "outlinewidth": 0,
              "ticks": ""
             }
            },
            "type": "scattercarpet"
           }
          ],
          "scattergeo": [
           {
            "marker": {
             "colorbar": {
              "outlinewidth": 0,
              "ticks": ""
             }
            },
            "type": "scattergeo"
           }
          ],
          "scattergl": [
           {
            "marker": {
             "colorbar": {
              "outlinewidth": 0,
              "ticks": ""
             }
            },
            "type": "scattergl"
           }
          ],
          "scattermapbox": [
           {
            "marker": {
             "colorbar": {
              "outlinewidth": 0,
              "ticks": ""
             }
            },
            "type": "scattermapbox"
           }
          ],
          "scatterpolar": [
           {
            "marker": {
             "colorbar": {
              "outlinewidth": 0,
              "ticks": ""
             }
            },
            "type": "scatterpolar"
           }
          ],
          "scatterpolargl": [
           {
            "marker": {
             "colorbar": {
              "outlinewidth": 0,
              "ticks": ""
             }
            },
            "type": "scatterpolargl"
           }
          ],
          "scatterternary": [
           {
            "marker": {
             "colorbar": {
              "outlinewidth": 0,
              "ticks": ""
             }
            },
            "type": "scatterternary"
           }
          ],
          "surface": [
           {
            "colorbar": {
             "outlinewidth": 0,
             "ticks": ""
            },
            "colorscale": [
             [
              0,
              "#0d0887"
             ],
             [
              0.1111111111111111,
              "#46039f"
             ],
             [
              0.2222222222222222,
              "#7201a8"
             ],
             [
              0.3333333333333333,
              "#9c179e"
             ],
             [
              0.4444444444444444,
              "#bd3786"
             ],
             [
              0.5555555555555556,
              "#d8576b"
             ],
             [
              0.6666666666666666,
              "#ed7953"
             ],
             [
              0.7777777777777778,
              "#fb9f3a"
             ],
             [
              0.8888888888888888,
              "#fdca26"
             ],
             [
              1,
              "#f0f921"
             ]
            ],
            "type": "surface"
           }
          ],
          "table": [
           {
            "cells": {
             "fill": {
              "color": "#EBF0F8"
             },
             "line": {
              "color": "white"
             }
            },
            "header": {
             "fill": {
              "color": "#C8D4E3"
             },
             "line": {
              "color": "white"
             }
            },
            "type": "table"
           }
          ]
         },
         "layout": {
          "annotationdefaults": {
           "arrowcolor": "#2a3f5f",
           "arrowhead": 0,
           "arrowwidth": 1
          },
          "autotypenumbers": "strict",
          "coloraxis": {
           "colorbar": {
            "outlinewidth": 0,
            "ticks": ""
           }
          },
          "colorscale": {
           "diverging": [
            [
             0,
             "#8e0152"
            ],
            [
             0.1,
             "#c51b7d"
            ],
            [
             0.2,
             "#de77ae"
            ],
            [
             0.3,
             "#f1b6da"
            ],
            [
             0.4,
             "#fde0ef"
            ],
            [
             0.5,
             "#f7f7f7"
            ],
            [
             0.6,
             "#e6f5d0"
            ],
            [
             0.7,
             "#b8e186"
            ],
            [
             0.8,
             "#7fbc41"
            ],
            [
             0.9,
             "#4d9221"
            ],
            [
             1,
             "#276419"
            ]
           ],
           "sequential": [
            [
             0,
             "#0d0887"
            ],
            [
             0.1111111111111111,
             "#46039f"
            ],
            [
             0.2222222222222222,
             "#7201a8"
            ],
            [
             0.3333333333333333,
             "#9c179e"
            ],
            [
             0.4444444444444444,
             "#bd3786"
            ],
            [
             0.5555555555555556,
             "#d8576b"
            ],
            [
             0.6666666666666666,
             "#ed7953"
            ],
            [
             0.7777777777777778,
             "#fb9f3a"
            ],
            [
             0.8888888888888888,
             "#fdca26"
            ],
            [
             1,
             "#f0f921"
            ]
           ],
           "sequentialminus": [
            [
             0,
             "#0d0887"
            ],
            [
             0.1111111111111111,
             "#46039f"
            ],
            [
             0.2222222222222222,
             "#7201a8"
            ],
            [
             0.3333333333333333,
             "#9c179e"
            ],
            [
             0.4444444444444444,
             "#bd3786"
            ],
            [
             0.5555555555555556,
             "#d8576b"
            ],
            [
             0.6666666666666666,
             "#ed7953"
            ],
            [
             0.7777777777777778,
             "#fb9f3a"
            ],
            [
             0.8888888888888888,
             "#fdca26"
            ],
            [
             1,
             "#f0f921"
            ]
           ]
          },
          "colorway": [
           "#636efa",
           "#EF553B",
           "#00cc96",
           "#ab63fa",
           "#FFA15A",
           "#19d3f3",
           "#FF6692",
           "#B6E880",
           "#FF97FF",
           "#FECB52"
          ],
          "font": {
           "color": "#2a3f5f"
          },
          "geo": {
           "bgcolor": "white",
           "lakecolor": "white",
           "landcolor": "#E5ECF6",
           "showlakes": true,
           "showland": true,
           "subunitcolor": "white"
          },
          "hoverlabel": {
           "align": "left"
          },
          "hovermode": "closest",
          "mapbox": {
           "style": "light"
          },
          "paper_bgcolor": "white",
          "plot_bgcolor": "#E5ECF6",
          "polar": {
           "angularaxis": {
            "gridcolor": "white",
            "linecolor": "white",
            "ticks": ""
           },
           "bgcolor": "#E5ECF6",
           "radialaxis": {
            "gridcolor": "white",
            "linecolor": "white",
            "ticks": ""
           }
          },
          "scene": {
           "xaxis": {
            "backgroundcolor": "#E5ECF6",
            "gridcolor": "white",
            "gridwidth": 2,
            "linecolor": "white",
            "showbackground": true,
            "ticks": "",
            "zerolinecolor": "white"
           },
           "yaxis": {
            "backgroundcolor": "#E5ECF6",
            "gridcolor": "white",
            "gridwidth": 2,
            "linecolor": "white",
            "showbackground": true,
            "ticks": "",
            "zerolinecolor": "white"
           },
           "zaxis": {
            "backgroundcolor": "#E5ECF6",
            "gridcolor": "white",
            "gridwidth": 2,
            "linecolor": "white",
            "showbackground": true,
            "ticks": "",
            "zerolinecolor": "white"
           }
          },
          "shapedefaults": {
           "line": {
            "color": "#2a3f5f"
           }
          },
          "ternary": {
           "aaxis": {
            "gridcolor": "white",
            "linecolor": "white",
            "ticks": ""
           },
           "baxis": {
            "gridcolor": "white",
            "linecolor": "white",
            "ticks": ""
           },
           "bgcolor": "#E5ECF6",
           "caxis": {
            "gridcolor": "white",
            "linecolor": "white",
            "ticks": ""
           }
          },
          "title": {
           "x": 0.05
          },
          "xaxis": {
           "automargin": true,
           "gridcolor": "white",
           "linecolor": "white",
           "ticks": "",
           "title": {
            "standoff": 15
           },
           "zerolinecolor": "white",
           "zerolinewidth": 2
          },
          "yaxis": {
           "automargin": true,
           "gridcolor": "white",
           "linecolor": "white",
           "ticks": "",
           "title": {
            "standoff": 15
           },
           "zerolinecolor": "white",
           "zerolinewidth": 2
          }
         }
        },
        "title": {
         "text": "Trend for National Category per Date Range"
        },
        "xaxis": {
         "title": {
          "text": "Date Range"
         }
        },
        "yaxis": {
         "title": {
          "text": "National Category"
         }
        }
       }
      },
      "text/html": [
       "<div>                            <div id=\"9dfa6c79-ead6-4cf2-a7ba-28d4f65b74bd\" class=\"plotly-graph-div\" style=\"height:525px; width:100%;\"></div>            <script type=\"text/javascript\">                require([\"plotly\"], function(Plotly) {                    window.PLOTLYENV=window.PLOTLYENV || {};                                    if (document.getElementById(\"9dfa6c79-ead6-4cf2-a7ba-28d4f65b74bd\")) {                    Plotly.newPlot(                        \"9dfa6c79-ead6-4cf2-a7ba-28d4f65b74bd\",                        [{\"marker\":{\"color\":\"green\"},\"text\":\"\",\"x\":[\"2021-08\",\"2021-09\",\"2021-10\",\"2021-11\",\"2021-12\",\"2022-01\",\"2022-02\",\"2022-03\",\"2022-04\",\"2022-05\",\"2022-06\"],\"y\":[69999,74922,74078,77652,72651,71896,71769,82822,70012,77425,74168],\"type\":\"scatter\"}],                        {\"template\":{\"data\":{\"bar\":[{\"error_x\":{\"color\":\"#2a3f5f\"},\"error_y\":{\"color\":\"#2a3f5f\"},\"marker\":{\"line\":{\"color\":\"#E5ECF6\",\"width\":0.5},\"pattern\":{\"fillmode\":\"overlay\",\"size\":10,\"solidity\":0.2}},\"type\":\"bar\"}],\"barpolar\":[{\"marker\":{\"line\":{\"color\":\"#E5ECF6\",\"width\":0.5},\"pattern\":{\"fillmode\":\"overlay\",\"size\":10,\"solidity\":0.2}},\"type\":\"barpolar\"}],\"carpet\":[{\"aaxis\":{\"endlinecolor\":\"#2a3f5f\",\"gridcolor\":\"white\",\"linecolor\":\"white\",\"minorgridcolor\":\"white\",\"startlinecolor\":\"#2a3f5f\"},\"baxis\":{\"endlinecolor\":\"#2a3f5f\",\"gridcolor\":\"white\",\"linecolor\":\"white\",\"minorgridcolor\":\"white\",\"startlinecolor\":\"#2a3f5f\"},\"type\":\"carpet\"}],\"choropleth\":[{\"colorbar\":{\"outlinewidth\":0,\"ticks\":\"\"},\"type\":\"choropleth\"}],\"contour\":[{\"colorbar\":{\"outlinewidth\":0,\"ticks\":\"\"},\"colorscale\":[[0.0,\"#0d0887\"],[0.1111111111111111,\"#46039f\"],[0.2222222222222222,\"#7201a8\"],[0.3333333333333333,\"#9c179e\"],[0.4444444444444444,\"#bd3786\"],[0.5555555555555556,\"#d8576b\"],[0.6666666666666666,\"#ed7953\"],[0.7777777777777778,\"#fb9f3a\"],[0.8888888888888888,\"#fdca26\"],[1.0,\"#f0f921\"]],\"type\":\"contour\"}],\"contourcarpet\":[{\"colorbar\":{\"outlinewidth\":0,\"ticks\":\"\"},\"type\":\"contourcarpet\"}],\"heatmap\":[{\"colorbar\":{\"outlinewidth\":0,\"ticks\":\"\"},\"colorscale\":[[0.0,\"#0d0887\"],[0.1111111111111111,\"#46039f\"],[0.2222222222222222,\"#7201a8\"],[0.3333333333333333,\"#9c179e\"],[0.4444444444444444,\"#bd3786\"],[0.5555555555555556,\"#d8576b\"],[0.6666666666666666,\"#ed7953\"],[0.7777777777777778,\"#fb9f3a\"],[0.8888888888888888,\"#fdca26\"],[1.0,\"#f0f921\"]],\"type\":\"heatmap\"}],\"heatmapgl\":[{\"colorbar\":{\"outlinewidth\":0,\"ticks\":\"\"},\"colorscale\":[[0.0,\"#0d0887\"],[0.1111111111111111,\"#46039f\"],[0.2222222222222222,\"#7201a8\"],[0.3333333333333333,\"#9c179e\"],[0.4444444444444444,\"#bd3786\"],[0.5555555555555556,\"#d8576b\"],[0.6666666666666666,\"#ed7953\"],[0.7777777777777778,\"#fb9f3a\"],[0.8888888888888888,\"#fdca26\"],[1.0,\"#f0f921\"]],\"type\":\"heatmapgl\"}],\"histogram\":[{\"marker\":{\"pattern\":{\"fillmode\":\"overlay\",\"size\":10,\"solidity\":0.2}},\"type\":\"histogram\"}],\"histogram2d\":[{\"colorbar\":{\"outlinewidth\":0,\"ticks\":\"\"},\"colorscale\":[[0.0,\"#0d0887\"],[0.1111111111111111,\"#46039f\"],[0.2222222222222222,\"#7201a8\"],[0.3333333333333333,\"#9c179e\"],[0.4444444444444444,\"#bd3786\"],[0.5555555555555556,\"#d8576b\"],[0.6666666666666666,\"#ed7953\"],[0.7777777777777778,\"#fb9f3a\"],[0.8888888888888888,\"#fdca26\"],[1.0,\"#f0f921\"]],\"type\":\"histogram2d\"}],\"histogram2dcontour\":[{\"colorbar\":{\"outlinewidth\":0,\"ticks\":\"\"},\"colorscale\":[[0.0,\"#0d0887\"],[0.1111111111111111,\"#46039f\"],[0.2222222222222222,\"#7201a8\"],[0.3333333333333333,\"#9c179e\"],[0.4444444444444444,\"#bd3786\"],[0.5555555555555556,\"#d8576b\"],[0.6666666666666666,\"#ed7953\"],[0.7777777777777778,\"#fb9f3a\"],[0.8888888888888888,\"#fdca26\"],[1.0,\"#f0f921\"]],\"type\":\"histogram2dcontour\"}],\"mesh3d\":[{\"colorbar\":{\"outlinewidth\":0,\"ticks\":\"\"},\"type\":\"mesh3d\"}],\"parcoords\":[{\"line\":{\"colorbar\":{\"outlinewidth\":0,\"ticks\":\"\"}},\"type\":\"parcoords\"}],\"pie\":[{\"automargin\":true,\"type\":\"pie\"}],\"scatter\":[{\"marker\":{\"colorbar\":{\"outlinewidth\":0,\"ticks\":\"\"}},\"type\":\"scatter\"}],\"scatter3d\":[{\"line\":{\"colorbar\":{\"outlinewidth\":0,\"ticks\":\"\"}},\"marker\":{\"colorbar\":{\"outlinewidth\":0,\"ticks\":\"\"}},\"type\":\"scatter3d\"}],\"scattercarpet\":[{\"marker\":{\"colorbar\":{\"outlinewidth\":0,\"ticks\":\"\"}},\"type\":\"scattercarpet\"}],\"scattergeo\":[{\"marker\":{\"colorbar\":{\"outlinewidth\":0,\"ticks\":\"\"}},\"type\":\"scattergeo\"}],\"scattergl\":[{\"marker\":{\"colorbar\":{\"outlinewidth\":0,\"ticks\":\"\"}},\"type\":\"scattergl\"}],\"scattermapbox\":[{\"marker\":{\"colorbar\":{\"outlinewidth\":0,\"ticks\":\"\"}},\"type\":\"scattermapbox\"}],\"scatterpolar\":[{\"marker\":{\"colorbar\":{\"outlinewidth\":0,\"ticks\":\"\"}},\"type\":\"scatterpolar\"}],\"scatterpolargl\":[{\"marker\":{\"colorbar\":{\"outlinewidth\":0,\"ticks\":\"\"}},\"type\":\"scatterpolargl\"}],\"scatterternary\":[{\"marker\":{\"colorbar\":{\"outlinewidth\":0,\"ticks\":\"\"}},\"type\":\"scatterternary\"}],\"surface\":[{\"colorbar\":{\"outlinewidth\":0,\"ticks\":\"\"},\"colorscale\":[[0.0,\"#0d0887\"],[0.1111111111111111,\"#46039f\"],[0.2222222222222222,\"#7201a8\"],[0.3333333333333333,\"#9c179e\"],[0.4444444444444444,\"#bd3786\"],[0.5555555555555556,\"#d8576b\"],[0.6666666666666666,\"#ed7953\"],[0.7777777777777778,\"#fb9f3a\"],[0.8888888888888888,\"#fdca26\"],[1.0,\"#f0f921\"]],\"type\":\"surface\"}],\"table\":[{\"cells\":{\"fill\":{\"color\":\"#EBF0F8\"},\"line\":{\"color\":\"white\"}},\"header\":{\"fill\":{\"color\":\"#C8D4E3\"},\"line\":{\"color\":\"white\"}},\"type\":\"table\"}]},\"layout\":{\"annotationdefaults\":{\"arrowcolor\":\"#2a3f5f\",\"arrowhead\":0,\"arrowwidth\":1},\"autotypenumbers\":\"strict\",\"coloraxis\":{\"colorbar\":{\"outlinewidth\":0,\"ticks\":\"\"}},\"colorscale\":{\"diverging\":[[0,\"#8e0152\"],[0.1,\"#c51b7d\"],[0.2,\"#de77ae\"],[0.3,\"#f1b6da\"],[0.4,\"#fde0ef\"],[0.5,\"#f7f7f7\"],[0.6,\"#e6f5d0\"],[0.7,\"#b8e186\"],[0.8,\"#7fbc41\"],[0.9,\"#4d9221\"],[1,\"#276419\"]],\"sequential\":[[0.0,\"#0d0887\"],[0.1111111111111111,\"#46039f\"],[0.2222222222222222,\"#7201a8\"],[0.3333333333333333,\"#9c179e\"],[0.4444444444444444,\"#bd3786\"],[0.5555555555555556,\"#d8576b\"],[0.6666666666666666,\"#ed7953\"],[0.7777777777777778,\"#fb9f3a\"],[0.8888888888888888,\"#fdca26\"],[1.0,\"#f0f921\"]],\"sequentialminus\":[[0.0,\"#0d0887\"],[0.1111111111111111,\"#46039f\"],[0.2222222222222222,\"#7201a8\"],[0.3333333333333333,\"#9c179e\"],[0.4444444444444444,\"#bd3786\"],[0.5555555555555556,\"#d8576b\"],[0.6666666666666666,\"#ed7953\"],[0.7777777777777778,\"#fb9f3a\"],[0.8888888888888888,\"#fdca26\"],[1.0,\"#f0f921\"]]},\"colorway\":[\"#636efa\",\"#EF553B\",\"#00cc96\",\"#ab63fa\",\"#FFA15A\",\"#19d3f3\",\"#FF6692\",\"#B6E880\",\"#FF97FF\",\"#FECB52\"],\"font\":{\"color\":\"#2a3f5f\"},\"geo\":{\"bgcolor\":\"white\",\"lakecolor\":\"white\",\"landcolor\":\"#E5ECF6\",\"showlakes\":true,\"showland\":true,\"subunitcolor\":\"white\"},\"hoverlabel\":{\"align\":\"left\"},\"hovermode\":\"closest\",\"mapbox\":{\"style\":\"light\"},\"paper_bgcolor\":\"white\",\"plot_bgcolor\":\"#E5ECF6\",\"polar\":{\"angularaxis\":{\"gridcolor\":\"white\",\"linecolor\":\"white\",\"ticks\":\"\"},\"bgcolor\":\"#E5ECF6\",\"radialaxis\":{\"gridcolor\":\"white\",\"linecolor\":\"white\",\"ticks\":\"\"}},\"scene\":{\"xaxis\":{\"backgroundcolor\":\"#E5ECF6\",\"gridcolor\":\"white\",\"gridwidth\":2,\"linecolor\":\"white\",\"showbackground\":true,\"ticks\":\"\",\"zerolinecolor\":\"white\"},\"yaxis\":{\"backgroundcolor\":\"#E5ECF6\",\"gridcolor\":\"white\",\"gridwidth\":2,\"linecolor\":\"white\",\"showbackground\":true,\"ticks\":\"\",\"zerolinecolor\":\"white\"},\"zaxis\":{\"backgroundcolor\":\"#E5ECF6\",\"gridcolor\":\"white\",\"gridwidth\":2,\"linecolor\":\"white\",\"showbackground\":true,\"ticks\":\"\",\"zerolinecolor\":\"white\"}},\"shapedefaults\":{\"line\":{\"color\":\"#2a3f5f\"}},\"ternary\":{\"aaxis\":{\"gridcolor\":\"white\",\"linecolor\":\"white\",\"ticks\":\"\"},\"baxis\":{\"gridcolor\":\"white\",\"linecolor\":\"white\",\"ticks\":\"\"},\"bgcolor\":\"#E5ECF6\",\"caxis\":{\"gridcolor\":\"white\",\"linecolor\":\"white\",\"ticks\":\"\"}},\"title\":{\"x\":0.05},\"xaxis\":{\"automargin\":true,\"gridcolor\":\"white\",\"linecolor\":\"white\",\"ticks\":\"\",\"title\":{\"standoff\":15},\"zerolinecolor\":\"white\",\"zerolinewidth\":2},\"yaxis\":{\"automargin\":true,\"gridcolor\":\"white\",\"linecolor\":\"white\",\"ticks\":\"\",\"title\":{\"standoff\":15},\"zerolinecolor\":\"white\",\"zerolinewidth\":2}}},\"title\":{\"text\":\"Trend for National Category per Date Range\"},\"xaxis\":{\"title\":{\"text\":\"Date Range\"}},\"yaxis\":{\"title\":{\"text\":\"National Category\"}},\"showlegend\":false},                        {\"responsive\": true}                    ).then(function(){\n",
       "                            \n",
       "var gd = document.getElementById('9dfa6c79-ead6-4cf2-a7ba-28d4f65b74bd');\n",
       "var x = new MutationObserver(function (mutations, observer) {{\n",
       "        var display = window.getComputedStyle(gd).display;\n",
       "        if (!display || display === 'none') {{\n",
       "            console.log([gd, 'removed!']);\n",
       "            Plotly.purge(gd);\n",
       "            observer.disconnect();\n",
       "        }}\n",
       "}});\n",
       "\n",
       "// Listen for the removal of the full notebook cells\n",
       "var notebookContainer = gd.closest('#notebook-container');\n",
       "if (notebookContainer) {{\n",
       "    x.observe(notebookContainer, {childList: true});\n",
       "}}\n",
       "\n",
       "// Listen for the clearing of the current output cell\n",
       "var outputEl = gd.closest('.output');\n",
       "if (outputEl) {{\n",
       "    x.observe(outputEl, {childList: true});\n",
       "}}\n",
       "\n",
       "                        })                };                });            </script>        </div>"
      ]
     },
     "metadata": {},
     "output_type": "display_data"
    }
   ],
   "source": [
    "# Create a trend plot\n",
    "fig = go.Figure(data=go.Scatter(x=df_month['Appointment_Month'].astype(dtype=str), \n",
    "                        y=df_month['National_Category'],\n",
    "                        marker_color='green', text=\"\"))\n",
    "fig.update_layout({\"title\": 'Trend for National Category per Date Range',\n",
    "                   \"xaxis\": {\"title\":\"Date Range\"},\n",
    "                   \"yaxis\": {\"title\":\"National Category\"},\n",
    "                   \"showlegend\": False})"
   ]
  },
  {
   "cell_type": "markdown",
   "id": "07e1eb7e",
   "metadata": {},
   "source": [
    "## Question 5: What are the top trending hashtags (#) on Twitter related to healthcare in the UK?"
   ]
  },
  {
   "cell_type": "markdown",
   "id": "a7a98e06",
   "metadata": {},
   "source": [
    "### Using the Twitter API"
   ]
  },
  {
   "cell_type": "code",
   "execution_count": 441,
   "id": "9c36cd6f",
   "metadata": {},
   "outputs": [],
   "source": [
    "# Copy the YAML file and your Twitter keys over to this Jupyter Notebook before you start to work.\n",
    "import yaml\n",
    "from yaml.loader import SafeLoader\n",
    "from twitter import *\n",
    "\n",
    "# Import the YAML file - remember to specify the whole path.\n",
    "twitter_creds = yaml.safe_load(open('twitter.yaml', 'r').read())\n",
    "\n",
    "# Pass your Twitter credentials.\n",
    "twitter_api = Twitter(auth=OAuth(twitter_creds['access_token'],\n",
    "                                 twitter_creds['access_token_secret'], \n",
    "                                 twitter_creds['api_key'],\n",
    "                                 twitter_creds['api_secret_key'] ))"
   ]
  },
  {
   "cell_type": "code",
   "execution_count": 442,
   "id": "08baf55e",
   "metadata": {},
   "outputs": [
    {
     "name": "stdout",
     "output_type": "stream",
     "text": [
      "<twitter.api.Twitter object at 0x000002D548683220>\n"
     ]
    }
   ],
   "source": [
    "# See if you are connected.\n",
    "print(twitter_api)"
   ]
  },
  {
   "cell_type": "markdown",
   "id": "dc44f53e",
   "metadata": {},
   "source": [
    "### Identify UK"
   ]
  },
  {
   "cell_type": "code",
   "execution_count": 443,
   "id": "9482ec98",
   "metadata": {},
   "outputs": [
    {
     "data": {
      "text/plain": [
       "{'name': 'United Kingdom',\n",
       " 'placeType': {'code': 12, 'name': 'Country'},\n",
       " 'url': 'http://where.yahooapis.com/v1/place/23424975',\n",
       " 'parentid': 1,\n",
       " 'country': 'United Kingdom',\n",
       " 'woeid': 23424975,\n",
       " 'countryCode': 'GB'}"
      ]
     },
     "execution_count": 443,
     "metadata": {},
     "output_type": "execute_result"
    },
    {
     "data": {
      "text/plain": [
       "23424975"
      ]
     },
     "execution_count": 443,
     "metadata": {},
     "output_type": "execute_result"
    }
   ],
   "source": [
    "# Determine worldwide trends.\n",
    "trends_worldwide = twitter_api.trends.available()\n",
    "\n",
    "# Find UK\n",
    "our_country = 'United Kingdom'\n",
    "\n",
    "# Create a variable.\n",
    "united_kingdom = [_ for _ in trends_worldwide if _['name'] == our_country]\n",
    "\n",
    "# Use index to find United Kingdom.\n",
    "united_kingdom[0]\n",
    "\n",
    "# List of where on earth identifier (woeid).\n",
    "united_kingdom[0]['woeid']"
   ]
  },
  {
   "cell_type": "markdown",
   "id": "00ff8b42",
   "metadata": {},
   "source": [
    "### Common Trends"
   ]
  },
  {
   "cell_type": "code",
   "execution_count": 444,
   "id": "75f7c83b",
   "metadata": {},
   "outputs": [
    {
     "data": {
      "text/plain": [
       "[{'trends': [{'name': '#WorldBookDay',\n",
       "    'url': 'http://twitter.com/search?q=%23WorldBookDay',\n",
       "    'promoted_content': None,\n",
       "    'query': '%23WorldBookDay',\n",
       "    'tweet_volume': 42912},\n",
       "   {'name': '#FMQs',\n",
       "    'url': 'http://twitter.com/search?q=%23FMQs',\n",
       "    'promoted_content': None,\n",
       "    'query': '%23FMQs',\n",
       "    'tweet_volume': None},\n",
       "   {'name': 'McDonalds',\n",
       "    'url': 'http://twitter.com/search?q=McDonalds',\n",
       "    'promoted_content': None,\n",
       "    'query': 'McDonalds',\n",
       "    'tweet_volume': 28464},\n",
       "   {'name': '#books',\n",
       "    'url': 'http://twitter.com/search?q=%23books',\n",
       "    'promoted_content': None,\n",
       "    'query': '%23books',\n",
       "    'tweet_volume': 16430},\n",
       "   {'name': '#verymerewards',\n",
       "    'url': 'http://twitter.com/search?q=%23verymerewards',\n",
       "    'promoted_content': None,\n",
       "    'query': '%23verymerewards',\n",
       "    'tweet_volume': None},\n",
       "   {'name': '#WBD23',\n",
       "    'url': 'http://twitter.com/search?q=%23WBD23',\n",
       "    'promoted_content': None,\n",
       "    'query': '%23WBD23',\n",
       "    'tweet_volume': None},\n",
       "   {'name': 'Hancock',\n",
       "    'url': 'http://twitter.com/search?q=Hancock',\n",
       "    'promoted_content': None,\n",
       "    'query': 'Hancock',\n",
       "    'tweet_volume': 107620},\n",
       "   {'name': 'Lee Anderson',\n",
       "    'url': 'http://twitter.com/search?q=%22Lee+Anderson%22',\n",
       "    'promoted_content': None,\n",
       "    'query': '%22Lee+Anderson%22',\n",
       "    'tweet_volume': None},\n",
       "   {'name': 'mnet',\n",
       "    'url': 'http://twitter.com/search?q=mnet',\n",
       "    'promoted_content': None,\n",
       "    'query': 'mnet',\n",
       "    'tweet_volume': 35645},\n",
       "   {'name': 'Year 6',\n",
       "    'url': 'http://twitter.com/search?q=%22Year+6%22',\n",
       "    'promoted_content': None,\n",
       "    'query': '%22Year+6%22',\n",
       "    'tweet_volume': 28767},\n",
       "   {'name': 'HARUTO',\n",
       "    'url': 'http://twitter.com/search?q=HARUTO',\n",
       "    'promoted_content': None,\n",
       "    'query': 'HARUTO',\n",
       "    'tweet_volume': 36178},\n",
       "   {'name': 'WhatsApp',\n",
       "    'url': 'http://twitter.com/search?q=WhatsApp',\n",
       "    'promoted_content': None,\n",
       "    'query': 'WhatsApp',\n",
       "    'tweet_volume': 256201},\n",
       "   {'name': 'Badenoch',\n",
       "    'url': 'http://twitter.com/search?q=Badenoch',\n",
       "    'promoted_content': None,\n",
       "    'query': 'Badenoch',\n",
       "    'tweet_volume': None},\n",
       "   {'name': 'Isabel Oakeshott',\n",
       "    'url': 'http://twitter.com/search?q=%22Isabel+Oakeshott%22',\n",
       "    'promoted_content': None,\n",
       "    'query': '%22Isabel+Oakeshott%22',\n",
       "    'tweet_volume': 16170},\n",
       "   {'name': '30p Lee',\n",
       "    'url': 'http://twitter.com/search?q=%2230p+Lee%22',\n",
       "    'promoted_content': None,\n",
       "    'query': '%2230p+Lee%22',\n",
       "    'tweet_volume': None},\n",
       "   {'name': 'The Tiger Who Came to Tea',\n",
       "    'url': 'http://twitter.com/search?q=%22The+Tiger+Who+Came+to+Tea%22',\n",
       "    'promoted_content': None,\n",
       "    'query': '%22The+Tiger+Who+Came+to+Tea%22',\n",
       "    'tweet_volume': None},\n",
       "   {'name': 'WH Smith',\n",
       "    'url': 'http://twitter.com/search?q=%22WH+Smith%22',\n",
       "    'promoted_content': None,\n",
       "    'query': '%22WH+Smith%22',\n",
       "    'tweet_volume': None},\n",
       "   {'name': 'Bryansk',\n",
       "    'url': 'http://twitter.com/search?q=Bryansk',\n",
       "    'promoted_content': None,\n",
       "    'query': 'Bryansk',\n",
       "    'tweet_volume': 17029},\n",
       "   {'name': 'Gavin Williamson',\n",
       "    'url': 'http://twitter.com/search?q=%22Gavin+Williamson%22',\n",
       "    'promoted_content': None,\n",
       "    'query': '%22Gavin+Williamson%22',\n",
       "    'tweet_volume': 12822},\n",
       "   {'name': 'Unions',\n",
       "    'url': 'http://twitter.com/search?q=Unions',\n",
       "    'promoted_content': None,\n",
       "    'query': 'Unions',\n",
       "    'tweet_volume': 24988},\n",
       "   {'name': 'Richard Tice',\n",
       "    'url': 'http://twitter.com/search?q=%22Richard+Tice%22',\n",
       "    'promoted_content': None,\n",
       "    'query': '%22Richard+Tice%22',\n",
       "    'tweet_volume': None},\n",
       "   {'name': 'Menopause',\n",
       "    'url': 'http://twitter.com/search?q=Menopause',\n",
       "    'promoted_content': None,\n",
       "    'query': 'Menopause',\n",
       "    'tweet_volume': 10346},\n",
       "   {'name': 'Wo Long',\n",
       "    'url': 'http://twitter.com/search?q=%22Wo+Long%22',\n",
       "    'promoted_content': None,\n",
       "    'query': '%22Wo+Long%22',\n",
       "    'tweet_volume': None},\n",
       "   {'name': 'New IRA',\n",
       "    'url': 'http://twitter.com/search?q=%22New+IRA%22',\n",
       "    'promoted_content': None,\n",
       "    'query': '%22New+IRA%22',\n",
       "    'tweet_volume': None},\n",
       "   {'name': 'Igbo',\n",
       "    'url': 'http://twitter.com/search?q=Igbo',\n",
       "    'promoted_content': None,\n",
       "    'query': 'Igbo',\n",
       "    'tweet_volume': 170193},\n",
       "   {'name': 'Teachers',\n",
       "    'url': 'http://twitter.com/search?q=Teachers',\n",
       "    'promoted_content': None,\n",
       "    'query': 'Teachers',\n",
       "    'tweet_volume': 94439},\n",
       "   {'name': 'JCOLE',\n",
       "    'url': 'http://twitter.com/search?q=JCOLE',\n",
       "    'promoted_content': None,\n",
       "    'query': 'JCOLE',\n",
       "    'tweet_volume': 146789},\n",
       "   {'name': 'Reform',\n",
       "    'url': 'http://twitter.com/search?q=Reform',\n",
       "    'promoted_content': None,\n",
       "    'query': 'Reform',\n",
       "    'tweet_volume': 34340},\n",
       "   {'name': 'Alice in Wonderland',\n",
       "    'url': 'http://twitter.com/search?q=%22Alice+in+Wonderland%22',\n",
       "    'promoted_content': None,\n",
       "    'query': '%22Alice+in+Wonderland%22',\n",
       "    'tweet_volume': None},\n",
       "   {'name': 'Reception',\n",
       "    'url': 'http://twitter.com/search?q=Reception',\n",
       "    'promoted_content': None,\n",
       "    'query': 'Reception',\n",
       "    'tweet_volume': 10592},\n",
       "   {'name': 'Telegraph',\n",
       "    'url': 'http://twitter.com/search?q=Telegraph',\n",
       "    'promoted_content': None,\n",
       "    'query': 'Telegraph',\n",
       "    'tweet_volume': 66818},\n",
       "   {'name': 'Library',\n",
       "    'url': 'http://twitter.com/search?q=Library',\n",
       "    'promoted_content': None,\n",
       "    'query': 'Library',\n",
       "    'tweet_volume': 51673},\n",
       "   {'name': 'Yoruba',\n",
       "    'url': 'http://twitter.com/search?q=Yoruba',\n",
       "    'promoted_content': None,\n",
       "    'query': 'Yoruba',\n",
       "    'tweet_volume': 132636},\n",
       "   {'name': 'Bunny',\n",
       "    'url': 'http://twitter.com/search?q=Bunny',\n",
       "    'promoted_content': None,\n",
       "    'query': 'Bunny',\n",
       "    'tweet_volume': 94447},\n",
       "   {'name': 'Lockdowns',\n",
       "    'url': 'http://twitter.com/search?q=Lockdowns',\n",
       "    'promoted_content': None,\n",
       "    'query': 'Lockdowns',\n",
       "    'tweet_volume': 28096},\n",
       "   {'name': 'Frogmore',\n",
       "    'url': 'http://twitter.com/search?q=Frogmore',\n",
       "    'promoted_content': None,\n",
       "    'query': 'Frogmore',\n",
       "    'tweet_volume': 34988},\n",
       "   {'name': 'Bone',\n",
       "    'url': 'http://twitter.com/search?q=Bone',\n",
       "    'promoted_content': None,\n",
       "    'query': 'Bone',\n",
       "    'tweet_volume': 53820},\n",
       "   {'name': 'Matilda',\n",
       "    'url': 'http://twitter.com/search?q=Matilda',\n",
       "    'promoted_content': None,\n",
       "    'query': 'Matilda',\n",
       "    'tweet_volume': None},\n",
       "   {'name': \"Where's Wally\",\n",
       "    'url': 'http://twitter.com/search?q=%22Where%27s+Wally%22',\n",
       "    'promoted_content': None,\n",
       "    'query': '%22Where%27s+Wally%22',\n",
       "    'tweet_volume': None},\n",
       "   {'name': 'Daily Quordle 402',\n",
       "    'url': 'http://twitter.com/search?q=%22Daily+Quordle+402%22',\n",
       "    'promoted_content': None,\n",
       "    'query': '%22Daily+Quordle+402%22',\n",
       "    'tweet_volume': None},\n",
       "   {'name': 'Carolyn',\n",
       "    'url': 'http://twitter.com/search?q=Carolyn',\n",
       "    'promoted_content': None,\n",
       "    'query': 'Carolyn',\n",
       "    'tweet_volume': None},\n",
       "   {'name': 'Ticketmaster',\n",
       "    'url': 'http://twitter.com/search?q=Ticketmaster',\n",
       "    'promoted_content': None,\n",
       "    'query': 'Ticketmaster',\n",
       "    'tweet_volume': 60740},\n",
       "   {'name': 'Prince Andrew',\n",
       "    'url': 'http://twitter.com/search?q=%22Prince+Andrew%22',\n",
       "    'promoted_content': None,\n",
       "    'query': '%22Prince+Andrew%22',\n",
       "    'tweet_volume': None},\n",
       "   {'name': 'Lagosians',\n",
       "    'url': 'http://twitter.com/search?q=Lagosians',\n",
       "    'promoted_content': None,\n",
       "    'query': 'Lagosians',\n",
       "    'tweet_volume': 78159},\n",
       "   {'name': 'Sorcha',\n",
       "    'url': 'http://twitter.com/search?q=Sorcha',\n",
       "    'promoted_content': None,\n",
       "    'query': 'Sorcha',\n",
       "    'tweet_volume': None},\n",
       "   {'name': 'JHOPE',\n",
       "    'url': 'http://twitter.com/search?q=JHOPE',\n",
       "    'promoted_content': None,\n",
       "    'query': 'JHOPE',\n",
       "    'tweet_volume': 643888},\n",
       "   {'name': 'BAME',\n",
       "    'url': 'http://twitter.com/search?q=BAME',\n",
       "    'promoted_content': None,\n",
       "    'query': 'BAME',\n",
       "    'tweet_volume': None},\n",
       "   {'name': 'EYFS',\n",
       "    'url': 'http://twitter.com/search?q=EYFS',\n",
       "    'promoted_content': None,\n",
       "    'query': 'EYFS',\n",
       "    'tweet_volume': None},\n",
       "   {'name': '#BBCLiveLessons',\n",
       "    'url': 'http://twitter.com/search?q=%23BBCLiveLessons',\n",
       "    'promoted_content': None,\n",
       "    'query': '%23BBCLiveLessons',\n",
       "    'tweet_volume': None},\n",
       "   {'name': '#readingforpleasure',\n",
       "    'url': 'http://twitter.com/search?q=%23readingforpleasure',\n",
       "    'promoted_content': None,\n",
       "    'query': '%23readingforpleasure',\n",
       "    'tweet_volume': None}],\n",
       "  'as_of': '2023-03-02T13:39:49Z',\n",
       "  'created_at': '2023-02-28T01:38:48Z',\n",
       "  'locations': [{'name': 'United Kingdom', 'woeid': 23424975}]}]"
      ]
     },
     "execution_count": 444,
     "metadata": {},
     "output_type": "execute_result"
    }
   ],
   "source": [
    "# Look at trends in United Kingdom.\n",
    "united_kingdom_trends = twitter_api.trends.place(_id = united_kingdom[0]['woeid'])\n",
    "\n",
    "# View the output.\n",
    "united_kingdom_trends"
   ]
  },
  {
   "cell_type": "code",
   "execution_count": 445,
   "id": "187b1a4f",
   "metadata": {
    "scrolled": true
   },
   "outputs": [
    {
     "data": {
      "text/html": [
       "<div>\n",
       "<style scoped>\n",
       "    .dataframe tbody tr th:only-of-type {\n",
       "        vertical-align: middle;\n",
       "    }\n",
       "\n",
       "    .dataframe tbody tr th {\n",
       "        vertical-align: top;\n",
       "    }\n",
       "\n",
       "    .dataframe thead th {\n",
       "        text-align: right;\n",
       "    }\n",
       "</style>\n",
       "<table border=\"1\" class=\"dataframe\">\n",
       "  <thead>\n",
       "    <tr style=\"text-align: right;\">\n",
       "      <th></th>\n",
       "      <th>name</th>\n",
       "      <th>url</th>\n",
       "      <th>promoted_content</th>\n",
       "      <th>query</th>\n",
       "      <th>tweet_volume</th>\n",
       "    </tr>\n",
       "  </thead>\n",
       "  <tbody>\n",
       "    <tr>\n",
       "      <th>0</th>\n",
       "      <td>#WorldBookDay</td>\n",
       "      <td>http://twitter.com/search?q=%23WorldBookDay</td>\n",
       "      <td>None</td>\n",
       "      <td>%23WorldBookDay</td>\n",
       "      <td>42912.0</td>\n",
       "    </tr>\n",
       "    <tr>\n",
       "      <th>1</th>\n",
       "      <td>#FMQs</td>\n",
       "      <td>http://twitter.com/search?q=%23FMQs</td>\n",
       "      <td>None</td>\n",
       "      <td>%23FMQs</td>\n",
       "      <td>NaN</td>\n",
       "    </tr>\n",
       "    <tr>\n",
       "      <th>2</th>\n",
       "      <td>McDonalds</td>\n",
       "      <td>http://twitter.com/search?q=McDonalds</td>\n",
       "      <td>None</td>\n",
       "      <td>McDonalds</td>\n",
       "      <td>28464.0</td>\n",
       "    </tr>\n",
       "    <tr>\n",
       "      <th>3</th>\n",
       "      <td>#books</td>\n",
       "      <td>http://twitter.com/search?q=%23books</td>\n",
       "      <td>None</td>\n",
       "      <td>%23books</td>\n",
       "      <td>16430.0</td>\n",
       "    </tr>\n",
       "    <tr>\n",
       "      <th>4</th>\n",
       "      <td>#verymerewards</td>\n",
       "      <td>http://twitter.com/search?q=%23verymerewards</td>\n",
       "      <td>None</td>\n",
       "      <td>%23verymerewards</td>\n",
       "      <td>NaN</td>\n",
       "    </tr>\n",
       "    <tr>\n",
       "      <th>5</th>\n",
       "      <td>#WBD23</td>\n",
       "      <td>http://twitter.com/search?q=%23WBD23</td>\n",
       "      <td>None</td>\n",
       "      <td>%23WBD23</td>\n",
       "      <td>NaN</td>\n",
       "    </tr>\n",
       "    <tr>\n",
       "      <th>6</th>\n",
       "      <td>Hancock</td>\n",
       "      <td>http://twitter.com/search?q=Hancock</td>\n",
       "      <td>None</td>\n",
       "      <td>Hancock</td>\n",
       "      <td>107620.0</td>\n",
       "    </tr>\n",
       "    <tr>\n",
       "      <th>7</th>\n",
       "      <td>Lee Anderson</td>\n",
       "      <td>http://twitter.com/search?q=%22Lee+Anderson%22</td>\n",
       "      <td>None</td>\n",
       "      <td>%22Lee+Anderson%22</td>\n",
       "      <td>NaN</td>\n",
       "    </tr>\n",
       "    <tr>\n",
       "      <th>8</th>\n",
       "      <td>mnet</td>\n",
       "      <td>http://twitter.com/search?q=mnet</td>\n",
       "      <td>None</td>\n",
       "      <td>mnet</td>\n",
       "      <td>35645.0</td>\n",
       "    </tr>\n",
       "    <tr>\n",
       "      <th>9</th>\n",
       "      <td>Year 6</td>\n",
       "      <td>http://twitter.com/search?q=%22Year+6%22</td>\n",
       "      <td>None</td>\n",
       "      <td>%22Year+6%22</td>\n",
       "      <td>28767.0</td>\n",
       "    </tr>\n",
       "    <tr>\n",
       "      <th>10</th>\n",
       "      <td>HARUTO</td>\n",
       "      <td>http://twitter.com/search?q=HARUTO</td>\n",
       "      <td>None</td>\n",
       "      <td>HARUTO</td>\n",
       "      <td>36178.0</td>\n",
       "    </tr>\n",
       "    <tr>\n",
       "      <th>11</th>\n",
       "      <td>WhatsApp</td>\n",
       "      <td>http://twitter.com/search?q=WhatsApp</td>\n",
       "      <td>None</td>\n",
       "      <td>WhatsApp</td>\n",
       "      <td>256201.0</td>\n",
       "    </tr>\n",
       "    <tr>\n",
       "      <th>12</th>\n",
       "      <td>Badenoch</td>\n",
       "      <td>http://twitter.com/search?q=Badenoch</td>\n",
       "      <td>None</td>\n",
       "      <td>Badenoch</td>\n",
       "      <td>NaN</td>\n",
       "    </tr>\n",
       "    <tr>\n",
       "      <th>13</th>\n",
       "      <td>Isabel Oakeshott</td>\n",
       "      <td>http://twitter.com/search?q=%22Isabel+Oakeshot...</td>\n",
       "      <td>None</td>\n",
       "      <td>%22Isabel+Oakeshott%22</td>\n",
       "      <td>16170.0</td>\n",
       "    </tr>\n",
       "    <tr>\n",
       "      <th>14</th>\n",
       "      <td>30p Lee</td>\n",
       "      <td>http://twitter.com/search?q=%2230p+Lee%22</td>\n",
       "      <td>None</td>\n",
       "      <td>%2230p+Lee%22</td>\n",
       "      <td>NaN</td>\n",
       "    </tr>\n",
       "    <tr>\n",
       "      <th>15</th>\n",
       "      <td>The Tiger Who Came to Tea</td>\n",
       "      <td>http://twitter.com/search?q=%22The+Tiger+Who+C...</td>\n",
       "      <td>None</td>\n",
       "      <td>%22The+Tiger+Who+Came+to+Tea%22</td>\n",
       "      <td>NaN</td>\n",
       "    </tr>\n",
       "    <tr>\n",
       "      <th>16</th>\n",
       "      <td>WH Smith</td>\n",
       "      <td>http://twitter.com/search?q=%22WH+Smith%22</td>\n",
       "      <td>None</td>\n",
       "      <td>%22WH+Smith%22</td>\n",
       "      <td>NaN</td>\n",
       "    </tr>\n",
       "    <tr>\n",
       "      <th>17</th>\n",
       "      <td>Bryansk</td>\n",
       "      <td>http://twitter.com/search?q=Bryansk</td>\n",
       "      <td>None</td>\n",
       "      <td>Bryansk</td>\n",
       "      <td>17029.0</td>\n",
       "    </tr>\n",
       "    <tr>\n",
       "      <th>18</th>\n",
       "      <td>Gavin Williamson</td>\n",
       "      <td>http://twitter.com/search?q=%22Gavin+Williamso...</td>\n",
       "      <td>None</td>\n",
       "      <td>%22Gavin+Williamson%22</td>\n",
       "      <td>12822.0</td>\n",
       "    </tr>\n",
       "    <tr>\n",
       "      <th>19</th>\n",
       "      <td>Unions</td>\n",
       "      <td>http://twitter.com/search?q=Unions</td>\n",
       "      <td>None</td>\n",
       "      <td>Unions</td>\n",
       "      <td>24988.0</td>\n",
       "    </tr>\n",
       "    <tr>\n",
       "      <th>20</th>\n",
       "      <td>Richard Tice</td>\n",
       "      <td>http://twitter.com/search?q=%22Richard+Tice%22</td>\n",
       "      <td>None</td>\n",
       "      <td>%22Richard+Tice%22</td>\n",
       "      <td>NaN</td>\n",
       "    </tr>\n",
       "    <tr>\n",
       "      <th>21</th>\n",
       "      <td>Menopause</td>\n",
       "      <td>http://twitter.com/search?q=Menopause</td>\n",
       "      <td>None</td>\n",
       "      <td>Menopause</td>\n",
       "      <td>10346.0</td>\n",
       "    </tr>\n",
       "    <tr>\n",
       "      <th>22</th>\n",
       "      <td>Wo Long</td>\n",
       "      <td>http://twitter.com/search?q=%22Wo+Long%22</td>\n",
       "      <td>None</td>\n",
       "      <td>%22Wo+Long%22</td>\n",
       "      <td>NaN</td>\n",
       "    </tr>\n",
       "    <tr>\n",
       "      <th>23</th>\n",
       "      <td>New IRA</td>\n",
       "      <td>http://twitter.com/search?q=%22New+IRA%22</td>\n",
       "      <td>None</td>\n",
       "      <td>%22New+IRA%22</td>\n",
       "      <td>NaN</td>\n",
       "    </tr>\n",
       "    <tr>\n",
       "      <th>24</th>\n",
       "      <td>Igbo</td>\n",
       "      <td>http://twitter.com/search?q=Igbo</td>\n",
       "      <td>None</td>\n",
       "      <td>Igbo</td>\n",
       "      <td>170193.0</td>\n",
       "    </tr>\n",
       "    <tr>\n",
       "      <th>25</th>\n",
       "      <td>Teachers</td>\n",
       "      <td>http://twitter.com/search?q=Teachers</td>\n",
       "      <td>None</td>\n",
       "      <td>Teachers</td>\n",
       "      <td>94439.0</td>\n",
       "    </tr>\n",
       "    <tr>\n",
       "      <th>26</th>\n",
       "      <td>JCOLE</td>\n",
       "      <td>http://twitter.com/search?q=JCOLE</td>\n",
       "      <td>None</td>\n",
       "      <td>JCOLE</td>\n",
       "      <td>146789.0</td>\n",
       "    </tr>\n",
       "    <tr>\n",
       "      <th>27</th>\n",
       "      <td>Reform</td>\n",
       "      <td>http://twitter.com/search?q=Reform</td>\n",
       "      <td>None</td>\n",
       "      <td>Reform</td>\n",
       "      <td>34340.0</td>\n",
       "    </tr>\n",
       "    <tr>\n",
       "      <th>28</th>\n",
       "      <td>Alice in Wonderland</td>\n",
       "      <td>http://twitter.com/search?q=%22Alice+in+Wonder...</td>\n",
       "      <td>None</td>\n",
       "      <td>%22Alice+in+Wonderland%22</td>\n",
       "      <td>NaN</td>\n",
       "    </tr>\n",
       "    <tr>\n",
       "      <th>29</th>\n",
       "      <td>Reception</td>\n",
       "      <td>http://twitter.com/search?q=Reception</td>\n",
       "      <td>None</td>\n",
       "      <td>Reception</td>\n",
       "      <td>10592.0</td>\n",
       "    </tr>\n",
       "    <tr>\n",
       "      <th>30</th>\n",
       "      <td>Telegraph</td>\n",
       "      <td>http://twitter.com/search?q=Telegraph</td>\n",
       "      <td>None</td>\n",
       "      <td>Telegraph</td>\n",
       "      <td>66818.0</td>\n",
       "    </tr>\n",
       "    <tr>\n",
       "      <th>31</th>\n",
       "      <td>Library</td>\n",
       "      <td>http://twitter.com/search?q=Library</td>\n",
       "      <td>None</td>\n",
       "      <td>Library</td>\n",
       "      <td>51673.0</td>\n",
       "    </tr>\n",
       "    <tr>\n",
       "      <th>32</th>\n",
       "      <td>Yoruba</td>\n",
       "      <td>http://twitter.com/search?q=Yoruba</td>\n",
       "      <td>None</td>\n",
       "      <td>Yoruba</td>\n",
       "      <td>132636.0</td>\n",
       "    </tr>\n",
       "    <tr>\n",
       "      <th>33</th>\n",
       "      <td>Bunny</td>\n",
       "      <td>http://twitter.com/search?q=Bunny</td>\n",
       "      <td>None</td>\n",
       "      <td>Bunny</td>\n",
       "      <td>94447.0</td>\n",
       "    </tr>\n",
       "    <tr>\n",
       "      <th>34</th>\n",
       "      <td>Lockdowns</td>\n",
       "      <td>http://twitter.com/search?q=Lockdowns</td>\n",
       "      <td>None</td>\n",
       "      <td>Lockdowns</td>\n",
       "      <td>28096.0</td>\n",
       "    </tr>\n",
       "    <tr>\n",
       "      <th>35</th>\n",
       "      <td>Frogmore</td>\n",
       "      <td>http://twitter.com/search?q=Frogmore</td>\n",
       "      <td>None</td>\n",
       "      <td>Frogmore</td>\n",
       "      <td>34988.0</td>\n",
       "    </tr>\n",
       "    <tr>\n",
       "      <th>36</th>\n",
       "      <td>Bone</td>\n",
       "      <td>http://twitter.com/search?q=Bone</td>\n",
       "      <td>None</td>\n",
       "      <td>Bone</td>\n",
       "      <td>53820.0</td>\n",
       "    </tr>\n",
       "    <tr>\n",
       "      <th>37</th>\n",
       "      <td>Matilda</td>\n",
       "      <td>http://twitter.com/search?q=Matilda</td>\n",
       "      <td>None</td>\n",
       "      <td>Matilda</td>\n",
       "      <td>NaN</td>\n",
       "    </tr>\n",
       "    <tr>\n",
       "      <th>38</th>\n",
       "      <td>Where's Wally</td>\n",
       "      <td>http://twitter.com/search?q=%22Where%27s+Wally%22</td>\n",
       "      <td>None</td>\n",
       "      <td>%22Where%27s+Wally%22</td>\n",
       "      <td>NaN</td>\n",
       "    </tr>\n",
       "    <tr>\n",
       "      <th>39</th>\n",
       "      <td>Daily Quordle 402</td>\n",
       "      <td>http://twitter.com/search?q=%22Daily+Quordle+4...</td>\n",
       "      <td>None</td>\n",
       "      <td>%22Daily+Quordle+402%22</td>\n",
       "      <td>NaN</td>\n",
       "    </tr>\n",
       "    <tr>\n",
       "      <th>40</th>\n",
       "      <td>Carolyn</td>\n",
       "      <td>http://twitter.com/search?q=Carolyn</td>\n",
       "      <td>None</td>\n",
       "      <td>Carolyn</td>\n",
       "      <td>NaN</td>\n",
       "    </tr>\n",
       "    <tr>\n",
       "      <th>41</th>\n",
       "      <td>Ticketmaster</td>\n",
       "      <td>http://twitter.com/search?q=Ticketmaster</td>\n",
       "      <td>None</td>\n",
       "      <td>Ticketmaster</td>\n",
       "      <td>60740.0</td>\n",
       "    </tr>\n",
       "    <tr>\n",
       "      <th>42</th>\n",
       "      <td>Prince Andrew</td>\n",
       "      <td>http://twitter.com/search?q=%22Prince+Andrew%22</td>\n",
       "      <td>None</td>\n",
       "      <td>%22Prince+Andrew%22</td>\n",
       "      <td>NaN</td>\n",
       "    </tr>\n",
       "    <tr>\n",
       "      <th>43</th>\n",
       "      <td>Lagosians</td>\n",
       "      <td>http://twitter.com/search?q=Lagosians</td>\n",
       "      <td>None</td>\n",
       "      <td>Lagosians</td>\n",
       "      <td>78159.0</td>\n",
       "    </tr>\n",
       "    <tr>\n",
       "      <th>44</th>\n",
       "      <td>Sorcha</td>\n",
       "      <td>http://twitter.com/search?q=Sorcha</td>\n",
       "      <td>None</td>\n",
       "      <td>Sorcha</td>\n",
       "      <td>NaN</td>\n",
       "    </tr>\n",
       "    <tr>\n",
       "      <th>45</th>\n",
       "      <td>JHOPE</td>\n",
       "      <td>http://twitter.com/search?q=JHOPE</td>\n",
       "      <td>None</td>\n",
       "      <td>JHOPE</td>\n",
       "      <td>643888.0</td>\n",
       "    </tr>\n",
       "    <tr>\n",
       "      <th>46</th>\n",
       "      <td>BAME</td>\n",
       "      <td>http://twitter.com/search?q=BAME</td>\n",
       "      <td>None</td>\n",
       "      <td>BAME</td>\n",
       "      <td>NaN</td>\n",
       "    </tr>\n",
       "    <tr>\n",
       "      <th>47</th>\n",
       "      <td>EYFS</td>\n",
       "      <td>http://twitter.com/search?q=EYFS</td>\n",
       "      <td>None</td>\n",
       "      <td>EYFS</td>\n",
       "      <td>NaN</td>\n",
       "    </tr>\n",
       "    <tr>\n",
       "      <th>48</th>\n",
       "      <td>#BBCLiveLessons</td>\n",
       "      <td>http://twitter.com/search?q=%23BBCLiveLessons</td>\n",
       "      <td>None</td>\n",
       "      <td>%23BBCLiveLessons</td>\n",
       "      <td>NaN</td>\n",
       "    </tr>\n",
       "    <tr>\n",
       "      <th>49</th>\n",
       "      <td>#readingforpleasure</td>\n",
       "      <td>http://twitter.com/search?q=%23readingforpleasure</td>\n",
       "      <td>None</td>\n",
       "      <td>%23readingforpleasure</td>\n",
       "      <td>NaN</td>\n",
       "    </tr>\n",
       "  </tbody>\n",
       "</table>\n",
       "</div>"
      ],
      "text/plain": [
       "                         name  \\\n",
       "0               #WorldBookDay   \n",
       "1                       #FMQs   \n",
       "2                   McDonalds   \n",
       "3                      #books   \n",
       "4              #verymerewards   \n",
       "5                      #WBD23   \n",
       "6                     Hancock   \n",
       "7                Lee Anderson   \n",
       "8                        mnet   \n",
       "9                      Year 6   \n",
       "10                     HARUTO   \n",
       "11                   WhatsApp   \n",
       "12                   Badenoch   \n",
       "13           Isabel Oakeshott   \n",
       "14                    30p Lee   \n",
       "15  The Tiger Who Came to Tea   \n",
       "16                   WH Smith   \n",
       "17                    Bryansk   \n",
       "18           Gavin Williamson   \n",
       "19                     Unions   \n",
       "20               Richard Tice   \n",
       "21                  Menopause   \n",
       "22                    Wo Long   \n",
       "23                    New IRA   \n",
       "24                       Igbo   \n",
       "25                   Teachers   \n",
       "26                      JCOLE   \n",
       "27                     Reform   \n",
       "28        Alice in Wonderland   \n",
       "29                  Reception   \n",
       "30                  Telegraph   \n",
       "31                    Library   \n",
       "32                     Yoruba   \n",
       "33                      Bunny   \n",
       "34                  Lockdowns   \n",
       "35                   Frogmore   \n",
       "36                       Bone   \n",
       "37                    Matilda   \n",
       "38              Where's Wally   \n",
       "39          Daily Quordle 402   \n",
       "40                    Carolyn   \n",
       "41               Ticketmaster   \n",
       "42              Prince Andrew   \n",
       "43                  Lagosians   \n",
       "44                     Sorcha   \n",
       "45                      JHOPE   \n",
       "46                       BAME   \n",
       "47                       EYFS   \n",
       "48            #BBCLiveLessons   \n",
       "49        #readingforpleasure   \n",
       "\n",
       "                                                  url promoted_content  \\\n",
       "0         http://twitter.com/search?q=%23WorldBookDay             None   \n",
       "1                 http://twitter.com/search?q=%23FMQs             None   \n",
       "2               http://twitter.com/search?q=McDonalds             None   \n",
       "3                http://twitter.com/search?q=%23books             None   \n",
       "4        http://twitter.com/search?q=%23verymerewards             None   \n",
       "5                http://twitter.com/search?q=%23WBD23             None   \n",
       "6                 http://twitter.com/search?q=Hancock             None   \n",
       "7      http://twitter.com/search?q=%22Lee+Anderson%22             None   \n",
       "8                    http://twitter.com/search?q=mnet             None   \n",
       "9            http://twitter.com/search?q=%22Year+6%22             None   \n",
       "10                 http://twitter.com/search?q=HARUTO             None   \n",
       "11               http://twitter.com/search?q=WhatsApp             None   \n",
       "12               http://twitter.com/search?q=Badenoch             None   \n",
       "13  http://twitter.com/search?q=%22Isabel+Oakeshot...             None   \n",
       "14          http://twitter.com/search?q=%2230p+Lee%22             None   \n",
       "15  http://twitter.com/search?q=%22The+Tiger+Who+C...             None   \n",
       "16         http://twitter.com/search?q=%22WH+Smith%22             None   \n",
       "17                http://twitter.com/search?q=Bryansk             None   \n",
       "18  http://twitter.com/search?q=%22Gavin+Williamso...             None   \n",
       "19                 http://twitter.com/search?q=Unions             None   \n",
       "20     http://twitter.com/search?q=%22Richard+Tice%22             None   \n",
       "21              http://twitter.com/search?q=Menopause             None   \n",
       "22          http://twitter.com/search?q=%22Wo+Long%22             None   \n",
       "23          http://twitter.com/search?q=%22New+IRA%22             None   \n",
       "24                   http://twitter.com/search?q=Igbo             None   \n",
       "25               http://twitter.com/search?q=Teachers             None   \n",
       "26                  http://twitter.com/search?q=JCOLE             None   \n",
       "27                 http://twitter.com/search?q=Reform             None   \n",
       "28  http://twitter.com/search?q=%22Alice+in+Wonder...             None   \n",
       "29              http://twitter.com/search?q=Reception             None   \n",
       "30              http://twitter.com/search?q=Telegraph             None   \n",
       "31                http://twitter.com/search?q=Library             None   \n",
       "32                 http://twitter.com/search?q=Yoruba             None   \n",
       "33                  http://twitter.com/search?q=Bunny             None   \n",
       "34              http://twitter.com/search?q=Lockdowns             None   \n",
       "35               http://twitter.com/search?q=Frogmore             None   \n",
       "36                   http://twitter.com/search?q=Bone             None   \n",
       "37                http://twitter.com/search?q=Matilda             None   \n",
       "38  http://twitter.com/search?q=%22Where%27s+Wally%22             None   \n",
       "39  http://twitter.com/search?q=%22Daily+Quordle+4...             None   \n",
       "40                http://twitter.com/search?q=Carolyn             None   \n",
       "41           http://twitter.com/search?q=Ticketmaster             None   \n",
       "42    http://twitter.com/search?q=%22Prince+Andrew%22             None   \n",
       "43              http://twitter.com/search?q=Lagosians             None   \n",
       "44                 http://twitter.com/search?q=Sorcha             None   \n",
       "45                  http://twitter.com/search?q=JHOPE             None   \n",
       "46                   http://twitter.com/search?q=BAME             None   \n",
       "47                   http://twitter.com/search?q=EYFS             None   \n",
       "48      http://twitter.com/search?q=%23BBCLiveLessons             None   \n",
       "49  http://twitter.com/search?q=%23readingforpleasure             None   \n",
       "\n",
       "                              query  tweet_volume  \n",
       "0                   %23WorldBookDay       42912.0  \n",
       "1                           %23FMQs           NaN  \n",
       "2                         McDonalds       28464.0  \n",
       "3                          %23books       16430.0  \n",
       "4                  %23verymerewards           NaN  \n",
       "5                          %23WBD23           NaN  \n",
       "6                           Hancock      107620.0  \n",
       "7                %22Lee+Anderson%22           NaN  \n",
       "8                              mnet       35645.0  \n",
       "9                      %22Year+6%22       28767.0  \n",
       "10                           HARUTO       36178.0  \n",
       "11                         WhatsApp      256201.0  \n",
       "12                         Badenoch           NaN  \n",
       "13           %22Isabel+Oakeshott%22       16170.0  \n",
       "14                    %2230p+Lee%22           NaN  \n",
       "15  %22The+Tiger+Who+Came+to+Tea%22           NaN  \n",
       "16                   %22WH+Smith%22           NaN  \n",
       "17                          Bryansk       17029.0  \n",
       "18           %22Gavin+Williamson%22       12822.0  \n",
       "19                           Unions       24988.0  \n",
       "20               %22Richard+Tice%22           NaN  \n",
       "21                        Menopause       10346.0  \n",
       "22                    %22Wo+Long%22           NaN  \n",
       "23                    %22New+IRA%22           NaN  \n",
       "24                             Igbo      170193.0  \n",
       "25                         Teachers       94439.0  \n",
       "26                            JCOLE      146789.0  \n",
       "27                           Reform       34340.0  \n",
       "28        %22Alice+in+Wonderland%22           NaN  \n",
       "29                        Reception       10592.0  \n",
       "30                        Telegraph       66818.0  \n",
       "31                          Library       51673.0  \n",
       "32                           Yoruba      132636.0  \n",
       "33                            Bunny       94447.0  \n",
       "34                        Lockdowns       28096.0  \n",
       "35                         Frogmore       34988.0  \n",
       "36                             Bone       53820.0  \n",
       "37                          Matilda           NaN  \n",
       "38            %22Where%27s+Wally%22           NaN  \n",
       "39          %22Daily+Quordle+402%22           NaN  \n",
       "40                          Carolyn           NaN  \n",
       "41                     Ticketmaster       60740.0  \n",
       "42              %22Prince+Andrew%22           NaN  \n",
       "43                        Lagosians       78159.0  \n",
       "44                           Sorcha           NaN  \n",
       "45                            JHOPE      643888.0  \n",
       "46                             BAME           NaN  \n",
       "47                             EYFS           NaN  \n",
       "48                %23BBCLiveLessons           NaN  \n",
       "49            %23readingforpleasure           NaN  "
      ]
     },
     "execution_count": 445,
     "metadata": {},
     "output_type": "execute_result"
    }
   ],
   "source": [
    "# Look at the output as a DataFrame.\n",
    "# Import Pandas.\n",
    "import pandas as pd\n",
    "\n",
    "# Create a DataFrame.\n",
    "united_kingdom_trends_pd = pd.DataFrame(united_kingdom_trends[0]['trends'])\n",
    "\n",
    "# View a DataFrame.\n",
    "united_kingdom_trends_pd"
   ]
  },
  {
   "cell_type": "code",
   "execution_count": 446,
   "id": "31a423b2",
   "metadata": {},
   "outputs": [
    {
     "name": "stdout",
     "output_type": "stream",
     "text": [
      "(13, 5)\n"
     ]
    },
    {
     "data": {
      "text/html": [
       "<div>\n",
       "<style scoped>\n",
       "    .dataframe tbody tr th:only-of-type {\n",
       "        vertical-align: middle;\n",
       "    }\n",
       "\n",
       "    .dataframe tbody tr th {\n",
       "        vertical-align: top;\n",
       "    }\n",
       "\n",
       "    .dataframe thead th {\n",
       "        text-align: right;\n",
       "    }\n",
       "</style>\n",
       "<table border=\"1\" class=\"dataframe\">\n",
       "  <thead>\n",
       "    <tr style=\"text-align: right;\">\n",
       "      <th></th>\n",
       "      <th>name</th>\n",
       "      <th>url</th>\n",
       "      <th>promoted_content</th>\n",
       "      <th>query</th>\n",
       "      <th>tweet_volume</th>\n",
       "    </tr>\n",
       "  </thead>\n",
       "  <tbody>\n",
       "    <tr>\n",
       "      <th>45</th>\n",
       "      <td>JHOPE</td>\n",
       "      <td>http://twitter.com/search?q=JHOPE</td>\n",
       "      <td>None</td>\n",
       "      <td>JHOPE</td>\n",
       "      <td>643888.0</td>\n",
       "    </tr>\n",
       "    <tr>\n",
       "      <th>11</th>\n",
       "      <td>WhatsApp</td>\n",
       "      <td>http://twitter.com/search?q=WhatsApp</td>\n",
       "      <td>None</td>\n",
       "      <td>WhatsApp</td>\n",
       "      <td>256201.0</td>\n",
       "    </tr>\n",
       "    <tr>\n",
       "      <th>24</th>\n",
       "      <td>Igbo</td>\n",
       "      <td>http://twitter.com/search?q=Igbo</td>\n",
       "      <td>None</td>\n",
       "      <td>Igbo</td>\n",
       "      <td>170193.0</td>\n",
       "    </tr>\n",
       "    <tr>\n",
       "      <th>26</th>\n",
       "      <td>JCOLE</td>\n",
       "      <td>http://twitter.com/search?q=JCOLE</td>\n",
       "      <td>None</td>\n",
       "      <td>JCOLE</td>\n",
       "      <td>146789.0</td>\n",
       "    </tr>\n",
       "    <tr>\n",
       "      <th>32</th>\n",
       "      <td>Yoruba</td>\n",
       "      <td>http://twitter.com/search?q=Yoruba</td>\n",
       "      <td>None</td>\n",
       "      <td>Yoruba</td>\n",
       "      <td>132636.0</td>\n",
       "    </tr>\n",
       "    <tr>\n",
       "      <th>6</th>\n",
       "      <td>Hancock</td>\n",
       "      <td>http://twitter.com/search?q=Hancock</td>\n",
       "      <td>None</td>\n",
       "      <td>Hancock</td>\n",
       "      <td>107620.0</td>\n",
       "    </tr>\n",
       "    <tr>\n",
       "      <th>33</th>\n",
       "      <td>Bunny</td>\n",
       "      <td>http://twitter.com/search?q=Bunny</td>\n",
       "      <td>None</td>\n",
       "      <td>Bunny</td>\n",
       "      <td>94447.0</td>\n",
       "    </tr>\n",
       "    <tr>\n",
       "      <th>25</th>\n",
       "      <td>Teachers</td>\n",
       "      <td>http://twitter.com/search?q=Teachers</td>\n",
       "      <td>None</td>\n",
       "      <td>Teachers</td>\n",
       "      <td>94439.0</td>\n",
       "    </tr>\n",
       "    <tr>\n",
       "      <th>43</th>\n",
       "      <td>Lagosians</td>\n",
       "      <td>http://twitter.com/search?q=Lagosians</td>\n",
       "      <td>None</td>\n",
       "      <td>Lagosians</td>\n",
       "      <td>78159.0</td>\n",
       "    </tr>\n",
       "    <tr>\n",
       "      <th>30</th>\n",
       "      <td>Telegraph</td>\n",
       "      <td>http://twitter.com/search?q=Telegraph</td>\n",
       "      <td>None</td>\n",
       "      <td>Telegraph</td>\n",
       "      <td>66818.0</td>\n",
       "    </tr>\n",
       "    <tr>\n",
       "      <th>41</th>\n",
       "      <td>Ticketmaster</td>\n",
       "      <td>http://twitter.com/search?q=Ticketmaster</td>\n",
       "      <td>None</td>\n",
       "      <td>Ticketmaster</td>\n",
       "      <td>60740.0</td>\n",
       "    </tr>\n",
       "    <tr>\n",
       "      <th>36</th>\n",
       "      <td>Bone</td>\n",
       "      <td>http://twitter.com/search?q=Bone</td>\n",
       "      <td>None</td>\n",
       "      <td>Bone</td>\n",
       "      <td>53820.0</td>\n",
       "    </tr>\n",
       "    <tr>\n",
       "      <th>31</th>\n",
       "      <td>Library</td>\n",
       "      <td>http://twitter.com/search?q=Library</td>\n",
       "      <td>None</td>\n",
       "      <td>Library</td>\n",
       "      <td>51673.0</td>\n",
       "    </tr>\n",
       "  </tbody>\n",
       "</table>\n",
       "</div>"
      ],
      "text/plain": [
       "            name                                       url promoted_content  \\\n",
       "45         JHOPE         http://twitter.com/search?q=JHOPE             None   \n",
       "11      WhatsApp      http://twitter.com/search?q=WhatsApp             None   \n",
       "24          Igbo          http://twitter.com/search?q=Igbo             None   \n",
       "26         JCOLE         http://twitter.com/search?q=JCOLE             None   \n",
       "32        Yoruba        http://twitter.com/search?q=Yoruba             None   \n",
       "6        Hancock       http://twitter.com/search?q=Hancock             None   \n",
       "33         Bunny         http://twitter.com/search?q=Bunny             None   \n",
       "25      Teachers      http://twitter.com/search?q=Teachers             None   \n",
       "43     Lagosians     http://twitter.com/search?q=Lagosians             None   \n",
       "30     Telegraph     http://twitter.com/search?q=Telegraph             None   \n",
       "41  Ticketmaster  http://twitter.com/search?q=Ticketmaster             None   \n",
       "36          Bone          http://twitter.com/search?q=Bone             None   \n",
       "31       Library       http://twitter.com/search?q=Library             None   \n",
       "\n",
       "           query  tweet_volume  \n",
       "45         JHOPE      643888.0  \n",
       "11      WhatsApp      256201.0  \n",
       "24          Igbo      170193.0  \n",
       "26         JCOLE      146789.0  \n",
       "32        Yoruba      132636.0  \n",
       "6        Hancock      107620.0  \n",
       "33         Bunny       94447.0  \n",
       "25      Teachers       94439.0  \n",
       "43     Lagosians       78159.0  \n",
       "30     Telegraph       66818.0  \n",
       "41  Ticketmaster       60740.0  \n",
       "36          Bone       53820.0  \n",
       "31       Library       51673.0  "
      ]
     },
     "execution_count": 446,
     "metadata": {},
     "output_type": "execute_result"
    }
   ],
   "source": [
    "# Narrow list down to 50,000 tweets.\n",
    "united_kingdom_trends_over50k_pd = united_kingdom_trends_pd[united_kingdom_trends_pd['tweet_volume'] > 50000]\\\n",
    ".sort_values('tweet_volume', ascending=False)\n",
    "\n",
    "# View the output.\n",
    "print(united_kingdom_trends_over50k_pd.shape)\n",
    "united_kingdom_trends_over50k_pd"
   ]
  },
  {
   "cell_type": "code",
   "execution_count": 447,
   "id": "dd33ce40",
   "metadata": {},
   "outputs": [],
   "source": [
    "# Save output as a CSV file.\n",
    "united_kingdom_trends_over50k_pd.to_csv('united_kingdom_trends_over50k.csv', index=False)"
   ]
  },
  {
   "cell_type": "code",
   "execution_count": 448,
   "id": "f2f51cfa",
   "metadata": {},
   "outputs": [
    {
     "name": "stdout",
     "output_type": "stream",
     "text": [
      "{'statuses': [{'created_at': 'Thu Mar 02 13:39:42 +0000 2023', 'id': 1631288171345465347, 'id_str': '1631288171345465347', 'text': '#ECR2023👉Many thanks to Szymon Korzekwa  from BrainScanAI for his pitch 🙏 : \\n\\n“Support for emergency departments in… https://t.co/lBztbYfLvB', 'truncated': True, 'entities': {'hashtags': [{'text': 'ECR2023', 'indices': [0, 8]}], 'symbols': [], 'user_mentions': [], 'urls': [{'url': 'https://t.co/lBztbYfLvB', 'expanded_url': 'https://twitter.com/i/web/status/1631288171345465347', 'display_url': 'twitter.com/i/web/status/1…', 'indices': [117, 140]}]}, 'metadata': {'iso_language_code': 'en', 'result_type': 'recent'}, 'source': '<a href=\"https://mobile.twitter.com\" rel=\"nofollow\">Twitter Web App</a>', 'in_reply_to_status_id': None, 'in_reply_to_status_id_str': None, 'in_reply_to_user_id': None, 'in_reply_to_user_id_str': None, 'in_reply_to_screen_name': None, 'user': {'id': 987079755634798593, 'id_str': '987079755634798593', 'name': 'Milvue', 'screen_name': 'MilvueAI', 'location': 'Paris, France', 'description': 'Milvue est un logiciel d’#IntelligenceArtificielle d’aide diagnostique radiologique développé par des ingénieurs en #MachineLearning et des radiologues experts.', 'url': 'https://t.co/GZgoOZIedC', 'entities': {'url': {'urls': [{'url': 'https://t.co/GZgoOZIedC', 'expanded_url': 'https://www.milvue.com/', 'display_url': 'milvue.com', 'indices': [0, 23]}]}, 'description': {'urls': []}}, 'protected': False, 'followers_count': 159, 'friends_count': 313, 'listed_count': 4, 'created_at': 'Thu Apr 19 21:25:27 +0000 2018', 'favourites_count': 120, 'utc_offset': None, 'time_zone': None, 'geo_enabled': False, 'verified': False, 'statuses_count': 136, 'lang': None, 'contributors_enabled': False, 'is_translator': False, 'is_translation_enabled': False, 'profile_background_color': 'F5F8FA', 'profile_background_image_url': None, 'profile_background_image_url_https': None, 'profile_background_tile': False, 'profile_image_url': 'http://pbs.twimg.com/profile_images/1534271922556526592/29StSHDc_normal.jpg', 'profile_image_url_https': 'https://pbs.twimg.com/profile_images/1534271922556526592/29StSHDc_normal.jpg', 'profile_banner_url': 'https://pbs.twimg.com/profile_banners/987079755634798593/1654634303', 'profile_link_color': '1DA1F2', 'profile_sidebar_border_color': 'C0DEED', 'profile_sidebar_fill_color': 'DDEEF6', 'profile_text_color': '333333', 'profile_use_background_image': True, 'has_extended_profile': False, 'default_profile': True, 'default_profile_image': False, 'following': False, 'follow_request_sent': False, 'notifications': False, 'translator_type': 'none', 'withheld_in_countries': []}, 'geo': None, 'coordinates': None, 'place': None, 'contributors': None, 'is_quote_status': False, 'retweet_count': 0, 'favorite_count': 0, 'favorited': False, 'retweeted': False, 'possibly_sensitive': False, 'lang': 'en'}, {'created_at': 'Thu Mar 02 13:39:34 +0000 2023', 'id': 1631288135953924097, 'id_str': '1631288135953924097', 'text': 'RT @RupaSin44202771: https://t.co/kGk06130Dy\\nहाई ब्लड प्रेशर को हाइपरटेंशन भी कहा जाता है। हाई ब्लडप्रेशर आजकल आम समस्या बनती जा रही है।हिं…', 'truncated': False, 'entities': {'hashtags': [], 'symbols': [], 'user_mentions': [{'screen_name': 'RupaSin44202771', 'name': 'Rupa Oos ki ek Boond', 'id': 1335574739746635777, 'id_str': '1335574739746635777', 'indices': [3, 19]}], 'urls': [{'url': 'https://t.co/kGk06130Dy', 'expanded_url': 'https://rupaaooskiekboond.blogspot.com/2020/06/ayurveda-synthesis-of-yoga-and-natural_29.html', 'display_url': 'rupaaooskiekboond.blogspot.com/2020/06/ayurve…', 'indices': [21, 44]}]}, 'metadata': {'iso_language_code': 'hi', 'result_type': 'recent'}, 'source': '<a href=\"http://twitter.com/download/android\" rel=\"nofollow\">Twitter for Android</a>', 'in_reply_to_status_id': None, 'in_reply_to_status_id_str': None, 'in_reply_to_user_id': None, 'in_reply_to_user_id_str': None, 'in_reply_to_screen_name': None, 'user': {'id': 1565353243064279048, 'id_str': '1565353243064279048', 'name': 'Kajal tiwari', 'screen_name': 'kajaltiwari__', 'location': 'Uttar Pradesh, India', 'description': 'राष्ट्रहित सर्वोपरि 🙏', 'url': None, 'entities': {'description': {'urls': []}}, 'protected': False, 'followers_count': 13129, 'friends_count': 254, 'listed_count': 3, 'created_at': 'Thu Sep 01 14:58:00 +0000 2022', 'favourites_count': 8934, 'utc_offset': None, 'time_zone': None, 'geo_enabled': False, 'verified': False, 'statuses_count': 8794, 'lang': None, 'contributors_enabled': False, 'is_translator': False, 'is_translation_enabled': False, 'profile_background_color': 'F5F8FA', 'profile_background_image_url': None, 'profile_background_image_url_https': None, 'profile_background_tile': False, 'profile_image_url': 'http://pbs.twimg.com/profile_images/1627701293094690816/weUm2f4-_normal.jpg', 'profile_image_url_https': 'https://pbs.twimg.com/profile_images/1627701293094690816/weUm2f4-_normal.jpg', 'profile_banner_url': 'https://pbs.twimg.com/profile_banners/1565353243064279048/1673452753', 'profile_link_color': '1DA1F2', 'profile_sidebar_border_color': 'C0DEED', 'profile_sidebar_fill_color': 'DDEEF6', 'profile_text_color': '333333', 'profile_use_background_image': True, 'has_extended_profile': True, 'default_profile': True, 'default_profile_image': False, 'following': False, 'follow_request_sent': False, 'notifications': False, 'translator_type': 'none', 'withheld_in_countries': []}, 'geo': None, 'coordinates': None, 'place': None, 'contributors': None, 'retweeted_status': {'created_at': 'Thu Mar 02 11:48:14 +0000 2023', 'id': 1631260118271791104, 'id_str': '1631260118271791104', 'text': 'https://t.co/kGk06130Dy\\nहाई ब्लड प्रेशर को हाइपरटेंशन भी कहा जाता है। हाई ब्लडप्रेशर आजकल आम समस्या बनती जा रही है।… https://t.co/AEWXr330Sb', 'truncated': True, 'entities': {'hashtags': [], 'symbols': [], 'user_mentions': [], 'urls': [{'url': 'https://t.co/kGk06130Dy', 'expanded_url': 'https://rupaaooskiekboond.blogspot.com/2020/06/ayurveda-synthesis-of-yoga-and-natural_29.html', 'display_url': 'rupaaooskiekboond.blogspot.com/2020/06/ayurve…', 'indices': [0, 23]}, {'url': 'https://t.co/AEWXr330Sb', 'expanded_url': 'https://twitter.com/i/web/status/1631260118271791104', 'display_url': 'twitter.com/i/web/status/1…', 'indices': [117, 140]}]}, 'metadata': {'iso_language_code': 'hi', 'result_type': 'recent'}, 'source': '<a href=\"http://twitter.com/download/android\" rel=\"nofollow\">Twitter for Android</a>', 'in_reply_to_status_id': None, 'in_reply_to_status_id_str': None, 'in_reply_to_user_id': None, 'in_reply_to_user_id_str': None, 'in_reply_to_screen_name': None, 'user': {'id': 1335574739746635777, 'id_str': '1335574739746635777', 'name': 'Rupa Oos ki ek Boond', 'screen_name': 'RupaSin44202771', 'location': '', 'description': '', 'url': 'https://t.co/nWtGDGvueD', 'entities': {'url': {'urls': [{'url': 'https://t.co/nWtGDGvueD', 'expanded_url': 'http://rupaaooskiekboond.blogspot.com', 'display_url': 'rupaaooskiekboond.blogspot.com', 'indices': [0, 23]}]}, 'description': {'urls': []}}, 'protected': False, 'followers_count': 1165, 'friends_count': 266, 'listed_count': 0, 'created_at': 'Sun Dec 06 13:20:29 +0000 2020', 'favourites_count': 16385, 'utc_offset': None, 'time_zone': None, 'geo_enabled': False, 'verified': False, 'statuses_count': 10542, 'lang': None, 'contributors_enabled': False, 'is_translator': False, 'is_translation_enabled': False, 'profile_background_color': 'F5F8FA', 'profile_background_image_url': None, 'profile_background_image_url_https': None, 'profile_background_tile': False, 'profile_image_url': 'http://pbs.twimg.com/profile_images/1570727738180521985/QNyzPij6_normal.jpg', 'profile_image_url_https': 'https://pbs.twimg.com/profile_images/1570727738180521985/QNyzPij6_normal.jpg', 'profile_banner_url': 'https://pbs.twimg.com/profile_banners/1335574739746635777/1642852935', 'profile_link_color': '1DA1F2', 'profile_sidebar_border_color': 'C0DEED', 'profile_sidebar_fill_color': 'DDEEF6', 'profile_text_color': '333333', 'profile_use_background_image': True, 'has_extended_profile': False, 'default_profile': True, 'default_profile_image': False, 'following': False, 'follow_request_sent': False, 'notifications': False, 'translator_type': 'none', 'withheld_in_countries': []}, 'geo': None, 'coordinates': None, 'place': None, 'contributors': None, 'is_quote_status': False, 'retweet_count': 55, 'favorite_count': 45, 'favorited': False, 'retweeted': False, 'possibly_sensitive': False, 'lang': 'hi'}, 'is_quote_status': False, 'retweet_count': 55, 'favorite_count': 0, 'favorited': False, 'retweeted': False, 'possibly_sensitive': False, 'lang': 'hi'}, {'created_at': 'Thu Mar 02 13:39:23 +0000 2023', 'id': 1631288089531351041, 'id_str': '1631288089531351041', 'text': 'RT @Wayne_Gates: Public health care is personal to me. \\n\\nMy family lived in poverty when I was young due to medical bills. Today, in the US…', 'truncated': False, 'entities': {'hashtags': [], 'symbols': [], 'user_mentions': [{'screen_name': 'Wayne_Gates', 'name': 'Wayne Gates', 'id': 174878238, 'id_str': '174878238', 'indices': [3, 15]}], 'urls': []}, 'metadata': {'iso_language_code': 'en', 'result_type': 'recent'}, 'source': '<a href=\"http://twitter.com/download/android\" rel=\"nofollow\">Twitter for Android</a>', 'in_reply_to_status_id': None, 'in_reply_to_status_id_str': None, 'in_reply_to_user_id': None, 'in_reply_to_user_id_str': None, 'in_reply_to_screen_name': None, 'user': {'id': 500932519, 'id_str': '500932519', 'name': 'janet fraser', 'screen_name': 'fraser_janet', 'location': 'Ottawa', 'description': 'Mom, grandma, supporter of unions and social justice.', 'url': None, 'entities': {'description': {'urls': []}}, 'protected': False, 'followers_count': 822, 'friends_count': 848, 'listed_count': 27, 'created_at': 'Thu Feb 23 16:29:18 +0000 2012', 'favourites_count': 23387, 'utc_offset': None, 'time_zone': None, 'geo_enabled': False, 'verified': False, 'statuses_count': 36332, 'lang': None, 'contributors_enabled': False, 'is_translator': False, 'is_translation_enabled': False, 'profile_background_color': 'C0DEED', 'profile_background_image_url': 'http://abs.twimg.com/images/themes/theme1/bg.png', 'profile_background_image_url_https': 'https://abs.twimg.com/images/themes/theme1/bg.png', 'profile_background_tile': False, 'profile_image_url': 'http://pbs.twimg.com/profile_images/769699408606789632/BPlHGJJE_normal.jpg', 'profile_image_url_https': 'https://pbs.twimg.com/profile_images/769699408606789632/BPlHGJJE_normal.jpg', 'profile_link_color': '1DA1F2', 'profile_sidebar_border_color': 'C0DEED', 'profile_sidebar_fill_color': 'DDEEF6', 'profile_text_color': '333333', 'profile_use_background_image': True, 'has_extended_profile': False, 'default_profile': True, 'default_profile_image': False, 'following': False, 'follow_request_sent': False, 'notifications': False, 'translator_type': 'none', 'withheld_in_countries': []}, 'geo': None, 'coordinates': None, 'place': None, 'contributors': None, 'retweeted_status': {'created_at': 'Wed Mar 01 15:40:47 +0000 2023', 'id': 1630956255438045185, 'id_str': '1630956255438045185', 'text': 'Public health care is personal to me. \\n\\nMy family lived in poverty when I was young due to medical bills. Today, in… https://t.co/Oq6RWEbg0E', 'truncated': True, 'entities': {'hashtags': [], 'symbols': [], 'user_mentions': [], 'urls': [{'url': 'https://t.co/Oq6RWEbg0E', 'expanded_url': 'https://twitter.com/i/web/status/1630956255438045185', 'display_url': 'twitter.com/i/web/status/1…', 'indices': [117, 140]}]}, 'metadata': {'iso_language_code': 'en', 'result_type': 'recent'}, 'source': '<a href=\"https://mobile.twitter.com\" rel=\"nofollow\">Twitter Web App</a>', 'in_reply_to_status_id': None, 'in_reply_to_status_id_str': None, 'in_reply_to_user_id': None, 'in_reply_to_user_id_str': None, 'in_reply_to_screen_name': None, 'user': {'id': 174878238, 'id_str': '174878238', 'name': 'Wayne Gates', 'screen_name': 'Wayne_Gates', 'location': 'Niagara Falls', 'description': 'Proud Father and Grandfather. NDP MPP for Niagara Falls, Fort Erie and Niagara-on-the-Lake. Owner of the best moustache in town.', 'url': 'https://t.co/PnTuLZS4Th', 'entities': {'url': {'urls': [{'url': 'https://t.co/PnTuLZS4Th', 'expanded_url': 'https://linktr.ee/WayneGates', 'display_url': 'linktr.ee/WayneGates', 'indices': [0, 23]}]}, 'description': {'urls': []}}, 'protected': False, 'followers_count': 7662, 'friends_count': 1172, 'listed_count': 137, 'created_at': 'Thu Aug 05 01:43:28 +0000 2010', 'favourites_count': 15306, 'utc_offset': None, 'time_zone': None, 'geo_enabled': True, 'verified': True, 'statuses_count': 6566, 'lang': None, 'contributors_enabled': False, 'is_translator': False, 'is_translation_enabled': False, 'profile_background_color': 'FA8100', 'profile_background_image_url': 'http://abs.twimg.com/images/themes/theme1/bg.png', 'profile_background_image_url_https': 'https://abs.twimg.com/images/themes/theme1/bg.png', 'profile_background_tile': False, 'profile_image_url': 'http://pbs.twimg.com/profile_images/1507424773416050690/dNYqwH3K_normal.jpg', 'profile_image_url_https': 'https://pbs.twimg.com/profile_images/1507424773416050690/dNYqwH3K_normal.jpg', 'profile_banner_url': 'https://pbs.twimg.com/profile_banners/174878238/1452290502', 'profile_link_color': 'FF6633', 'profile_sidebar_border_color': '000000', 'profile_sidebar_fill_color': 'DDEEF6', 'profile_text_color': '333333', 'profile_use_background_image': False, 'has_extended_profile': False, 'default_profile': False, 'default_profile_image': False, 'following': False, 'follow_request_sent': False, 'notifications': False, 'translator_type': 'none', 'withheld_in_countries': []}, 'geo': None, 'coordinates': None, 'place': None, 'contributors': None, 'is_quote_status': False, 'retweet_count': 117, 'favorite_count': 479, 'favorited': False, 'retweeted': False, 'possibly_sensitive': False, 'lang': 'en'}, 'is_quote_status': False, 'retweet_count': 117, 'favorite_count': 0, 'favorited': False, 'retweeted': False, 'lang': 'en'}, {'created_at': 'Thu Mar 02 13:39:10 +0000 2023', 'id': 1631288034812391424, 'id_str': '1631288034812391424', 'text': 'RT @Wayne_Gates: Public health care is personal to me. \\n\\nMy family lived in poverty when I was young due to medical bills. Today, in the US…', 'truncated': False, 'entities': {'hashtags': [], 'symbols': [], 'user_mentions': [{'screen_name': 'Wayne_Gates', 'name': 'Wayne Gates', 'id': 174878238, 'id_str': '174878238', 'indices': [3, 15]}], 'urls': []}, 'metadata': {'iso_language_code': 'en', 'result_type': 'recent'}, 'source': '<a href=\"http://twitter.com/download/iphone\" rel=\"nofollow\">Twitter for iPhone</a>', 'in_reply_to_status_id': None, 'in_reply_to_status_id_str': None, 'in_reply_to_user_id': None, 'in_reply_to_user_id_str': None, 'in_reply_to_screen_name': None, 'user': {'id': 344029062, 'id_str': '344029062', 'name': 'Linda Poirier', 'screen_name': 'poirierli', 'location': '', 'description': 'retired senior policy advisor', 'url': None, 'entities': {'description': {'urls': []}}, 'protected': False, 'followers_count': 80, 'friends_count': 559, 'listed_count': 0, 'created_at': 'Thu Jul 28 12:52:04 +0000 2011', 'favourites_count': 5416, 'utc_offset': None, 'time_zone': None, 'geo_enabled': False, 'verified': False, 'statuses_count': 2463, 'lang': None, 'contributors_enabled': False, 'is_translator': False, 'is_translation_enabled': False, 'profile_background_color': 'C0DEED', 'profile_background_image_url': 'http://abs.twimg.com/images/themes/theme1/bg.png', 'profile_background_image_url_https': 'https://abs.twimg.com/images/themes/theme1/bg.png', 'profile_background_tile': False, 'profile_image_url': 'http://pbs.twimg.com/profile_images/1586801457675780097/9rQ1ITCm_normal.jpg', 'profile_image_url_https': 'https://pbs.twimg.com/profile_images/1586801457675780097/9rQ1ITCm_normal.jpg', 'profile_link_color': '1DA1F2', 'profile_sidebar_border_color': 'C0DEED', 'profile_sidebar_fill_color': 'DDEEF6', 'profile_text_color': '333333', 'profile_use_background_image': True, 'has_extended_profile': False, 'default_profile': True, 'default_profile_image': False, 'following': False, 'follow_request_sent': False, 'notifications': False, 'translator_type': 'none', 'withheld_in_countries': []}, 'geo': None, 'coordinates': None, 'place': None, 'contributors': None, 'retweeted_status': {'created_at': 'Wed Mar 01 15:40:47 +0000 2023', 'id': 1630956255438045185, 'id_str': '1630956255438045185', 'text': 'Public health care is personal to me. \\n\\nMy family lived in poverty when I was young due to medical bills. Today, in… https://t.co/Oq6RWEbg0E', 'truncated': True, 'entities': {'hashtags': [], 'symbols': [], 'user_mentions': [], 'urls': [{'url': 'https://t.co/Oq6RWEbg0E', 'expanded_url': 'https://twitter.com/i/web/status/1630956255438045185', 'display_url': 'twitter.com/i/web/status/1…', 'indices': [117, 140]}]}, 'metadata': {'iso_language_code': 'en', 'result_type': 'recent'}, 'source': '<a href=\"https://mobile.twitter.com\" rel=\"nofollow\">Twitter Web App</a>', 'in_reply_to_status_id': None, 'in_reply_to_status_id_str': None, 'in_reply_to_user_id': None, 'in_reply_to_user_id_str': None, 'in_reply_to_screen_name': None, 'user': {'id': 174878238, 'id_str': '174878238', 'name': 'Wayne Gates', 'screen_name': 'Wayne_Gates', 'location': 'Niagara Falls', 'description': 'Proud Father and Grandfather. NDP MPP for Niagara Falls, Fort Erie and Niagara-on-the-Lake. Owner of the best moustache in town.', 'url': 'https://t.co/PnTuLZS4Th', 'entities': {'url': {'urls': [{'url': 'https://t.co/PnTuLZS4Th', 'expanded_url': 'https://linktr.ee/WayneGates', 'display_url': 'linktr.ee/WayneGates', 'indices': [0, 23]}]}, 'description': {'urls': []}}, 'protected': False, 'followers_count': 7662, 'friends_count': 1172, 'listed_count': 137, 'created_at': 'Thu Aug 05 01:43:28 +0000 2010', 'favourites_count': 15306, 'utc_offset': None, 'time_zone': None, 'geo_enabled': True, 'verified': True, 'statuses_count': 6566, 'lang': None, 'contributors_enabled': False, 'is_translator': False, 'is_translation_enabled': False, 'profile_background_color': 'FA8100', 'profile_background_image_url': 'http://abs.twimg.com/images/themes/theme1/bg.png', 'profile_background_image_url_https': 'https://abs.twimg.com/images/themes/theme1/bg.png', 'profile_background_tile': False, 'profile_image_url': 'http://pbs.twimg.com/profile_images/1507424773416050690/dNYqwH3K_normal.jpg', 'profile_image_url_https': 'https://pbs.twimg.com/profile_images/1507424773416050690/dNYqwH3K_normal.jpg', 'profile_banner_url': 'https://pbs.twimg.com/profile_banners/174878238/1452290502', 'profile_link_color': 'FF6633', 'profile_sidebar_border_color': '000000', 'profile_sidebar_fill_color': 'DDEEF6', 'profile_text_color': '333333', 'profile_use_background_image': False, 'has_extended_profile': False, 'default_profile': False, 'default_profile_image': False, 'following': False, 'follow_request_sent': False, 'notifications': False, 'translator_type': 'none', 'withheld_in_countries': []}, 'geo': None, 'coordinates': None, 'place': None, 'contributors': None, 'is_quote_status': False, 'retweet_count': 117, 'favorite_count': 479, 'favorited': False, 'retweeted': False, 'possibly_sensitive': False, 'lang': 'en'}, 'is_quote_status': False, 'retweet_count': 117, 'favorite_count': 0, 'favorited': False, 'retweeted': False, 'lang': 'en'}, {'created_at': 'Thu Mar 02 13:38:55 +0000 2023', 'id': 1631287972975845378, 'id_str': '1631287972975845378', 'text': 'RT @GoHealthHero: Ready to be a #HealthHero? Get your body moving &amp; improve your overall health with JOGGING! 🏃🏃🏃\\n\\nSnap a photo of yourself…', 'truncated': False, 'entities': {'hashtags': [{'text': 'HealthHero', 'indices': [32, 43]}], 'symbols': [], 'user_mentions': [{'screen_name': 'GoHealthHero', 'name': 'Health Hero', 'id': 471143006, 'id_str': '471143006', 'indices': [3, 16]}], 'urls': []}, 'metadata': {'iso_language_code': 'en', 'result_type': 'recent'}, 'source': '<a href=\"https://mobile.twitter.com\" rel=\"nofollow\">Twitter Web App</a>', 'in_reply_to_status_id': None, 'in_reply_to_status_id_str': None, 'in_reply_to_user_id': None, 'in_reply_to_user_id_str': None, 'in_reply_to_screen_name': None, 'user': {'id': 1298465487265832961, 'id_str': '1298465487265832961', 'name': 'AngelDino10', 'screen_name': 'AngelDino10', 'location': '', 'description': 'AngelDino', 'url': None, 'entities': {'description': {'urls': []}}, 'protected': False, 'followers_count': 41, 'friends_count': 65, 'listed_count': 0, 'created_at': 'Wed Aug 26 03:41:27 +0000 2020', 'favourites_count': 36, 'utc_offset': None, 'time_zone': None, 'geo_enabled': False, 'verified': False, 'statuses_count': 57, 'lang': None, 'contributors_enabled': False, 'is_translator': False, 'is_translation_enabled': False, 'profile_background_color': 'F5F8FA', 'profile_background_image_url': None, 'profile_background_image_url_https': None, 'profile_background_tile': False, 'profile_image_url': 'http://pbs.twimg.com/profile_images/1467832793635844100/jABujeLI_normal.jpg', 'profile_image_url_https': 'https://pbs.twimg.com/profile_images/1467832793635844100/jABujeLI_normal.jpg', 'profile_banner_url': 'https://pbs.twimg.com/profile_banners/1298465487265832961/1638793586', 'profile_link_color': '1DA1F2', 'profile_sidebar_border_color': 'C0DEED', 'profile_sidebar_fill_color': 'DDEEF6', 'profile_text_color': '333333', 'profile_use_background_image': True, 'has_extended_profile': True, 'default_profile': True, 'default_profile_image': False, 'following': False, 'follow_request_sent': False, 'notifications': False, 'translator_type': 'none', 'withheld_in_countries': []}, 'geo': None, 'coordinates': None, 'place': None, 'contributors': None, 'retweeted_status': {'created_at': 'Sat Feb 25 17:38:03 +0000 2023', 'id': 1629536214465347585, 'id_str': '1629536214465347585', 'text': 'Ready to be a #HealthHero? Get your body moving &amp; improve your overall health with JOGGING! 🏃🏃🏃\\n\\nSnap a photo of yo… https://t.co/HzCbaiFp4F', 'truncated': True, 'entities': {'hashtags': [{'text': 'HealthHero', 'indices': [14, 25]}], 'symbols': [], 'user_mentions': [], 'urls': [{'url': 'https://t.co/HzCbaiFp4F', 'expanded_url': 'https://twitter.com/i/web/status/1629536214465347585', 'display_url': 'twitter.com/i/web/status/1…', 'indices': [121, 144]}]}, 'metadata': {'iso_language_code': 'en', 'result_type': 'recent'}, 'source': '<a href=\"https://www.hootsuite.com\" rel=\"nofollow\">Hootsuite Inc.</a>', 'in_reply_to_status_id': None, 'in_reply_to_status_id_str': None, 'in_reply_to_user_id': None, 'in_reply_to_user_id_str': None, 'in_reply_to_screen_name': None, 'user': {'id': 471143006, 'id_str': '471143006', 'name': 'Health Hero', 'screen_name': 'GoHealthHero', 'location': 'San Francisco, CA', 'description': 'Web3 Health - a modern alternative to health insurance. 🔗Linktree: https://t.co/1TET4mBTzU Backed by @AnimocaBrands @0xPolygon @QredoNetwork @iotex_io & many more', 'url': 'https://t.co/x9UqQ8hJuv', 'entities': {'url': {'urls': [{'url': 'https://t.co/x9UqQ8hJuv', 'expanded_url': 'https://gohealthhero.com/', 'display_url': 'gohealthhero.com', 'indices': [0, 23]}]}, 'description': {'urls': [{'url': 'https://t.co/1TET4mBTzU', 'expanded_url': 'http://linktr.ee/healthhero', 'display_url': 'linktr.ee/healthhero', 'indices': [67, 90]}]}}, 'protected': False, 'followers_count': 62429, 'friends_count': 103, 'listed_count': 107, 'created_at': 'Sun Jan 22 15:02:40 +0000 2012', 'favourites_count': 12582, 'utc_offset': None, 'time_zone': None, 'geo_enabled': True, 'verified': False, 'statuses_count': 5985, 'lang': None, 'contributors_enabled': False, 'is_translator': False, 'is_translation_enabled': False, 'profile_background_color': '000000', 'profile_background_image_url': 'http://abs.twimg.com/images/themes/theme16/bg.gif', 'profile_background_image_url_https': 'https://abs.twimg.com/images/themes/theme16/bg.gif', 'profile_background_tile': False, 'profile_image_url': 'http://pbs.twimg.com/profile_images/891776955447599104/s61DvWLL_normal.jpg', 'profile_image_url_https': 'https://pbs.twimg.com/profile_images/891776955447599104/s61DvWLL_normal.jpg', 'profile_banner_url': 'https://pbs.twimg.com/profile_banners/471143006/1653669616', 'profile_link_color': '1B95E0', 'profile_sidebar_border_color': '000000', 'profile_sidebar_fill_color': '000000', 'profile_text_color': '000000', 'profile_use_background_image': False, 'has_extended_profile': False, 'default_profile': False, 'default_profile_image': False, 'following': False, 'follow_request_sent': False, 'notifications': False, 'translator_type': 'none', 'withheld_in_countries': []}, 'geo': None, 'coordinates': None, 'place': None, 'contributors': None, 'is_quote_status': False, 'retweet_count': 211, 'favorite_count': 234, 'favorited': False, 'retweeted': False, 'possibly_sensitive': False, 'lang': 'en'}, 'is_quote_status': False, 'retweet_count': 211, 'favorite_count': 0, 'favorited': False, 'retweeted': False, 'lang': 'en'}, {'created_at': 'Thu Mar 02 13:38:50 +0000 2023', 'id': 1631287954537861120, 'id_str': '1631287954537861120', 'text': \"RT @lamcardio: Super fun interview!  If you're focused on echo, #ultrasound, #ArtificialIntelligence , #healthcare access, or the shift to…\", 'truncated': False, 'entities': {'hashtags': [{'text': 'ultrasound', 'indices': [64, 75]}, {'text': 'ArtificialIntelligence', 'indices': [77, 100]}, {'text': 'healthcare', 'indices': [103, 114]}], 'symbols': [], 'user_mentions': [{'screen_name': 'lamcardio', 'name': 'Carolyn Lam', 'id': 738944562895323137, 'id_str': '738944562895323137', 'indices': [3, 13]}], 'urls': []}, 'metadata': {'iso_language_code': 'en', 'result_type': 'recent'}, 'source': '<a href=\"http://twitter.com/#!/download/ipad\" rel=\"nofollow\">Twitter for iPad</a>', 'in_reply_to_status_id': None, 'in_reply_to_status_id_str': None, 'in_reply_to_user_id': None, 'in_reply_to_user_id_str': None, 'in_reply_to_screen_name': None, 'user': {'id': 799036701553336324, 'id_str': '799036701553336324', 'name': '抗血栓療法', 'screen_name': 'antithrombosis', 'location': '', 'description': '抗血栓療法を考えましょう', 'url': None, 'entities': {'description': {'urls': []}}, 'protected': False, 'followers_count': 103, 'friends_count': 77, 'listed_count': 0, 'created_at': 'Wed Nov 16 23:49:29 +0000 2016', 'favourites_count': 3730, 'utc_offset': None, 'time_zone': None, 'geo_enabled': False, 'verified': False, 'statuses_count': 3954, 'lang': None, 'contributors_enabled': False, 'is_translator': False, 'is_translation_enabled': False, 'profile_background_color': 'F5F8FA', 'profile_background_image_url': None, 'profile_background_image_url_https': None, 'profile_background_tile': False, 'profile_image_url': 'http://pbs.twimg.com/profile_images/800918742754394112/m7lvq57e_normal.jpg', 'profile_image_url_https': 'https://pbs.twimg.com/profile_images/800918742754394112/m7lvq57e_normal.jpg', 'profile_link_color': '1DA1F2', 'profile_sidebar_border_color': 'C0DEED', 'profile_sidebar_fill_color': 'DDEEF6', 'profile_text_color': '333333', 'profile_use_background_image': True, 'has_extended_profile': True, 'default_profile': True, 'default_profile_image': False, 'following': False, 'follow_request_sent': False, 'notifications': False, 'translator_type': 'none', 'withheld_in_countries': []}, 'geo': None, 'coordinates': None, 'place': None, 'contributors': None, 'retweeted_status': {'created_at': 'Thu Mar 02 01:48:05 +0000 2023', 'id': 1631109085310353409, 'id_str': '1631109085310353409', 'text': \"Super fun interview!  If you're focused on echo, #ultrasound, #ArtificialIntelligence , #healthcare access, or the… https://t.co/3MaqxFyFSF\", 'truncated': True, 'entities': {'hashtags': [{'text': 'ultrasound', 'indices': [49, 60]}, {'text': 'ArtificialIntelligence', 'indices': [62, 85]}, {'text': 'healthcare', 'indices': [88, 99]}], 'symbols': [], 'user_mentions': [], 'urls': [{'url': 'https://t.co/3MaqxFyFSF', 'expanded_url': 'https://twitter.com/i/web/status/1631109085310353409', 'display_url': 'twitter.com/i/web/status/1…', 'indices': [116, 139]}]}, 'metadata': {'iso_language_code': 'en', 'result_type': 'recent'}, 'source': '<a href=\"https://mobile.twitter.com\" rel=\"nofollow\">Twitter Web App</a>', 'in_reply_to_status_id': None, 'in_reply_to_status_id_str': None, 'in_reply_to_user_id': None, 'in_reply_to_user_id_str': None, 'in_reply_to_screen_name': None, 'user': {'id': 738944562895323137, 'id_str': '738944562895323137', 'name': 'Carolyn Lam', 'screen_name': 'lamcardio', 'location': 'Singapore', 'description': 'Cardiologist, clinician scientist, trialists, podcaster, tv host, editor, runner and mom.', 'url': 'https://t.co/e0WnpS6cnw', 'entities': {'url': {'urls': [{'url': 'https://t.co/e0WnpS6cnw', 'expanded_url': 'http://about.me/carolynlam', 'display_url': 'about.me/carolynlam', 'indices': [0, 23]}]}, 'description': {'urls': []}}, 'protected': False, 'followers_count': 3814, 'friends_count': 24, 'listed_count': 18, 'created_at': 'Sat Jun 04 04:04:47 +0000 2016', 'favourites_count': 60, 'utc_offset': None, 'time_zone': None, 'geo_enabled': False, 'verified': False, 'statuses_count': 146, 'lang': None, 'contributors_enabled': False, 'is_translator': False, 'is_translation_enabled': False, 'profile_background_color': 'F5F8FA', 'profile_background_image_url': None, 'profile_background_image_url_https': None, 'profile_background_tile': False, 'profile_image_url': 'http://pbs.twimg.com/profile_images/738947751044485120/0HZtZPkR_normal.jpg', 'profile_image_url_https': 'https://pbs.twimg.com/profile_images/738947751044485120/0HZtZPkR_normal.jpg', 'profile_link_color': '1DA1F2', 'profile_sidebar_border_color': 'C0DEED', 'profile_sidebar_fill_color': 'DDEEF6', 'profile_text_color': '333333', 'profile_use_background_image': True, 'has_extended_profile': False, 'default_profile': True, 'default_profile_image': False, 'following': False, 'follow_request_sent': False, 'notifications': False, 'translator_type': 'none', 'withheld_in_countries': []}, 'geo': None, 'coordinates': None, 'place': None, 'contributors': None, 'is_quote_status': False, 'retweet_count': 5, 'favorite_count': 20, 'favorited': False, 'retweeted': False, 'possibly_sensitive': False, 'lang': 'en'}, 'is_quote_status': False, 'retweet_count': 5, 'favorite_count': 0, 'favorited': False, 'retweeted': False, 'possibly_sensitive': False, 'lang': 'en'}, {'created_at': 'Thu Mar 02 13:38:49 +0000 2023', 'id': 1631287948430786565, 'id_str': '1631287948430786565', 'text': 'New #job: Healthcare Assistant Location: Plymouth Salary: £21500pa - £21500pa .. https://t.co/HyflBWlTc7… https://t.co/LvCN6EzOk1', 'truncated': True, 'entities': {'hashtags': [{'text': 'job', 'indices': [4, 8]}], 'symbols': [], 'user_mentions': [], 'urls': [{'url': 'https://t.co/HyflBWlTc7', 'expanded_url': 'https://tinyurl.com/2nmqryla', 'display_url': 'tinyurl.com/2nmqryla', 'indices': [81, 104]}, {'url': 'https://t.co/LvCN6EzOk1', 'expanded_url': 'https://twitter.com/i/web/status/1631287948430786565', 'display_url': 'twitter.com/i/web/status/1…', 'indices': [106, 129]}]}, 'metadata': {'iso_language_code': 'en', 'result_type': 'recent'}, 'source': '<a href=\"http://www.broadbean.com\" rel=\"nofollow\">Adcourier</a>', 'in_reply_to_status_id': None, 'in_reply_to_status_id_str': None, 'in_reply_to_user_id': None, 'in_reply_to_user_id_str': None, 'in_reply_to_screen_name': None, 'user': {'id': 744911348082032640, 'id_str': '744911348082032640', 'name': 'Nuffield Health Careers', 'screen_name': 'NH_Careers', 'location': 'United Kingdom', 'description': 'Keep in touch with all the latest news and career opportunities. Register your interest for careers https://t.co/hPbZqNB6Jp…', 'url': 'https://t.co/1pvEOfHIVx', 'entities': {'url': {'urls': [{'url': 'https://t.co/1pvEOfHIVx', 'expanded_url': 'http://www.nuffieldhealthcareers.com', 'display_url': 'nuffieldhealthcareers.com', 'indices': [0, 23]}]}, 'description': {'urls': [{'url': 'https://t.co/hPbZqNB6Jp', 'expanded_url': 'http://nuffield.avature.net/SocialMedia?so', 'display_url': 'nuffield.avature.net/SocialMedia?so', 'indices': [100, 123]}]}}, 'protected': False, 'followers_count': 991, 'friends_count': 123, 'listed_count': 6, 'created_at': 'Mon Jun 20 15:14:40 +0000 2016', 'favourites_count': 79, 'utc_offset': None, 'time_zone': None, 'geo_enabled': False, 'verified': False, 'statuses_count': 2426, 'lang': None, 'contributors_enabled': False, 'is_translator': False, 'is_translation_enabled': False, 'profile_background_color': '000000', 'profile_background_image_url': 'http://abs.twimg.com/images/themes/theme1/bg.png', 'profile_background_image_url_https': 'https://abs.twimg.com/images/themes/theme1/bg.png', 'profile_background_tile': False, 'profile_image_url': 'http://pbs.twimg.com/profile_images/816249145006624768/7ahEFKxT_normal.jpg', 'profile_image_url_https': 'https://pbs.twimg.com/profile_images/816249145006624768/7ahEFKxT_normal.jpg', 'profile_banner_url': 'https://pbs.twimg.com/profile_banners/744911348082032640/1634555015', 'profile_link_color': '44AA48', 'profile_sidebar_border_color': '000000', 'profile_sidebar_fill_color': '000000', 'profile_text_color': '000000', 'profile_use_background_image': False, 'has_extended_profile': False, 'default_profile': False, 'default_profile_image': False, 'following': False, 'follow_request_sent': False, 'notifications': False, 'translator_type': 'none', 'withheld_in_countries': []}, 'geo': None, 'coordinates': None, 'place': None, 'contributors': None, 'is_quote_status': False, 'retweet_count': 0, 'favorite_count': 0, 'favorited': False, 'retweeted': False, 'possibly_sensitive': False, 'lang': 'en'}, {'created_at': 'Thu Mar 02 13:38:22 +0000 2023', 'id': 1631287833464918016, 'id_str': '1631287833464918016', 'text': 'Join the University of Maryland Medical S... team! See our latest job opening here: https://t.co/FLeciGJSfJ #Healthcare #Towson, MD', 'truncated': False, 'entities': {'hashtags': [{'text': 'Healthcare', 'indices': [108, 119]}, {'text': 'Towson', 'indices': [120, 127]}], 'symbols': [], 'user_mentions': [], 'urls': [{'url': 'https://t.co/FLeciGJSfJ', 'expanded_url': 'https://bit.ly/3YcCJvR', 'display_url': 'bit.ly/3YcCJvR', 'indices': [84, 107]}]}, 'metadata': {'iso_language_code': 'en', 'result_type': 'recent'}, 'source': '<a href=\"https://www.careerarc.com\" rel=\"nofollow\">CareerArc 2.0</a>', 'in_reply_to_status_id': None, 'in_reply_to_status_id_str': None, 'in_reply_to_user_id': None, 'in_reply_to_user_id_str': None, 'in_reply_to_screen_name': None, 'user': {'id': 47364511, 'id_str': '47364511', 'name': 'UMMS Provider Jobs', 'screen_name': 'MDProviderJobs', 'location': 'Maryland', 'description': 'University of Maryland Medical System Physician Recruitment. Contact us at physicianrecruitment@umm.edu', 'url': 'http://t.co/rJpiA3wkOk', 'entities': {'url': {'urls': [{'url': 'http://t.co/rJpiA3wkOk', 'expanded_url': 'http://www.ummsphysician.jobs', 'display_url': 'ummsphysician.jobs', 'indices': [0, 22]}]}, 'description': {'urls': []}}, 'protected': False, 'followers_count': 280, 'friends_count': 203, 'listed_count': 10, 'created_at': 'Mon Jun 15 15:45:30 +0000 2009', 'favourites_count': 35, 'utc_offset': None, 'time_zone': None, 'geo_enabled': False, 'verified': False, 'statuses_count': 631, 'lang': None, 'contributors_enabled': False, 'is_translator': False, 'is_translation_enabled': False, 'profile_background_color': '9AE4E8', 'profile_background_image_url': 'http://abs.twimg.com/images/themes/theme1/bg.png', 'profile_background_image_url_https': 'https://abs.twimg.com/images/themes/theme1/bg.png', 'profile_background_tile': False, 'profile_image_url': 'http://pbs.twimg.com/profile_images/1316405648259653632/mMoUd8qM_normal.jpg', 'profile_image_url_https': 'https://pbs.twimg.com/profile_images/1316405648259653632/mMoUd8qM_normal.jpg', 'profile_banner_url': 'https://pbs.twimg.com/profile_banners/47364511/1623861874', 'profile_link_color': '0084B4', 'profile_sidebar_border_color': 'BDDCAD', 'profile_sidebar_fill_color': 'DDFFCC', 'profile_text_color': '333333', 'profile_use_background_image': True, 'has_extended_profile': False, 'default_profile': False, 'default_profile_image': False, 'following': False, 'follow_request_sent': False, 'notifications': False, 'translator_type': 'none', 'withheld_in_countries': []}, 'geo': None, 'coordinates': None, 'place': None, 'contributors': None, 'is_quote_status': False, 'retweet_count': 0, 'favorite_count': 0, 'favorited': False, 'retweeted': False, 'possibly_sensitive': False, 'lang': 'en'}, {'created_at': 'Thu Mar 02 13:38:12 +0000 2023', 'id': 1631287795619889152, 'id_str': '1631287795619889152', 'text': 'ఇవి తింటే కోసి కొవ్వును బయటకు తీసినట్లే.. నో హార్ట్ అటాక్, నో బ్రెయిన్ స్ట్రోక్\\n\\n#HealthTips #HealthCare \\n\\nhttps://t.co/pvi3WU5yO6', 'truncated': False, 'entities': {'hashtags': [{'text': 'HealthTips', 'indices': [81, 92]}, {'text': 'HealthCare', 'indices': [93, 104]}], 'symbols': [], 'user_mentions': [], 'urls': [{'url': 'https://t.co/pvi3WU5yO6', 'expanded_url': 'https://tv9telugu.com/health/unbelievable-flax-seeds-benefits-says-by-dr-manthena-satyanarayana-raju-au18-901728.html', 'display_url': 'tv9telugu.com/health/unbelie…', 'indices': [107, 130]}]}, 'metadata': {'iso_language_code': 'te', 'result_type': 'recent'}, 'source': '<a href=\"https://mobile.twitter.com\" rel=\"nofollow\">Twitter Web App</a>', 'in_reply_to_status_id': None, 'in_reply_to_status_id_str': None, 'in_reply_to_user_id': None, 'in_reply_to_user_id_str': None, 'in_reply_to_screen_name': None, 'user': {'id': 145535271, 'id_str': '145535271', 'name': 'TV9 Telugu', 'screen_name': 'TV9Telugu', 'location': 'Hyderabad, Telangana, India', 'description': 'TV9 is a Telugu news channel started in January 2004 by a team of journalists.', 'url': 'https://t.co/Hnx7vye594', 'entities': {'url': {'urls': [{'url': 'https://t.co/Hnx7vye594', 'expanded_url': 'https://www.youtube.com/channel/UCPXTXMecYqnRKNdqdVOGSFg?sub_confirmation=1', 'display_url': 'youtube.com/channel/UCPXTX…', 'indices': [0, 23]}]}, 'description': {'urls': []}}, 'protected': False, 'followers_count': 628913, 'friends_count': 30, 'listed_count': 447, 'created_at': 'Wed May 19 06:12:18 +0000 2010', 'favourites_count': 230, 'utc_offset': None, 'time_zone': None, 'geo_enabled': True, 'verified': True, 'statuses_count': 279456, 'lang': None, 'contributors_enabled': False, 'is_translator': False, 'is_translation_enabled': False, 'profile_background_color': 'C0DEED', 'profile_background_image_url': 'http://abs.twimg.com/images/themes/theme1/bg.png', 'profile_background_image_url_https': 'https://abs.twimg.com/images/themes/theme1/bg.png', 'profile_background_tile': False, 'profile_image_url': 'http://pbs.twimg.com/profile_images/1333250061506023424/YWMxv0zr_normal.jpg', 'profile_image_url_https': 'https://pbs.twimg.com/profile_images/1333250061506023424/YWMxv0zr_normal.jpg', 'profile_banner_url': 'https://pbs.twimg.com/profile_banners/145535271/1675699535', 'profile_link_color': '1DA1F2', 'profile_sidebar_border_color': 'C0DEED', 'profile_sidebar_fill_color': 'DDEEF6', 'profile_text_color': '333333', 'profile_use_background_image': True, 'has_extended_profile': False, 'default_profile': True, 'default_profile_image': False, 'following': False, 'follow_request_sent': False, 'notifications': False, 'translator_type': 'none', 'withheld_in_countries': []}, 'geo': None, 'coordinates': None, 'place': None, 'contributors': None, 'is_quote_status': False, 'retweet_count': 0, 'favorite_count': 1, 'favorited': False, 'retweeted': False, 'possibly_sensitive': False, 'lang': 'te'}, {'created_at': 'Thu Mar 02 13:37:51 +0000 2023', 'id': 1631287705022652420, 'id_str': '1631287705022652420', 'text': 'RT @jumbochain_: Enhanced #Telemedicine  with Blockchain and #Robots\\n..\\n.\\n.\\n Visit:\\n👉 https://t.co/72LOgFX1T6\\n\\n#jumbochain #blockchain #ESG…', 'truncated': False, 'entities': {'hashtags': [{'text': 'Telemedicine', 'indices': [26, 39]}, {'text': 'Robots', 'indices': [61, 68]}, {'text': 'jumbochain', 'indices': [111, 122]}, {'text': 'blockchain', 'indices': [123, 134]}, {'text': 'ESG', 'indices': [135, 139]}], 'symbols': [], 'user_mentions': [{'screen_name': 'jumbochain_', 'name': 'Jumbochain', 'id': 1484419661823643648, 'id_str': '1484419661823643648', 'indices': [3, 15]}], 'urls': [{'url': 'https://t.co/72LOgFX1T6', 'expanded_url': 'http://Jumbochain.org', 'display_url': 'Jumbochain.org', 'indices': [86, 109]}]}, 'metadata': {'iso_language_code': 'en', 'result_type': 'recent'}, 'source': '<a href=\"http://twitter.com/download/iphone\" rel=\"nofollow\">Twitter for iPhone</a>', 'in_reply_to_status_id': None, 'in_reply_to_status_id_str': None, 'in_reply_to_user_id': None, 'in_reply_to_user_id_str': None, 'in_reply_to_screen_name': None, 'user': {'id': 1135453848045154304, 'id_str': '1135453848045154304', 'name': 'Sachin Kumar', 'screen_name': 'KumarSachin_30', 'location': 'Greater Noida, India', 'description': 'Founder & Managing Director Dhanu Innovative Information Technology Dubai, Dhanu Technology DMCC, Grow Digi India LTD\\nPGPMAX, ISB Hyderabad. Ex-IBM & Infosys,', 'url': 'https://t.co/7c5gYWmUbM', 'entities': {'url': {'urls': [{'url': 'https://t.co/7c5gYWmUbM', 'expanded_url': 'https://www.dhanu.org/', 'display_url': 'dhanu.org', 'indices': [0, 23]}]}, 'description': {'urls': []}}, 'protected': False, 'followers_count': 134, 'friends_count': 176, 'listed_count': 2, 'created_at': 'Mon Jun 03 07:51:07 +0000 2019', 'favourites_count': 2473, 'utc_offset': None, 'time_zone': None, 'geo_enabled': True, 'verified': False, 'statuses_count': 2079, 'lang': None, 'contributors_enabled': False, 'is_translator': False, 'is_translation_enabled': False, 'profile_background_color': 'F5F8FA', 'profile_background_image_url': None, 'profile_background_image_url_https': None, 'profile_background_tile': False, 'profile_image_url': 'http://pbs.twimg.com/profile_images/1135454850282545152/qmR8CNQp_normal.jpg', 'profile_image_url_https': 'https://pbs.twimg.com/profile_images/1135454850282545152/qmR8CNQp_normal.jpg', 'profile_banner_url': 'https://pbs.twimg.com/profile_banners/1135453848045154304/1663664546', 'profile_link_color': '1DA1F2', 'profile_sidebar_border_color': 'C0DEED', 'profile_sidebar_fill_color': 'DDEEF6', 'profile_text_color': '333333', 'profile_use_background_image': True, 'has_extended_profile': True, 'default_profile': True, 'default_profile_image': False, 'following': False, 'follow_request_sent': False, 'notifications': False, 'translator_type': 'none', 'withheld_in_countries': []}, 'geo': None, 'coordinates': None, 'place': None, 'contributors': None, 'retweeted_status': {'created_at': 'Thu Mar 02 11:45:37 +0000 2023', 'id': 1631259462768943107, 'id_str': '1631259462768943107', 'text': 'Enhanced #Telemedicine  with Blockchain and #Robots\\n..\\n.\\n.\\n Visit:\\n👉 https://t.co/72LOgFX1T6\\n\\n#jumbochain… https://t.co/O0DcpNp1fe', 'truncated': True, 'entities': {'hashtags': [{'text': 'Telemedicine', 'indices': [9, 22]}, {'text': 'Robots', 'indices': [44, 51]}, {'text': 'jumbochain', 'indices': [94, 105]}], 'symbols': [], 'user_mentions': [], 'urls': [{'url': 'https://t.co/72LOgFX1T6', 'expanded_url': 'http://Jumbochain.org', 'display_url': 'Jumbochain.org', 'indices': [69, 92]}, {'url': 'https://t.co/O0DcpNp1fe', 'expanded_url': 'https://twitter.com/i/web/status/1631259462768943107', 'display_url': 'twitter.com/i/web/status/1…', 'indices': [107, 130]}]}, 'metadata': {'iso_language_code': 'en', 'result_type': 'recent'}, 'source': '<a href=\"https://mobile.twitter.com\" rel=\"nofollow\">Twitter Web App</a>', 'in_reply_to_status_id': None, 'in_reply_to_status_id_str': None, 'in_reply_to_user_id': None, 'in_reply_to_user_id_str': None, 'in_reply_to_screen_name': None, 'user': {'id': 1484419661823643648, 'id_str': '1484419661823643648', 'name': 'Jumbochain', 'screen_name': 'jumbochain_', 'location': '', 'description': 'TG: https://t.co/hTdOaULUyF… \\nFollow Us: https://t.co/n7jyTftTgy', 'url': 'https://t.co/arBxE2IrxF', 'entities': {'url': {'urls': [{'url': 'https://t.co/arBxE2IrxF', 'expanded_url': 'https://jumbochain.org', 'display_url': 'jumbochain.org', 'indices': [0, 23]}]}, 'description': {'urls': [{'url': 'https://t.co/hTdOaULUyF', 'expanded_url': 'http://t.me/+PgZev9n4ZggyY', 'display_url': 't.me/+PgZev9n4ZggyY', 'indices': [4, 27]}, {'url': 'https://t.co/n7jyTftTgy', 'expanded_url': 'http://linktr.ee/Jumbochain', 'display_url': 'linktr.ee/Jumbochain', 'indices': [41, 64]}]}}, 'protected': False, 'followers_count': 2184, 'friends_count': 81, 'listed_count': 3, 'created_at': 'Fri Jan 21 06:57:48 +0000 2022', 'favourites_count': 1190, 'utc_offset': None, 'time_zone': None, 'geo_enabled': False, 'verified': False, 'statuses_count': 2206, 'lang': None, 'contributors_enabled': False, 'is_translator': False, 'is_translation_enabled': False, 'profile_background_color': 'F5F8FA', 'profile_background_image_url': None, 'profile_background_image_url_https': None, 'profile_background_tile': False, 'profile_image_url': 'http://pbs.twimg.com/profile_images/1602903661708947456/ZBwZeCsd_normal.jpg', 'profile_image_url_https': 'https://pbs.twimg.com/profile_images/1602903661708947456/ZBwZeCsd_normal.jpg', 'profile_banner_url': 'https://pbs.twimg.com/profile_banners/1484419661823643648/1675500201', 'profile_link_color': '1DA1F2', 'profile_sidebar_border_color': 'C0DEED', 'profile_sidebar_fill_color': 'DDEEF6', 'profile_text_color': '333333', 'profile_use_background_image': True, 'has_extended_profile': True, 'default_profile': True, 'default_profile_image': False, 'following': False, 'follow_request_sent': False, 'notifications': False, 'translator_type': 'none', 'withheld_in_countries': []}, 'geo': None, 'coordinates': None, 'place': None, 'contributors': None, 'is_quote_status': False, 'retweet_count': 1, 'favorite_count': 4, 'favorited': False, 'retweeted': False, 'possibly_sensitive': False, 'lang': 'en'}, 'is_quote_status': False, 'retweet_count': 1, 'favorite_count': 0, 'favorited': False, 'retweeted': False, 'possibly_sensitive': False, 'lang': 'en'}, {'created_at': 'Thu Mar 02 13:37:30 +0000 2023', 'id': 1631287615478546439, 'id_str': '1631287615478546439', 'text': 'RT @KQLiverpool: We have the innovation to transform #healthcare “right here in the UK, right here in this City, right here in this Knowled…', 'truncated': False, 'entities': {'hashtags': [{'text': 'healthcare', 'indices': [53, 64]}], 'symbols': [], 'user_mentions': [{'screen_name': 'KQLiverpool', 'name': 'KQ Liverpool', 'id': 2437546172, 'id_str': '2437546172', 'indices': [3, 15]}], 'urls': []}, 'metadata': {'iso_language_code': 'en', 'result_type': 'recent'}, 'source': '<a href=\"http://twitter.com/download/iphone\" rel=\"nofollow\">Twitter for iPhone</a>', 'in_reply_to_status_id': None, 'in_reply_to_status_id_str': None, 'in_reply_to_user_id': None, 'in_reply_to_user_id_str': None, 'in_reply_to_screen_name': None, 'user': {'id': 585129098, 'id_str': '585129098', 'name': 'Chris Huntley', 'screen_name': 'huntley_chris', 'location': '', 'description': '', 'url': None, 'entities': {'description': {'urls': []}}, 'protected': False, 'followers_count': 46, 'friends_count': 189, 'listed_count': 0, 'created_at': 'Sat May 19 22:06:09 +0000 2012', 'favourites_count': 17252, 'utc_offset': None, 'time_zone': None, 'geo_enabled': False, 'verified': False, 'statuses_count': 2305, 'lang': None, 'contributors_enabled': False, 'is_translator': False, 'is_translation_enabled': False, 'profile_background_color': 'C0DEED', 'profile_background_image_url': 'http://abs.twimg.com/images/themes/theme1/bg.png', 'profile_background_image_url_https': 'https://abs.twimg.com/images/themes/theme1/bg.png', 'profile_background_tile': False, 'profile_image_url': 'http://pbs.twimg.com/profile_images/1389304050466832389/fYTCD2Zv_normal.jpg', 'profile_image_url_https': 'https://pbs.twimg.com/profile_images/1389304050466832389/fYTCD2Zv_normal.jpg', 'profile_link_color': '1DA1F2', 'profile_sidebar_border_color': 'C0DEED', 'profile_sidebar_fill_color': 'DDEEF6', 'profile_text_color': '333333', 'profile_use_background_image': True, 'has_extended_profile': False, 'default_profile': True, 'default_profile_image': False, 'following': False, 'follow_request_sent': False, 'notifications': False, 'translator_type': 'none', 'withheld_in_countries': []}, 'geo': None, 'coordinates': None, 'place': None, 'contributors': None, 'retweeted_status': {'created_at': 'Thu Mar 02 13:35:57 +0000 2023', 'id': 1631287225273950208, 'id_str': '1631287225273950208', 'text': 'We have the innovation to transform #healthcare “right here in the UK, right here in this City, right here in this… https://t.co/4jdQjjrXMY', 'truncated': True, 'entities': {'hashtags': [{'text': 'healthcare', 'indices': [36, 47]}], 'symbols': [], 'user_mentions': [], 'urls': [{'url': 'https://t.co/4jdQjjrXMY', 'expanded_url': 'https://twitter.com/i/web/status/1631287225273950208', 'display_url': 'twitter.com/i/web/status/1…', 'indices': [116, 139]}]}, 'metadata': {'iso_language_code': 'en', 'result_type': 'recent'}, 'source': '<a href=\"http://twitter.com/download/iphone\" rel=\"nofollow\">Twitter for iPhone</a>', 'in_reply_to_status_id': 1631285606587277317, 'in_reply_to_status_id_str': '1631285606587277317', 'in_reply_to_user_id': 2437546172, 'in_reply_to_user_id_str': '2437546172', 'in_reply_to_screen_name': 'KQLiverpool', 'user': {'id': 2437546172, 'id_str': '2437546172', 'name': 'KQ Liverpool', 'screen_name': 'KQLiverpool', 'location': 'Liverpool', 'description': 'Recognising the international importance of #KnowledgeQuarterLiverpool in innovation and as a leading science tech health education and cultural destination.', 'url': 'https://t.co/EuR68xhCRH', 'entities': {'url': {'urls': [{'url': 'https://t.co/EuR68xhCRH', 'expanded_url': 'http://www.kqliverpool.co.uk', 'display_url': 'kqliverpool.co.uk', 'indices': [0, 23]}]}, 'description': {'urls': []}}, 'protected': False, 'followers_count': 3721, 'friends_count': 848, 'listed_count': 34, 'created_at': 'Thu Apr 10 21:42:02 +0000 2014', 'favourites_count': 2252, 'utc_offset': None, 'time_zone': None, 'geo_enabled': True, 'verified': False, 'statuses_count': 2053, 'lang': None, 'contributors_enabled': False, 'is_translator': False, 'is_translation_enabled': False, 'profile_background_color': 'C0DEED', 'profile_background_image_url': 'http://abs.twimg.com/images/themes/theme1/bg.png', 'profile_background_image_url_https': 'https://abs.twimg.com/images/themes/theme1/bg.png', 'profile_background_tile': False, 'profile_image_url': 'http://pbs.twimg.com/profile_images/1572576766673182720/1L_YvyiC_normal.jpg', 'profile_image_url_https': 'https://pbs.twimg.com/profile_images/1572576766673182720/1L_YvyiC_normal.jpg', 'profile_banner_url': 'https://pbs.twimg.com/profile_banners/2437546172/1594815630', 'profile_link_color': '7FDBB6', 'profile_sidebar_border_color': 'C0DEED', 'profile_sidebar_fill_color': 'DDEEF6', 'profile_text_color': '333333', 'profile_use_background_image': True, 'has_extended_profile': False, 'default_profile': False, 'default_profile_image': False, 'following': False, 'follow_request_sent': False, 'notifications': False, 'translator_type': 'none', 'withheld_in_countries': []}, 'geo': None, 'coordinates': None, 'place': None, 'contributors': None, 'is_quote_status': False, 'retweet_count': 1, 'favorite_count': 1, 'favorited': False, 'retweeted': False, 'lang': 'en'}, 'is_quote_status': False, 'retweet_count': 1, 'favorite_count': 0, 'favorited': False, 'retweeted': False, 'lang': 'en'}, {'created_at': 'Thu Mar 02 13:37:27 +0000 2023', 'id': 1631287605873504266, 'id_str': '1631287605873504266', 'text': 'RT @DozeeHealth: We’re delighted to announce the adoption of Dozee’s #AI-based Contactless Vitals Monitoring Technology by Central Referral…', 'truncated': False, 'entities': {'hashtags': [{'text': 'AI', 'indices': [69, 72]}], 'symbols': [], 'user_mentions': [{'screen_name': 'DozeeHealth', 'name': 'Dozee', 'id': 1009237981054603265, 'id_str': '1009237981054603265', 'indices': [3, 15]}], 'urls': []}, 'metadata': {'iso_language_code': 'en', 'result_type': 'recent'}, 'source': '<a href=\"http://twitter.com/download/android\" rel=\"nofollow\">Twitter for Android</a>', 'in_reply_to_status_id': None, 'in_reply_to_status_id_str': None, 'in_reply_to_user_id': None, 'in_reply_to_user_id_str': None, 'in_reply_to_screen_name': None, 'user': {'id': 2524427312, 'id_str': '2524427312', 'name': 'Dr. Srikanth Sundararajan', 'screen_name': 'SundarSrik', 'location': 'Hyderabad, India-Vande Mataram', 'description': 'Consummate Techie! Entrepreneur, Software Executive, Professor, Investor! @iitmadras, @UniversityofIllinois (@UIUC)', 'url': 'https://t.co/OS7rgBqVtp', 'entities': {'url': {'urls': [{'url': 'https://t.co/OS7rgBqVtp', 'expanded_url': 'https://www.ventureast.net', 'display_url': 'ventureast.net', 'indices': [0, 23]}]}, 'description': {'urls': []}}, 'protected': False, 'followers_count': 822, 'friends_count': 202, 'listed_count': 11, 'created_at': 'Mon May 26 07:46:18 +0000 2014', 'favourites_count': 5673, 'utc_offset': None, 'time_zone': None, 'geo_enabled': False, 'verified': False, 'statuses_count': 12982, 'lang': None, 'contributors_enabled': False, 'is_translator': False, 'is_translation_enabled': False, 'profile_background_color': 'C0DEED', 'profile_background_image_url': 'http://abs.twimg.com/images/themes/theme1/bg.png', 'profile_background_image_url_https': 'https://abs.twimg.com/images/themes/theme1/bg.png', 'profile_background_tile': False, 'profile_image_url': 'http://pbs.twimg.com/profile_images/1226785034251538434/aWqxrtoY_normal.jpg', 'profile_image_url_https': 'https://pbs.twimg.com/profile_images/1226785034251538434/aWqxrtoY_normal.jpg', 'profile_link_color': '8000B3', 'profile_sidebar_border_color': 'C0DEED', 'profile_sidebar_fill_color': 'DDEEF6', 'profile_text_color': '333333', 'profile_use_background_image': True, 'has_extended_profile': True, 'default_profile': False, 'default_profile_image': False, 'following': False, 'follow_request_sent': False, 'notifications': False, 'translator_type': 'none', 'withheld_in_countries': []}, 'geo': None, 'coordinates': None, 'place': None, 'contributors': None, 'retweeted_status': {'created_at': 'Thu Mar 02 05:38:12 +0000 2023', 'id': 1631166998678994947, 'id_str': '1631166998678994947', 'text': 'We’re delighted to announce the adoption of Dozee’s #AI-based Contactless Vitals Monitoring Technology by Central R… https://t.co/vLLT2OUN79', 'truncated': True, 'entities': {'hashtags': [{'text': 'AI', 'indices': [52, 55]}], 'symbols': [], 'user_mentions': [], 'urls': [{'url': 'https://t.co/vLLT2OUN79', 'expanded_url': 'https://twitter.com/i/web/status/1631166998678994947', 'display_url': 'twitter.com/i/web/status/1…', 'indices': [117, 140]}]}, 'metadata': {'iso_language_code': 'en', 'result_type': 'recent'}, 'source': '<a href=\"https://mobile.twitter.com\" rel=\"nofollow\">Twitter Web App</a>', 'in_reply_to_status_id': None, 'in_reply_to_status_id_str': None, 'in_reply_to_user_id': None, 'in_reply_to_user_id_str': None, 'in_reply_to_screen_name': None, 'user': {'id': 1009237981054603265, 'id_str': '1009237981054603265', 'name': 'Dozee', 'screen_name': 'DozeeHealth', 'location': 'Bengaluru, India', 'description': 'India’s 1st AI-based Contactless Remote Patient Monitoring (RPM) & Early Warning System (EWS) for Continuous Patient Monitoring\\n#HarBedDozeeBed', 'url': 'https://t.co/cfFaccRV86', 'entities': {'url': {'urls': [{'url': 'https://t.co/cfFaccRV86', 'expanded_url': 'http://www.dozee.health', 'display_url': 'dozee.health', 'indices': [0, 23]}]}, 'description': {'urls': []}}, 'protected': False, 'followers_count': 775, 'friends_count': 171, 'listed_count': 3, 'created_at': 'Wed Jun 20 00:54:20 +0000 2018', 'favourites_count': 539, 'utc_offset': None, 'time_zone': None, 'geo_enabled': True, 'verified': False, 'statuses_count': 880, 'lang': None, 'contributors_enabled': False, 'is_translator': False, 'is_translation_enabled': False, 'profile_background_color': '000000', 'profile_background_image_url': 'http://abs.twimg.com/images/themes/theme1/bg.png', 'profile_background_image_url_https': 'https://abs.twimg.com/images/themes/theme1/bg.png', 'profile_background_tile': False, 'profile_image_url': 'http://pbs.twimg.com/profile_images/1549311551856734209/EmK84jMW_normal.jpg', 'profile_image_url_https': 'https://pbs.twimg.com/profile_images/1549311551856734209/EmK84jMW_normal.jpg', 'profile_banner_url': 'https://pbs.twimg.com/profile_banners/1009237981054603265/1671711977', 'profile_link_color': '1B95E0', 'profile_sidebar_border_color': '000000', 'profile_sidebar_fill_color': '000000', 'profile_text_color': '000000', 'profile_use_background_image': False, 'has_extended_profile': False, 'default_profile': False, 'default_profile_image': False, 'following': False, 'follow_request_sent': False, 'notifications': False, 'translator_type': 'none', 'withheld_in_countries': []}, 'geo': None, 'coordinates': None, 'place': {'id': '7c9f835143418eee', 'url': 'https://api.twitter.com/1.1/geo/id/7c9f835143418eee.json', 'place_type': 'admin', 'name': 'Sikkim', 'full_name': 'Sikkim, India', 'country_code': 'IN', 'country': 'India', 'contained_within': [], 'bounding_box': {'type': 'Polygon', 'coordinates': [[[88.016857, 27.081327], [88.929477, 27.081327], [88.929477, 28.130679], [88.016857, 28.130679]]]}, 'attributes': {}}, 'contributors': None, 'is_quote_status': False, 'retweet_count': 3, 'favorite_count': 8, 'favorited': False, 'retweeted': False, 'possibly_sensitive': False, 'lang': 'en'}, 'is_quote_status': False, 'retweet_count': 3, 'favorite_count': 0, 'favorited': False, 'retweeted': False, 'lang': 'en'}, {'created_at': 'Thu Mar 02 13:36:56 +0000 2023', 'id': 1631287474268823552, 'id_str': '1631287474268823552', 'text': 'Confidence in #healthcare providers fell from 51% in 2020 to record low of 38% in 2022.  Providers often take the b… https://t.co/oJJieyEcWK', 'truncated': True, 'entities': {'hashtags': [{'text': 'healthcare', 'indices': [14, 25]}], 'symbols': [], 'user_mentions': [], 'urls': [{'url': 'https://t.co/oJJieyEcWK', 'expanded_url': 'https://twitter.com/i/web/status/1631287474268823552', 'display_url': 'twitter.com/i/web/status/1…', 'indices': [117, 140]}]}, 'metadata': {'iso_language_code': 'en', 'result_type': 'recent'}, 'source': '<a href=\"https://mobile.twitter.com\" rel=\"nofollow\">Twitter Web App</a>', 'in_reply_to_status_id': None, 'in_reply_to_status_id_str': None, 'in_reply_to_user_id': None, 'in_reply_to_user_id_str': None, 'in_reply_to_screen_name': None, 'user': {'id': 366736817, 'id_str': '366736817', 'name': 'Elizabeth Hogue', 'screen_name': 'HogueHomecare', 'location': '', 'description': 'Attorney who represents health care providers.  She has published 11 books, hundreds of articles, and has spoken at conferences all over the country.', 'url': None, 'entities': {'description': {'urls': []}}, 'protected': False, 'followers_count': 643, 'friends_count': 1, 'listed_count': 24, 'created_at': 'Fri Sep 02 18:37:48 +0000 2011', 'favourites_count': 0, 'utc_offset': None, 'time_zone': None, 'geo_enabled': False, 'verified': False, 'statuses_count': 5099, 'lang': None, 'contributors_enabled': False, 'is_translator': False, 'is_translation_enabled': False, 'profile_background_color': 'C0DEED', 'profile_background_image_url': 'http://abs.twimg.com/images/themes/theme1/bg.png', 'profile_background_image_url_https': 'https://abs.twimg.com/images/themes/theme1/bg.png', 'profile_background_tile': False, 'profile_image_url': 'http://pbs.twimg.com/profile_images/1654317035/home2_normal.jpg', 'profile_image_url_https': 'https://pbs.twimg.com/profile_images/1654317035/home2_normal.jpg', 'profile_link_color': '1DA1F2', 'profile_sidebar_border_color': 'C0DEED', 'profile_sidebar_fill_color': 'DDEEF6', 'profile_text_color': '333333', 'profile_use_background_image': True, 'has_extended_profile': False, 'default_profile': True, 'default_profile_image': False, 'following': False, 'follow_request_sent': False, 'notifications': False, 'translator_type': 'none', 'withheld_in_countries': []}, 'geo': None, 'coordinates': None, 'place': None, 'contributors': None, 'is_quote_status': False, 'retweet_count': 0, 'favorite_count': 0, 'favorited': False, 'retweeted': False, 'lang': 'en'}, {'created_at': 'Thu Mar 02 13:36:42 +0000 2023', 'id': 1631287414865166336, 'id_str': '1631287414865166336', 'text': 'RT @xurgentcare: Need employer health care services? Make things easier by choosing a locally-based provider with all of your needs. Contac…', 'truncated': False, 'entities': {'hashtags': [], 'symbols': [], 'user_mentions': [{'screen_name': 'xurgentcare', 'name': 'Xpress Urgent Care', 'id': 938215177, 'id_str': '938215177', 'indices': [3, 15]}], 'urls': []}, 'metadata': {'iso_language_code': 'en', 'result_type': 'recent'}, 'source': '<a href=\"https://mobile.twitter.com\" rel=\"nofollow\">Twitter Web App</a>', 'in_reply_to_status_id': None, 'in_reply_to_status_id_str': None, 'in_reply_to_user_id': None, 'in_reply_to_user_id_str': None, 'in_reply_to_screen_name': None, 'user': {'id': 1615631288677072897, 'id_str': '1615631288677072897', 'name': 'Ashfiq Rehan', 'screen_name': 'ashfiq_rehan', 'location': '', 'description': '', 'url': None, 'entities': {'description': {'urls': []}}, 'protected': False, 'followers_count': 0, 'friends_count': 11, 'listed_count': 0, 'created_at': 'Wed Jan 18 08:47:11 +0000 2023', 'favourites_count': 205, 'utc_offset': None, 'time_zone': None, 'geo_enabled': False, 'verified': False, 'statuses_count': 419, 'lang': None, 'contributors_enabled': False, 'is_translator': False, 'is_translation_enabled': False, 'profile_background_color': 'F5F8FA', 'profile_background_image_url': None, 'profile_background_image_url_https': None, 'profile_background_tile': False, 'profile_image_url': 'http://pbs.twimg.com/profile_images/1615631991713705985/LzHpJ_6R_normal.jpg', 'profile_image_url_https': 'https://pbs.twimg.com/profile_images/1615631991713705985/LzHpJ_6R_normal.jpg', 'profile_link_color': '1DA1F2', 'profile_sidebar_border_color': 'C0DEED', 'profile_sidebar_fill_color': 'DDEEF6', 'profile_text_color': '333333', 'profile_use_background_image': True, 'has_extended_profile': True, 'default_profile': True, 'default_profile_image': False, 'following': False, 'follow_request_sent': False, 'notifications': False, 'translator_type': 'none', 'withheld_in_countries': []}, 'geo': None, 'coordinates': None, 'place': None, 'contributors': None, 'retweeted_status': {'created_at': 'Wed Mar 01 16:00:01 +0000 2023', 'id': 1630961093148377089, 'id_str': '1630961093148377089', 'text': 'Need employer health care services? Make things easier by choosing a locally-based provider with all of your needs.… https://t.co/cnRM07P8Nk', 'truncated': True, 'entities': {'hashtags': [], 'symbols': [], 'user_mentions': [], 'urls': [{'url': 'https://t.co/cnRM07P8Nk', 'expanded_url': 'https://twitter.com/i/web/status/1630961093148377089', 'display_url': 'twitter.com/i/web/status/1…', 'indices': [117, 140]}]}, 'metadata': {'iso_language_code': 'en', 'result_type': 'recent'}, 'source': '<a href=\"https://eclincher.com\" rel=\"nofollow\">eClincher</a>', 'in_reply_to_status_id': None, 'in_reply_to_status_id_str': None, 'in_reply_to_user_id': None, 'in_reply_to_user_id_str': None, 'in_reply_to_screen_name': None, 'user': {'id': 938215177, 'id_str': '938215177', 'name': 'Xpress Urgent Care', 'screen_name': 'xurgentcare', 'location': '131 E. 17th st. Costa Mesa', 'description': 'We treat kids and adults of all ages. We’re committed to your recovery by providing treatment for a wide variety of injuries and illnesses.', 'url': 'http://t.co/Ydnuahaq', 'entities': {'url': {'urls': [{'url': 'http://t.co/Ydnuahaq', 'expanded_url': 'http://www.xurgentcare.com', 'display_url': 'xurgentcare.com', 'indices': [0, 20]}]}, 'description': {'urls': []}}, 'protected': False, 'followers_count': 1329, 'friends_count': 925, 'listed_count': 1, 'created_at': 'Sat Nov 10 02:17:06 +0000 2012', 'favourites_count': 260, 'utc_offset': None, 'time_zone': None, 'geo_enabled': True, 'verified': False, 'statuses_count': 1034, 'lang': None, 'contributors_enabled': False, 'is_translator': False, 'is_translation_enabled': False, 'profile_background_color': '000000', 'profile_background_image_url': 'http://abs.twimg.com/images/themes/theme1/bg.png', 'profile_background_image_url_https': 'https://abs.twimg.com/images/themes/theme1/bg.png', 'profile_background_tile': False, 'profile_image_url': 'http://pbs.twimg.com/profile_images/884181166013665281/SWK_jlh2_normal.jpg', 'profile_image_url_https': 'https://pbs.twimg.com/profile_images/884181166013665281/SWK_jlh2_normal.jpg', 'profile_banner_url': 'https://pbs.twimg.com/profile_banners/938215177/1497464841', 'profile_link_color': 'DF1315', 'profile_sidebar_border_color': '000000', 'profile_sidebar_fill_color': '000000', 'profile_text_color': '000000', 'profile_use_background_image': False, 'has_extended_profile': False, 'default_profile': False, 'default_profile_image': False, 'following': False, 'follow_request_sent': False, 'notifications': False, 'translator_type': 'none', 'withheld_in_countries': []}, 'geo': None, 'coordinates': None, 'place': None, 'contributors': None, 'is_quote_status': False, 'retweet_count': 6, 'favorite_count': 21, 'favorited': False, 'retweeted': False, 'possibly_sensitive': False, 'lang': 'en'}, 'is_quote_status': False, 'retweet_count': 6, 'favorite_count': 0, 'favorited': False, 'retweeted': False, 'lang': 'en'}, {'created_at': 'Thu Mar 02 13:36:18 +0000 2023', 'id': 1631287314352619520, 'id_str': '1631287314352619520', 'text': 'RT @TIG_italia: 📢@TIG_italia organizza “The Digital #Healthcare Executive Conference”: le nuove progettualità tecnologiche e organizzative…', 'truncated': False, 'entities': {'hashtags': [{'text': 'Healthcare', 'indices': [52, 63]}], 'symbols': [], 'user_mentions': [{'screen_name': 'TIG_italia', 'name': 'The Innovation Group', 'id': 1322684712, 'id_str': '1322684712', 'indices': [3, 14]}, {'screen_name': 'TIG_italia', 'name': 'The Innovation Group', 'id': 1322684712, 'id_str': '1322684712', 'indices': [17, 28]}], 'urls': []}, 'metadata': {'iso_language_code': 'it', 'result_type': 'recent'}, 'source': '<a href=\"https://mobile.twitter.com\" rel=\"nofollow\">Twitter Web App</a>', 'in_reply_to_status_id': None, 'in_reply_to_status_id_str': None, 'in_reply_to_user_id': None, 'in_reply_to_user_id_str': None, 'in_reply_to_screen_name': None, 'user': {'id': 860250851809665026, 'id_str': '860250851809665026', 'name': 'Take The Date', 'screen_name': 'takethedate', 'location': '', 'description': '#TaketheDate è il motore di ricerca di eventi politico-economici di rilievo che si tengono ogni giorno in Italia. @takethedate è un progetto di @nomoscsp', 'url': 'https://t.co/EDxQAA24HC', 'entities': {'url': {'urls': [{'url': 'https://t.co/EDxQAA24HC', 'expanded_url': 'http://www.takethedate.it', 'display_url': 'takethedate.it', 'indices': [0, 23]}]}, 'description': {'urls': []}}, 'protected': False, 'followers_count': 2304, 'friends_count': 3652, 'listed_count': 17, 'created_at': 'Thu May 04 21:52:40 +0000 2017', 'favourites_count': 10674, 'utc_offset': None, 'time_zone': None, 'geo_enabled': False, 'verified': False, 'statuses_count': 38734, 'lang': None, 'contributors_enabled': False, 'is_translator': False, 'is_translation_enabled': False, 'profile_background_color': 'F5F8FA', 'profile_background_image_url': None, 'profile_background_image_url_https': None, 'profile_background_tile': False, 'profile_image_url': 'http://pbs.twimg.com/profile_images/1621548889751814145/HXfzCqWh_normal.png', 'profile_image_url_https': 'https://pbs.twimg.com/profile_images/1621548889751814145/HXfzCqWh_normal.png', 'profile_banner_url': 'https://pbs.twimg.com/profile_banners/860250851809665026/1510050016', 'profile_link_color': '1DA1F2', 'profile_sidebar_border_color': 'C0DEED', 'profile_sidebar_fill_color': 'DDEEF6', 'profile_text_color': '333333', 'profile_use_background_image': True, 'has_extended_profile': False, 'default_profile': True, 'default_profile_image': False, 'following': False, 'follow_request_sent': False, 'notifications': False, 'translator_type': 'none', 'withheld_in_countries': []}, 'geo': None, 'coordinates': None, 'place': None, 'contributors': None, 'retweeted_status': {'created_at': 'Thu Mar 02 11:25:44 +0000 2023', 'id': 1631254458767233027, 'id_str': '1631254458767233027', 'text': '📢@TIG_italia organizza “The Digital #Healthcare Executive Conference”: le nuove progettualità tecnologiche e organi… https://t.co/O2gkrSCPw8', 'truncated': True, 'entities': {'hashtags': [{'text': 'Healthcare', 'indices': [36, 47]}], 'symbols': [], 'user_mentions': [{'screen_name': 'TIG_italia', 'name': 'The Innovation Group', 'id': 1322684712, 'id_str': '1322684712', 'indices': [1, 12]}], 'urls': [{'url': 'https://t.co/O2gkrSCPw8', 'expanded_url': 'https://twitter.com/i/web/status/1631254458767233027', 'display_url': 'twitter.com/i/web/status/1…', 'indices': [117, 140]}]}, 'metadata': {'iso_language_code': 'it', 'result_type': 'recent'}, 'source': '<a href=\"https://mobile.twitter.com\" rel=\"nofollow\">Twitter Web App</a>', 'in_reply_to_status_id': None, 'in_reply_to_status_id_str': None, 'in_reply_to_user_id': None, 'in_reply_to_user_id_str': None, 'in_reply_to_screen_name': None, 'user': {'id': 1322684712, 'id_str': '1322684712', 'name': 'The Innovation Group', 'screen_name': 'TIG_italia', 'location': 'Milano', 'description': \"The Innovation Group (TIG) è una management consulting boutique con l'obiettivo di innovare il business attraverso l'ICT e le nuove tecnologie.\", 'url': 'https://t.co/JbxElh5u69', 'entities': {'url': {'urls': [{'url': 'https://t.co/JbxElh5u69', 'expanded_url': 'http://www.theinnovationgroup.it', 'display_url': 'theinnovationgroup.it', 'indices': [0, 23]}]}, 'description': {'urls': []}}, 'protected': False, 'followers_count': 3265, 'friends_count': 2314, 'listed_count': 173, 'created_at': 'Tue Apr 02 15:22:35 +0000 2013', 'favourites_count': 3197, 'utc_offset': None, 'time_zone': None, 'geo_enabled': True, 'verified': False, 'statuses_count': 13397, 'lang': None, 'contributors_enabled': False, 'is_translator': False, 'is_translation_enabled': False, 'profile_background_color': '000000', 'profile_background_image_url': 'http://abs.twimg.com/images/themes/theme1/bg.png', 'profile_background_image_url_https': 'https://abs.twimg.com/images/themes/theme1/bg.png', 'profile_background_tile': False, 'profile_image_url': 'http://pbs.twimg.com/profile_images/755028427955171328/4COsBZdj_normal.jpg', 'profile_image_url_https': 'https://pbs.twimg.com/profile_images/755028427955171328/4COsBZdj_normal.jpg', 'profile_banner_url': 'https://pbs.twimg.com/profile_banners/1322684712/1643380032', 'profile_link_color': '7FC129', 'profile_sidebar_border_color': '000000', 'profile_sidebar_fill_color': '000000', 'profile_text_color': '000000', 'profile_use_background_image': False, 'has_extended_profile': True, 'default_profile': False, 'default_profile_image': False, 'following': False, 'follow_request_sent': False, 'notifications': False, 'translator_type': 'none', 'withheld_in_countries': []}, 'geo': None, 'coordinates': None, 'place': None, 'contributors': None, 'is_quote_status': False, 'retweet_count': 6, 'favorite_count': 5, 'favorited': False, 'retweeted': False, 'possibly_sensitive': False, 'lang': 'it'}, 'is_quote_status': False, 'retweet_count': 6, 'favorite_count': 0, 'favorited': False, 'retweeted': False, 'lang': 'it'}], 'search_metadata': {'completed_in': 0.17, 'max_id': 1631288171345465347, 'max_id_str': '1631288171345465347', 'next_results': '?max_id=1631287314352619519&q=%23healthcare&include_entities=1', 'query': '%23healthcare', 'refresh_url': '?since_id=1631288171345465347&q=%23healthcare&include_entities=1', 'count': 15, 'since_id': 0, 'since_id_str': '0'}}\n"
     ]
    }
   ],
   "source": [
    "# Search for a common trend(s).\n",
    "healthcare_tweets = twitter_api.search.tweets(q='#healthcare')\n",
    "\n",
    "# View the output.\n",
    "print(healthcare_tweets)"
   ]
  },
  {
   "cell_type": "code",
   "execution_count": 449,
   "id": "e82f996a",
   "metadata": {},
   "outputs": [],
   "source": [
    "# Read some tweets.\n",
    "search_results = twitter_api.search.tweets(q=q, count=100)\n",
    "\n",
    "statuses = search_results['statuses']"
   ]
  },
  {
   "cell_type": "code",
   "execution_count": 450,
   "id": "50348d2c",
   "metadata": {},
   "outputs": [
    {
     "name": "stdout",
     "output_type": "stream",
     "text": [
      "Length of statuses 100\n",
      "Length of statuses 200\n",
      "Length of statuses 200\n",
      "{\n",
      " \"created_at\": \"Thu Mar 02 13:39:34 +0000 2023\",\n",
      " \"id\": 1631288135953924097,\n",
      " \"id_str\": \"1631288135953924097\",\n",
      " \"text\": \"RT @RupaSin44202771: https://t.co/kGk06130Dy\\n\\u0939\\u093e\\u0908 \\u092c\\u094d\\u0932\\u0921 \\u092a\\u094d\\u0930\\u0947\\u0936\\u0930 \\u0915\\u094b \\u0939\\u093e\\u0907\\u092a\\u0930\\u091f\\u0947\\u0902\\u0936\\u0928 \\u092d\\u0940 \\u0915\\u0939\\u093e \\u091c\\u093e\\u0924\\u093e \\u0939\\u0948\\u0964 \\u0939\\u093e\\u0908 \\u092c\\u094d\\u0932\\u0921\\u092a\\u094d\\u0930\\u0947\\u0936\\u0930 \\u0906\\u091c\\u0915\\u0932 \\u0906\\u092e \\u0938\\u092e\\u0938\\u094d\\u092f\\u093e \\u092c\\u0928\\u0924\\u0940 \\u091c\\u093e \\u0930\\u0939\\u0940 \\u0939\\u0948\\u0964\\u0939\\u093f\\u0902\\u2026\",\n",
      " \"truncated\": false,\n",
      " \"entities\": {\n",
      "  \"hashtags\": [],\n",
      "  \"symbols\": [],\n",
      "  \"user_mentions\": [\n",
      "   {\n",
      "    \"screen_name\": \"RupaSin44202771\",\n",
      "    \"name\": \"Rupa Oos ki ek Boond\",\n",
      "    \"id\": 1335574739746635777,\n",
      "    \"id_str\": \"1335574739746635777\",\n",
      "    \"indices\": [\n",
      "     3,\n",
      "     19\n",
      "    ]\n",
      "   }\n",
      "  ],\n",
      "  \"urls\": [\n",
      "   {\n",
      "    \"url\": \"https://t.co/kGk06130Dy\",\n",
      "    \"expanded_url\": \"https://rupaaooskiekboond.blogspot.com/2020/06/ayurveda-synthesis-of-yoga-and-natural_29.html\",\n",
      "    \"display_url\": \"rupaaooskiekboond.blogspot.com/2020/06/ayurve\\u2026\",\n",
      "    \"indices\": [\n",
      "     21,\n",
      "     44\n",
      "    ]\n",
      "   }\n",
      "  ]\n",
      " },\n",
      " \"metadata\": {\n",
      "  \"iso_language_code\": \"hi\",\n",
      "  \"result_type\": \"recent\"\n",
      " },\n",
      " \"source\": \"<a href=\\\"http://twitter.com/download/android\\\" rel=\\\"nofollow\\\">Twitter for Android</a>\",\n",
      " \"in_reply_to_status_id\": null,\n",
      " \"in_reply_to_status_id_str\": null,\n",
      " \"in_reply_to_user_id\": null,\n",
      " \"in_reply_to_user_id_str\": null,\n",
      " \"in_reply_to_screen_name\": null,\n",
      " \"user\": {\n",
      "  \"id\": 1565353243064279048,\n",
      "  \"id_str\": \"1565353243064279048\",\n",
      "  \"name\": \"Kajal tiwari\",\n",
      "  \"screen_name\": \"kajaltiwari__\",\n",
      "  \"location\": \"Uttar Pradesh, India\",\n",
      "  \"description\": \"\\u0930\\u093e\\u0937\\u094d\\u091f\\u094d\\u0930\\u0939\\u093f\\u0924 \\u0938\\u0930\\u094d\\u0935\\u094b\\u092a\\u0930\\u093f \\ud83d\\ude4f\",\n",
      "  \"url\": null,\n",
      "  \"entities\": {\n",
      "   \"description\": {\n",
      "    \"urls\": []\n",
      "   }\n",
      "  },\n",
      "  \"protected\": false,\n",
      "  \"followers_count\": 13129,\n",
      "  \"friends_count\": 254,\n",
      "  \"listed_count\": 3,\n",
      "  \"created_at\": \"Thu Sep 01 14:58:00 +0000 2022\",\n",
      "  \"favourites_count\": 8934,\n",
      "  \"utc_offset\": null,\n",
      "  \"time_zone\": null,\n",
      "  \"geo_enabled\": false,\n",
      "  \"verified\": false,\n",
      "  \"statuses_count\": 8794,\n",
      "  \"lang\": null,\n",
      "  \"contributors_enabled\": false,\n",
      "  \"is_translator\": false,\n",
      "  \"is_translation_enabled\": false,\n",
      "  \"profile_background_color\": \"F5F8FA\",\n",
      "  \"profile_background_image_url\": null,\n",
      "  \"profile_background_image_url_https\": null,\n",
      "  \"profile_background_tile\": false,\n",
      "  \"profile_image_url\": \"http://pbs.twimg.com/profile_images/1627701293094690816/weUm2f4-_normal.jpg\",\n",
      "  \"profile_image_url_https\": \"https://pbs.twimg.com/profile_images/1627701293094690816/weUm2f4-_normal.jpg\",\n",
      "  \"profile_banner_url\": \"https://pbs.twimg.com/profile_banners/1565353243064279048/1673452753\",\n",
      "  \"profile_link_color\": \"1DA1F2\",\n",
      "  \"profile_sidebar_border_color\": \"C0DEED\",\n",
      "  \"profile_sidebar_fill_color\": \"DDEEF6\",\n",
      "  \"profile_text_color\": \"333333\",\n",
      "  \"profile_use_background_image\": true,\n",
      "  \"has_extended_profile\": true,\n",
      "  \"default_profile\": true,\n",
      "  \"default_profile_image\": false,\n",
      "  \"following\": false,\n",
      "  \"follow_request_sent\": false,\n",
      "  \"notifications\": false,\n",
      "  \"translator_type\": \"none\",\n",
      "  \"withheld_in_countries\": []\n",
      " },\n",
      " \"geo\": null,\n",
      " \"coordinates\": null,\n",
      " \"place\": null,\n",
      " \"contributors\": null,\n",
      " \"retweeted_status\": {\n",
      "  \"created_at\": \"Thu Mar 02 11:48:14 +0000 2023\",\n",
      "  \"id\": 1631260118271791104,\n",
      "  \"id_str\": \"1631260118271791104\",\n",
      "  \"text\": \"https://t.co/kGk06130Dy\\n\\u0939\\u093e\\u0908 \\u092c\\u094d\\u0932\\u0921 \\u092a\\u094d\\u0930\\u0947\\u0936\\u0930 \\u0915\\u094b \\u0939\\u093e\\u0907\\u092a\\u0930\\u091f\\u0947\\u0902\\u0936\\u0928 \\u092d\\u0940 \\u0915\\u0939\\u093e \\u091c\\u093e\\u0924\\u093e \\u0939\\u0948\\u0964 \\u0939\\u093e\\u0908 \\u092c\\u094d\\u0932\\u0921\\u092a\\u094d\\u0930\\u0947\\u0936\\u0930 \\u0906\\u091c\\u0915\\u0932 \\u0906\\u092e \\u0938\\u092e\\u0938\\u094d\\u092f\\u093e \\u092c\\u0928\\u0924\\u0940 \\u091c\\u093e \\u0930\\u0939\\u0940 \\u0939\\u0948\\u0964\\u2026 https://t.co/AEWXr330Sb\",\n",
      "  \"truncated\": true,\n",
      "  \"entities\": {\n",
      "   \"hashtags\": [],\n",
      "   \"symbols\": [],\n",
      "   \"user_mentions\": [],\n",
      "   \"urls\": [\n",
      "    {\n",
      "     \"url\": \"https://t.co/kGk06130Dy\",\n",
      "     \"expanded_url\": \"https://rupaaooskiekboond.blogspot.com/2020/06/ayurveda-synthesis-of-yoga-and-natural_29.html\",\n",
      "     \"display_url\": \"rupaaooskiekboond.blogspot.com/2020/06/ayurve\\u2026\",\n",
      "     \"indices\": [\n",
      "      0,\n",
      "      23\n",
      "     ]\n",
      "    },\n",
      "    {\n",
      "     \"url\": \"https://t.co/AEWXr330Sb\",\n",
      "     \"expanded_url\": \"https://twitter.com/i/web/status/1631260118271791104\",\n",
      "     \"display_url\": \"twitter.com/i/web/status/1\\u2026\",\n",
      "     \"indices\": [\n",
      "      117,\n",
      "      140\n",
      "     ]\n",
      "    }\n",
      "   ]\n",
      "  },\n",
      "  \"metadata\": {\n",
      "   \"iso_language_code\": \"hi\",\n",
      "   \"result_type\": \"recent\"\n",
      "  },\n",
      "  \"source\": \"<a href=\\\"http://twitter.com/download/android\\\" rel=\\\"nofollow\\\">Twitter for Android</a>\",\n",
      "  \"in_reply_to_status_id\": null,\n",
      "  \"in_reply_to_status_id_str\": null,\n",
      "  \"in_reply_to_user_id\": null,\n",
      "  \"in_reply_to_user_id_str\": null,\n",
      "  \"in_reply_to_screen_name\": null,\n",
      "  \"user\": {\n",
      "   \"id\": 1335574739746635777,\n",
      "   \"id_str\": \"1335574739746635777\",\n",
      "   \"name\": \"Rupa Oos ki ek Boond\",\n",
      "   \"screen_name\": \"RupaSin44202771\",\n",
      "   \"location\": \"\",\n",
      "   \"description\": \"\",\n",
      "   \"url\": \"https://t.co/nWtGDGvueD\",\n",
      "   \"entities\": {\n",
      "    \"url\": {\n",
      "     \"urls\": [\n",
      "      {\n",
      "       \"url\": \"https://t.co/nWtGDGvueD\",\n",
      "       \"expanded_url\": \"http://rupaaooskiekboond.blogspot.com\",\n",
      "       \"display_url\": \"rupaaooskiekboond.blogspot.com\",\n",
      "       \"indices\": [\n",
      "        0,\n",
      "        23\n",
      "       ]\n",
      "      }\n",
      "     ]\n",
      "    },\n",
      "    \"description\": {\n",
      "     \"urls\": []\n",
      "    }\n",
      "   },\n",
      "   \"protected\": false,\n",
      "   \"followers_count\": 1165,\n",
      "   \"friends_count\": 266,\n",
      "   \"listed_count\": 0,\n",
      "   \"created_at\": \"Sun Dec 06 13:20:29 +0000 2020\",\n",
      "   \"favourites_count\": 16385,\n",
      "   \"utc_offset\": null,\n",
      "   \"time_zone\": null,\n",
      "   \"geo_enabled\": false,\n",
      "   \"verified\": false,\n",
      "   \"statuses_count\": 10542,\n",
      "   \"lang\": null,\n",
      "   \"contributors_enabled\": false,\n",
      "   \"is_translator\": false,\n",
      "   \"is_translation_enabled\": false,\n",
      "   \"profile_background_color\": \"F5F8FA\",\n",
      "   \"profile_background_image_url\": null,\n",
      "   \"profile_background_image_url_https\": null,\n",
      "   \"profile_background_tile\": false,\n",
      "   \"profile_image_url\": \"http://pbs.twimg.com/profile_images/1570727738180521985/QNyzPij6_normal.jpg\",\n",
      "   \"profile_image_url_https\": \"https://pbs.twimg.com/profile_images/1570727738180521985/QNyzPij6_normal.jpg\",\n",
      "   \"profile_banner_url\": \"https://pbs.twimg.com/profile_banners/1335574739746635777/1642852935\",\n",
      "   \"profile_link_color\": \"1DA1F2\",\n",
      "   \"profile_sidebar_border_color\": \"C0DEED\",\n",
      "   \"profile_sidebar_fill_color\": \"DDEEF6\",\n",
      "   \"profile_text_color\": \"333333\",\n",
      "   \"profile_use_background_image\": true,\n",
      "   \"has_extended_profile\": false,\n",
      "   \"default_profile\": true,\n",
      "   \"default_profile_image\": false,\n",
      "   \"following\": false,\n",
      "   \"follow_request_sent\": false,\n",
      "   \"notifications\": false,\n",
      "   \"translator_type\": \"none\",\n",
      "   \"withheld_in_countries\": []\n",
      "  },\n",
      "  \"geo\": null,\n",
      "  \"coordinates\": null,\n",
      "  \"place\": null,\n",
      "  \"contributors\": null,\n",
      "  \"is_quote_status\": false,\n",
      "  \"retweet_count\": 55,\n",
      "  \"favorite_count\": 45,\n",
      "  \"favorited\": false,\n",
      "  \"retweeted\": false,\n",
      "  \"possibly_sensitive\": false,\n",
      "  \"lang\": \"hi\"\n",
      " },\n",
      " \"is_quote_status\": false,\n",
      " \"retweet_count\": 55,\n",
      " \"favorite_count\": 0,\n",
      " \"favorited\": false,\n",
      " \"retweeted\": false,\n",
      " \"possibly_sensitive\": false,\n",
      " \"lang\": \"hi\"\n",
      "}\n"
     ]
    }
   ],
   "source": [
    "# Import JSON.\n",
    "import json\n",
    "\n",
    "for _ in range(5):\n",
    "    print(\"Length of statuses\", len(statuses))\n",
    "    try:\n",
    "        next_results = search_results['search_metadata']['next_results']\n",
    "    except KeyError: # No more results when next_results doesn't exist\n",
    "        break\n",
    "        \n",
    "    # Create a dictionary from next_results\n",
    "    kwargs = dict([ kv.split('=') for kv in next_results[1:].split(\"&\") ])\n",
    "    \n",
    "    search_results = twitter_api.search.tweets(**kwargs)\n",
    "    statuses += search_results['statuses']\n",
    "\n",
    "print(json.dumps(statuses[1], indent=1))"
   ]
  },
  {
   "cell_type": "code",
   "execution_count": 451,
   "id": "f181442e",
   "metadata": {},
   "outputs": [
    {
     "data": {
      "text/plain": [
       "dict_keys(['created_at', 'id', 'id_str', 'text', 'truncated', 'entities', 'metadata', 'source', 'in_reply_to_status_id', 'in_reply_to_status_id_str', 'in_reply_to_user_id', 'in_reply_to_user_id_str', 'in_reply_to_screen_name', 'user', 'geo', 'coordinates', 'place', 'contributors', 'is_quote_status', 'retweet_count', 'favorite_count', 'favorited', 'retweeted', 'possibly_sensitive', 'lang'])"
      ]
     },
     "execution_count": 451,
     "metadata": {},
     "output_type": "execute_result"
    }
   ],
   "source": [
    "# Check statuses.\n",
    "t = statuses[0]\n",
    "\n",
    "# Print the keys.\n",
    "t.keys()"
   ]
  },
  {
   "cell_type": "code",
   "execution_count": 452,
   "id": "50383521",
   "metadata": {},
   "outputs": [
    {
     "name": "stdout",
     "output_type": "stream",
     "text": [
      "1631288171345465347\n",
      "#ECR2023👉Many thanks to Szymon Korzekwa  from BrainScanAI for his pitch 🙏 : \n",
      "\n",
      "“Support for emergency departments in… https://t.co/lBztbYfLvB\n"
     ]
    },
    {
     "data": {
      "text/plain": [
       "{'hashtags': [{'text': 'ECR2023', 'indices': [0, 8]}],\n",
       " 'symbols': [],\n",
       " 'user_mentions': [],\n",
       " 'urls': [{'url': 'https://t.co/lBztbYfLvB',\n",
       "   'expanded_url': 'https://twitter.com/i/web/status/1631288171345465347',\n",
       "   'display_url': 'twitter.com/i/web/status/1…',\n",
       "   'indices': [117, 140]}]}"
      ]
     },
     "execution_count": 452,
     "metadata": {},
     "output_type": "execute_result"
    }
   ],
   "source": [
    "# Find the id.\n",
    "print(t['id'])\n",
    "\n",
    "# View the ouput in text.\n",
    "print(t['text'])\n",
    "\n",
    "# View entities.\n",
    "t['entities']"
   ]
  },
  {
   "cell_type": "markdown",
   "id": "908f92b7",
   "metadata": {},
   "source": [
    "## Using the tweets.csv"
   ]
  },
  {
   "cell_type": "code",
   "execution_count": 453,
   "id": "30f93a3e",
   "metadata": {},
   "outputs": [
    {
     "name": "stdout",
     "output_type": "stream",
     "text": [
      "(1174, 10)\n",
      "tweet_id                    int64\n",
      "tweet_full_text            object\n",
      "tweet_entities             object\n",
      "tweet_entities_hashtags    object\n",
      "tweet_metadata             object\n",
      "tweet_retweet_count         int64\n",
      "tweet_favorite_count        int64\n",
      "tweet_favorited              bool\n",
      "tweet_retweeted              bool\n",
      "tweet_lang                 object\n",
      "dtype: object\n",
      "Index(['tweet_id', 'tweet_full_text', 'tweet_entities',\n",
      "       'tweet_entities_hashtags', 'tweet_metadata', 'tweet_retweet_count',\n",
      "       'tweet_favorite_count', 'tweet_favorited', 'tweet_retweeted',\n",
      "       'tweet_lang'],\n",
      "      dtype='object')\n"
     ]
    },
    {
     "data": {
      "text/html": [
       "<div>\n",
       "<style scoped>\n",
       "    .dataframe tbody tr th:only-of-type {\n",
       "        vertical-align: middle;\n",
       "    }\n",
       "\n",
       "    .dataframe tbody tr th {\n",
       "        vertical-align: top;\n",
       "    }\n",
       "\n",
       "    .dataframe thead th {\n",
       "        text-align: right;\n",
       "    }\n",
       "</style>\n",
       "<table border=\"1\" class=\"dataframe\">\n",
       "  <thead>\n",
       "    <tr style=\"text-align: right;\">\n",
       "      <th></th>\n",
       "      <th>tweet_id</th>\n",
       "      <th>tweet_full_text</th>\n",
       "      <th>tweet_entities</th>\n",
       "      <th>tweet_entities_hashtags</th>\n",
       "      <th>tweet_metadata</th>\n",
       "      <th>tweet_retweet_count</th>\n",
       "      <th>tweet_favorite_count</th>\n",
       "      <th>tweet_favorited</th>\n",
       "      <th>tweet_retweeted</th>\n",
       "      <th>tweet_lang</th>\n",
       "    </tr>\n",
       "  </thead>\n",
       "  <tbody>\n",
       "    <tr>\n",
       "      <th>0</th>\n",
       "      <td>1567629223795527681</td>\n",
       "      <td>As Arkansas’ first Comprehensive Stroke Certif...</td>\n",
       "      <td>{'hashtags': [{'text': 'Healthcare', 'indices'...</td>\n",
       "      <td>#Healthcare</td>\n",
       "      <td>{'iso_language_code': 'en', 'result_type': 're...</td>\n",
       "      <td>0</td>\n",
       "      <td>0</td>\n",
       "      <td>False</td>\n",
       "      <td>False</td>\n",
       "      <td>en</td>\n",
       "    </tr>\n",
       "    <tr>\n",
       "      <th>1</th>\n",
       "      <td>1567582846612553728</td>\n",
       "      <td>RT @AndreaGrammer: Work-life balance is at the...</td>\n",
       "      <td>{'hashtags': [{'text': 'PremiseHealth', 'indic...</td>\n",
       "      <td>#PremiseHealth, #hiring</td>\n",
       "      <td>{'iso_language_code': 'en', 'result_type': 're...</td>\n",
       "      <td>2</td>\n",
       "      <td>0</td>\n",
       "      <td>False</td>\n",
       "      <td>False</td>\n",
       "      <td>en</td>\n",
       "    </tr>\n",
       "    <tr>\n",
       "      <th>2</th>\n",
       "      <td>1567582787070304256</td>\n",
       "      <td>RT @OntarioGreens: $10 billion can go a long w...</td>\n",
       "      <td>{'hashtags': [{'text': 'Healthcare', 'indices'...</td>\n",
       "      <td>#Healthcare</td>\n",
       "      <td>{'iso_language_code': 'en', 'result_type': 're...</td>\n",
       "      <td>39</td>\n",
       "      <td>0</td>\n",
       "      <td>False</td>\n",
       "      <td>False</td>\n",
       "      <td>en</td>\n",
       "    </tr>\n",
       "    <tr>\n",
       "      <th>3</th>\n",
       "      <td>1567582767625428992</td>\n",
       "      <td>RT @modrnhealthcr: 🚨#NEW:🚨 Insurance companies...</td>\n",
       "      <td>{'hashtags': [{'text': 'NEW', 'indices': [20, ...</td>\n",
       "      <td>#NEW</td>\n",
       "      <td>{'iso_language_code': 'en', 'result_type': 're...</td>\n",
       "      <td>5</td>\n",
       "      <td>0</td>\n",
       "      <td>False</td>\n",
       "      <td>False</td>\n",
       "      <td>en</td>\n",
       "    </tr>\n",
       "    <tr>\n",
       "      <th>4</th>\n",
       "      <td>1567582720460570625</td>\n",
       "      <td>ICYMI: Our recent blogs on Cybersecurity in Ac...</td>\n",
       "      <td>{'hashtags': [{'text': 'blogs', 'indices': [18...</td>\n",
       "      <td>#blogs, #digitaltransformation, #cybersecurity...</td>\n",
       "      <td>{'iso_language_code': 'en', 'result_type': 're...</td>\n",
       "      <td>0</td>\n",
       "      <td>0</td>\n",
       "      <td>False</td>\n",
       "      <td>False</td>\n",
       "      <td>en</td>\n",
       "    </tr>\n",
       "    <tr>\n",
       "      <th>...</th>\n",
       "      <td>...</td>\n",
       "      <td>...</td>\n",
       "      <td>...</td>\n",
       "      <td>...</td>\n",
       "      <td>...</td>\n",
       "      <td>...</td>\n",
       "      <td>...</td>\n",
       "      <td>...</td>\n",
       "      <td>...</td>\n",
       "      <td>...</td>\n",
       "    </tr>\n",
       "    <tr>\n",
       "      <th>1169</th>\n",
       "      <td>1567583004209332227</td>\n",
       "      <td>RT @PotomacPhotonic: Potomac #Innovation Repor...</td>\n",
       "      <td>{'hashtags': [{'text': 'Innovation', 'indices'...</td>\n",
       "      <td>#Innovation, #precisionFabrication, #Microfluidic</td>\n",
       "      <td>{'iso_language_code': 'en', 'result_type': 're...</td>\n",
       "      <td>1</td>\n",
       "      <td>0</td>\n",
       "      <td>False</td>\n",
       "      <td>False</td>\n",
       "      <td>en</td>\n",
       "    </tr>\n",
       "    <tr>\n",
       "      <th>1170</th>\n",
       "      <td>1567582945342267393</td>\n",
       "      <td>Not a cent towards workers who would like to a...</td>\n",
       "      <td>{'hashtags': [{'text': 'SKPoli', 'indices': [2...</td>\n",
       "      <td>#SKPoli, #healthcare</td>\n",
       "      <td>{'iso_language_code': 'en', 'result_type': 're...</td>\n",
       "      <td>0</td>\n",
       "      <td>1</td>\n",
       "      <td>False</td>\n",
       "      <td>False</td>\n",
       "      <td>en</td>\n",
       "    </tr>\n",
       "    <tr>\n",
       "      <th>1171</th>\n",
       "      <td>1567582936014241792</td>\n",
       "      <td>The @hfmaorg Region 9 presents \"The Value of E...</td>\n",
       "      <td>{'hashtags': [{'text': 'webinar', 'indices': [...</td>\n",
       "      <td>#webinar, #ESG, #healthcare</td>\n",
       "      <td>{'iso_language_code': 'en', 'result_type': 're...</td>\n",
       "      <td>0</td>\n",
       "      <td>0</td>\n",
       "      <td>False</td>\n",
       "      <td>False</td>\n",
       "      <td>en</td>\n",
       "    </tr>\n",
       "    <tr>\n",
       "      <th>1172</th>\n",
       "      <td>1567582892892782592</td>\n",
       "      <td>Happy physiotherapy 🩺 day 🎉..\\r\\n#bpt #physiot...</td>\n",
       "      <td>{'hashtags': [{'text': 'bpt', 'indices': [30, ...</td>\n",
       "      <td>#bpt, #physiotherapy, #HealthyNation, #healthc...</td>\n",
       "      <td>{'iso_language_code': 'en', 'result_type': 're...</td>\n",
       "      <td>0</td>\n",
       "      <td>5</td>\n",
       "      <td>False</td>\n",
       "      <td>False</td>\n",
       "      <td>en</td>\n",
       "    </tr>\n",
       "    <tr>\n",
       "      <th>1173</th>\n",
       "      <td>1567582846847533058</td>\n",
       "      <td>RT @KimcoStaffing: Apply now to work for #Medi...</td>\n",
       "      <td>{'hashtags': [{'text': 'MediQuestStaffing', 'i...</td>\n",
       "      <td>#MediQuestStaffing, #Hospital, #shift, #Newpor...</td>\n",
       "      <td>{'iso_language_code': 'en', 'result_type': 're...</td>\n",
       "      <td>2</td>\n",
       "      <td>0</td>\n",
       "      <td>False</td>\n",
       "      <td>False</td>\n",
       "      <td>en</td>\n",
       "    </tr>\n",
       "  </tbody>\n",
       "</table>\n",
       "<p>1174 rows × 10 columns</p>\n",
       "</div>"
      ],
      "text/plain": [
       "                 tweet_id                                    tweet_full_text  \\\n",
       "0     1567629223795527681  As Arkansas’ first Comprehensive Stroke Certif...   \n",
       "1     1567582846612553728  RT @AndreaGrammer: Work-life balance is at the...   \n",
       "2     1567582787070304256  RT @OntarioGreens: $10 billion can go a long w...   \n",
       "3     1567582767625428992  RT @modrnhealthcr: 🚨#NEW:🚨 Insurance companies...   \n",
       "4     1567582720460570625  ICYMI: Our recent blogs on Cybersecurity in Ac...   \n",
       "...                   ...                                                ...   \n",
       "1169  1567583004209332227  RT @PotomacPhotonic: Potomac #Innovation Repor...   \n",
       "1170  1567582945342267393  Not a cent towards workers who would like to a...   \n",
       "1171  1567582936014241792  The @hfmaorg Region 9 presents \"The Value of E...   \n",
       "1172  1567582892892782592  Happy physiotherapy 🩺 day 🎉..\\r\\n#bpt #physiot...   \n",
       "1173  1567582846847533058  RT @KimcoStaffing: Apply now to work for #Medi...   \n",
       "\n",
       "                                         tweet_entities  \\\n",
       "0     {'hashtags': [{'text': 'Healthcare', 'indices'...   \n",
       "1     {'hashtags': [{'text': 'PremiseHealth', 'indic...   \n",
       "2     {'hashtags': [{'text': 'Healthcare', 'indices'...   \n",
       "3     {'hashtags': [{'text': 'NEW', 'indices': [20, ...   \n",
       "4     {'hashtags': [{'text': 'blogs', 'indices': [18...   \n",
       "...                                                 ...   \n",
       "1169  {'hashtags': [{'text': 'Innovation', 'indices'...   \n",
       "1170  {'hashtags': [{'text': 'SKPoli', 'indices': [2...   \n",
       "1171  {'hashtags': [{'text': 'webinar', 'indices': [...   \n",
       "1172  {'hashtags': [{'text': 'bpt', 'indices': [30, ...   \n",
       "1173  {'hashtags': [{'text': 'MediQuestStaffing', 'i...   \n",
       "\n",
       "                                tweet_entities_hashtags  \\\n",
       "0                                           #Healthcare   \n",
       "1                               #PremiseHealth, #hiring   \n",
       "2                                           #Healthcare   \n",
       "3                                                  #NEW   \n",
       "4     #blogs, #digitaltransformation, #cybersecurity...   \n",
       "...                                                 ...   \n",
       "1169  #Innovation, #precisionFabrication, #Microfluidic   \n",
       "1170                               #SKPoli, #healthcare   \n",
       "1171                        #webinar, #ESG, #healthcare   \n",
       "1172  #bpt, #physiotherapy, #HealthyNation, #healthc...   \n",
       "1173  #MediQuestStaffing, #Hospital, #shift, #Newpor...   \n",
       "\n",
       "                                         tweet_metadata  tweet_retweet_count  \\\n",
       "0     {'iso_language_code': 'en', 'result_type': 're...                    0   \n",
       "1     {'iso_language_code': 'en', 'result_type': 're...                    2   \n",
       "2     {'iso_language_code': 'en', 'result_type': 're...                   39   \n",
       "3     {'iso_language_code': 'en', 'result_type': 're...                    5   \n",
       "4     {'iso_language_code': 'en', 'result_type': 're...                    0   \n",
       "...                                                 ...                  ...   \n",
       "1169  {'iso_language_code': 'en', 'result_type': 're...                    1   \n",
       "1170  {'iso_language_code': 'en', 'result_type': 're...                    0   \n",
       "1171  {'iso_language_code': 'en', 'result_type': 're...                    0   \n",
       "1172  {'iso_language_code': 'en', 'result_type': 're...                    0   \n",
       "1173  {'iso_language_code': 'en', 'result_type': 're...                    2   \n",
       "\n",
       "      tweet_favorite_count  tweet_favorited  tweet_retweeted tweet_lang  \n",
       "0                        0            False            False         en  \n",
       "1                        0            False            False         en  \n",
       "2                        0            False            False         en  \n",
       "3                        0            False            False         en  \n",
       "4                        0            False            False         en  \n",
       "...                    ...              ...              ...        ...  \n",
       "1169                     0            False            False         en  \n",
       "1170                     1            False            False         en  \n",
       "1171                     0            False            False         en  \n",
       "1172                     5            False            False         en  \n",
       "1173                     0            False            False         en  \n",
       "\n",
       "[1174 rows x 10 columns]"
      ]
     },
     "execution_count": 453,
     "metadata": {},
     "output_type": "execute_result"
    }
   ],
   "source": [
    "# Read the tweets.csv file.\n",
    "tweets = pd.read_csv('tweets.csv')\n",
    "\n",
    "# View the Rows and Columns.\n",
    "print(tweets.shape)\n",
    "\n",
    "# View the data types.\n",
    "print(tweets.dtypes)\n",
    "\n",
    "# View the columns\n",
    "print(tweets.columns)\n",
    "\n",
    "# Fetch top 5 rows\n",
    "tweets"
   ]
  },
  {
   "cell_type": "markdown",
   "id": "ea6ab765",
   "metadata": {},
   "source": [
    "## Question 6: Were there adequate staff and capacity in the networks?"
   ]
  },
  {
   "cell_type": "markdown",
   "id": "0cb4c9da",
   "metadata": {},
   "source": [
    "Healthcare professional type (HCP type) was incorrectly extracted for some practices from \n",
    "October 2017 onwards. This has led to potential incorrect reporting of some HCP Types, \n",
    "including nurses. The only HCP type currently collected with high enough consistency for \n",
    "publication is GP. Therefore, all other HCP types are reported as 'Other Practice Staff' \n",
    "throughout this release.\n",
    "\n",
    "Blank or missing HCP types are due to the use of generic lists for GPs (for example visits and \n",
    "prescription requests) or staff not set up correctly on the system (for example medical \n",
    "students and team leaders).\n",
    "\n",
    "Where HCP type is included, it has been grouped in the following way.\n",
    "The occupations grouped as HCP type 'GP' are:\n",
    "* GP registrar\n",
    "* Locum GP\n",
    "* Principal GP\n",
    "\n",
    "The occupations grouped as HCP type 'Other Practice Staff' are:\n",
    "* Acupuncturist\n",
    "* Chiropodist\n",
    "* Community Psychiatric Nurse\n",
    "* Counsellor\n",
    "* Dispenser\n",
    "* District Nurse\n",
    "* Health Visitor\n",
    "* Interpreter/Link Worker\n",
    "* Osteopath\n",
    "* Other Practice Staff\n",
    "* Physiotherapist\n",
    "* Practice Nurse\n",
    "\n",
    "If HCP type is recorded as NULL/Missing Data, it will be classified as Unknown. It is possible \n",
    "that a small proportion of GP appointments are classified within Other Practice Staff due to \n",
    "incorrect mappings with data suppliers, for example, Trainee GP or GP Partner. For information \n",
    "on how this differs from SDS Role Group go to the SDS Role Group section."
   ]
  },
  {
   "cell_type": "code",
   "execution_count": 454,
   "id": "3a5e5aff",
   "metadata": {},
   "outputs": [
    {
     "name": "stdout",
     "output_type": "stream",
     "text": [
      "Other Practice staff    241557\n",
      "GP                      226036\n",
      "Unknown                 129228\n",
      "Name: hcp_type, dtype: int64\n"
     ]
    },
    {
     "data": {
      "text/plain": [
       "Text(0.5, 1.0, 'Count of number of HCP Type')"
      ]
     },
     "execution_count": 454,
     "metadata": {},
     "output_type": "execute_result"
    },
    {
     "data": {
      "text/plain": [
       "<AxesSubplot:title={'center':'Count of number of HCP Type'}, xlabel='hcp_type', ylabel='count'>"
      ]
     },
     "execution_count": 454,
     "metadata": {},
     "output_type": "execute_result"
    },
    {
     "data": {
      "image/png": "[encoded data removed]",
      "text/plain": [
       "<Figure size 432x288 with 1 Axes>"
      ]
     },
     "metadata": {},
     "output_type": "display_data"
    }
   ],
   "source": [
    "# Determine the HCP (Healthcare Professional Type)\n",
    "# Correct types: GP registrar, Locum GP, Principal GP\n",
    "# Incorrect types: Other Practice staff apart from GP\n",
    "# NULL/Missing data: Unknown\n",
    "\n",
    "# Count the number of HCP types\n",
    "\n",
    "print(appointments_categories_duration['hcp_type'].value_counts())\n",
    "\n",
    "# Create a plot.\n",
    "plt.title(\"Count of number of HCP Type\")\n",
    "\n",
    "sns.despine(left=True);\n",
    "sns.countplot(x='hcp_type', data=appointments_categories_duration)"
   ]
  },
  {
   "cell_type": "markdown",
   "id": "30938ece",
   "metadata": {},
   "source": [
    "## Question 7: What was the actual utilisation of resources?"
   ]
  },
  {
   "cell_type": "markdown",
   "id": "85025b85",
   "metadata": {},
   "source": [
    "#### Check for the Appointment Mode, Actual Duration of the appointment, National Category and Time from booking to appointment\n",
    "\n",
    "#### 1. Appointment Mode\n",
    "The mode of the appointment shows the setting of the consultation. For example, face to face, \n",
    "telephone, or home visits. This is set locally by the practices so it may not represent the actual \n",
    "care setting of the appointment. For example, some video conference appointments may be logged \n",
    "by the practice as face to face.\n",
    "\n",
    "Most face to face time is booked as individual appointment time, typically with one patient \n",
    "attending each time slot. By contrast, many telephone triage and home visits appear as one \n",
    "long blocked period and are not booked (e.g. traige and home visits) to individual patients.\n",
    "\n",
    "Some home visits and telephone triage sessions are booked in to early-morning sessions \n",
    "(6 am to 6:20 am) for each GP as untimed appointments, but the consultations happen in the \n",
    "afternoon. They are booked in to early-morning sessions so that they appear on the top of the \n",
    "appointment book screen for each GP. At some practices, home visits are logged at reception \n",
    "and not in the practice system.\n",
    "\n",
    "Unless home visits and telephone triage are logged as individual appointments and booked to \n",
    "a patient, they will not appear in this publication. Appointments marked as online, video or \n",
    "video conference are shown as 'Online / Video'. This may or may not include a video element. \n",
    "Non-video based online consultations such as live chat or Voice over Internet Protocol (VoIP) \n",
    "and video-based appointments are all included in this category.\n",
    "\n",
    "Practices using the Cegedim GP system are unable to supply appointment mode data. Consequently, \n",
    "the proportion of appointments with an 'Unknown' appointment mode is higher in releases from \n",
    "July 2019 onwards when Cegedim practices were included in the publication."
   ]
  },
  {
   "cell_type": "code",
   "execution_count": 455,
   "id": "640f2084",
   "metadata": {},
   "outputs": [
    {
     "name": "stdout",
     "output_type": "stream",
     "text": [
      "Face-to-Face    180410\n",
      "Telephone       166483\n",
      "Home Visit      111194\n",
      "Unknown          79147\n",
      "Video/Online     59587\n",
      "Name: appointment_mode, dtype: int64\n"
     ]
    },
    {
     "data": {
      "text/plain": [
       "Text(0.5, 1.0, 'Count the number of Appointment Mode availed')"
      ]
     },
     "execution_count": 455,
     "metadata": {},
     "output_type": "execute_result"
    },
    {
     "data": {
      "text/plain": [
       "<AxesSubplot:title={'center':'Count the number of Appointment Mode availed'}, xlabel='count', ylabel='appointment_mode'>"
      ]
     },
     "execution_count": 455,
     "metadata": {},
     "output_type": "execute_result"
    },
    {
     "data": {
      "image/png": "[encoded data removed]",
      "text/plain": [
       "<Figure size 432x288 with 1 Axes>"
      ]
     },
     "metadata": {},
     "output_type": "display_data"
    }
   ],
   "source": [
    "# Appointment Mode: Cegedim GP system {Unknown}\n",
    "\n",
    "print(appointments_categories_duration['appointment_mode'].value_counts())\n",
    "\n",
    "# Create a plot.\n",
    "plt.title(\"Count the number of Appointment Mode availed\")\n",
    "\n",
    "sns.despine(left=True);\n",
    "sns.countplot(y='appointment_mode', data=appointments_categories_duration)"
   ]
  },
  {
   "cell_type": "markdown",
   "id": "25a82049",
   "metadata": {},
   "source": [
    "#### 2. Actual Duration\n",
    "Actual duration data was first included in the April 2022 release with data from \n",
    "December 2021. Actual duration is the length in minutes of the consultation that\n",
    "took place.\n",
    "\n",
    "This field is recorded differently depending on the practice’s system supplier. \n",
    "For example, EMIS records the actual duration as the time between the patient being \n",
    "called into their appointment and the time the clinician records that the consultation \n",
    "is complete. TPP can record the start time as either when the consultation is started, \n",
    "when a clinician calls for a patient, or when the appointment status is changed to \n",
    "‘in progress’. The end time is recorded as when the appointment is marked as finished \n",
    "with the actual duration being the difference between these two times. This leads to \n",
    "variations in data quality that NHS Digital is continuing to work with system suppliers \n",
    "to address.\n",
    "\n",
    "Any appointments with a null duration or a duration of less than one minute or greater \n",
    "than 60 minutes have been grouped into an ‘Unknown / Data Quality Issue’ category within \n",
    "this publication."
   ]
  },
  {
   "cell_type": "code",
   "execution_count": 456,
   "id": "d4d80ce9",
   "metadata": {},
   "outputs": [
    {
     "name": "stdout",
     "output_type": "stream",
     "text": [
      "Unknown / Data Quality    20161\n",
      "1-5 Minutes               19909\n",
      "6-10 Minutes              19902\n",
      "11-15 Minutes             19738\n",
      "16-20 Minutes             19534\n",
      "21-30 Minutes             19452\n",
      "31-60 Minutes             19097\n",
      "Name: actual_duration, dtype: int64\n"
     ]
    },
    {
     "data": {
      "text/plain": [
       "Text(0.5, 1.0, 'Count the number of Appointment(s) duration')"
      ]
     },
     "execution_count": 456,
     "metadata": {},
     "output_type": "execute_result"
    },
    {
     "data": {
      "text/plain": [
       "<AxesSubplot:title={'center':'Count the number of Appointment(s) duration'}, xlabel='count', ylabel='actual_duration'>"
      ]
     },
     "execution_count": 456,
     "metadata": {},
     "output_type": "execute_result"
    },
    {
     "data": {
      "image/png": "[encoded data removed]",
      "text/plain": [
       "<Figure size 432x288 with 1 Axes>"
      ]
     },
     "metadata": {},
     "output_type": "display_data"
    }
   ],
   "source": [
    "# Actual Duration - Null duration or <1min or >60-mins categorized as Unknown/Data Quality Issue\n",
    "print(appointments_categories_duration['actual_duration'].value_counts())\n",
    "\n",
    "# Create a plot.\n",
    "plt.title(\"Count the number of Appointment(s) duration\")\n",
    "\n",
    "sns.despine(left=True);\n",
    "sns.countplot(y='actual_duration', data=appointments_categories_duration)"
   ]
  },
  {
   "cell_type": "markdown",
   "id": "808f506f",
   "metadata": {},
   "source": [
    "#### 3. National Category\n",
    "Within each context type, there is an option for practices to choose a ‘Does Not Fit’ category. \n",
    "This is used only when a practice is unable to place an appointment type within one of the \n",
    "predefined categories. These appointments are assigned to the ‘Inconsistent Mapping’ context \n",
    "type with further analysis planned to establish whether new categories in future releases are \n",
    "needed, or additional assistance and guidance is required for mapping.\n",
    "\n",
    "* Context Type \n",
    "        – National Category\n",
    "* Care Related Encounter \n",
    "        – General Consultation Acute\n",
    "        – General Consultation Routine\n",
    "        – Planned Clinics\n",
    "        – Planned Clinical Procedure\n",
    "        – Unplanned Clinical Activity\n",
    "        – Walk-in, Clinical Triage, Home Visit, Care Home Visit\n",
    "        – Group Consultation and Group Education\n",
    "        – Structured Medication Review\n",
    "        – Patient contact during Care Home Round\n",
    "        – Care Home Needs Assessment & Personalised Care and Support Planning\n",
    "        – Social Prescribing Service\n",
    "        – Service provided by organisation external to the practice\n",
    "        – Non-contractual chargeable work\n",
    "* Inconsistent Mapping \n",
    "        – Care Related Encounter but does not fit into any other category\n",
    "        – Appointment types not mapped to a Care Related Encounter"
   ]
  },
  {
   "cell_type": "code",
   "execution_count": 457,
   "id": "02925aa4",
   "metadata": {},
   "outputs": [
    {
     "name": "stdout",
     "output_type": "stream",
     "text": [
      "Inconsistent Mapping                                                   89494\n",
      "General Consultation Routine                                           89329\n",
      "General Consultation Acute                                             84874\n",
      "Planned Clinics                                                        76429\n",
      "Clinical Triage                                                        74539\n",
      "Planned Clinical Procedure                                             59631\n",
      "Structured Medication Review                                           44467\n",
      "Service provided by organisation external to the practice              43095\n",
      "Home Visit                                                             41850\n",
      "Unplanned Clinical Activity                                            40415\n",
      "Patient contact during Care Home Round                                 28795\n",
      "Unmapped                                                               27419\n",
      "Care Home Visit                                                        26644\n",
      "Social Prescribing Service                                             26492\n",
      "Care Home Needs Assessment & Personalised Care and Support Planning    23505\n",
      "Non-contractual chargeable work                                        20896\n",
      "Walk-in                                                                14179\n",
      "Group Consultation and Group Education                                  5341\n",
      "Name: national_category, dtype: int64\n"
     ]
    },
    {
     "data": {
      "text/plain": [
       "Text(0.5, 1.0, 'Count the number of Appointment(s) as per National Category')"
      ]
     },
     "execution_count": 457,
     "metadata": {},
     "output_type": "execute_result"
    },
    {
     "data": {
      "text/plain": [
       "<AxesSubplot:title={'center':'Count the number of Appointment(s) as per National Category'}, xlabel='count', ylabel='national_category'>"
      ]
     },
     "execution_count": 457,
     "metadata": {},
     "output_type": "execute_result"
    },
    {
     "data": {
      "image/png": "[encoded data removed]",
      "text/plain": [
       "<Figure size 432x288 with 1 Axes>"
      ]
     },
     "metadata": {},
     "output_type": "display_data"
    }
   ],
   "source": [
    "# Check for National Category and look for Inconsistent Mapping - 'Does Not Fit'\n",
    "\n",
    "print(appointments_categories_duration['national_category'].value_counts())\n",
    "\n",
    "# Create a plot.\n",
    "plt.title(\"Count the number of Appointment(s) as per National Category\")\n",
    "\n",
    "sns.despine(left=True);\n",
    "sns.countplot(y='national_category', data=appointments_categories_duration)"
   ]
  },
  {
   "cell_type": "markdown",
   "id": "f963dfd2",
   "metadata": {},
   "source": [
    "#### 4. Time from booking to appointment\n",
    "Time elapsed from when the booking was made to when the appointment happened is presented in \n",
    "this release. There are several factors that drive this variable, including:\n",
    "* appointment availability at the practice\n",
    "* patient availability\n",
    "* urgency of the appointment\n",
    "* GP advice\n",
    "* regular/repeat appointments that may be booked in advance"
   ]
  },
  {
   "cell_type": "code",
   "execution_count": 458,
   "id": "97c3bd6a",
   "metadata": {},
   "outputs": [
    {
     "name": "stdout",
     "output_type": "stream",
     "text": [
      "Same Day                  95502\n",
      "2 to 7 Days               92409\n",
      "1 Day                     88957\n",
      "8  to 14 Days             82698\n",
      "15  to 21 Days            73666\n",
      "22  to 28 Days            68755\n",
      "More than 28 Days         65147\n",
      "Unknown / Data Quality    29687\n",
      "Name: time_between_book_and_appointment, dtype: int64\n"
     ]
    },
    {
     "data": {
      "text/plain": [
       "Text(0.5, 1.0, 'Count the time from booking to appointment')"
      ]
     },
     "execution_count": 458,
     "metadata": {},
     "output_type": "execute_result"
    },
    {
     "data": {
      "text/plain": [
       "<AxesSubplot:title={'center':'Count the time from booking to appointment'}, xlabel='count', ylabel='time_between_book_and_appointment'>"
      ]
     },
     "execution_count": 458,
     "metadata": {},
     "output_type": "execute_result"
    },
    {
     "data": {
      "image/png": "[encoded data removed]",
      "text/plain": [
       "<Figure size 432x288 with 1 Axes>"
      ]
     },
     "metadata": {},
     "output_type": "display_data"
    }
   ],
   "source": [
    "# Time from booking to appointment\n",
    "\n",
    "print(appointments_categories_duration['time_between_book_and_appointment'].value_counts())\n",
    "\n",
    "# Create a plot.\n",
    "plt.title(\"Count the time from booking to appointment\")\n",
    "\n",
    "sns.despine(left=True);\n",
    "sns.countplot(y='time_between_book_and_appointment', data=appointments_categories_duration)"
   ]
  },
  {
   "cell_type": "markdown",
   "id": "fe42323f",
   "metadata": {},
   "source": [
    "## Question 8: What possible recommendations does the data provide for the NHS?"
   ]
  },
  {
   "cell_type": "markdown",
   "id": "f004275b",
   "metadata": {},
   "source": [
    "#### 1. Count on Number of Locations: \n",
    "\n",
    "        NHS North West London ICB - W2U3Z              14491\n",
    "        NHS Kent and Medway ICB - 91Q                  14121\n",
    "        NHS Devon ICB - 15N                            14009\n",
    "        NHS Hampshire and Isle Of Wight ICB - D9Y0V    13499\n",
    "        NHS North East London ICB - A3A8R              13321\n",
    "\n",
    "#### 2. Service Setting: The service setting describes the provision of care in which the appointment was delivered. \n",
    "    A) 27419 appointments were assigned to an ‘Unmapped’ setting, since the category data is not received.\n",
    "    B) Additional cost to NHS due to Primary Care Network (183790), Extended Access Provision(108122), Other (138789) as they are delivered via various schemes (ARRS, DES, Commissions, Practice by another provider etc.)\n",
    "\n",
    "#### 3. Context Type:\n",
    "    A) There are around 89494 \"Inconsistent Mapping\" and 27419 are \"Unmapped\" which needs to be improved/reviewed for the consistency of the mapping\n",
    "\n",
    "#### 4. National Categories:\n",
    "    A) Here there is a significant number of \"Inconsisten Mapping\" 89494 which is due to \"Does Not Fit\" category. This is used only when a practice is unable to place an appointment type within one of the predefined categories.\n",
    "\n",
    "#### 5. Appointment Status:\n",
    "    A) There is a significant number of DNA (Did Not Attend): 163360 and Unknown: 201324; totaling to: 364,684; which is higher than the Attended number: 232,137\n",
    "\n",
    "#### 6. 2022/March reported highest number of appointments delivered: 104058\n",
    "\n",
    "#### 7. HCP (Healthcare Professional Type): Higher number of Non-GP and Unknown category staff delivered healthcare support around 370,785 v/s actual GP's (226,036)!\n",
    "    GP: 226036\n",
    "    Unknown: 129228\n",
    "    Non-GP (Other Practice staff): 241557\n",
    "        Acupuncturist\n",
    "        Chiropodist\n",
    "        Community Psychiatric Nurse\n",
    "        Counsellor\n",
    "        Dispenser\n",
    "        District Nurse\n",
    "        Health Visitor\n",
    "        Interpreter/Link Worker\n",
    "        Osteopath\n",
    "        Other Practice Staff\n",
    "        Physiotherapist\n",
    "        Practice Nurse\n",
    "\n",
    "#### 8. Appointment mode:\n",
    "    Face-to-Face    180410\n",
    "    Telephone       166483\n",
    "    Home Visit      111194\n",
    "    Unknown          79147\n",
    "    Video/Online     59587\n",
    "\n",
    "#### 9. Actual Duration (Consultation): \n",
    "    Unknown / Data Quality    20161 (<1-min or >60-min)\n",
    "    1-5 Minutes               19909\n",
    "    6-10 Minutes              19902\n",
    "    11-15 Minutes             19738\n",
    "    16-20 Minutes             19534\n",
    "    21-30 Minutes             19452\n",
    "    31-60 Minutes             19097\n",
    "\n",
    "#### 10. Time from booking to appointment:\n",
    "    Same Day                  95502\n",
    "    2 to 7 Days               92409\n",
    "    1 Day                     88957\n",
    "    8  to 14 Days             82698\n",
    "    15  to 21 Days            73666\n",
    "    22  to 28 Days            68755\n",
    "    More than 28 Days         65147\n",
    "    Unknown / Data Quality    29687\n"
   ]
  },
  {
   "cell_type": "markdown",
   "id": "30027209",
   "metadata": {},
   "source": [
    "### Summary"
   ]
  },
  {
   "attachments": {},
   "cell_type": "markdown",
   "id": "0cf33ad9",
   "metadata": {},
   "source": [
    "The reason for patient’s missing/No-show on GP appointments are due to multiple factors:\n",
    "* Lack of availability of actual GP’s\n",
    "* Healthcare support are actually provided by Non-GP Health Professionals like \n",
    "    Acupuncturist\n",
    "    Chiropodist\n",
    "    Community Psychiatric Nurse\n",
    "    Counsellor\n",
    "    Dispenser\n",
    "    District Nurse\n",
    "    Health Visitor\n",
    "    Interpreter/Link Worker\n",
    "    Osteopath\n",
    "    Other Practice Staff\n",
    "    Physiotherapist\n",
    "    Practice Nurse\n",
    "\n",
    "* Patients have a long wait time for the appointment from the time of booking\n",
    "* Consultations are of shorter duration\n",
    "* Appointment mode is not 100% Face-to-Face\n",
    "* One of the main reason is due to the COVID-19 (pandemic), patients were not willing to go to the hospitals in-person from Jan-2020 until end of 2022 and were resorting to more of virtual-based consultation over Face-to-Face consultation\n",
    "* NHS is incurring more cost due to Extended Access Provision, delivered via various schemes like ARRS, DES, Commissions, Practices by other providers etc. which are all added cost"
   ]
  },
  {
   "cell_type": "code",
   "execution_count": null,
   "id": "75a76abb",
   "metadata": {},
   "outputs": [],
   "source": []
  }
 ],
 "metadata": {
  "kernelspec": {
   "display_name": "Python 3 (ipykernel)",
   "language": "python",
   "name": "python3"
  },
  "language_info": {
   "codemirror_mode": {
    "name": "ipython",
    "version": 3
   },
   "file_extension": ".py",
   "mimetype": "text/x-python",
   "name": "python",
   "nbconvert_exporter": "python",
   "pygments_lexer": "ipython3",
   "version": "3.9.12"
  }
 },
 "nbformat": 4,
 "nbformat_minor": 5
}
